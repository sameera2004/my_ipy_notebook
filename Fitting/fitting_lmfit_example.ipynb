{
 "cells": [
  {
   "cell_type": "code",
   "execution_count": 3,
   "metadata": {
    "collapsed": false
   },
   "outputs": [
    {
     "name": "stderr",
     "output_type": "stream",
     "text": [
      ":0: FutureWarning: IPython widgets are experimental and may change in the future.\n"
     ]
    }
   ],
   "source": [
    "#!/usr/bin/env python\n",
    "#<examples/doc_basic.py>\n",
    "from lmfit import minimize, Parameters, Parameter, report_fit\n",
    "import numpy as np\n",
    "\n",
    "# create data to be fitted\n",
    "x = np.linspace(0, 15, 301)\n",
    "data = (5. * np.sin(2 * x - 0.1) * np.exp(-x*x*0.025) +\n",
    "        np.random.normal(size=len(x), scale=0.2) )\n",
    "\n",
    "# define objective function: returns the array to be minimized\n",
    "def fcn2min(params, x, data):\n",
    "    \"\"\" model decaying sine wave, subtract data\"\"\"\n",
    "    amp = params['amp'].value\n",
    "    shift = params['shift'].value\n",
    "    omega = params['omega'].value\n",
    "    decay = params['decay'].value\n",
    "\n",
    "    model = amp * np.sin(x * omega + shift) * np.exp(-x*x*decay)\n",
    "    return model - data\n",
    "\n",
    "# create a set of Parameters\n",
    "params = Parameters()\n",
    "params.add('amp',   value= 10,  min=0)\n",
    "params.add('decay', value= 0.1)\n",
    "params.add('shift', value= 0.0, min=-np.pi/2., max=np.pi/2)\n",
    "params.add('omega', value= 3.0)\n"
   ]
  },
  {
   "cell_type": "code",
   "execution_count": 6,
   "metadata": {
    "collapsed": false
   },
   "outputs": [
    {
     "name": "stdout",
     "output_type": "stream",
     "text": [
      "[[Variables]]\n",
      "    amp:     4.99274464 +/- 0.041216 (0.83%) (init= 4.992745)\n",
      "    decay:   0.02478477 +/- 0.000468 (1.89%) (init= 0.02478478)\n",
      "    omega:   1.99650913 +/- 0.003378 (0.17%) (init= 1.996509)\n",
      "    shift:  -0.08927343 +/- 0.010634 (11.91%) (init=-0.08927343)\n",
      "[[Correlations]] (unreported correlations are <  0.100)\n",
      "    C(amp, decay)                =  0.584 \n"
     ]
    },
    {
     "data": {
      "image/png": "[encoded data removed]",
      "text/plain": [
       "<matplotlib.figure.Figure at 0x10b849710>"
      ]
     },
     "metadata": {},
     "output_type": "display_data"
    }
   ],
   "source": [
    "# do fit, here with leastsq model\n",
    "result = minimize(fcn2min, params, args=(x, data))\n",
    "\n",
    "# calculate final result\n",
    "final = data + result.residual\n",
    "\n",
    "# write error report\n",
    "report_fit(params)\n",
    "\n",
    "# try to plot results\n",
    "import matplotlib.pyplot as plt\n",
    "%matplotlib inline\n",
    "\n",
    "plt.plot(x, data, 'k+')\n",
    "plt.plot(x, final, 'r')\n",
    "plt.show()\n",
    "\n",
    "#<end of examples/doc_basic.py>"
   ]
  },
  {
   "cell_type": "code",
   "execution_count": null,
   "metadata": {
    "collapsed": true
   },
   "outputs": [],
   "source": []
  },
  {
   "cell_type": "code",
   "execution_count": null,
   "metadata": {
    "collapsed": true
   },
   "outputs": [],
   "source": []
  }
 ],
 "metadata": {
  "kernelspec": {
   "display_name": "Python 2",
   "language": "python",
   "name": "python2"
  },
  "language_info": {
   "codemirror_mode": {
    "name": "ipython",
    "version": 2
   },
   "file_extension": ".py",
   "mimetype": "text/x-python",
   "name": "python",
   "nbconvert_exporter": "python",
   "pygments_lexer": "ipython2",
   "version": "2.7.10"
  }
 },
 "nbformat": 4,
 "nbformat_minor": 0
}
