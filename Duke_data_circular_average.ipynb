{
 "cells": [
  {
   "cell_type": "code",
   "execution_count": 1,
   "metadata": {
    "collapsed": true
   },
   "outputs": [],
   "source": [
    "import skxray.speckle_visibility.speckle_visibility as spe\n",
    "import skxray.roi as roi\n",
    "import skxray.correlation as corr\n",
    "\n",
    "import numpy as np\n",
    "import os, sys\n",
    "\n",
    "import matplotlib.pyplot as plt\n",
    "%matplotlib inline\n",
    "from matplotlib.ticker import MaxNLocator\n",
    "from matplotlib.colors import LogNorm"
   ]
  },
  {
   "cell_type": "code",
   "execution_count": 7,
   "metadata": {
    "collapsed": false
   },
   "outputs": [],
   "source": [
    "import fabio\n",
    "def open_edf(img_num, ext, dir_path):\n",
    "\n",
    "    img = fabio.open(dir_path+str(img_num)+ext)\n",
    "    img_dat = img.data\n",
    "    return img_dat"
   ]
  },
  {
   "cell_type": "code",
   "execution_count": 8,
   "metadata": {
    "collapsed": false
   },
   "outputs": [],
   "source": [
    "\n",
    "data_dir = \"/Volumes/Data/BeamLines/CHX/Luxi_description_files_for_duke/\"\n",
    "ext = \".edf\"\n",
    "dark_img = 0\n",
    "\n",
    "    \n",
    "np.save(\"duke_dark.npy\", dark_img/100)\n",
    "\n",
    "duke_ndata = np.load(data_dir+\"duke_img_1_5000.npy\")\n",
    "duke_dark = np.load(data_dir+\"duke_dark.npy\")\n",
    "\n",
    "duke_data = []\n",
    "for i in range(duke_ndata.shape[0]):\n",
    "    duke_data.append(duke_ndata[i] - duke_dark)\n",
    "    \n",
    "duke_data = np.asarray(duke_data)    "
   ]
  },
  {
   "cell_type": "code",
   "execution_count": 10,
   "metadata": {
    "collapsed": false
   },
   "outputs": [
    {
     "data": {
      "image/png": "[encoded data removed]",
      "text/plain": [
       "<matplotlib.figure.Figure at 0x102222990>"
      ]
     },
     "metadata": {},
     "output_type": "display_data"
    }
   ],
   "source": [
    "# Get the average image for all the image files\n",
    "sum_img = np.average(duke_data, axis=0)\n",
    "\n",
    "plt.imshow(sum_img)\n",
    "plt.title(\"Duke_cc_12c\")\n",
    "plt.show()"
   ]
  },
  {
   "cell_type": "code",
   "execution_count": 12,
   "metadata": {
    "collapsed": false
   },
   "outputs": [
    {
     "data": {
      "image/png": "[encoded data removed]",
      "text/plain": [
       "<matplotlib.figure.Figure at 0x10609ef10>"
      ]
     },
     "metadata": {},
     "output_type": "display_data"
    }
   ],
   "source": [
    "mask = ~np.load(data_dir+\"Luxi_duke_mask.npy\")\n",
    "flat_field = np.load(data_dir+\"Luxi_duke_flat.npy\")\n",
    "\n",
    "plt.imshow(mask*sum_img)\n",
    "plt.title(\"masked data\")\n",
    "plt.show()"
   ]
  },
  {
   "cell_type": "code",
   "execution_count": 13,
   "metadata": {
    "collapsed": true
   },
   "outputs": [],
   "source": [
    "est_center=(144, 134)\n",
    "\n",
    "inner_radius = 25\n",
    "width=5\n",
    "var=20\n",
    "\n",
    "new_center = spe.suitable_center(sum_img, est_center, inner_radius, width, mask, var)\n"
   ]
  },
  {
   "cell_type": "code",
   "execution_count": 14,
   "metadata": {
    "collapsed": false
   },
   "outputs": [
    {
     "data": {
      "text/plain": [
       "(149, 137)"
      ]
     },
     "execution_count": 14,
     "metadata": {},
     "output_type": "execute_result"
    }
   ],
   "source": [
    "new_center"
   ]
  },
  {
   "cell_type": "code",
   "execution_count": 15,
   "metadata": {
    "collapsed": true
   },
   "outputs": [],
   "source": [
    "def circular_average(image, calibrated_center, thershold=0,\n",
    "                          nx=100, pixel_size=None):\n",
    "    \"\"\"\n",
    "    Circular average of the intensity of the image SAXS(small angle\n",
    "    x-ray scattering)\n",
    "\n",
    "    Parameters\n",
    "    ----------\n",
    "    image : array\n",
    "        input image\n",
    "\n",
    "    calibrated_center : tuple\n",
    "        The center in pixels-units (row, col)\n",
    "\n",
    "    thershold : float, optional\n",
    "        threshold value to mask\n",
    "\n",
    "    nx : int, optional\n",
    "        number of bins\n",
    "\n",
    "    pixel_size : tuple, optionalsource dea\n",
    "        The size of a pixel in real units. (height, width). (mm)\n",
    "\n",
    "    Returns\n",
    "    -------\n",
    "    bin_centers : array\n",
    "        bin centers from bin edges\n",
    "\n",
    "    ring_averages : array\n",
    "        circular integration of SAXS intensity\n",
    "    \"\"\"\n",
    "    radial_val = core.radial_grid(calibrated_center, image.shape, pixel_size)\n",
    "\n",
    "    bin_edges, sums, counts = core.bin_1D(np.ravel(radial_val),\n",
    "                                          np.ravel(image), nx)\n",
    "    th_mask = counts > thershold\n",
    "    ring_average = sums[th_mask] / counts[th_mask]\n",
    "\n",
    "    bin_centers = core.bin_edges_to_centers(bin_edges)\n",
    "\n",
    "    return bin_centers, ring_average\n",
    "\n",
    "\n",
    "import skxray.core as core"
   ]
  },
  {
   "cell_type": "markdown",
   "metadata": {},
   "source": [
    "# Get the circular average for the image data"
   ]
  },
  {
   "cell_type": "code",
   "execution_count": 19,
   "metadata": {
    "collapsed": false
   },
   "outputs": [
    {
     "data": {
      "image/png": "[encoded data removed]",
      "text/plain": [
       "<matplotlib.figure.Figure at 0x106a2ebd0>"
      ]
     },
     "metadata": {},
     "output_type": "display_data"
    }
   ],
   "source": [
    "bin_cen, ring_avg = circular_average(sum_img*mask, new_center, thershold=0, nx=100, pixel_size=(0.1, 0.1))\n",
    "\n",
    "plt.title(\" Circular Average\")\n",
    "plt.semilogy(bin_cen,ring_avg, '-o')\n",
    "plt.xlabel(\"pixels\")\n",
    "plt.show()"
   ]
  },
  {
   "cell_type": "markdown",
   "metadata": {},
   "source": [
    "# Converte to Q space()"
   ]
  },
  {
   "cell_type": "code",
   "execution_count": 17,
   "metadata": {
    "collapsed": false
   },
   "outputs": [
    {
     "data": {
      "image/png": "[encoded data removed]",
      "text/plain": [
       "<matplotlib.figure.Figure at 0x106e20450>"
      ]
     },
     "metadata": {},
     "output_type": "display_data"
    }
   ],
   "source": [
    "dist_sample = 2230\n",
    "\n",
    "two_theta = core.radius_to_twotheta(dist_sample, bin_cen)\n",
    "\n",
    "\n",
    "wavelength = 1.5498\n",
    "\n",
    "q_val = core.twotheta_to_q(two_theta, wavelength)\n",
    "plt.title(\"Circular Average\")\n",
    "plt.xlabel(\"q (1/A)\")\n",
    "plt.semilogy(q_val, ring_avg)\n",
    "plt.show()"
   ]
  },
  {
   "cell_type": "code",
   "execution_count": null,
   "metadata": {
    "collapsed": true
   },
   "outputs": [],
   "source": []
  }
 ],
 "metadata": {
  "kernelspec": {
   "display_name": "Python 2",
   "language": "python",
   "name": "python2"
  },
  "language_info": {
   "codemirror_mode": {
    "name": "ipython",
    "version": 2
   },
   "file_extension": ".py",
   "mimetype": "text/x-python",
   "name": "python",
   "nbconvert_exporter": "python",
   "pygments_lexer": "ipython2",
   "version": "2.7.9"
  }
 },
 "nbformat": 4,
 "nbformat_minor": 0
}
