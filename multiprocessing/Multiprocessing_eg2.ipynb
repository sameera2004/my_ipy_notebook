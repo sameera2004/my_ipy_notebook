{
 "cells": [
  {
   "cell_type": "code",
   "execution_count": 5,
   "metadata": {
    "collapsed": false
   },
   "outputs": [
    {
     "name": "stdout",
     "output_type": "stream",
     "text": [
      "Worker: 3\n",
      "Worker: 1\n",
      "Worker: 0\n",
      "Worker: 2\n",
      "Worker: 4\n"
     ]
    }
   ],
   "source": [
    "import multiprocessing\n",
    "\n",
    "def worker(num):\n",
    "    \"\"\"thread worker function\"\"\"\n",
    "    print ('Worker:', num)\n",
    "    return\n",
    "\n",
    "if __name__ == '__main__':\n",
    "    jobs = []\n",
    "    for i in range(5):\n",
    "        p = multiprocessing.Process(target=worker, args=(i,))\n",
    "        jobs.append(p)\n",
    "        p.start()"
   ]
  },
  {
   "cell_type": "code",
   "execution_count": 8,
   "metadata": {
    "collapsed": false
   },
   "outputs": [
    {
     "name": "stdout",
     "output_type": "stream",
     "text": [
      "worker 1 Starting\n",
      "Process-26 Starting\n",
      "my_service Starting\n",
      "worker 1Process-26my_service Exiting\n",
      " Exiting\n",
      " Exiting\n"
     ]
    }
   ],
   "source": [
    "import multiprocessing\n",
    "import time\n",
    "\n",
    "def worker():\n",
    "    name = multiprocessing.current_process().name\n",
    "    print (name, 'Starting')\n",
    "    time.sleep(2)\n",
    "    print (name, 'Exiting')\n",
    "\n",
    "def my_service():\n",
    "    name = multiprocessing.current_process().name\n",
    "    print (name, 'Starting')\n",
    "    time.sleep(3)\n",
    "    print (name, 'Exiting')\n",
    "\n",
    "if __name__ == '__main__':\n",
    "    service = multiprocessing.Process(name='my_service', target=my_service)\n",
    "    worker_1 = multiprocessing.Process(name='worker 1', target=worker)\n",
    "    worker_2 = multiprocessing.Process(target=worker) # use default name\n",
    "\n",
    "    worker_1.start()\n",
    "    worker_2.start()\n",
    "    service.start()"
   ]
  },
  {
   "cell_type": "code",
   "execution_count": 9,
   "metadata": {
    "collapsed": false
   },
   "outputs": [
    {
     "name": "stdout",
     "output_type": "stream",
     "text": [
      "Process-29 Starting\n",
      "worker 1 Starting\n",
      "my_service Starting\n",
      "Process-29worker 1my_service Exiting\n",
      " Exiting\n",
      " Exiting\n",
      "Starting: daemon 67461\n"
     ]
    }
   ],
   "source": [
    "import sys\n",
    "\n",
    "def daemon():\n",
    "    p = multiprocessing.current_process()\n",
    "    print ('Starting:', p.name, p.pid)\n",
    "    sys.stdout.flush()\n",
    "    time.sleep(2)\n",
    "    print ('Exiting :', p.name, p.pid)\n",
    "    sys.stdout.flush()\n",
    "\n",
    "def non_daemon():\n",
    "    p = multiprocessing.current_process()\n",
    "    print ('Starting:', p.name, p.pid)\n",
    "    sys.stdout.flush()\n",
    "    print ('Exiting :', p.name, p.pid)\n",
    "    sys.stdout.flush()\n",
    "\n",
    "if __name__ == '__main__':\n",
    "    d = multiprocessing.Process(name='daemon', target=daemon)\n",
    "    d.daemon = True\n",
    "\n",
    "    n = multiprocessing.Process(name='non-daemon', target=non_daemon)\n",
    "    n.daemon = False\n",
    "\n",
    "    d.start()\n",
    "    time.sleep(1)\n",
    "    n.start()\n"
   ]
  },
  {
   "cell_type": "code",
   "execution_count": 10,
   "metadata": {
    "collapsed": false
   },
   "outputs": [
    {
     "name": "stdout",
     "output_type": "stream",
     "text": [
      "Starting: non-daemon 67468\n",
      "Exiting : daemon 67461\n",
      "Exiting : non-daemon 67468\n",
      "Starting: daemon\n",
      "Starting: non-daemon\n",
      "Exiting :Exiting : non-daemon\n",
      " daemon\n"
     ]
    }
   ],
   "source": [
    "def daemon():\n",
    "    print ('Starting:', multiprocessing.current_process().name)\n",
    "    time.sleep(2)\n",
    "    print ('Exiting :', multiprocessing.current_process().name)\n",
    "\n",
    "def non_daemon():\n",
    "    print ('Starting:', multiprocessing.current_process().name)\n",
    "    print ('Exiting :', multiprocessing.current_process().name)\n",
    "\n",
    "if __name__ == '__main__':\n",
    "    d = multiprocessing.Process(name='daemon', target=daemon)\n",
    "    d.daemon = True\n",
    "\n",
    "    n = multiprocessing.Process(name='non-daemon', target=non_daemon)\n",
    "    n.daemon = False\n",
    "\n",
    "    d.start()\n",
    "    time.sleep(1)\n",
    "    n.start()\n",
    "\n",
    "    d.join()\n",
    "    n.join()"
   ]
  },
  {
   "cell_type": "code",
   "execution_count": 13,
   "metadata": {
    "collapsed": false
   },
   "outputs": [
    {
     "name": "stdout",
     "output_type": "stream",
     "text": [
      "Starting process for <function exit_error at 0x103d5ed08>\n",
      "Starting process for <function exit_ok at 0x103d5ed90>\n",
      "Starting process for <function return_value at 0x103ca9378>\n",
      "Starting process for <function raises at 0x103ca9400>\n",
      "Starting process for <function terminated at 0x103ca9488>\n",
      "<function exit_error at 0x103d5ed08>.exitcode = 1\n",
      "<function exit_ok at 0x103d5ed90>.exitcode = 0\n",
      "<function return_value at 0x103ca9378>.exitcode = 0\n",
      "<function raises at 0x103ca9400>.exitcode = 1\n",
      "<function terminated at 0x103ca9488>.exitcode = -15\n"
     ]
    },
    {
     "name": "stderr",
     "output_type": "stream",
     "text": [
      "Process <function raises at 0x103ca9400>:\n",
      "Traceback (most recent call last):\n",
      "  File \"/Users/sameera/mc/envs/py3k/lib/python3.4/multiprocessing/process.py\", line 254, in _bootstrap\n",
      "    self.run()\n",
      "  File \"/Users/sameera/mc/envs/py3k/lib/python3.4/multiprocessing/process.py\", line 93, in run\n",
      "    self._target(*self._args, **self._kwargs)\n",
      "  File \"<ipython-input-13-2060248865dd>\", line 11, in raises\n",
      "    raise RuntimeError('There was an error!')\n",
      "RuntimeError: There was an error!\n"
     ]
    }
   ],
   "source": [
    "def exit_error():\n",
    "    sys.exit(1)\n",
    "\n",
    "def exit_ok():\n",
    "    return\n",
    "\n",
    "def return_value():\n",
    "    return 1\n",
    "\n",
    "def raises():\n",
    "    raise RuntimeError('There was an error!')\n",
    "\n",
    "def terminated():\n",
    "    time.sleep(3)\n",
    "\n",
    "if __name__ == '__main__':\n",
    "    jobs = []\n",
    "    for f in [exit_error, exit_ok, return_value, raises, terminated]:\n",
    "        print ('Starting process for', f)\n",
    "        j = multiprocessing.Process(target=f, name=f)\n",
    "        jobs.append(j)\n",
    "        j.start()\n",
    "        \n",
    "    jobs[-1].terminate()\n",
    "\n",
    "    for j in jobs:\n",
    "        j.join()\n",
    "        print ('%s.exitcode = %s' % (j.name, j.exitcode))"
   ]
  },
  {
   "cell_type": "code",
   "execution_count": 12,
   "metadata": {
    "collapsed": false
   },
   "outputs": [
    {
     "name": "stdout",
     "output_type": "stream",
     "text": [
      "BEFORE: <Process(Process-34, initial)> False\n",
      "DURING: <Process(Process-34, started)> True\n",
      "TERMINATED: <Process(Process-34, started)> True\n",
      "JOINED: <Process(Process-34, stopped[SIGTERM])> False\n"
     ]
    }
   ],
   "source": [
    "def slow_worker():\n",
    "    print ('Starting worker')\n",
    "    time.sleep(0.1)\n",
    "    print ('Finished worker')\n",
    "\n",
    "if __name__ == '__main__':\n",
    "    p = multiprocessing.Process(target=slow_worker)\n",
    "    print ('BEFORE:', p, p.is_alive())\n",
    "    \n",
    "    p.start()\n",
    "    print ('DURING:', p, p.is_alive())\n",
    "    \n",
    "    p.terminate()\n",
    "    print ('TERMINATED:', p, p.is_alive())\n",
    "\n",
    "    p.join()\n",
    "    print ('JOINED:', p, p.is_alive())"
   ]
  },
  {
   "cell_type": "code",
   "execution_count": 15,
   "metadata": {
    "collapsed": false
   },
   "outputs": [
    {
     "name": "stdout",
     "output_type": "stream",
     "text": [
      "Doing some work\n"
     ]
    },
    {
     "name": "stderr",
     "output_type": "stream",
     "text": [
      "[INFO/Process-40] child process calling self.run()\n",
      "[INFO/Process-40] process shutting down\n",
      "[DEBUG/Process-40] running all \"atexit\" finalizers with priority >= 0\n",
      "[DEBUG/Process-40] running the remaining \"atexit\" finalizers\n",
      "[INFO/Process-40] process exiting with exitcode 0\n"
     ]
    }
   ],
   "source": [
    "import logging\n",
    "import sys\n",
    "\n",
    "def worker():\n",
    "    print ('Doing some work')\n",
    "    sys.stdout.flush()\n",
    "\n",
    "if __name__ == '__main__':\n",
    "    multiprocessing.log_to_stderr(logging.DEBUG)\n",
    "    p = multiprocessing.Process(target=worker)\n",
    "    p.start()\n",
    "    p.join()\n",
    "    "
   ]
  },
  {
   "cell_type": "code",
   "execution_count": 19,
   "metadata": {
    "collapsed": false
   },
   "outputs": [
    {
     "name": "stdout",
     "output_type": "stream",
     "text": [
      "jobs [<Worker(Worker-56, initial)>]\n",
      "jobs [<Worker(Worker-56, started)>, <Worker(Worker-57, initial)>]\n",
      "jobs [<Worker(Worker-56, started)>, <Worker(Worker-57, started)>, <Worker(Worker-58, initial)>]\n",
      "jobs [<Worker(Worker-56, started)>, <Worker(Worker-57, started)>, <Worker(Worker-58, started)>, <Worker(Worker-59, initial)>]\n",
      "jobs [<Worker(Worker-56, started)>, <Worker(Worker-57, started)>, <Worker(Worker-58, started)>, <Worker(Worker-59, started)>, <Worker(Worker-60, initial)>]\n"
     ]
    },
    {
     "name": "stderr",
     "output_type": "stream",
     "text": [
      "[INFO/Worker-56] child process calling self.run()\n"
     ]
    },
    {
     "name": "stdout",
     "output_type": "stream",
     "text": [
      "j <Worker(Worker-56, stopped)>\n",
      "j <Worker(Worker-57, stopped)>\n",
      "j <Worker(Worker-58, stopped)>\n",
      "j <Worker(Worker-59, stopped)>\n",
      "j <Worker(Worker-60, stopped)>\n",
      "In Worker-56\n",
      "In Worker-58\n",
      "In Worker-57\n",
      "In Worker-59\n",
      "In Worker-60\n"
     ]
    },
    {
     "name": "stderr",
     "output_type": "stream",
     "text": [
      "[INFO/Worker-57] child process calling self.run()\n",
      "[INFO/Worker-59] child process calling self.run()\n",
      "[INFO/Worker-56] process shutting down\n",
      "[INFO/Worker-58] child process calling self.run()\n",
      "[INFO/Worker-60] child process calling self.run()\n",
      "[INFO/Worker-57] process shutting down\n",
      "[INFO/Worker-59] process shutting down\n",
      "[DEBUG/Worker-56] running all \"atexit\" finalizers with priority >= 0\n",
      "[INFO/Worker-58] process shutting down\n",
      "[INFO/Worker-60] process shutting down\n",
      "[DEBUG/Worker-57] running all \"atexit\" finalizers with priority >= 0\n",
      "[DEBUG/Worker-59] running all \"atexit\" finalizers with priority >= 0\n",
      "[DEBUG/Worker-56] running the remaining \"atexit\" finalizers\n",
      "[DEBUG/Worker-58] running all \"atexit\" finalizers with priority >= 0\n",
      "[DEBUG/Worker-60] running all \"atexit\" finalizers with priority >= 0\n",
      "[DEBUG/Worker-57] running the remaining \"atexit\" finalizers\n",
      "[DEBUG/Worker-59] running the remaining \"atexit\" finalizers\n",
      "[INFO/Worker-56] process exiting with exitcode 0\n",
      "[DEBUG/Worker-58] running the remaining \"atexit\" finalizers\n",
      "[DEBUG/Worker-60] running the remaining \"atexit\" finalizers\n",
      "[INFO/Worker-57] process exiting with exitcode 0\n",
      "[INFO/Worker-59] process exiting with exitcode 0\n",
      "[INFO/Worker-58] process exiting with exitcode 0\n",
      "[INFO/Worker-60] process exiting with exitcode 0\n"
     ]
    }
   ],
   "source": [
    "class Worker(multiprocessing.Process):\n",
    "\n",
    "    def run(self):\n",
    "        print ('In %s' % self.name)\n",
    "        return\n",
    "\n",
    "if __name__ == '__main__':\n",
    "    jobs = []\n",
    "    for i in range(5):\n",
    "        p = Worker()\n",
    "        jobs.append(p)\n",
    "        print (\"jobs\", jobs)\n",
    "        p.start()\n",
    "    for j in jobs:\n",
    "        j.join()\n",
    "        print (\"j\", j)"
   ]
  },
  {
   "cell_type": "code",
   "execution_count": 23,
   "metadata": {
    "collapsed": false
   },
   "outputs": [
    {
     "ename": "TypeError",
     "evalue": "'module' object is not callable",
     "output_type": "error",
     "traceback": [
      "\u001b[0;31m---------------------------------------------------------------------------\u001b[0m",
      "\u001b[0;31mTypeError\u001b[0m                                 Traceback (most recent call last)",
      "\u001b[0;32m<ipython-input-23-07ce5615a402>\u001b[0m in \u001b[0;36m<module>\u001b[0;34m()\u001b[0m\n\u001b[1;32m      3\u001b[0m \u001b[0;34m\u001b[0m\u001b[0m\n\u001b[1;32m      4\u001b[0m \u001b[0;32mif\u001b[0m \u001b[0m__name__\u001b[0m \u001b[0;34m==\u001b[0m \u001b[0;34m\"__main__\"\u001b[0m\u001b[0;34m:\u001b[0m\u001b[0;34m\u001b[0m\u001b[0m\n\u001b[0;32m----> 5\u001b[0;31m    \u001b[0mts\u001b[0m \u001b[0;34m=\u001b[0m \u001b[0mtime\u001b[0m\u001b[0;34m(\u001b[0m\u001b[0;34m)\u001b[0m\u001b[0;34m\u001b[0m\u001b[0m\n\u001b[0m\u001b[1;32m      6\u001b[0m    \u001b[0mclient_id\u001b[0m \u001b[0;34m=\u001b[0m \u001b[0mos\u001b[0m\u001b[0;34m.\u001b[0m\u001b[0mgetenv\u001b[0m\u001b[0;34m(\u001b[0m\u001b[0;34m'IMGUR_CLIENT_ID'\u001b[0m\u001b[0;34m)\u001b[0m\u001b[0;34m\u001b[0m\u001b[0m\n\u001b[1;32m      7\u001b[0m    \u001b[0;32mif\u001b[0m \u001b[0;32mnot\u001b[0m \u001b[0mclient_id\u001b[0m\u001b[0;34m:\u001b[0m\u001b[0;34m\u001b[0m\u001b[0m\n",
      "\u001b[0;31mTypeError\u001b[0m: 'module' object is not callable"
     ]
    }
   ],
   "source": [
    "from functools import partial\n",
    "from multiprocessing.pool import Pool\n",
    "\n",
    "if __name__ == \"__main__\":\n",
    "   ts = time()\n",
    "   client_id = os.getenv('IMGUR_CLIENT_ID')\n",
    "   if not client_id:\n",
    "       raise Exception(\"Couldn't find IMGUR_CLIENT_ID environment variable!\")\n",
    "   download_dir = setup_download_dir()\n",
    "   links = [l for l in get_links(client_id) if l.endswith('.jpg')]\n",
    "   download = partial(download_link, download_dir)\n",
    "   with Pool(8) as p:\n",
    "       p.map(download, links)\n",
    "   print('Took {}s'.format(time() - ts))"
   ]
  },
  {
   "cell_type": "code",
   "execution_count": 22,
   "metadata": {
    "collapsed": false
   },
   "outputs": [
    {
     "name": "stderr",
     "output_type": "stream",
     "text": [
      "ERROR: File `'main.py'` not found.\n"
     ]
    }
   ],
   "source": [
    "run main"
   ]
  },
  {
   "cell_type": "code",
   "execution_count": 27,
   "metadata": {
    "collapsed": false
   },
   "outputs": [
    {
     "name": "stdout",
     "output_type": "stream",
     "text": [
      "<Process(Process-63, stopped)>\n",
      "4\n"
     ]
    },
    {
     "name": "stderr",
     "output_type": "stream",
     "text": [
      "[INFO/Process-63] child process calling self.run()\n",
      "[INFO/Process-63] process shutting down\n",
      "[DEBUG/Process-63] running all \"atexit\" finalizers with priority >= 0\n",
      "[DEBUG/Process-63] running the remaining \"atexit\" finalizers\n",
      "[INFO/Process-63] process exiting with exitcode 0\n"
     ]
    }
   ],
   "source": [
    "from multiprocessing import Process\n",
    "def fn(x):\n",
    "    print (x*x)\n",
    "    return x*x\n",
    "\n",
    "if __name__ == '__main__':\n",
    "    p = Process(target=fn, args=([2]))\n",
    "    p.start()\n",
    "    p.join()\n",
    "    print (p)"
   ]
  },
  {
   "cell_type": "code",
   "execution_count": 29,
   "metadata": {
    "collapsed": false
   },
   "outputs": [
    {
     "name": "stderr",
     "output_type": "stream",
     "text": [
      "[DEBUG/MainProcess] added worker\n",
      "[DEBUG/MainProcess] added worker\n",
      "[DEBUG/MainProcess] added worker\n",
      "[DEBUG/MainProcess] added worker\n",
      "[DEBUG/MainProcess] closing pool\n",
      "[DEBUG/MainProcess] joining pool\n",
      "[DEBUG/MainProcess] worker handler exiting\n",
      "[DEBUG/MainProcess] task handler got sentinel\n",
      "[DEBUG/MainProcess] task handler sending sentinel to result handler\n",
      "[DEBUG/MainProcess] task handler sending sentinel to workers\n",
      "[DEBUG/MainProcess] task handler exiting\n",
      "[DEBUG/MainProcess] worker got sentinel -- exiting\n",
      "[DEBUG/MainProcess] worker exiting after 4 tasks\n",
      "[DEBUG/MainProcess] worker got sentinel -- exiting\n",
      "[DEBUG/MainProcess] worker exiting after 3 tasks\n",
      "[DEBUG/MainProcess] worker got sentinel -- exiting\n",
      "[DEBUG/MainProcess] worker exiting after 3 tasks\n",
      "[DEBUG/MainProcess] worker got sentinel -- exiting\n",
      "[DEBUG/MainProcess] worker exiting after 3 tasks\n",
      "[DEBUG/MainProcess] result handler got sentinel\n",
      "[DEBUG/MainProcess] result handler exiting: len(cache)=0, thread._state=0\n"
     ]
    }
   ],
   "source": [
    "try:\n",
    "    import urllib.request as urllib2\n",
    "except ImportError:\n",
    "    import urllib2\n",
    "from multiprocessing.dummy import Pool as ThreadPool \n",
    "\n",
    "urls = [\n",
    "  'http://www.python.org', \n",
    "  'http://www.python.org/about/',\n",
    "  'http://www.onlamp.com/pub/a/python/2003/04/17/metaclasses.html',\n",
    "  'http://www.python.org/doc/',\n",
    "  'http://www.python.org/download/',\n",
    "  'http://www.python.org/getit/',\n",
    "  'http://www.python.org/community/',\n",
    "  'https://wiki.python.org/moin/',\n",
    "  'http://planet.python.org/',\n",
    "  'https://wiki.python.org/moin/LocalUserGroups',\n",
    "  'http://www.python.org/psf/',\n",
    "  'http://docs.python.org/devguide/',\n",
    "  'http://www.python.org/community/awards/'\n",
    "  # etc.. \n",
    "  ]\n",
    "\n",
    "# Make the Pool of workers\n",
    "pool = ThreadPool(4) \n",
    "# Open the urls in their own threads\n",
    "# and return the results\n",
    "results = pool.map(urllib2.urlopen, urls)\n",
    "#close the pool and wait for the work to finish \n",
    "pool.close() \n",
    "pool.join() "
   ]
  },
  {
   "cell_type": "code",
   "execution_count": null,
   "metadata": {
    "collapsed": true
   },
   "outputs": [],
   "source": []
  }
 ],
 "metadata": {
  "kernelspec": {
   "display_name": "Python 3",
   "language": "python",
   "name": "python3"
  },
  "language_info": {
   "codemirror_mode": {
    "name": "ipython",
    "version": 3
   },
   "file_extension": ".py",
   "mimetype": "text/x-python",
   "name": "python",
   "nbconvert_exporter": "python",
   "pygments_lexer": "ipython3",
   "version": "3.4.4"
  }
 },
 "nbformat": 4,
 "nbformat_minor": 0
}
