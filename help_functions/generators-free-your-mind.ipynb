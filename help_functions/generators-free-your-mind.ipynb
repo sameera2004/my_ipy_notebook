{
 "metadata": {
  "celltoolbar": "Slideshow",
  "name": "",
  "signature": "sha256:107a668bacd0d19dcd4abeb61c878791d1ceee5dc2e62b2fe4358538eb74e597"
 },
 "nbformat": 3,
 "nbformat_minor": 0,
 "worksheets": [
  {
   "cells": [
    {
     "cell_type": "markdown",
     "metadata": {
      "slideshow": {
       "slide_type": "slide"
      }
     },
     "source": [
      "Generators Will Free Your Mind\n",
      "==============================\n",
      "\n",
      "James Powell\n",
      "\n",
      "[http://gist.github.com/dutc](http://gist.github.com/dutc)"
     ]
    },
    {
     "cell_type": "markdown",
     "metadata": {
      "slideshow": {
       "slide_type": "fragment"
      }
     },
     "source": [
      "[james@dontusethiscode.com](james@dontusethiscode.com)\n",
      "\n",
      "[@dontusethiscode](http://twitter.com/dontusethiscode)\n",
      "\n",
      "[seriously.dontusethiscode.com](http://seriously.dontusethiscode.com)\n",
      "\n",
      "dutc on irc.freenode.net"
     ]
    },
    {
     "cell_type": "markdown",
     "metadata": {
      "slideshow": {
       "slide_type": "subslide"
      }
     },
     "source": [
      "NYC Python\n",
      "----------\n",
      "\n",
      "[nycpython.org](http://nycpython.org)\n",
      "\n",
      "[pygotham.org](http://pygotham.org)"
     ]
    },
    {
     "cell_type": "markdown",
     "metadata": {
      "slideshow": {
       "slide_type": "subslide"
      }
     },
     "source": [
      "A Conference \"for Python Quants\"\n",
      "--------------------------------\n",
      "\n",
      "[forpythonquants.com](http://forpythonquants.com)"
     ]
    },
    {
     "cell_type": "markdown",
     "metadata": {
      "slideshow": {
       "slide_type": "subslide"
      }
     },
     "source": [
      "*I used to be addicted to the Hokey Pokey, but I turned myself around.*\n",
      "-----------------------------------------------------------------------"
     ]
    },
    {
     "cell_type": "markdown",
     "metadata": {
      "slideshow": {
       "slide_type": "slide"
      }
     },
     "source": [
      "Themes\n",
      "------\n",
      "\n",
      "- generators are a very useful way of modelling problems in Python\n",
      "- the ways we model problems using generators is fundamentally different"
     ]
    },
    {
     "cell_type": "markdown",
     "metadata": {
      "slideshow": {
       "slide_type": "subslide"
      }
     },
     "source": [
      "Not Covered\n",
      "-----------\n",
      "\n",
      "- what is a generator; see my previous talks\n",
      "- efficiencies"
     ]
    },
    {
     "cell_type": "code",
     "collapsed": false,
     "input": [
      "from __future__ import print_function\n",
      "from __future__ import division\n",
      "from __future__ import unicode_literals"
     ],
     "language": "python",
     "metadata": {
      "slideshow": {
       "slide_type": "subslide"
      }
     },
     "outputs": [],
     "prompt_number": 1
    },
    {
     "cell_type": "markdown",
     "metadata": {
      "slideshow": {
       "slide_type": "slide"
      }
     },
     "source": [
      "*Functional Programming Has Already Freed Your Mind*\n",
      "----------------------------------------------------"
     ]
    },
    {
     "cell_type": "code",
     "collapsed": false,
     "input": [
      "from random import randrange\n",
      "\n",
      "markets = {\n",
      "    'US':              randrange(-4000000, 4000000),\n",
      "    'UK':              randrange(-4000000, 4000000),\n",
      "    'EU':              randrange(-4000000, 4000000),\n",
      "    'CEMEA':           randrange(-4000000, 4000000),    \n",
      "    'Central America': randrange(-4000000, 4000000),\n",
      "    'Asia':            randrange(-4000000, 4000000),\n",
      "    'Antarctica':      0,\n",
      "}"
     ],
     "language": "python",
     "metadata": {
      "slideshow": {
       "slide_type": "subslide"
      }
     },
     "outputs": [],
     "prompt_number": 2
    },
    {
     "cell_type": "code",
     "collapsed": false,
     "input": [
      "def output(markets):\n",
      "    for region, profit in markets.items():\n",
      "        print(region, profit)\n",
      "        \n",
      "output(markets)"
     ],
     "language": "python",
     "metadata": {
      "slideshow": {
       "slide_type": "fragment"
      }
     },
     "outputs": [
      {
       "output_type": "stream",
       "stream": "stdout",
       "text": [
        "Central America -675140\n",
        "Asia -3614396\n",
        "Antarctica 0\n",
        "US -2724620\n",
        "UK -2380001\n",
        "EU 771665\n",
        "CEMEA 3480172\n"
       ]
      }
     ],
     "prompt_number": 3
    },
    {
     "cell_type": "code",
     "collapsed": false,
     "input": [
      "def output(markets):\n",
      "    align = max(map(len,markets))\n",
      "    for region, profit in markets.items():\n",
      "        print('{region:<{align}}   {profit:>10,}'.format(region=region, profit=profit, align=align))\n",
      "        \n",
      "output(markets)"
     ],
     "language": "python",
     "metadata": {
      "slideshow": {
       "slide_type": "subslide"
      }
     },
     "outputs": [
      {
       "output_type": "stream",
       "stream": "stdout",
       "text": [
        "Central America     -675,140\n",
        "Asia              -3,614,396\n",
        "Antarctica                 0\n",
        "US                -2,724,620\n",
        "UK                -2,380,001\n",
        "EU                   771,665\n",
        "CEMEA              3,480,172\n"
       ]
      }
     ],
     "prompt_number": 4
    },
    {
     "cell_type": "code",
     "collapsed": false,
     "input": [
      "def output(markets, filename=None):\n",
      "    align = max(map(len,markets))\n",
      "    for region, profit in markets.items():\n",
      "        line = '{region:<{align}}   {profit:>10,}'.format(region=region,\n",
      "                                                          profit=profit,\n",
      "                                                          align=align)\n",
      "        if filename:\n",
      "            with open(filename) as f:\n",
      "                f.write(line)\n",
      "                \n",
      "        print(line)\n",
      "        \n",
      "output(markets)"
     ],
     "language": "python",
     "metadata": {
      "slideshow": {
       "slide_type": "subslide"
      }
     },
     "outputs": [
      {
       "output_type": "stream",
       "stream": "stdout",
       "text": [
        "Central America     -675,140\n",
        "Asia              -3,614,396\n",
        "Antarctica                 0\n",
        "US                -2,724,620\n",
        "UK                -2,380,001\n",
        "EU                   771,665\n",
        "CEMEA              3,480,172\n"
       ]
      }
     ],
     "prompt_number": 5
    },
    {
     "cell_type": "code",
     "collapsed": false,
     "input": [
      "from logging import info\n",
      "\n",
      "def output(markets, filename=None, to_log=False):\n",
      "    align = max(map(len,markets))\n",
      "    for region, profit in markets.items():\n",
      "        line = '{region:<{align}}   {profit:>10,}'.format(region=region,\n",
      "                                                          profit=profit,\n",
      "                                                          align=align)\n",
      "        if filename:\n",
      "            with open(filename) as f:\n",
      "                f.write(line)\n",
      "            \n",
      "        if to_log:\n",
      "            info(line)\n",
      "                \n",
      "        print(line)\n",
      "        \n",
      "output(markets, to_log=True)"
     ],
     "language": "python",
     "metadata": {
      "slideshow": {
       "slide_type": "subslide"
      }
     },
     "outputs": [
      {
       "output_type": "stream",
       "stream": "stdout",
       "text": [
        "Central America     -675,140\n",
        "Asia              -3,614,396\n",
        "Antarctica                 0\n",
        "US                -2,724,620\n",
        "UK                -2,380,001\n",
        "EU                   771,665\n",
        "CEMEA              3,480,172\n"
       ]
      }
     ],
     "prompt_number": 6
    },
    {
     "cell_type": "code",
     "collapsed": false,
     "input": [
      "def output(markets, filename=None, to_log=False, to_email=False, accounting=False):\n",
      "    align = max(map(len,markets))\n",
      "    \n",
      "    for region, profit in markets.items():\n",
      "        if accounting:\n",
      "            if profit < 0:\n",
      "                profit = '({:>10,})'.format(-profit)\n",
      "            else:\n",
      "                profit = ' {:>10,}'.format(profit)\n",
      "            \n",
      "            line = '{region:<{align}}   {profit}'.format(region=region,\n",
      "                                                         profit=profit,\n",
      "                                                         align=align)\n",
      "        if filename:\n",
      "            with open(filename) as f:\n",
      "                f.write(line)\n",
      "            \n",
      "        if to_log:\n",
      "            info(line)\n",
      "                \n",
      "        print(line)\n",
      "        \n",
      "output(markets, accounting=True)"
     ],
     "language": "python",
     "metadata": {
      "slideshow": {
       "slide_type": "subslide"
      }
     },
     "outputs": [
      {
       "output_type": "stream",
       "stream": "stdout",
       "text": [
        "Central America   (   675,140)\n",
        "Asia              ( 3,614,396)\n",
        "Antarctica                  0\n",
        "US                ( 2,724,620)\n",
        "UK                ( 2,380,001)\n",
        "EU                    771,665\n",
        "CEMEA               3,480,172\n"
       ]
      }
     ],
     "prompt_number": 7
    },
    {
     "cell_type": "code",
     "collapsed": false,
     "input": [
      "def output(markets, filename=None, to_log=False, to_email=False, accounting=False):\n",
      "    align = max(map(len,markets))\n",
      "    \n",
      "    if to_email:\n",
      "        lines = []\n",
      "        \n",
      "    for region, profit in markets.items():\n",
      "        if accounting:\n",
      "            if profit < 0:\n",
      "                profit = '({:>10,})'.format(-profit)\n",
      "            else:\n",
      "                profit = ' {:>10,}'.format(profit)\n",
      "            \n",
      "            line = '{region:<{align}}   {profit}'.format(region=region,\n",
      "                                                         profit=profit,\n",
      "                                                         align=align)\n",
      "        if filename:\n",
      "            with open(filename) as f:\n",
      "                f.write(line)\n",
      "            \n",
      "        if to_email:\n",
      "            lines.append(line)\n",
      "            \n",
      "        if to_log:\n",
      "            info(line)\n",
      "                \n",
      "        print(line)\n",
      "    \n",
      "    if to_email:\n",
      "        email('\\n'.join(lines))\n",
      "        \n",
      "output(markets, accounting=True)"
     ],
     "language": "python",
     "metadata": {
      "slideshow": {
       "slide_type": "subslide"
      }
     },
     "outputs": [
      {
       "output_type": "stream",
       "stream": "stdout",
       "text": [
        "Central America   (   675,140)\n",
        "Asia              ( 3,614,396)\n",
        "Antarctica                  0\n",
        "US                ( 2,724,620)\n",
        "UK                ( 2,380,001)\n",
        "EU                    771,665\n",
        "CEMEA               3,480,172\n"
       ]
      }
     ],
     "prompt_number": 8
    },
    {
     "cell_type": "code",
     "collapsed": false,
     "input": [
      "from numbers import Real\n",
      "class Accounting(Real, float):\n",
      "    def __metaclass__(name, bases, body):\n",
      "        for method in Real.__abstractmethods__:\n",
      "            if method not in body:\n",
      "                body[method] = (lambda meth: lambda *args, **kwargs: Accounting(getattr(float,meth)(*args, **kwargs)))(method)\n",
      "        for method in ('__ne__','__nonzero__',):\n",
      "            if method not in body:\n",
      "                body[method] = (lambda meth: lambda *args, **kwargs: getattr(float,meth)(*args, **kwargs))(method)\n",
      "        return Real.__metaclass__(name, bases, body)\n",
      "    __new__ = float.__new__\n",
      "    def __format__(self, fmt):        \n",
      "        return { 1: ' %s'%float.__format__(self, fmt),\n",
      "                 0: ' %s'%float.__format__(self, fmt).replace('0', '-'),\n",
      "                -1: '(%s)'%float.__format__(self, fmt) }[cmp(self,0)]"
     ],
     "language": "python",
     "metadata": {
      "slideshow": {
       "slide_type": "subslide"
      }
     },
     "outputs": [],
     "prompt_number": 9
    },
    {
     "cell_type": "code",
     "collapsed": false,
     "input": [
      "template = '{region:<{align}}   {profit:>14,.0f}'.format\n",
      "def output(markets, write=print, template=template):\n",
      "    align = max(map(len,markets))\n",
      "    for region, profit in markets.items():\n",
      "        line = template(region=region, profit=profit, align=align)\n",
      "        write(line)\n",
      "\n",
      "output({region:Accounting(profit) for region, profit in markets.items()})"
     ],
     "language": "python",
     "metadata": {
      "slideshow": {
       "slide_type": "subslide"
      }
     },
     "outputs": [
      {
       "output_type": "stream",
       "stream": "stdout",
       "text": [
        "Central America   (      -675,140)\n",
        "US                (    -2,724,620)\n",
        "Antarctica                      -\n",
        "Asia              (    -3,614,396)\n",
        "UK                (    -2,380,001)\n",
        "EU                        771,665\n",
        "CEMEA                   3,480,172\n"
       ]
      }
     ],
     "prompt_number": 10
    },
    {
     "cell_type": "markdown",
     "metadata": {
      "slideshow": {
       "slide_type": "slide"
      }
     },
     "source": [
      "Functional Programming Frees Your Mind From Presuming Modalities\n",
      "----------------------------------------------------------------"
     ]
    },
    {
     "cell_type": "markdown",
     "metadata": {
      "slideshow": {
       "slide_type": "subslide"
      }
     },
     "source": [
      "Functional Programming Simplified your Internal API\n",
      "---------------------------------------------------"
     ]
    },
    {
     "cell_type": "markdown",
     "metadata": {
      "slideshow": {
       "slide_type": "subslide"
      }
     },
     "source": [
      "Functional Programming Empowered Your Users\n",
      "-------------------------------------------"
     ]
    },
    {
     "cell_type": "markdown",
     "metadata": {
      "slideshow": {
       "slide_type": "subslide"
      }
     },
     "source": [
      "(Pure Functional Programming Has Further Freed Your Mind)\n",
      "---------------------------------------------------------"
     ]
    },
    {
     "cell_type": "markdown",
     "metadata": {
      "slideshow": {
       "slide_type": "slide"
      }
     },
     "source": [
      "What is a Generator & What is a Coroutine?\n",
      "------------------------------------------"
     ]
    },
    {
     "cell_type": "code",
     "collapsed": false,
     "input": [
      "def fib(a=1, b=1, n=10):\n",
      "    rv = []\n",
      "    for _ in xrange(n):\n",
      "        rv.append(a)\n",
      "        a, b = b, a + b\n",
      "    return rv\n",
      "\n",
      "fib()"
     ],
     "language": "python",
     "metadata": {
      "slideshow": {
       "slide_type": "subslide"
      }
     },
     "outputs": [
      {
       "metadata": {},
       "output_type": "pyout",
       "prompt_number": 11,
       "text": [
        "[1, 1, 2, 3, 5, 8, 13, 21, 34, 55]"
       ]
      }
     ],
     "prompt_number": 11
    },
    {
     "cell_type": "code",
     "collapsed": false,
     "input": [
      "def ratio(xs):\n",
      "    xs = iter(xs)\n",
      "    x1 = next(xs) # raises StopIteration\n",
      "    x2 = next(xs)\n",
      "    rv = [x2/x1]\n",
      "    x1 = x2\n",
      "    for x2 in xs:\n",
      "        rv.append(x2/x1)\n",
      "        x1 = x2    \n",
      "    return rv\n",
      "\n",
      "from math import sqrt\n",
      "ratio(fib(n=5))"
     ],
     "language": "python",
     "metadata": {
      "slideshow": {
       "slide_type": "subslide"
      }
     },
     "outputs": [
      {
       "metadata": {},
       "output_type": "pyout",
       "prompt_number": 12,
       "text": [
        "[1.0, 2.0, 1.5, 1.6666666666666667]"
       ]
      }
     ],
     "prompt_number": 12
    },
    {
     "cell_type": "code",
     "collapsed": false,
     "input": [
      "phi = (1+sqrt(5))/2\n",
      "[abs(x - phi) for x in ratio(fib(n=5))]"
     ],
     "language": "python",
     "metadata": {
      "slideshow": {
       "slide_type": "fragment"
      }
     },
     "outputs": [
      {
       "metadata": {},
       "output_type": "pyout",
       "prompt_number": 13,
       "text": [
        "[0.6180339887498949,\n",
        " 0.3819660112501051,\n",
        " 0.1180339887498949,\n",
        " 0.04863267791677184]"
       ]
      }
     ],
     "prompt_number": 13
    },
    {
     "cell_type": "code",
     "collapsed": false,
     "input": [
      "# 1.609 km per mi"
     ],
     "language": "python",
     "metadata": {
      "slideshow": {
       "slide_type": "fragment"
      }
     },
     "outputs": [],
     "prompt_number": 14
    },
    {
     "cell_type": "code",
     "collapsed": false,
     "input": [
      "def fib(a=1, b=1):\n",
      "    while True:\n",
      "        yield a\n",
      "        a, b = b, a + b\n",
      "\n",
      "from itertools import islice\n",
      "list(islice(fib(),10))"
     ],
     "language": "python",
     "metadata": {
      "slideshow": {
       "slide_type": "subslide"
      }
     },
     "outputs": [
      {
       "metadata": {},
       "output_type": "pyout",
       "prompt_number": 15,
       "text": [
        "[1, 1, 2, 3, 5, 8, 13, 21, 34, 55]"
       ]
      }
     ],
     "prompt_number": 15
    },
    {
     "cell_type": "code",
     "collapsed": false,
     "input": [
      "from itertools import islice, izip, tee\n",
      "nwise = lambda g,n: izip(*(islice(g,i,None) for i,g in enumerate(tee(g,n))))\n",
      "ratio = lambda g: (y/x for x,y in nwise(g,2))\n",
      "\n",
      "list(islice(ratio(fib()),5))"
     ],
     "language": "python",
     "metadata": {
      "slideshow": {
       "slide_type": "subslide"
      }
     },
     "outputs": [
      {
       "metadata": {},
       "output_type": "pyout",
       "prompt_number": 16,
       "text": [
        "[1.0, 2.0, 1.5, 1.6666666666666667, 1.6]"
       ]
      }
     ],
     "prompt_number": 16
    },
    {
     "cell_type": "code",
     "collapsed": false,
     "input": [
      "phi = (1+sqrt(5))/2\n",
      "[abs(x - phi) for x in islice(ratio(fib()),5)]"
     ],
     "language": "python",
     "metadata": {
      "slideshow": {
       "slide_type": "fragment"
      }
     },
     "outputs": [
      {
       "metadata": {},
       "output_type": "pyout",
       "prompt_number": 17,
       "text": [
        "[0.6180339887498949,\n",
        " 0.3819660112501051,\n",
        " 0.1180339887498949,\n",
        " 0.04863267791677184,\n",
        " 0.018033988749894814]"
       ]
      }
     ],
     "prompt_number": 17
    },
    {
     "cell_type": "markdown",
     "metadata": {
      "slideshow": {
       "slide_type": "slide"
      }
     },
     "source": [
      "Generators Free You From Presumptions About Use\n",
      "-----------------------------------------------"
     ]
    },
    {
     "cell_type": "code",
     "collapsed": false,
     "input": [
      "def fib(a=1, b=1, n=10):\n",
      "    rv = []\n",
      "    for _ in xrange(10):\n",
      "        rv.append(a)\n",
      "        a, b = b, a + b\n",
      "    return rv\n",
      "\n",
      "print(fib())\n",
      "\n",
      "def fib(a=1, b=1, n=10):\n",
      "    rv = []\n",
      "    while True:\n",
      "        if a > n: break\n",
      "        rv.append(a)\n",
      "        a, b = b, a + b\n",
      "    return rv\n",
      "\n",
      "print(fib())"
     ],
     "language": "python",
     "metadata": {
      "slideshow": {
       "slide_type": "subslide"
      }
     },
     "outputs": [
      {
       "output_type": "stream",
       "stream": "stdout",
       "text": [
        "[1, 1, 2, 3, 5, 8, 13, 21, 34, 55]\n",
        "[1, 1, 2, 3, 5, 8]\n"
       ]
      }
     ],
     "prompt_number": 18
    },
    {
     "cell_type": "code",
     "collapsed": false,
     "input": [
      "def fib(a=1, b=1):\n",
      "    while True:\n",
      "        yield a\n",
      "        a, b = b, a+b\n",
      "        \n",
      "from itertools import islice\n",
      "print(list(islice(fib(),10)))\n",
      "\n",
      "from itertools import takewhile\n",
      "print(list(takewhile(lambda x: x < 10, fib())))\n",
      "\n",
      "from itertools import dropwhile\n",
      "print(list(dropwhile(lambda x: x < 5, \n",
      "           takewhile(lambda x: x < 100,\n",
      "           islice(fib(),15)))))"
     ],
     "language": "python",
     "metadata": {
      "slideshow": {
       "slide_type": "subslide"
      }
     },
     "outputs": [
      {
       "output_type": "stream",
       "stream": "stdout",
       "text": [
        "[1, 1, 2, 3, 5, 8, 13, 21, 34, 55]\n",
        "[1, 1, 2, 3, 5, 8]\n",
        "[5, 8, 13, 21, 34, 55, 89]\n"
       ]
      }
     ],
     "prompt_number": 19
    },
    {
     "cell_type": "code",
     "collapsed": false,
     "input": [
      "from time import sleep \n",
      "\n",
      "def query():\n",
      "    for x in xrange(10):\n",
      "        sleep(.1)\n",
      "        yield x\n",
      "    \n",
      "% time list(islice(query(),1))"
     ],
     "language": "python",
     "metadata": {
      "slideshow": {
       "slide_type": "subslide"
      }
     },
     "outputs": [
      {
       "output_type": "stream",
       "stream": "stdout",
       "text": [
        "CPU times: user 0 ns, sys: 0 ns, total: 0 ns\n",
        "Wall time: 100 ms\n"
       ]
      },
      {
       "metadata": {},
       "output_type": "pyout",
       "prompt_number": 20,
       "text": [
        "[0]"
       ]
      }
     ],
     "prompt_number": 20
    },
    {
     "cell_type": "markdown",
     "metadata": {
      "slideshow": {
       "slide_type": "slide"
      }
     },
     "source": [
      "Generators Free You From Presumptions About Return Type\n",
      "-------------------------------------------------------"
     ]
    },
    {
     "cell_type": "code",
     "collapsed": false,
     "input": [
      "def process(xs):\n",
      "    rv = []\n",
      "    for x in xs:\n",
      "        rv.append(x)\n",
      "    return rv\n",
      "    \n",
      "def process(xs):\n",
      "    rv = set()\n",
      "    for x in xs:\n",
      "        rv.add(x)\n",
      "    return rv\n",
      "\n",
      "def process(xs):\n",
      "    rv = ()\n",
      "    for x in xs:\n",
      "        rv += (x,)\n",
      "    return rv"
     ],
     "language": "python",
     "metadata": {
      "slideshow": {
       "slide_type": "subslide"
      }
     },
     "outputs": [],
     "prompt_number": 21
    },
    {
     "cell_type": "code",
     "collapsed": false,
     "input": [
      "def fib(a=1, b=1, n=100):\n",
      "    rv = []\n",
      "    for _ in xrange(n):\n",
      "        rv.append(a)\n",
      "        a, b = b, a+b\n",
      "    return rv\n",
      "\n",
      "% timeit -r 5 fib()\n",
      "\n",
      "% timeit -r 5 tuple(fib())\n",
      "% timeit -r 5 set(fib())"
     ],
     "language": "python",
     "metadata": {
      "slideshow": {
       "slide_type": "subslide"
      }
     },
     "outputs": [
      {
       "output_type": "stream",
       "stream": "stdout",
       "text": [
        "100000 loops, best of 5: 13.1 \u00b5s per loop\n",
        "100000 loops, best of 5: 13.5 \u00b5s per loop"
       ]
      },
      {
       "output_type": "stream",
       "stream": "stdout",
       "text": [
        "\n",
        "100000 loops, best of 5: 17.8 \u00b5s per loop"
       ]
      },
      {
       "output_type": "stream",
       "stream": "stdout",
       "text": [
        "\n"
       ]
      }
     ],
     "prompt_number": 24
    },
    {
     "cell_type": "code",
     "collapsed": false,
     "input": [
      "def fib(a=1, b=1):\n",
      "    while True:\n",
      "        yield a\n",
      "        a, b = b, a+b  \n",
      "    \n",
      "from itertools import islice\n",
      "% timeit -r 5 list(islice(fib(),100))\n",
      "% timeit -r 5 tuple(islice(fib(),100))\n",
      "% timeit -r 5 set(islice(fib(),100))"
     ],
     "language": "python",
     "metadata": {
      "slideshow": {
       "slide_type": "fragment"
      }
     },
     "outputs": [
      {
       "output_type": "stream",
       "stream": "stdout",
       "text": [
        "100000 loops, best of 5: 13.6 \u00b5s per loop\n",
        "100000 loops, best of 5: 13.7 \u00b5s per loop"
       ]
      },
      {
       "output_type": "stream",
       "stream": "stdout",
       "text": [
        "\n",
        "100000 loops, best of 5: 16.5 \u00b5s per loop"
       ]
      },
      {
       "output_type": "stream",
       "stream": "stdout",
       "text": [
        "\n"
       ]
      }
     ],
     "prompt_number": 25
    },
    {
     "cell_type": "code",
     "collapsed": false,
     "input": [
      "def average(xs):\n",
      "    if not isinstance(xs, list):\n",
      "        raise TypeError('xs must strictly be a list')\n",
      "    return sum(xs) / len(xs)\n",
      "\n",
      "average([1,2,4,8,16])"
     ],
     "language": "python",
     "metadata": {
      "slideshow": {
       "slide_type": "subslide"
      }
     },
     "outputs": [
      {
       "metadata": {},
       "output_type": "pyout",
       "prompt_number": 27,
       "text": [
        "6.2"
       ]
      }
     ],
     "prompt_number": 27
    },
    {
     "cell_type": "code",
     "collapsed": false,
     "input": [
      "average((1,2,4,8,16))"
     ],
     "language": "python",
     "metadata": {
      "slideshow": {
       "slide_type": "fragment"
      }
     },
     "outputs": [
      {
       "ename": "TypeError",
       "evalue": "xs must strictly be a list",
       "output_type": "pyerr",
       "traceback": [
        "\u001b[1;31m---------------------------------------------------------------------------\u001b[0m\n\u001b[1;31mTypeError\u001b[0m                                 Traceback (most recent call last)",
        "\u001b[1;32m<ipython-input-28-4a82f84bdc7a>\u001b[0m in \u001b[0;36m<module>\u001b[1;34m()\u001b[0m\n\u001b[1;32m----> 1\u001b[1;33m \u001b[0maverage\u001b[0m\u001b[1;33m(\u001b[0m\u001b[1;33m(\u001b[0m\u001b[1;36m1\u001b[0m\u001b[1;33m,\u001b[0m\u001b[1;36m2\u001b[0m\u001b[1;33m,\u001b[0m\u001b[1;36m4\u001b[0m\u001b[1;33m,\u001b[0m\u001b[1;36m8\u001b[0m\u001b[1;33m,\u001b[0m\u001b[1;36m16\u001b[0m\u001b[1;33m)\u001b[0m\u001b[1;33m)\u001b[0m\u001b[1;33m\u001b[0m\u001b[0m\n\u001b[0m",
        "\u001b[1;32m<ipython-input-27-c010f9029beb>\u001b[0m in \u001b[0;36maverage\u001b[1;34m(xs)\u001b[0m\n\u001b[0;32m      1\u001b[0m \u001b[1;32mdef\u001b[0m \u001b[0maverage\u001b[0m\u001b[1;33m(\u001b[0m\u001b[0mxs\u001b[0m\u001b[1;33m)\u001b[0m\u001b[1;33m:\u001b[0m\u001b[1;33m\u001b[0m\u001b[0m\n\u001b[0;32m      2\u001b[0m     \u001b[1;32mif\u001b[0m \u001b[1;32mnot\u001b[0m \u001b[0misinstance\u001b[0m\u001b[1;33m(\u001b[0m\u001b[0mxs\u001b[0m\u001b[1;33m,\u001b[0m \u001b[0mlist\u001b[0m\u001b[1;33m)\u001b[0m\u001b[1;33m:\u001b[0m\u001b[1;33m\u001b[0m\u001b[0m\n\u001b[1;32m----> 3\u001b[1;33m         \u001b[1;32mraise\u001b[0m \u001b[0mTypeError\u001b[0m\u001b[1;33m(\u001b[0m\u001b[1;34m'xs must strictly be a list'\u001b[0m\u001b[1;33m)\u001b[0m\u001b[1;33m\u001b[0m\u001b[0m\n\u001b[0m\u001b[0;32m      4\u001b[0m     \u001b[1;32mreturn\u001b[0m \u001b[0msum\u001b[0m\u001b[1;33m(\u001b[0m\u001b[0mxs\u001b[0m\u001b[1;33m)\u001b[0m \u001b[1;33m/\u001b[0m \u001b[0mlen\u001b[0m\u001b[1;33m(\u001b[0m\u001b[0mxs\u001b[0m\u001b[1;33m)\u001b[0m\u001b[1;33m\u001b[0m\u001b[0m\n\u001b[0;32m      5\u001b[0m \u001b[1;33m\u001b[0m\u001b[0m\n",
        "\u001b[1;31mTypeError\u001b[0m: xs must strictly be a list"
       ]
      }
     ],
     "prompt_number": 28
    },
    {
     "cell_type": "code",
     "collapsed": false,
     "input": [
      "from collections import Sized\n",
      "\n",
      "def average(xs):\n",
      "    if not isinstance(xs, Sized):\n",
      "        raise TypeError('xs must be Sized')\n",
      "    return sum(xs) / len(xs)\n",
      "\n",
      "average((1,2,4,8,16))"
     ],
     "language": "python",
     "metadata": {
      "slideshow": {
       "slide_type": "subslide"
      }
     },
     "outputs": [
      {
       "metadata": {},
       "output_type": "pyout",
       "prompt_number": 29,
       "text": [
        "6.2"
       ]
      }
     ],
     "prompt_number": 29
    },
    {
     "cell_type": "code",
     "collapsed": false,
     "input": [
      "from collections import Iterable\n",
      "\n",
      "def average(xs):\n",
      "    if not isinstance(xs, Iterable):\n",
      "        raise TypeError('xs must be Iterable')\n",
      "    total, count = reduce(lambda x,acc: map(sum,zip(x,acc)), ((x,1) for x in xs))\n",
      "    return total / count\n",
      "\n",
      "average(2**x for x in xrange(5))"
     ],
     "language": "python",
     "metadata": {
      "slideshow": {
       "slide_type": "subslide"
      }
     },
     "outputs": [
      {
       "metadata": {},
       "output_type": "pyout",
       "prompt_number": 31,
       "text": [
        "6.2"
       ]
      }
     ],
     "prompt_number": 31
    },
    {
     "cell_type": "markdown",
     "metadata": {
      "slideshow": {
       "slide_type": "slide"
      }
     },
     "source": [
      "Generators Simplify Your APIs & Remove Presumptions About Modes\n",
      "---------------------------------------------------------------"
     ]
    },
    {
     "cell_type": "code",
     "collapsed": false,
     "input": [
      "from time import sleep\n",
      "from random import randrange\n",
      "\n",
      "def source():\n",
      "    for _ in xrange(randrange(10,20)):\n",
      "        yield randrange(-100, 100)\n",
      "        sleep(randrange(5,10)/50)\n",
      "\n",
      "def load_data(source):\n",
      "    rv = []\n",
      "    for datum in source:\n",
      "        average = sum(x for x,_ in rv)/len(rv) if rv else datum\n",
      "        rv.append((datum, average))\n",
      "    return rv\n",
      "\n",
      "load_data(source())"
     ],
     "language": "python",
     "metadata": {
      "slideshow": {
       "slide_type": "subslide"
      }
     },
     "outputs": [
      {
       "metadata": {},
       "output_type": "pyout",
       "prompt_number": 32,
       "text": [
        "[(-35, -35),\n",
        " (-45, -35.0),\n",
        " (88, -40.0),\n",
        " (-32, 2.6666666666666665),\n",
        " (-67, -6.0),\n",
        " (-57, -18.2),\n",
        " (83, -24.666666666666668),\n",
        " (98, -9.285714285714286),\n",
        " (-74, 4.125),\n",
        " (-71, -4.555555555555555),\n",
        " (-95, -11.2),\n",
        " (93, -18.818181818181817)]"
       ]
      }
     ],
     "prompt_number": 32
    },
    {
     "cell_type": "code",
     "collapsed": false,
     "input": [
      "def source(n):\n",
      "    for _ in xrange(n):\n",
      "        yield randrange(-100, 100)\n",
      "        sleep(randrange(5,10)/50)\n",
      "\n",
      "def load_data(source, size):\n",
      "    rv = []\n",
      "    for i, datum in enumerate(source):\n",
      "        average = sum(x for x,_ in rv)/len(rv) if rv else datum\n",
      "        rv.append((datum, average))\n",
      "        print('loading {:.2%}'.format(i/size))\n",
      "    return rv\n",
      "\n",
      "load_data(source(5), 5)"
     ],
     "language": "python",
     "metadata": {
      "slideshow": {
       "slide_type": "subslide"
      }
     },
     "outputs": [
      {
       "output_type": "stream",
       "stream": "stdout",
       "text": [
        "loading 0.00%\n",
        "loading 20.00%"
       ]
      },
      {
       "output_type": "stream",
       "stream": "stdout",
       "text": [
        "\n",
        "loading 40.00%"
       ]
      },
      {
       "output_type": "stream",
       "stream": "stdout",
       "text": [
        "\n",
        "loading 60.00%"
       ]
      },
      {
       "output_type": "stream",
       "stream": "stdout",
       "text": [
        "\n",
        "loading 80.00%"
       ]
      },
      {
       "output_type": "stream",
       "stream": "stdout",
       "text": [
        "\n"
       ]
      },
      {
       "metadata": {},
       "output_type": "pyout",
       "prompt_number": 33,
       "text": [
        "[(-18, -18), (-24, -18.0), (23, -21.0), (22, -6.333333333333333), (35, 0.75)]"
       ]
      }
     ],
     "prompt_number": 33
    },
    {
     "cell_type": "code",
     "collapsed": false,
     "input": [
      "def load_data(source, size):\n",
      "    rv = []\n",
      "    print('loading', end=' ')\n",
      "    for i, datum in enumerate(source):\n",
      "        average = sum(x for x,_ in rv)/len(rv) if rv else datum\n",
      "        rv.append((datum, average))\n",
      "        print('{:.2%}'.format(i/size), end=' ')\n",
      "    print('done loading!')\n",
      "    return rv\n",
      "\n",
      "load_data(source(5), 5)"
     ],
     "language": "python",
     "metadata": {
      "slideshow": {
       "slide_type": "subslide"
      }
     },
     "outputs": [
      {
       "output_type": "stream",
       "stream": "stdout",
       "text": [
        "loading 0.00% 20.00%"
       ]
      },
      {
       "output_type": "stream",
       "stream": "stdout",
       "text": [
        " 40.00%"
       ]
      },
      {
       "output_type": "stream",
       "stream": "stdout",
       "text": [
        " 60.00%"
       ]
      },
      {
       "output_type": "stream",
       "stream": "stdout",
       "text": [
        " 80.00%"
       ]
      },
      {
       "output_type": "stream",
       "stream": "stdout",
       "text": [
        " done loading!"
       ]
      },
      {
       "output_type": "stream",
       "stream": "stdout",
       "text": [
        "\n"
       ]
      },
      {
       "metadata": {},
       "output_type": "pyout",
       "prompt_number": 34,
       "text": [
        "[(22, 22), (-26, 22.0), (19, -2.0), (-19, 5.0), (68, -1.0)]"
       ]
      }
     ],
     "prompt_number": 34
    },
    {
     "cell_type": "code",
     "collapsed": false,
     "input": [
      "def load_data(source, size, before, during, after):\n",
      "    rv = []\n",
      "    before()\n",
      "    for i, datum in enumerate(source):\n",
      "        average = sum(x for x,_ in rv)/len(rv) if rv else datum\n",
      "        rv.append((datum, average))\n",
      "        during(i, size)\n",
      "    after()\n",
      "    return rv\n",
      "\n",
      "def before():\n",
      "    print('loading', end=' ')\n",
      "def during(i, size):\n",
      "    print('{:.2%}'.format(i/size), end=' ')\n",
      "def after():\n",
      "    print('done loading!')\n",
      "\n",
      "load_data(source(5), 5, before=after, during=during, after=before)"
     ],
     "language": "python",
     "metadata": {
      "slideshow": {
       "slide_type": "subslide"
      }
     },
     "outputs": [
      {
       "output_type": "stream",
       "stream": "stdout",
       "text": [
        "done loading!\n",
        "0.00% 20.00%"
       ]
      },
      {
       "output_type": "stream",
       "stream": "stdout",
       "text": [
        " 40.00%"
       ]
      },
      {
       "output_type": "stream",
       "stream": "stdout",
       "text": [
        " 60.00%"
       ]
      },
      {
       "output_type": "stream",
       "stream": "stdout",
       "text": [
        " 80.00%"
       ]
      },
      {
       "output_type": "stream",
       "stream": "stdout",
       "text": [
        " loading"
       ]
      },
      {
       "output_type": "stream",
       "stream": "stdout",
       "text": [
        " "
       ]
      },
      {
       "metadata": {},
       "output_type": "pyout",
       "prompt_number": 35,
       "text": [
        "[(-26, -26), (-78, -26.0), (86, -52.0), (15, -6.0), (-12, -0.75)]"
       ]
      }
     ],
     "prompt_number": 35
    },
    {
     "cell_type": "code",
     "collapsed": false,
     "input": [
      "def load_data(source, update):\n",
      "    rv = []\n",
      "    next(update)\n",
      "    for i, datum in enumerate(source):\n",
      "        average = sum(x for x,_ in rv)/len(rv) if rv else datum\n",
      "        rv.append((datum, average))\n",
      "        update.send(datum)\n",
      "    next(update)\n",
      "    update.close()    \n",
      "    return rv\n",
      "\n",
      "def update(n):\n",
      "    print('loading', end=' ')\n",
      "    count, datum = 0, (yield)\n",
      "    while datum is not None:        \n",
      "        print('{:.2%}'.format(count/n), end=' ')        \n",
      "        count, datum = count+1, (yield)\n",
      "    print('done loading!')\n",
      "    while True: yield \n",
      "\n",
      "load_data(source(5), update(5))"
     ],
     "language": "python",
     "metadata": {
      "slideshow": {
       "slide_type": "subslide"
      }
     },
     "outputs": [
      {
       "output_type": "stream",
       "stream": "stdout",
       "text": [
        "loading 0.00% 20.00%"
       ]
      },
      {
       "output_type": "stream",
       "stream": "stdout",
       "text": [
        " 40.00%"
       ]
      },
      {
       "output_type": "stream",
       "stream": "stdout",
       "text": [
        " 60.00%"
       ]
      },
      {
       "output_type": "stream",
       "stream": "stdout",
       "text": [
        " 80.00%"
       ]
      },
      {
       "output_type": "stream",
       "stream": "stdout",
       "text": [
        " done loading!"
       ]
      },
      {
       "output_type": "stream",
       "stream": "stdout",
       "text": [
        "\n"
       ]
      },
      {
       "metadata": {},
       "output_type": "pyout",
       "prompt_number": 36,
       "text": [
        "[(35, 35), (15, 35.0), (91, 25.0), (91, 47.0), (81, 58.0)]"
       ]
      }
     ],
     "prompt_number": 36
    },
    {
     "cell_type": "code",
     "collapsed": false,
     "input": [
      "# http://www.sifma.org/services/holiday-schedule/\n",
      "# \"All SIFMA holiday recommendations apply to the trading of U.S. dollar-denominated \n",
      "#  government securities, mortgage- and asset-backed securities, over-the-counter \n",
      "#  investment-grade and high-yield corporate bonds, municipal bonds and secondary \n",
      "#  money market trading in bankers' acceptances, commercial paper and Yankee and \n",
      "#  Euro certificates of deposit.\"\n",
      " \n",
      "from datetime import date \n",
      "\n",
      "holidays = {                       # early               # full\n",
      "    'Bank Holiday #1':               (None,                date(2014,  1,  2)),\n",
      "    'Bank Holiday #2':               (None,                date(2014,  1,  3)),\n",
      "    'Coming of Age Day':             (None,                date(2014,  1, 13)),\n",
      "    'U.S. Martin Luther King Day':   (None,                date(2014,  1, 20)),\n",
      "    'National Foundation Day':       (None,                date(2014,  2, 11)),\n",
      "    \"U.S. Presidents' Day\":          (None,                date(2014,  2, 17)),\n",
      "    'Spring Equinox':                (None,                date(2014,  3, 21)),\n",
      "    'Good Friday':                   (None,                date(2014,  4, 18)),\n",
      "    'U.K Easter Monday':             (date(2014, 4, 21),   None),\n",
      "    'Showa Day':                     (None,                date(2014,  4, 29)),\n",
      "    'Constitutional Day':            (None,                None),\n",
      "    \"Children's Day\":                (None,                date(2014,  5,  5)),\n",
      "    'U.K. May Day':                  (None,                date(2014,  5,  5)),\n",
      "    'Greenery Day':                  (None,                date(2014,  5,  6)),\n",
      "    'U.S. Memorial Day':             (None,                date(2014,  5, 26)),\n",
      "    'U.K. Spring Bank Holiday':      (None,                date(2014,  5, 26)),\n",
      "    \"U.K. Queen's Diamond Jubilee\":  (None,                None),\n",
      "    'U.S. Independence Day':         (None,                date(2014,  7,  4)),\n",
      "    'Marine Day':                    (None,                date(2014,  7, 21)),\n",
      "    'U.K. Summer Bank Holiday':      (date(2014, 8, 25),   None),\n",
      "    'U.S. Labor Day':                (None,                date(2014,  9,  1)),\n",
      "    'Respect for the Aged Day':      (None,                date(2014,  9, 15)),\n",
      "    'Autumn Equinox':                (None,                date(2014,  9, 23)),\n",
      "    'Sports Day/U.S. Columbus Day':  (None,                date(2014, 10, 13)),\n",
      "    'Culture Day':                   (None,                date(2014, 11,  3)),\n",
      "    'U.S. Veterans Day':             (None,                date(2014, 11, 11)),\n",
      "    'Labor Thanksgiving Day':        (None,                date(2014, 11, 24)),\n",
      "    'U.S. Thanksgiving Day':         (None,                date(2014, 11, 27)),\n",
      "    \"Emperor's Birthday\":            (None,                date(2014, 12, 23)),\n",
      "    'Christmas Day':                 (None,                date(2014, 12, 25)),\n",
      "    'U.K. Boxing Day':               (date(2014, 12, 26),  None),\n",
      "    'Bank Holiday #3':               (None,                date(2014, 12, 31)), }"
     ],
     "language": "python",
     "metadata": {
      "slideshow": {
       "slide_type": "slide"
      }
     },
     "outputs": [],
     "prompt_number": 37
    },
    {
     "cell_type": "code",
     "collapsed": false,
     "input": [
      "from datetime import timedelta\n",
      "def nthbusinessdate(refdate, n, holidays={full for early,full in holidays.values()}):    \n",
      "    while n > 0:\n",
      "        refdate += timedelta(days=1)\n",
      "        while refdate.weekday() in {5,6} or refdate in holidays:\n",
      "            refdate += timedelta(days=1)\n",
      "        n -= 1\n",
      "    return refdate\n",
      "    \n",
      "#       July 2014        \n",
      "#  Su  Mo  Tu  We  Th  Fr  Sa\n",
      "#           1   2   3   4*  5  \n",
      "#   6   7   8   9  10  11  12  \n",
      "#  13  14  15  16  17  18  19  \n",
      "#  20  21* 22  23  24  25  26  \n",
      "#  27  28  29  30  31      \n",
      "\n",
      "nthbusinessdate(date(2014,7,2), 2)"
     ],
     "language": "python",
     "metadata": {
      "slideshow": {
       "slide_type": "subslide"
      }
     },
     "outputs": [
      {
       "metadata": {},
       "output_type": "pyout",
       "prompt_number": 38,
       "text": [
        "datetime.date(2014, 7, 7)"
       ]
      }
     ],
     "prompt_number": 38
    },
    {
     "cell_type": "code",
     "collapsed": false,
     "input": [
      "nthbusinessdate(date(2014,7,2), 1), nthbusinessdate(date(2014,7,2), 2), nthbusinessdate(date(2014,7,2), 3)"
     ],
     "language": "python",
     "metadata": {
      "slideshow": {
       "slide_type": "fragment"
      }
     },
     "outputs": [
      {
       "metadata": {},
       "output_type": "pyout",
       "prompt_number": 39,
       "text": [
        "(datetime.date(2014, 7, 3),\n",
        " datetime.date(2014, 7, 7),\n",
        " datetime.date(2014, 7, 8))"
       ]
      }
     ],
     "prompt_number": 39
    },
    {
     "cell_type": "code",
     "collapsed": false,
     "input": [
      "def businessdays(refdate, holidays={full for early,full in holidays.values()}):    \n",
      "    while True:\n",
      "        refdate += timedelta(days=1)\n",
      "        while refdate.weekday() in {5,6} or refdate in holidays:\n",
      "            refdate += timedelta(days=1)\n",
      "        yield refdate\n",
      "\n",
      "g = businessdays(date(2014,7,2))\n",
      "next(g), next(g), next(g)"
     ],
     "language": "python",
     "metadata": {
      "slideshow": {
       "slide_type": "subslide"
      }
     },
     "outputs": [
      {
       "metadata": {},
       "output_type": "pyout",
       "prompt_number": 40,
       "text": [
        "(datetime.date(2014, 7, 3),\n",
        " datetime.date(2014, 7, 7),\n",
        " datetime.date(2014, 7, 8))"
       ]
      }
     ],
     "prompt_number": 40
    },
    {
     "cell_type": "code",
     "collapsed": false,
     "input": [
      "from operator import add, sub\n",
      "NBD, PBD = add, sub\n",
      "def businessdays(refdate, direction=NBD, holidays={full for early,full in holidays.values()}):    \n",
      "    while True:\n",
      "        refdate = direction(refdate, timedelta(days=1))\n",
      "        while refdate.weekday() in {5,6} or refdate in holidays:\n",
      "            refdate = direction(refdate, timedelta(days=1))\n",
      "        yield refdate\n",
      "\n",
      "g = businessdays(date(2014,7,2), direction=PBD)\n",
      "next(g), next(g), next(g)"
     ],
     "language": "python",
     "metadata": {
      "slideshow": {
       "slide_type": "subslide"
      }
     },
     "outputs": [
      {
       "metadata": {},
       "output_type": "pyout",
       "prompt_number": 41,
       "text": [
        "(datetime.date(2014, 7, 1),\n",
        " datetime.date(2014, 6, 30),\n",
        " datetime.date(2014, 6, 27))"
       ]
      }
     ],
     "prompt_number": 41
    },
    {
     "cell_type": "code",
     "collapsed": false,
     "input": [
      "NBD, PBD = lambda d: d+timedelta(days=1), lambda d: d-timedelta(days=1)\n",
      "\n",
      "def datecount(refdate, direction=NBD):\n",
      "    while True:\n",
      "        yield refdate\n",
      "        refdate = direction(refdate)\n",
      "        \n",
      "def businessdays(refdate, direction=NBD, holidays={full for early,full in holidays.values()}):    \n",
      "    return (d for d in datecount(refdate, direction) if d.weekday() not in {5,6} and d not in holidays)\n",
      "\n",
      "g = businessdays(date(2014,7,2), direction=PBD)\n",
      "next(g), next(g), next(g)"
     ],
     "language": "python",
     "metadata": {
      "slideshow": {
       "slide_type": "subslide"
      }
     },
     "outputs": [
      {
       "metadata": {},
       "output_type": "pyout",
       "prompt_number": 42,
       "text": [
        "(datetime.date(2014, 7, 2),\n",
        " datetime.date(2014, 7, 1),\n",
        " datetime.date(2014, 6, 30))"
       ]
      }
     ],
     "prompt_number": 42
    },
    {
     "cell_type": "code",
     "collapsed": false,
     "input": [
      "g = businessdays(date(2014,7,2), direction=NBD)\n",
      "next(g), next(g), next(g)"
     ],
     "language": "python",
     "metadata": {
      "slideshow": {
       "slide_type": "fragment"
      }
     },
     "outputs": [
      {
       "metadata": {},
       "output_type": "pyout",
       "prompt_number": 43,
       "text": [
        "(datetime.date(2014, 7, 2),\n",
        " datetime.date(2014, 7, 3),\n",
        " datetime.date(2014, 7, 7))"
       ]
      }
     ],
     "prompt_number": 43
    },
    {
     "cell_type": "code",
     "collapsed": false,
     "input": [
      "from functools import wraps\n",
      "\n",
      "def pumped(gen):\n",
      "    @wraps(gen)\n",
      "    def inner(*args, **kwargs):\n",
      "        g = gen(*args, **kwargs)\n",
      "        next(g)\n",
      "        return g.send\n",
      "    return inner"
     ],
     "language": "python",
     "metadata": {
      "slideshow": {
       "slide_type": "notes"
      }
     },
     "outputs": [],
     "prompt_number": 44
    },
    {
     "cell_type": "code",
     "collapsed": false,
     "input": [
      "@pumped\n",
      "def jp_holidays(): # Jurassic Park    \n",
      "    \n",
      "    @apply\n",
      "    def calendar(): # simulate lookup\n",
      "        for d in sorted(full for early,full in holidays.values() if full is not None):\n",
      "            sleep(.2)\n",
      "            yield d\n",
      "    \n",
      "    refdate, next_holiday = None, next(calendar)\n",
      "    while True:\n",
      "        refdate = yield (refdate == next_holiday)\n",
      "        while refdate > next_holiday:\n",
      "            next_holiday = next(calendar)\n",
      "        \n",
      "def businessdays(refdate, direction=NBD, holidays=lambda _: False):\n",
      "    return (d for d in datecount(refdate, direction) if d.weekday() not in {5,6} and not holidays(d))\n",
      "\n",
      "g = businessdays(date(2014,7,2), direction=NBD, holidays=jp_holidays())\n",
      "% time list(islice(g,3))"
     ],
     "language": "python",
     "metadata": {
      "slideshow": {
       "slide_type": "subslide"
      }
     },
     "outputs": [
      {
       "output_type": "stream",
       "stream": "stdout",
       "text": [
        "CPU times: user 4 ms, sys: 0 ns, total: 4 ms\n",
        "Wall time: 3 s\n"
       ]
      },
      {
       "metadata": {},
       "output_type": "pyout",
       "prompt_number": 46,
       "text": [
        "[datetime.date(2014, 7, 2),\n",
        " datetime.date(2014, 7, 3),\n",
        " datetime.date(2014, 7, 7)]"
       ]
      }
     ],
     "prompt_number": 46
    },
    {
     "cell_type": "code",
     "collapsed": false,
     "input": [
      "% time list(islice(g,11,12))"
     ],
     "language": "python",
     "metadata": {
      "slideshow": {
       "slide_type": "fragment"
      }
     },
     "outputs": [
      {
       "output_type": "stream",
       "stream": "stdout",
       "text": [
        "CPU times: user 0 ns, sys: 0 ns, total: 0 ns\n",
        "Wall time: 200 ms\n"
       ]
      },
      {
       "metadata": {},
       "output_type": "pyout",
       "prompt_number": 47,
       "text": [
        "[datetime.date(2014, 7, 24)]"
       ]
      }
     ],
     "prompt_number": 47
    },
    {
     "cell_type": "code",
     "collapsed": false,
     "input": [
      "from decimal import Decimal\n",
      "\n",
      "def change(amount, denominations = map(Decimal,('1.00', '0.50', '0.25', '0.10', '0.05', '0.01'))):\n",
      "    coins = []       \n",
      "    while any(amount >= d for d in denominations):        \n",
      "        coins.append(next((d for d in denominations if amount >= d)))\n",
      "        amount -= coins[-1]\n",
      "    return coins\n",
      "                \n",
      "change(Decimal('1.72'))"
     ],
     "language": "python",
     "metadata": {
      "slideshow": {
       "slide_type": "slide"
      }
     },
     "outputs": [
      {
       "metadata": {},
       "output_type": "pyout",
       "prompt_number": 48,
       "text": [
        "[Decimal('1.00'),\n",
        " Decimal('0.50'),\n",
        " Decimal('0.10'),\n",
        " Decimal('0.10'),\n",
        " Decimal('0.01'),\n",
        " Decimal('0.01')]"
       ]
      }
     ],
     "prompt_number": 48
    },
    {
     "cell_type": "code",
     "collapsed": false,
     "input": [
      "from decimal import Decimal\n",
      "\n",
      "def change(amount, denominations = {Decimal(d):5 for d in ('1.00', '0.50', '0.25', '0.10', '0.05', '0.01')}):\n",
      "    coins = []       \n",
      "    while any(amount >= d for d in sorted(denominations,reverse=True) if denominations[d] > 0):        \n",
      "        coins.append(next(d for d in sorted(denominations,reverse=True) if amount >= d and denominations[d] > 0))\n",
      "        denominations[coins[-1]] -= 1\n",
      "        amount -= coins[-1]\n",
      "    return coins\n",
      "                \n",
      "print(change(Decimal('1.72')))"
     ],
     "language": "python",
     "metadata": {
      "slideshow": {
       "slide_type": "subslide"
      }
     },
     "outputs": [
      {
       "output_type": "stream",
       "stream": "stdout",
       "text": [
        "[Decimal('1.00'), Decimal('0.50'), Decimal('0.10'), Decimal('0.10'), Decimal('0.01'), Decimal('0.01')]\n"
       ]
      }
     ],
     "prompt_number": 49
    },
    {
     "cell_type": "code",
     "collapsed": false,
     "input": [
      "print(change(Decimal('1.72'), denominations={Decimal('0.50'): 3, Decimal('0.10'): 10, Decimal('0.01'): 20}))"
     ],
     "language": "python",
     "metadata": {
      "slideshow": {
       "slide_type": "fragment"
      }
     },
     "outputs": [
      {
       "output_type": "stream",
       "stream": "stdout",
       "text": [
        "[Decimal('0.50'), Decimal('0.50'), Decimal('0.50'), Decimal('0.10'), Decimal('0.10'), Decimal('0.01'), Decimal('0.01')]\n"
       ]
      }
     ],
     "prompt_number": 50
    },
    {
     "cell_type": "code",
     "collapsed": false,
     "input": [
      "print(change(Decimal('1.72'), denominations={Decimal('0.50'): 2, Decimal('0.10'): 10, Decimal('0.01'): 20}))"
     ],
     "language": "python",
     "metadata": {
      "slideshow": {
       "slide_type": "fragment"
      }
     },
     "outputs": [
      {
       "output_type": "stream",
       "stream": "stdout",
       "text": [
        "[Decimal('0.50'), Decimal('0.50'), Decimal('0.10'), Decimal('0.10'), Decimal('0.10'), Decimal('0.10'), Decimal('0.10'), Decimal('0.10'), Decimal('0.10'), Decimal('0.01'), Decimal('0.01')]\n"
       ]
      }
     ],
     "prompt_number": 51
    },
    {
     "cell_type": "code",
     "collapsed": false,
     "input": [
      "from itertools import repeat, chain, takewhile\n",
      "greedy = lambda items, predicate: chain.from_iterable(takewhile(predicate,repeat(x)) for x in items)"
     ],
     "language": "python",
     "metadata": {
      "slideshow": {
       "slide_type": "subslide"
      }
     },
     "outputs": [],
     "prompt_number": 52
    },
    {
     "cell_type": "code",
     "collapsed": false,
     "input": [
      "@pumped\n",
      "def predicate(x, state=0):\n",
      "    value = yield\n",
      "    while True:\n",
      "        if state+value <= x: # take values until you exceed the maximum\n",
      "            state += value\n",
      "            value = yield True \n",
      "        else:\n",
      "            value = yield False"
     ],
     "language": "python",
     "metadata": {
      "slideshow": {
       "slide_type": "fragment"
      }
     },
     "outputs": [],
     "prompt_number": 53
    },
    {
     "cell_type": "code",
     "collapsed": false,
     "input": [
      "amounts = [randrange(0,1000) for _ in xrange(5)] # randomly pick dollar amounts"
     ],
     "language": "python",
     "metadata": {
      "slideshow": {
       "slide_type": "subslide"
      }
     },
     "outputs": [],
     "prompt_number": 58
    },
    {
     "cell_type": "code",
     "collapsed": false,
     "input": [
      "from itertools import groupby\n",
      "\n",
      "denominations = [1,5,10,25,100,500,1000,2000]\n",
      "\n",
      "for amount in amounts:\n",
      "    pred = predicate(amount) # create the predicate\n",
      "\n",
      "    coins = greedy(reversed(denominations), pred) # greedy algorithm\n",
      "\n",
      "    # pretty print\n",
      "    print('your change for {:>5.2f}$ = {}'.format(amount/100, \n",
      "          ' + '.join('{:>2d}\u00d7{:<3}'.format(sum(1 for _ in cs),\n",
      "          (('{:d}\u00a2' if c < 100 else '{:.0f}$').format(c if c < 100 else c/100))) for c,cs in groupby(coins))))"
     ],
     "language": "python",
     "metadata": {
      "slideshow": {
       "slide_type": "fragment"
      }
     },
     "outputs": [
      {
       "output_type": "stream",
       "stream": "stdout",
       "text": [
        "your change for  7.44$ =  1\u00d75$  +  2\u00d71$  +  1\u00d725\u00a2 +  1\u00d710\u00a2 +  1\u00d75\u00a2  +  4\u00d71\u00a2 \n",
        "your change for  9.09$ =  1\u00d75$  +  4\u00d71$  +  1\u00d75\u00a2  +  4\u00d71\u00a2 \n",
        "your change for  8.60$ =  1\u00d75$  +  3\u00d71$  +  2\u00d725\u00a2 +  1\u00d710\u00a2\n",
        "your change for  0.96$ =  3\u00d725\u00a2 +  2\u00d710\u00a2 +  1\u00d71\u00a2 \n",
        "your change for  7.41$ =  1\u00d75$  +  2\u00d71$  +  1\u00d725\u00a2 +  1\u00d710\u00a2 +  1\u00d75\u00a2  +  1\u00d71\u00a2 \n"
       ]
      }
     ],
     "prompt_number": 59
    },
    {
     "cell_type": "code",
     "collapsed": false,
     "input": [
      "@pumped\n",
      "def predicate(x, state=0, constraint=lambda _, __: True):\n",
      "    values = []\n",
      "    value = yield\n",
      "    while True:\n",
      "        if state+value <= x and constraint(values, value): # take values until you exceed the maximum\n",
      "            state += value\n",
      "            value = yield True\n",
      "            values.append(value)\n",
      "        else:\n",
      "            value = yield False"
     ],
     "language": "python",
     "metadata": {
      "slideshow": {
       "slide_type": "subslide"
      }
     },
     "outputs": [],
     "prompt_number": 60
    },
    {
     "cell_type": "code",
     "collapsed": false,
     "input": [
      "from collections import Counter\n",
      "three_coins = lambda coins, coin: Counter(coins)[coin] < 2\n",
      "\n",
      "for amount in amounts:\n",
      "    pred = predicate(amount, constraint=three_coins) # create the predicate\n",
      "\n",
      "    coins = list(greedy(reversed(denominations), pred)) # greedy algorithm\n",
      "\n",
      "    # pretty print\n",
      "    print('your change for {:>5.2f}$ -{:>5.2f}$ = {}'.format(amount/100, (amount - sum(coins))/100,\n",
      "          ' + '.join('{:>2d}\u00d7{:<3}'.format(sum(1 for _ in cs),\n",
      "          (('{:d}\u00a2' if c < 100 else '{:.0f}$').format(c if c < 100 else c/100))) for c,cs in groupby(coins))))"
     ],
     "language": "python",
     "metadata": {
      "slideshow": {
       "slide_type": "subslide"
      }
     },
     "outputs": [
      {
       "output_type": "stream",
       "stream": "stdout",
       "text": [
        "your change for  7.44$ - 0.02$ =  1\u00d75$  +  2\u00d71$  +  1\u00d725\u00a2 +  1\u00d710\u00a2 +  1\u00d75\u00a2  +  2\u00d71\u00a2 \n",
        "your change for  9.09$ - 1.27$ =  1\u00d75$  +  2\u00d71$  +  2\u00d725\u00a2 +  2\u00d710\u00a2 +  2\u00d75\u00a2  +  2\u00d71\u00a2 \n",
        "your change for  8.60$ - 0.78$ =  1\u00d75$  +  2\u00d71$  +  2\u00d725\u00a2 +  2\u00d710\u00a2 +  2\u00d75\u00a2  +  2\u00d71\u00a2 \n",
        "your change for  0.96$ - 0.14$ =  2\u00d725\u00a2 +  2\u00d710\u00a2 +  2\u00d75\u00a2  +  2\u00d71\u00a2 \n",
        "your change for  7.41$ - 0.00$ =  1\u00d75$  +  2\u00d71$  +  1\u00d725\u00a2 +  1\u00d710\u00a2 +  1\u00d75\u00a2  +  1\u00d71\u00a2 \n"
       ]
      }
     ],
     "prompt_number": 70
    },
    {
     "cell_type": "code",
     "collapsed": false,
     "input": [
      "roman = {  1:  'i',   4: 'iv',    5:  'v',   9: 'ix',  10: 'x',\n",
      "          40: 'ix',  50:  'x',   90: 'xc', 100:  'c', 400: 'cd',\n",
      "         500:  'd', 900: 'cm', 1000:  'm',}"
     ],
     "language": "python",
     "metadata": {
      "slideshow": {
       "slide_type": "subslide"
      }
     },
     "outputs": [],
     "prompt_number": 62
    },
    {
     "cell_type": "code",
     "collapsed": false,
     "input": [
      "years = [randint(1900,2200) for _ in xrange(5)] # randomly pick a year"
     ],
     "language": "python",
     "metadata": {
      "slideshow": {
       "slide_type": "fragment"
      }
     },
     "outputs": [],
     "prompt_number": 63
    },
    {
     "cell_type": "code",
     "collapsed": false,
     "input": [
      "@pumped\n",
      "def predicate(x, state=0, constraint=lambda _, __: True):\n",
      "    values = []\n",
      "    value = yield\n",
      "    while True:\n",
      "        if state+value <= x and constraint(values, value): # take values until you exceed the maximum\n",
      "            state += value\n",
      "            value = yield True\n",
      "            values.append(value)\n",
      "        else:\n",
      "            value = yield False"
     ],
     "language": "python",
     "metadata": {
      "slideshow": {
       "slide_type": "skip"
      }
     },
     "outputs": [],
     "prompt_number": 64
    },
    {
     "cell_type": "code",
     "collapsed": false,
     "input": [
      "for year in years:    \n",
      "    pred = predicate(year) # create the predicate\n",
      "    \n",
      "    numerals = greedy(reversed(sorted(roman)), pred) # greedy algorithm\n",
      "    \n",
      "    print('the year {} is written {}'.format( year,''.join(roman[x].upper() for x in list(numerals))))"
     ],
     "language": "python",
     "metadata": {
      "slideshow": {
       "slide_type": "fragment"
      }
     },
     "outputs": [
      {
       "output_type": "stream",
       "stream": "stdout",
       "text": [
        "the year 1903 is written MCMIII\n",
        "the year 2052 is written MMXII\n",
        "the year 2029 is written MMXXIX\n",
        "the year 1975 is written MCMXXXV\n",
        "the year 1945 is written MCMIXV\n"
       ]
      }
     ],
     "prompt_number": 65
    },
    {
     "cell_type": "markdown",
     "metadata": {
      "slideshow": {
       "slide_type": "slide"
      }
     },
     "source": [
      "Generators Have Freed Your Mind\n",
      "==============================="
     ]
    },
    {
     "cell_type": "markdown",
     "metadata": {
      "slideshow": {
       "slide_type": "fragment"
      }
     },
     "source": [
      "Go In Peace\n",
      "-----------"
     ]
    },
    {
     "cell_type": "markdown",
     "metadata": {
      "slideshow": {
       "slide_type": "fragment"
      }
     },
     "source": [
      "James Powell\n",
      "\n",
      "[james@dontusethiscode.com](james@dontusethiscode.com)\n",
      "\n",
      "[@dontusethiscode](http://twitter.com/dontusethiscode)\n",
      "\n",
      "[seriously.dontusethiscode.com](http://seriously.dontusethiscode.com)\n",
      "\n",
      "dutc on irc.freenode.net"
     ]
    }
   ],
   "metadata": {}
  }
 ]
}
