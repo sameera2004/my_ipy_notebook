{
 "cells": [
  {
   "cell_type": "markdown",
   "metadata": {},
   "source": [
    "#  This is an example provided by lmfit"
   ]
  },
  {
   "cell_type": "code",
   "execution_count": 1,
   "metadata": {
    "collapsed": false
   },
   "outputs": [
    {
     "name": "stderr",
     "output_type": "stream",
     "text": [
      ":0: FutureWarning: IPython widgets are experimental and may change in the future.\n"
     ]
    }
   ],
   "source": [
    "from lmfit import minimize, Parameters, Parameter, report_fit\n",
    "import numpy as np\n",
    "import matplotlib.pyplot as plt\n",
    "%matplotlib inline\n",
    "\n",
    "# create data to be fitted\n",
    "x = np.linspace(0, 15, 301)\n",
    "data = (5. * np.sin(2 * x - 0.1) * np.exp(-x*x*0.025) +\n",
    "        np.random.normal(size=len(x), scale=0.2) )\n",
    "\n",
    "# define objective function: returns the array to be minimized\n",
    "def fcn2min(params, x, data):\n",
    "    \"\"\" model decaying sine wave, subtract data\"\"\"\n",
    "    amp = params['amp'].value\n",
    "    shift = params['shift'].value\n",
    "    omega = params['omega'].value\n",
    "    decay = params['decay'].value\n",
    "\n",
    "    model = amp * np.sin(x * omega + shift) * np.exp(-x*x*decay)\n",
    "    return model - data\n",
    "\n",
    "# create a set of Parameters\n",
    "params = Parameters()\n",
    "params.add('amp',   value= 10,  min=0)\n",
    "params.add('decay', value= 0.1)\n",
    "params.add('shift', value= 0.0, min=-np.pi/2., max=np.pi/2)\n",
    "params.add('omega', value= 3.0)\n"
   ]
  },
  {
   "cell_type": "code",
   "execution_count": 2,
   "metadata": {
    "collapsed": false
   },
   "outputs": [
    {
     "data": {
      "text/plain": [
       "<lmfit.minimizer.Minimizer at 0x1043bf9d0>"
      ]
     },
     "execution_count": 2,
     "metadata": {},
     "output_type": "execute_result"
    }
   ],
   "source": [
    "# do fit, here with leastsq model\n",
    "result = minimize(fcn2min, params, args=(x, data))\n",
    "\n",
    "result"
   ]
  },
  {
   "cell_type": "code",
   "execution_count": 3,
   "metadata": {
    "collapsed": false
   },
   "outputs": [
    {
     "data": {
      "text/plain": [
       "array([ -4.54341791e-01,   4.46233601e-02,   5.43014278e-01,\n",
       "         1.03568360e+00,   1.51754696e+00,   1.98363795e+00,\n",
       "         2.42916174e+00,   2.84954668e+00,   3.24049354e+00,\n",
       "         3.59802144e+00,   3.91851041e+00,   4.19873972e+00,\n",
       "         4.43592178e+00,   4.62773121e+00,   4.77232864e+00,\n",
       "         4.86837916e+00,   4.91506507e+00,   4.91209294e+00,\n",
       "         4.85969483e+00,   4.75862367e+00,   4.61014296e+00,\n",
       "         4.41601085e+00,   4.17845884e+00,   3.90016536e+00,\n",
       "         3.58422453e+00,   3.23411051e+00,   2.85363787e+00,\n",
       "         2.44691838e+00,   2.01831484e+00,   1.57239237e+00,\n",
       "         1.11386780e+00,   6.47557751e-01,   1.78325925e-01,\n",
       "        -2.88969722e-01,  -7.49529353e-01,  -1.19866259e+00,\n",
       "        -1.63183827e+00,  -2.04473196e+00,  -2.43327091e+00,\n",
       "        -2.79367580e+00,  -3.12249881e+00,  -3.41665781e+00,\n",
       "        -3.67346617e+00,  -3.89065783e+00,  -4.06640764e+00,\n",
       "        -4.19934650e+00,  -4.28857144e+00,  -4.33365034e+00,\n",
       "        -4.33462146e+00,  -4.29198785e+00,  -4.20670657e+00,\n",
       "        -4.08017312e+00,  -3.91420121e+00,  -3.71099810e+00,\n",
       "        -3.47313599e+00,  -3.20351964e+00,  -2.90535079e+00,\n",
       "        -2.58208979e+00,  -2.23741477e+00,  -1.87517908e+00,\n",
       "        -1.49936725e+00,  -1.11405022e+00,  -7.23340163e-01,\n",
       "        -3.31345521e-01,   5.78732574e-02,   4.40346816e-01,\n",
       "         8.12238342e-01,   1.16988292e+00,   1.50982439e+00,\n",
       "         1.82884935e+00,   2.12401786e+00,   2.39269079e+00,\n",
       "         2.63255322e+00,   2.84163402e+00,   3.01832127e+00,\n",
       "         3.16137338e+00,   3.26992607e+00,   3.34349495e+00,\n",
       "         3.38197389e+00,   3.38562931e+00,   3.35509039e+00,\n",
       "         3.29133544e+00,   3.19567481e+00,   3.06973025e+00,\n",
       "         2.91541142e+00,   2.73488958e+00,   2.53056888e+00,\n",
       "         2.30505575e+00,   2.06112659e+00,   1.80169426e+00,\n",
       "         1.52977375e+00,   1.24844745e+00,   9.60830379e-01,\n",
       "         6.70035826e-01,   3.79141711e-01,   9.11580861e-02,\n",
       "        -1.91003901e-01,  -4.64561267e-01,  -7.26886385e-01,\n",
       "        -9.75531835e-01,  -1.20825270e+00,  -1.42302612e+00,\n",
       "        -1.61806791e+00,  -1.79184616e+00,  -1.94309175e+00,\n",
       "        -2.07080563e+00,  -2.17426307e+00,  -2.25301458e+00,\n",
       "        -2.30688397e+00,  -2.33596327e+00,  -2.34060493e+00,\n",
       "        -2.32141122e+00,  -2.27922125e+00,  -2.21509566e+00,\n",
       "        -2.13029918e+00,  -2.02628154e+00,  -1.90465674e+00,\n",
       "        -1.76718105e+00,  -1.61573006e+00,  -1.45227508e+00,\n",
       "        -1.27885901e+00,  -1.09757219e+00,  -9.10528376e-01,\n",
       "        -7.19841097e-01,  -5.27600724e-01,  -3.35852445e-01,\n",
       "        -1.46575370e-01,   3.83370142e-02,   2.17094869e-01,\n",
       "         3.88028344e-01,   5.49602100e-01,   7.00427898e-01,\n",
       "         8.39275179e-01,   9.65079562e-01,   1.07694925e+00,\n",
       "         1.17416929e+00,   1.25620379e+00,   1.32269600e+00,\n",
       "         1.37346648e+00,   1.40850929e+00,   1.42798642e+00,\n",
       "         1.43222047e+00,   1.42168591e+00,   1.39699875e+00,\n",
       "         1.35890516e+00,   1.30826891e+00,   1.24605792e+00,\n",
       "         1.17333020e+00,   1.09121915e+00,   1.00091860e+00,\n",
       "         9.03667648e-01,   8.00735551e-01,   6.93406795e-01,\n",
       "         5.82966511e-01,   4.70686414e-01,   3.57811385e-01,\n",
       "         2.45546834e-01,   1.35046962e-01,   2.74040174e-02,\n",
       "        -7.63613588e-02,  -1.75308639e-01,  -2.68584702e-01,\n",
       "        -3.55429875e-01,  -4.35182715e-01,  -5.07283496e-01,\n",
       "        -5.71276445e-01,  -6.26810715e-01,  -6.73640155e-01,\n",
       "        -7.11621914e-01,  -7.40713946e-01,  -7.60971480e-01,\n",
       "        -7.72542543e-01,  -7.75662619e-01,  -7.70648537e-01,\n",
       "        -7.57891700e-01,  -7.37850744e-01,  -7.11043737e-01,\n",
       "        -6.78040040e-01,  -6.39451914e-01,  -5.95925996e-01,\n",
       "        -5.48134743e-01,  -4.96767936e-01,  -4.42524353e-01,\n",
       "        -3.86103686e-01,  -3.28198788e-01,  -2.69488330e-01,\n",
       "        -2.10629931e-01,  -1.52253819e-01,  -9.49570747e-02,\n",
       "        -3.92984966e-02,   1.42058765e-02,   6.50865655e-02,\n",
       "         1.12923759e-01,   1.57349725e-01,   1.98050524e-01,\n",
       "         2.34767045e-01,   2.67295368e-01,   2.95486498e-01,\n",
       "         3.19245481e-01,   3.38529954e-01,   3.53348171e-01,\n",
       "         3.63756545e-01,   3.69856755e-01,   3.71792488e-01,\n",
       "         3.69745849e-01,   3.63933504e-01,   3.54602626e-01,\n",
       "         3.42026675e-01,   3.26501089e-01,   3.08338935e-01,\n",
       "         2.87866560e-01,   2.65419317e-01,   2.41337380e-01,\n",
       "         2.15961726e-01,   1.89630290e-01,   1.62674357e-01,\n",
       "         1.35415200e-01,   1.08161003e-01,   8.12040874e-02,\n",
       "         5.48184542e-02,   2.92576642e-02,   4.75305408e-03,\n",
       "        -1.84877015e-02,  -4.02816853e-02,  -6.04714948e-02,\n",
       "        -7.89256694e-02,  -9.55387994e-02,  -1.10231333e-01,\n",
       "        -1.22949096e-01,  -1.33662554e-01,  -1.42365821e-01,\n",
       "        -1.49075461e-01,  -1.53829090e-01,  -1.56683817e-01,\n",
       "        -1.57714542e-01,  -1.57012145e-01,  -1.54681586e-01,\n",
       "        -1.50839955e-01,  -1.45614480e-01,  -1.39140536e-01,\n",
       "        -1.31559663e-01,  -1.23017632e-01,  -1.13662561e-01,\n",
       "        -1.03643115e-01,  -9.31067943e-02,  -8.21983416e-02,\n",
       "        -7.10582620e-02,  -5.98214798e-02,  -4.86161349e-02,\n",
       "        -3.75625267e-02,  -2.67722074e-02,  -1.63472299e-02,\n",
       "        -6.37954729e-03,   3.04943576e-03,   1.18691639e-02,\n",
       "         2.00200895e-02,   2.74536941e-02,   3.41323824e-02,\n",
       "         4.00292546e-02,   4.51277707e-02,   4.94213129e-02,\n",
       "         5.29126613e-02,   5.56133910e-02,   5.75432044e-02,\n",
       "         5.87292093e-02,   5.92051554e-02,   5.90106404e-02,\n",
       "         5.81902960e-02,   5.67929669e-02,   5.48708898e-02,\n",
       "         5.24788855e-02,   4.96735696e-02,   4.65125924e-02,\n",
       "         4.30539145e-02,   3.93551232e-02,   3.54727973e-02,\n",
       "         3.14619235e-02,   2.73753682e-02,   2.32634078e-02,\n",
       "         1.91733195e-02,   1.51490324e-02,   1.12308416e-02,\n",
       "         7.45518186e-03,   3.85446190e-03,   4.56956196e-04,\n",
       "        -2.71324772e-03,  -5.63624944e-03,  -8.29628684e-03,\n",
       "        -1.06816420e-02,  -1.27845058e-02,  -1.46008059e-02,\n",
       "        -1.61300019e-02,  -1.73748533e-02,  -1.83411637e-02,\n",
       "        -1.90375066e-02,  -1.94749373e-02,  -1.96666950e-02,\n",
       "        -1.96278991e-02,  -1.93752449e-02,  -1.89267005e-02,\n",
       "        -1.83012102e-02])"
      ]
     },
     "execution_count": 3,
     "metadata": {},
     "output_type": "execute_result"
    }
   ],
   "source": [
    "# calculate final result\n",
    "final = data + result.residual\n",
    "final "
   ]
  },
  {
   "cell_type": "code",
   "execution_count": 4,
   "metadata": {
    "collapsed": false
   },
   "outputs": [
    {
     "name": "stdout",
     "output_type": "stream",
     "text": [
      "[[Variables]]\n",
      "    amp:     5.00453117 +/- 0.039874 (0.80%) (init= 10)\n",
      "    decay:   0.02493801 +/- 0.000454 (1.82%) (init= 0.1)\n",
      "    shift:  -0.09091126 +/- 0.010258 (11.28%) (init= 0)\n",
      "    omega:   1.99657052 +/- 0.003269 (0.16%) (init= 3)\n",
      "[[Correlations]] (unreported correlations are <  0.100)\n",
      "    C(shift, omega)              = -0.786 \n",
      "    C(amp, decay)                =  0.584 \n",
      "    C(amp, shift)                = -0.119 \n"
     ]
    }
   ],
   "source": [
    "# write error report\n",
    "report_fit(params)\n"
   ]
  },
  {
   "cell_type": "code",
   "execution_count": 6,
   "metadata": {
    "collapsed": false
   },
   "outputs": [
    {
     "data": {
      "image/png": "[encoded data removed]",
      "text/plain": [
       "<matplotlib.figure.Figure at 0x1043b2450>"
      ]
     },
     "metadata": {},
     "output_type": "display_data"
    }
   ],
   "source": [
    "# try to plot results\n",
    "try:\n",
    "    plt.plot(x, data, 'k+')\n",
    "    plt.plot(x, final, 'r')\n",
    "    plt.show()\n",
    "except:\n",
    "    pass\n"
   ]
  },
  {
   "cell_type": "code",
   "execution_count": null,
   "metadata": {
    "collapsed": true
   },
   "outputs": [],
   "source": []
  }
 ],
 "metadata": {
  "kernelspec": {
   "display_name": "Python 2",
   "language": "python",
   "name": "python2"
  },
  "language_info": {
   "codemirror_mode": {
    "name": "ipython",
    "version": 2
   },
   "file_extension": ".py",
   "mimetype": "text/x-python",
   "name": "python",
   "nbconvert_exporter": "python",
   "pygments_lexer": "ipython2",
   "version": "2.7.10"
  }
 },
 "nbformat": 4,
 "nbformat_minor": 0
}
