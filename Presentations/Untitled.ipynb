{
 "cells": [
  {
   "cell_type": "code",
   "execution_count": 1,
   "metadata": {
    "collapsed": false
   },
   "outputs": [
    {
     "name": "stderr",
     "output_type": "stream",
     "text": [
      ":0: FutureWarning: IPython widgets are experimental and may change in the future.\n"
     ]
    }
   ],
   "source": [
    "# analysis tools from scikit-xray (https://github.com/scikit-xray/scikit-xray/tree/master/skxray/core)\n",
    "import skxray.core.roi as roi\n",
    "import skxray.core.correlation as corr\n",
    "import skxray.core.utils as utils\n",
    "\n",
    "from lmfit import minimize, Parameters, Model\n",
    "\n",
    "# plotting tools from xray_vision (https://github.com/Nikea/xray-vision/blob/master/xray_vision/mpl_plotting/roi.py)\n",
    "import xray_vision.mpl_plotting as mpl_plot  \n",
    "\n",
    "import numpy as np\n",
    "import os, sys\n",
    "import zipfile\n",
    "\n",
    "import matplotlib as mpl\n",
    "import matplotlib.pyplot as plt\n",
    "from matplotlib.ticker import MaxNLocator\n",
    "from matplotlib.colors import LogNorm"
   ]
  },
  {
   "cell_type": "code",
   "execution_count": null,
   "metadata": {
    "collapsed": false
   },
   "outputs": [],
   "source": [
    "#data_dir = \"Duke_data/\"\n",
    "data_dir = \"/Volumes/Data/BeamLines/CHX/Luxi_description_files_for_duke/Duke_data/\"\n",
    "duke_rdata = np.load(data_dir+\"duke_img_1_5000.npy\")\n",
    "duke_dark = np.load(data_dir+\"duke_dark.npy\")\n",
    "\n",
    "duke_data = []\n",
    "for i in range(duke_rdata.shape[0]):\n",
    "    duke_data.append(duke_rdata[i] - duke_dark)\n",
    "    \n",
    "duke_ndata=np.asarray(duke_data)\n",
    "\n",
    "# load the mask(s) and mask the data\n",
    "mask1 = np.load(data_dir+\"new_mask4.npy\")\n",
    "mask2 = np.load(data_dir+\"Luxi_duke_mask.npy\")\n",
    "\n",
    "N_mask = ~(mask1 + mask2)\n",
    "mask_data = N_mask*duke_ndata"
   ]
  },
  {
   "cell_type": "code",
   "execution_count": null,
   "metadata": {
    "collapsed": false
   },
   "outputs": [],
   "source": [
    "#  get the average image\n",
    "avg_img = np.average(duke_ndata, axis=0)\n",
    "\n",
    "# if matplotlib version 1.5 or later\n",
    "if float('.'.join(mpl.__version__.split('.')[:2])) >= 1.5:\n",
    "    cmap = 'viridis'\n",
    "else:\n",
    "    cmap = 'CMRmap'\n",
    "\n",
    "# plot the average image data after masking\n",
    "plt.figure()\n",
    "plt.imshow(N_mask*avg_img, vmax=1e0, cmap=\"Paired\")\n",
    "plt.title(\"Averaged masked data for Duke Silica Gel \")\n",
    "plt.colorbar()\n",
    "plt.show()"
   ]
  },
  {
   "cell_type": "code",
   "execution_count": null,
   "metadata": {
    "collapsed": true
   },
   "outputs": [],
   "source": [
    "center = (133, 143)   # center of the spckle pattern"
   ]
  },
  {
   "cell_type": "code",
   "execution_count": null,
   "metadata": {
    "collapsed": false
   },
   "outputs": [],
   "source": [
    "inner_radius = 25  # radius of the first ring\n",
    "width = 1        # width of each ring\n",
    "spacing = 0      # no spacing between rings\n",
    "num_rings = 3   # number of rings\n",
    "center = (133, 143)   # center of the spckle pattern\n",
    "\n",
    "#  find the edges of the required rings\n",
    "edges = roi.ring_edges(inner_radius, width, spacing, num_rings)\n",
    "edges\n",
    "\n",
    "rings = roi.rings(edges, center, avg_img.shape)\n",
    "\n",
    "mask_data2 = N_mask*duke_data[0:4999]\n",
    "\n",
    "ring_mask = rings*N_mask\n",
    "\n",
    "# plot the figure\n",
    "fig, axes = plt.subplots()\n",
    "axes.set_title(\"Label array on the image\")\n",
    "im = show_label_array_on_image(axes, avg_img*N_mask, ring_mask, cmap=\"gray\", imshow_cmap='Paired')\n",
    "plt.show()"
   ]
  },
  {
   "cell_type": "code",
   "execution_count": 16,
   "metadata": {
    "collapsed": true
   },
   "outputs": [],
   "source": [
    "import copy\n",
    "import matplotlib.cm as mcm\n",
    "from matplotlib.colors import LogNorm\n",
    "\n",
    "\n",
    "def show_label_array(ax, label_array, cmap=None, **kwargs):\n",
    "    \"\"\"\n",
    "    Display a labeled array nicely\n",
    "    Additional kwargs are passed through to `ax.imshow`.\n",
    "    If `vmin` is in kwargs, it is clipped to minimum of 0.5.\n",
    "    Parameters\n",
    "    ----------\n",
    "    ax : Axes\n",
    "        The `Axes` object to add the artist too\n",
    "    label_array : ndarray\n",
    "        Expected to be an unsigned integer array.  0 is background,\n",
    "        positive integers label region of interest\n",
    "    cmap : str or colormap, optional\n",
    "        Color map to use, defaults to 'Paired'\n",
    "    Returns\n",
    "    -------\n",
    "    img : AxesImage\n",
    "        The artist added to the axes\n",
    "    \"\"\"\n",
    "    if cmap is None:\n",
    "        cmap = 'Paired'\n",
    "\n",
    "    _cmap = copy.copy((mcm.get_cmap(cmap)))\n",
    "    _cmap.set_under('w', 0)\n",
    "    vmin = max(.5, kwargs.pop('vmin', .5))\n",
    "\n",
    "    ax.set_aspect('equal')\n",
    "    im = ax.imshow(label_array, cmap=cmap,\n",
    "                   interpolation='nearest',\n",
    "                   vmin=vmin,\n",
    "                   **kwargs)\n",
    "\n",
    "    return im\n",
    "\n",
    "\n",
    "def show_label_array_on_image(ax, image, label_array, cmap=None,\n",
    "                              imshow_cmap='gray', norm=LogNorm(), **kwargs):\n",
    "    \"\"\"\n",
    "    This will plot the required ROI's(labeled array) on the image\n",
    "    Additional kwargs are passed through to `ax.imshow`.\n",
    "    If `vmin` is in kwargs, it is clipped to minimum of 0.5.\n",
    "    Parameters\n",
    "    ----------\n",
    "    ax : Axes\n",
    "        The `Axes` object to add the artist too\n",
    "    image : array\n",
    "        The image array\n",
    "    label_array : array\n",
    "        Expected to be an unsigned integer array.  0 is background,\n",
    "        positive integers label region of interest\n",
    "    cmap : str or colormap, optional\n",
    "        Color map to use for plotting the label_array, defaults to 'None'\n",
    "    imshow_cmap : str or colormap, optional\n",
    "        Color map to use for plotting the image, defaults to 'gray'\n",
    "    norm : str, optional\n",
    "        Normalize scale data, defaults to 'Lognorm()'\n",
    "    Returns\n",
    "    -------\n",
    "    im : AxesImage\n",
    "        The artist added to the axes\n",
    "    im_label : AxesImage\n",
    "        The artist added to the axes\n",
    "    \"\"\"\n",
    "    ax.set_aspect('equal')\n",
    "    im = ax.imshow(image, cmap=imshow_cmap, interpolation='none', norm=norm,\n",
    "                   **kwargs)\n",
    "    im_label = show_label_array(ax, label_array, cmap=cmap, norm=norm,\n",
    "                                **kwargs)\n",
    "    return im, im_label"
   ]
  },
  {
   "cell_type": "code",
   "execution_count": null,
   "metadata": {
    "collapsed": true
   },
   "outputs": [],
   "source": []
  }
 ],
 "metadata": {
  "kernelspec": {
   "display_name": "Python 2",
   "language": "python",
   "name": "python2"
  },
  "language_info": {
   "codemirror_mode": {
    "name": "ipython",
    "version": 2
   },
   "file_extension": ".py",
   "mimetype": "text/x-python",
   "name": "python",
   "nbconvert_exporter": "python",
   "pygments_lexer": "ipython2",
   "version": "2.7.10"
  }
 },
 "nbformat": 4,
 "nbformat_minor": 0
}
