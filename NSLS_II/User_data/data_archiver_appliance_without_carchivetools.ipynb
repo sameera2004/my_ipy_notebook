{
 "cells": [
  {
   "cell_type": "code",
   "execution_count": null,
   "metadata": {
    "collapsed": true
   },
   "outputs": [],
   "source": [
    " This will get you the data out of the archiver appliance without carchivetools.\n",
    "    \n",
    " The problem is not the code. The issue is you are trying to\n",
    "access the legacy archiver, not the archiver appliance. \n",
    "Your request returns no data, hence the Json error. In the bug report,\n",
    "you are trying to access the accelerator archiver. In your trial above, \n",
    "you are trying to access your local archiver. In order to get the ring \n",
    "current from the accelerator archiver appliance, you need the archiver\n",
    "appliance url(obv different than listed in that report). FYI, the issue\n",
    "in the bug report is not related to the Python library. It's due to the\n",
    "immense number of indexes on the server side.\n",
    "glad you can use the local archiver   "
   ]
  },
  {
   "cell_type": "code",
   "execution_count": null,
   "metadata": {
    "collapsed": true
   },
   "outputs": [],
   "source": [
    "import datetime\n",
    "import simplejson as json\n",
    "from urllib3.request import urlencode\n",
    "import urllib3\n",
    "import matplotlib.pyplot as plt\n",
    "%matplotlib inline"
   ]
  },
  {
   "cell_type": "code",
   "execution_count": null,
   "metadata": {
    "collapsed": true
   },
   "outputs": [],
   "source": [
    "ARCHIVER = 'http://xf16idc-ca.cs.nsls2.local:17668/'\n",
    "dt1 = dict(year=2015, month=10,day=5, hour=10, minute=9, second=10)\n",
    "dt2 = dict(year=2015, month=11,day=10, hour=10, minute=9, second=10)\n",
    "params = urlencode({'pv':'XF:16IDA-OP{Mir:WBM-Ax:P}Mtr.RBV', \n",
    "                    'from': datetime.datetime(**dt1).isoformat()+str('Z'),\n",
    "                    'to': datetime.datetime(**dt2).isoformat()+str('Z')})"
   ]
  },
  {
   "cell_type": "code",
   "execution_count": null,
   "metadata": {
    "collapsed": true
   },
   "outputs": [],
   "source": [
    "http = urllib3.PoolManager()\n",
    "url = ARCHIVER + 'retrieval/data/getData.json?' + params\n",
    "req = http.request('GET', url)\n",
    "data = json.loads(req.data)"
   ]
  },
  {
   "cell_type": "code",
   "execution_count": null,
   "metadata": {
    "collapsed": true
   },
   "outputs": [],
   "source": [
    "secs = [x['secs'] for x in data[0]['data']]\n",
    "vals = [x['val'] for x in data[0]['data']]\n",
    "plt.plot(secs, vals, \"r-\")\n",
    "plt.show()\n"
   ]
  }
 ],
 "metadata": {
  "kernelspec": {
   "display_name": "Python 2",
   "language": "python",
   "name": "python2"
  },
  "language_info": {
   "codemirror_mode": {
    "name": "ipython",
    "version": 2
   },
   "file_extension": ".py",
   "mimetype": "text/x-python",
   "name": "python",
   "nbconvert_exporter": "python",
   "pygments_lexer": "ipython2",
   "version": "2.7.10"
  }
 },
 "nbformat": 4,
 "nbformat_minor": 0
}
