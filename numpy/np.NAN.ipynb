{
 "cells": [
  {
   "cell_type": "code",
   "execution_count": 1,
   "metadata": {
    "collapsed": true
   },
   "outputs": [],
   "source": [
    "import skbeam.core.roi as roi \n",
    "import skbeam.core.correlation as corr\n",
    "import skbeam.core.utils as utils\n",
    "\n",
    "import numpy as np\n",
    "\n",
    "import matplotlib.pyplot as plt\n",
    "%matplotlib inline\n",
    "from matplotlib.ticker import MaxNLocator\n",
    "from matplotlib.colors import LogNorm"
   ]
  },
  {
   "cell_type": "code",
   "execution_count": 2,
   "metadata": {
    "collapsed": true
   },
   "outputs": [],
   "source": [
    "num_levels = 1\n",
    "num_bufs = 10  # must be even\n",
    "xdim = 10\n",
    "ydim = 10\n",
    "stack_size = 10\n",
    "img_stack = np.random.randint(1, 3, (stack_size, xdim, ydim))\n",
    "rois = np.zeros_like(img_stack[0])\n",
    "# make sure that the ROIs can be any integers greater than 1. They do not\n",
    "# have to start at 1 and be continuous\n",
    "rois[0:xdim//10, 0:ydim//10] = 5\n",
    "rois[xdim//10:xdim//5, ydim//10:ydim//5] = 3"
   ]
  },
  {
   "cell_type": "code",
   "execution_count": 24,
   "metadata": {
    "collapsed": false
   },
   "outputs": [],
   "source": [
    "def bad_nan_gen(image_gen, bad_list):\n",
    "    \"\"\"\n",
    "    This function will convert the bad image array in the images into\n",
    "    NAN(Not-A-Number) array\n",
    "\n",
    "    Parameters\n",
    "    ----------\n",
    "    image_gen : array\n",
    "        image_iterable : iterable of 2D arrays\n",
    "     : list\n",
    "        bad images list\n",
    "\n",
    "    Yields\n",
    "    ------\n",
    "    img : array\n",
    "        if image is bad it will convert to np.nan array otherwise no\n",
    "        change to the array\n",
    "\n",
    "    \"\"\"\n",
    "    for n, im in enumerate(image_gen):\n",
    "        if n in bad_list:\n",
    "            yield np.nan*np.ones_like(im)\n",
    "        else:\n",
    "            yield im"
   ]
  },
  {
   "cell_type": "code",
   "execution_count": 25,
   "metadata": {
    "collapsed": true
   },
   "outputs": [],
   "source": [
    "bad_list = [1, 4, 6]"
   ]
  },
  {
   "cell_type": "code",
   "execution_count": 26,
   "metadata": {
    "collapsed": true
   },
   "outputs": [],
   "source": [
    "img = mask_gen(img_stack, bad_list)"
   ]
  },
  {
   "cell_type": "code",
   "execution_count": 27,
   "metadata": {
    "collapsed": false
   },
   "outputs": [
    {
     "name": "stdout",
     "output_type": "stream",
     "text": [
      "(10, 10)\n",
      "(10, 10)\n",
      "(10, 10)\n",
      "(10, 10)\n",
      "(10, 10)\n",
      "(10, 10)\n",
      "(10, 10)\n",
      "(10, 10)\n",
      "(10, 10)\n",
      "(10, 10)\n"
     ]
    }
   ],
   "source": [
    "y = []\n",
    "for result in img:\n",
    "    y.append(result)"
   ]
  },
  {
   "cell_type": "code",
   "execution_count": 34,
   "metadata": {
    "collapsed": false
   },
   "outputs": [
    {
     "data": {
      "text/plain": [
       "array([[[  1.,   2.,   1.,   1.,   1.,   2.,   2.,   1.,   2.,   1.],\n",
       "        [  2.,   1.,   1.,   2.,   2.,   1.,   1.,   1.,   2.,   1.],\n",
       "        [  2.,   2.,   1.,   2.,   2.,   2.,   2.,   2.,   2.,   1.],\n",
       "        [  2.,   2.,   1.,   1.,   1.,   1.,   1.,   1.,   2.,   2.],\n",
       "        [  1.,   1.,   1.,   2.,   1.,   1.,   2.,   2.,   2.,   2.],\n",
       "        [  1.,   1.,   2.,   1.,   2.,   2.,   2.,   2.,   2.,   2.],\n",
       "        [  1.,   1.,   2.,   2.,   2.,   1.,   2.,   2.,   2.,   2.],\n",
       "        [  1.,   1.,   2.,   1.,   1.,   1.,   1.,   1.,   2.,   2.],\n",
       "        [  2.,   1.,   2.,   2.,   1.,   2.,   2.,   2.,   2.,   2.],\n",
       "        [  2.,   2.,   1.,   1.,   1.,   1.,   1.,   2.,   2.,   2.]],\n",
       "\n",
       "       [[ nan,  nan,  nan,  nan,  nan,  nan,  nan,  nan,  nan,  nan],\n",
       "        [ nan,  nan,  nan,  nan,  nan,  nan,  nan,  nan,  nan,  nan],\n",
       "        [ nan,  nan,  nan,  nan,  nan,  nan,  nan,  nan,  nan,  nan],\n",
       "        [ nan,  nan,  nan,  nan,  nan,  nan,  nan,  nan,  nan,  nan],\n",
       "        [ nan,  nan,  nan,  nan,  nan,  nan,  nan,  nan,  nan,  nan],\n",
       "        [ nan,  nan,  nan,  nan,  nan,  nan,  nan,  nan,  nan,  nan],\n",
       "        [ nan,  nan,  nan,  nan,  nan,  nan,  nan,  nan,  nan,  nan],\n",
       "        [ nan,  nan,  nan,  nan,  nan,  nan,  nan,  nan,  nan,  nan],\n",
       "        [ nan,  nan,  nan,  nan,  nan,  nan,  nan,  nan,  nan,  nan],\n",
       "        [ nan,  nan,  nan,  nan,  nan,  nan,  nan,  nan,  nan,  nan]],\n",
       "\n",
       "       [[  1.,   1.,   2.,   1.,   2.,   2.,   1.,   1.,   2.,   1.],\n",
       "        [  2.,   1.,   2.,   2.,   2.,   2.,   1.,   2.,   2.,   1.],\n",
       "        [  1.,   1.,   2.,   2.,   2.,   1.,   1.,   2.,   2.,   2.],\n",
       "        [  1.,   1.,   2.,   2.,   2.,   1.,   1.,   1.,   1.,   2.],\n",
       "        [  2.,   2.,   2.,   1.,   2.,   1.,   1.,   1.,   1.,   2.],\n",
       "        [  2.,   2.,   2.,   1.,   1.,   2.,   1.,   2.,   1.,   2.],\n",
       "        [  1.,   1.,   1.,   2.,   2.,   2.,   1.,   2.,   2.,   1.],\n",
       "        [  1.,   2.,   1.,   1.,   2.,   2.,   1.,   2.,   2.,   1.],\n",
       "        [  1.,   1.,   1.,   2.,   2.,   2.,   1.,   2.,   2.,   2.],\n",
       "        [  1.,   1.,   1.,   2.,   1.,   1.,   2.,   2.,   2.,   1.]],\n",
       "\n",
       "       [[  2.,   1.,   1.,   1.,   1.,   2.,   2.,   2.,   2.,   1.],\n",
       "        [  1.,   1.,   2.,   1.,   2.,   1.,   1.,   2.,   2.,   1.],\n",
       "        [  1.,   1.,   1.,   1.,   2.,   2.,   2.,   2.,   2.,   2.],\n",
       "        [  2.,   1.,   1.,   1.,   1.,   1.,   2.,   1.,   2.,   2.],\n",
       "        [  1.,   1.,   1.,   1.,   2.,   1.,   1.,   2.,   1.,   2.],\n",
       "        [  1.,   1.,   1.,   1.,   1.,   1.,   2.,   2.,   2.,   2.],\n",
       "        [  2.,   1.,   1.,   1.,   2.,   2.,   2.,   2.,   2.,   2.],\n",
       "        [  2.,   2.,   1.,   2.,   1.,   2.,   2.,   1.,   1.,   2.],\n",
       "        [  1.,   2.,   1.,   1.,   2.,   1.,   1.,   1.,   1.,   2.],\n",
       "        [  2.,   2.,   2.,   1.,   1.,   2.,   2.,   1.,   2.,   2.]],\n",
       "\n",
       "       [[ nan,  nan,  nan,  nan,  nan,  nan,  nan,  nan,  nan,  nan],\n",
       "        [ nan,  nan,  nan,  nan,  nan,  nan,  nan,  nan,  nan,  nan],\n",
       "        [ nan,  nan,  nan,  nan,  nan,  nan,  nan,  nan,  nan,  nan],\n",
       "        [ nan,  nan,  nan,  nan,  nan,  nan,  nan,  nan,  nan,  nan],\n",
       "        [ nan,  nan,  nan,  nan,  nan,  nan,  nan,  nan,  nan,  nan],\n",
       "        [ nan,  nan,  nan,  nan,  nan,  nan,  nan,  nan,  nan,  nan],\n",
       "        [ nan,  nan,  nan,  nan,  nan,  nan,  nan,  nan,  nan,  nan],\n",
       "        [ nan,  nan,  nan,  nan,  nan,  nan,  nan,  nan,  nan,  nan],\n",
       "        [ nan,  nan,  nan,  nan,  nan,  nan,  nan,  nan,  nan,  nan],\n",
       "        [ nan,  nan,  nan,  nan,  nan,  nan,  nan,  nan,  nan,  nan]],\n",
       "\n",
       "       [[  2.,   1.,   1.,   1.,   1.,   1.,   2.,   2.,   1.,   2.],\n",
       "        [  2.,   2.,   2.,   1.,   1.,   1.,   2.,   2.,   2.,   2.],\n",
       "        [  1.,   1.,   2.,   1.,   2.,   2.,   2.,   1.,   1.,   2.],\n",
       "        [  2.,   1.,   1.,   2.,   2.,   1.,   1.,   2.,   1.,   1.],\n",
       "        [  1.,   1.,   2.,   2.,   2.,   2.,   1.,   1.,   2.,   1.],\n",
       "        [  2.,   1.,   1.,   2.,   1.,   2.,   2.,   2.,   2.,   1.],\n",
       "        [  1.,   1.,   2.,   1.,   1.,   2.,   2.,   1.,   2.,   2.],\n",
       "        [  1.,   2.,   2.,   1.,   2.,   1.,   2.,   2.,   2.,   2.],\n",
       "        [  1.,   2.,   1.,   2.,   2.,   2.,   1.,   2.,   2.,   2.],\n",
       "        [  1.,   2.,   2.,   2.,   2.,   2.,   2.,   1.,   2.,   1.]],\n",
       "\n",
       "       [[ nan,  nan,  nan,  nan,  nan,  nan,  nan,  nan,  nan,  nan],\n",
       "        [ nan,  nan,  nan,  nan,  nan,  nan,  nan,  nan,  nan,  nan],\n",
       "        [ nan,  nan,  nan,  nan,  nan,  nan,  nan,  nan,  nan,  nan],\n",
       "        [ nan,  nan,  nan,  nan,  nan,  nan,  nan,  nan,  nan,  nan],\n",
       "        [ nan,  nan,  nan,  nan,  nan,  nan,  nan,  nan,  nan,  nan],\n",
       "        [ nan,  nan,  nan,  nan,  nan,  nan,  nan,  nan,  nan,  nan],\n",
       "        [ nan,  nan,  nan,  nan,  nan,  nan,  nan,  nan,  nan,  nan],\n",
       "        [ nan,  nan,  nan,  nan,  nan,  nan,  nan,  nan,  nan,  nan],\n",
       "        [ nan,  nan,  nan,  nan,  nan,  nan,  nan,  nan,  nan,  nan],\n",
       "        [ nan,  nan,  nan,  nan,  nan,  nan,  nan,  nan,  nan,  nan]],\n",
       "\n",
       "       [[  1.,   1.,   2.,   2.,   2.,   2.,   1.,   2.,   1.,   2.],\n",
       "        [  1.,   1.,   2.,   1.,   2.,   1.,   2.,   1.,   2.,   2.],\n",
       "        [  1.,   1.,   2.,   1.,   2.,   2.,   1.,   2.,   2.,   2.],\n",
       "        [  1.,   2.,   2.,   2.,   2.,   2.,   1.,   2.,   1.,   2.],\n",
       "        [  2.,   1.,   2.,   2.,   2.,   2.,   2.,   1.,   1.,   1.],\n",
       "        [  1.,   2.,   1.,   1.,   1.,   2.,   2.,   2.,   1.,   2.],\n",
       "        [  2.,   1.,   2.,   1.,   1.,   2.,   2.,   2.,   2.,   1.],\n",
       "        [  2.,   1.,   1.,   2.,   1.,   1.,   1.,   1.,   2.,   1.],\n",
       "        [  1.,   1.,   2.,   1.,   1.,   1.,   1.,   1.,   1.,   2.],\n",
       "        [  2.,   1.,   2.,   2.,   1.,   1.,   1.,   2.,   2.,   1.]],\n",
       "\n",
       "       [[  1.,   1.,   2.,   1.,   1.,   2.,   2.,   1.,   1.,   1.],\n",
       "        [  2.,   2.,   1.,   2.,   2.,   1.,   2.,   2.,   2.,   1.],\n",
       "        [  1.,   1.,   2.,   1.,   2.,   2.,   2.,   2.,   1.,   1.],\n",
       "        [  2.,   1.,   1.,   2.,   1.,   1.,   1.,   2.,   1.,   1.],\n",
       "        [  1.,   1.,   2.,   1.,   2.,   1.,   1.,   2.,   1.,   1.],\n",
       "        [  1.,   1.,   2.,   2.,   2.,   1.,   1.,   1.,   1.,   1.],\n",
       "        [  1.,   2.,   1.,   2.,   2.,   2.,   1.,   1.,   1.,   2.],\n",
       "        [  1.,   2.,   1.,   2.,   2.,   2.,   2.,   1.,   2.,   1.],\n",
       "        [  1.,   2.,   1.,   2.,   2.,   1.,   1.,   1.,   2.,   2.],\n",
       "        [  2.,   2.,   2.,   1.,   2.,   2.,   1.,   2.,   2.,   1.]],\n",
       "\n",
       "       [[  2.,   2.,   2.,   1.,   1.,   2.,   1.,   1.,   1.,   2.],\n",
       "        [  1.,   2.,   2.,   2.,   1.,   2.,   1.,   1.,   1.,   1.],\n",
       "        [  1.,   1.,   1.,   2.,   2.,   2.,   2.,   2.,   2.,   1.],\n",
       "        [  1.,   1.,   2.,   1.,   1.,   1.,   1.,   1.,   2.,   1.],\n",
       "        [  2.,   2.,   2.,   1.,   1.,   1.,   2.,   2.,   2.,   1.],\n",
       "        [  1.,   2.,   2.,   1.,   2.,   2.,   1.,   2.,   1.,   2.],\n",
       "        [  1.,   2.,   1.,   2.,   1.,   2.,   2.,   1.,   1.,   1.],\n",
       "        [  2.,   2.,   1.,   1.,   1.,   1.,   1.,   2.,   2.,   1.],\n",
       "        [  1.,   1.,   1.,   2.,   2.,   2.,   2.,   1.,   2.,   2.],\n",
       "        [  1.,   2.,   1.,   2.,   2.,   2.,   1.,   1.,   1.,   1.]]])"
      ]
     },
     "execution_count": 34,
     "metadata": {},
     "output_type": "execute_result"
    }
   ],
   "source": [
    "y = np.asarray(y)\n",
    "y"
   ]
  },
  {
   "cell_type": "code",
   "execution_count": 42,
   "metadata": {
    "collapsed": false
   },
   "outputs": [
    {
     "data": {
      "text/plain": [
       "array([ 1.,  2.,  1.,  1.,  1.,  2.,  2.,  1.,  2.,  1.,  2.,  1.,  1.,\n",
       "        2.,  2.,  1.,  1.,  1.,  2.,  1.,  2.,  2.,  1.,  2.,  2.,  2.,\n",
       "        2.,  2.,  2.,  1.,  2.,  2.,  1.,  1.,  1.,  1.,  1.,  1.,  2.,\n",
       "        2.,  1.,  1.,  1.,  2.,  1.,  1.,  2.,  2.,  2.,  2.,  1.,  1.,\n",
       "        2.,  1.,  2.,  2.,  2.,  2.,  2.,  2.,  1.,  1.,  2.,  2.,  2.,\n",
       "        1.,  2.,  2.,  2.,  2.,  1.,  1.,  2.,  1.,  1.,  1.,  1.,  1.,\n",
       "        2.,  2.,  2.,  1.,  2.,  2.,  1.,  2.,  2.,  2.,  2.,  2.,  2.,\n",
       "        2.,  1.,  1.,  1.,  1.,  1.,  2.,  2.,  2.,  1.,  1.,  2.,  1.,\n",
       "        2.,  2.,  1.,  1.,  2.,  1.,  2.,  1.,  2.,  2.,  2.,  2.,  1.,\n",
       "        2.,  2.,  1.,  1.,  1.,  2.,  2.,  2.,  1.,  1.,  2.,  2.,  2.,\n",
       "        1.,  1.,  2.,  2.,  2.,  1.,  1.,  1.,  1.,  2.,  2.,  2.,  2.,\n",
       "        1.,  2.,  1.,  1.,  1.,  1.,  2.,  2.,  2.,  2.,  1.,  1.,  2.,\n",
       "        1.,  2.,  1.,  2.,  1.,  1.,  1.,  2.,  2.,  2.,  1.,  2.,  2.,\n",
       "        1.,  1.,  2.,  1.,  1.,  2.,  2.,  1.,  2.,  2.,  1.,  1.,  1.,\n",
       "        1.,  2.,  2.,  2.,  1.,  2.,  2.,  2.,  1.,  1.,  1.,  2.,  1.,\n",
       "        1.,  2.,  2.,  2.,  1.,  2.,  1.,  1.,  1.,  1.,  2.,  2.,  2.,\n",
       "        2.,  1.,  1.,  1.,  2.,  1.,  2.,  1.,  1.,  2.,  2.,  1.,  1.,\n",
       "        1.,  1.,  1.,  2.,  2.,  2.,  2.,  2.,  2.,  2.,  1.,  1.,  1.,\n",
       "        1.,  1.,  2.,  1.,  2.,  2.,  1.,  1.,  1.,  1.,  2.,  1.,  1.,\n",
       "        2.,  1.,  2.,  1.,  1.,  1.,  1.,  1.,  1.,  2.,  2.,  2.,  2.,\n",
       "        2.,  1.,  1.,  1.,  2.,  2.,  2.,  2.,  2.,  2.,  2.,  2.,  1.,\n",
       "        2.,  1.,  2.,  2.,  1.,  1.,  2.,  1.,  2.,  1.,  1.,  2.,  1.,\n",
       "        1.,  1.,  1.,  2.,  2.,  2.,  2.,  1.,  1.,  2.,  2.,  1.,  2.,\n",
       "        2.,  2.,  1.,  1.,  1.,  1.,  1.,  2.,  2.,  1.,  2.,  2.,  2.,\n",
       "        2.,  1.,  1.,  1.,  2.,  2.,  2.,  2.,  1.,  1.,  2.,  1.,  2.,\n",
       "        2.,  2.,  1.,  1.,  2.,  2.,  1.,  1.,  2.,  2.,  1.,  1.,  2.,\n",
       "        1.,  1.,  1.,  1.,  2.,  2.,  2.,  2.,  1.,  1.,  2.,  1.,  2.,\n",
       "        1.,  1.,  2.,  1.,  2.,  2.,  2.,  2.,  1.,  1.,  1.,  2.,  1.,\n",
       "        1.,  2.,  2.,  1.,  2.,  2.,  1.,  2.,  2.,  1.,  2.,  1.,  2.,\n",
       "        2.,  2.,  2.,  1.,  2.,  1.,  2.,  2.,  2.,  1.,  2.,  2.,  2.,\n",
       "        1.,  2.,  2.,  2.,  2.,  2.,  2.,  1.,  2.,  1.,  1.,  1.,  2.,\n",
       "        2.,  2.,  2.,  1.,  2.,  1.,  2.,  1.,  1.,  2.,  1.,  2.,  1.,\n",
       "        2.,  1.,  2.,  2.,  1.,  1.,  2.,  1.,  2.,  2.,  1.,  2.,  2.,\n",
       "        2.,  1.,  2.,  2.,  2.,  2.,  2.,  1.,  2.,  1.,  2.,  2.,  1.,\n",
       "        2.,  2.,  2.,  2.,  2.,  1.,  1.,  1.,  1.,  2.,  1.,  1.,  1.,\n",
       "        2.,  2.,  2.,  1.,  2.,  2.,  1.,  2.,  1.,  1.,  2.,  2.,  2.,\n",
       "        2.,  1.,  2.,  1.,  1.,  2.,  1.,  1.,  1.,  1.,  2.,  1.,  1.,\n",
       "        1.,  2.,  1.,  1.,  1.,  1.,  1.,  1.,  2.,  2.,  1.,  2.,  2.,\n",
       "        1.,  1.,  1.,  2.,  2.,  1.,  1.,  1.,  2.,  1.,  1.,  2.,  2.,\n",
       "        1.,  1.,  1.,  2.,  2.,  1.,  2.,  2.,  1.,  2.,  2.,  2.,  1.,\n",
       "        1.,  1.,  2.,  1.,  2.,  2.,  2.,  2.,  1.,  1.,  2.,  1.,  1.,\n",
       "        2.,  1.,  1.,  1.,  2.,  1.,  1.,  1.,  1.,  2.,  1.,  2.,  1.,\n",
       "        1.,  2.,  1.,  1.,  1.,  1.,  2.,  2.,  2.,  1.,  1.,  1.,  1.,\n",
       "        1.,  1.,  2.,  1.,  2.,  2.,  2.,  1.,  1.,  1.,  2.,  1.,  2.,\n",
       "        1.,  2.,  2.,  2.,  2.,  1.,  2.,  1.,  1.,  2.,  1.,  2.,  2.,\n",
       "        1.,  1.,  1.,  2.,  2.,  2.,  2.,  2.,  1.,  2.,  2.,  1.,  2.,\n",
       "        2.,  1.,  2.,  2.,  2.,  1.,  1.,  2.,  1.,  1.,  1.,  2.,  1.,\n",
       "        2.,  2.,  2.,  1.,  2.,  1.,  1.,  1.,  1.,  1.,  1.,  1.,  2.,\n",
       "        2.,  2.,  2.,  2.,  2.,  1.,  1.,  1.,  2.,  1.,  1.,  1.,  1.,\n",
       "        1.,  2.,  1.,  2.,  2.,  2.,  1.,  1.,  1.,  2.,  2.,  2.,  1.,\n",
       "        1.,  2.,  2.,  1.,  2.,  2.,  1.,  2.,  1.,  2.,  1.,  2.,  1.,\n",
       "        2.,  1.,  2.,  2.,  1.,  1.,  1.,  2.,  2.,  1.,  1.,  1.,  1.,\n",
       "        1.,  2.,  2.,  1.,  1.,  1.,  1.,  2.,  2.,  2.,  2.,  1.,  2.,\n",
       "        2.,  1.,  2.,  1.,  2.,  2.,  2.,  1.,  1.,  1.,  1.])"
      ]
     },
     "execution_count": 42,
     "metadata": {},
     "output_type": "execute_result"
    }
   ],
   "source": [
    "x = y[np.logical_not(np.isnan(y))]\n",
    "x"
   ]
  },
  {
   "cell_type": "code",
   "execution_count": 66,
   "metadata": {
    "collapsed": false
   },
   "outputs": [
    {
     "name": "stdout",
     "output_type": "stream",
     "text": [
      " True\n",
      "True\n",
      "True\n",
      "True\n",
      "True\n",
      "True\n",
      "True\n",
      "True\n",
      "True\n",
      "True\n"
     ]
    }
   ],
   "source": [
    "for i in y:\n",
    "    if np.isnan(i.any())==False:\n",
    "        print i.any()\n",
    "    #if (~np.isnan(i.any())==True):\n",
    "    #    print i"
   ]
  },
  {
   "cell_type": "code",
   "execution_count": 55,
   "metadata": {
    "collapsed": false
   },
   "outputs": [
    {
     "data": {
      "text/plain": [
       "(array([[ True,  True,  True,  True,  True,  True,  True,  True,  True,\n",
       "          True],\n",
       "        [ True,  True,  True,  True,  True,  True,  True,  True,  True,\n",
       "          True],\n",
       "        [ True,  True,  True,  True,  True,  True,  True,  True,  True,\n",
       "          True],\n",
       "        [ True,  True,  True,  True,  True,  True,  True,  True,  True,\n",
       "          True],\n",
       "        [ True,  True,  True,  True,  True,  True,  True,  True,  True,\n",
       "          True],\n",
       "        [ True,  True,  True,  True,  True,  True,  True,  True,  True,\n",
       "          True],\n",
       "        [ True,  True,  True,  True,  True,  True,  True,  True,  True,\n",
       "          True],\n",
       "        [ True,  True,  True,  True,  True,  True,  True,  True,  True,\n",
       "          True],\n",
       "        [ True,  True,  True,  True,  True,  True,  True,  True,  True,\n",
       "          True],\n",
       "        [ True,  True,  True,  True,  True,  True,  True,  True,  True,\n",
       "          True]], dtype=bool), True)"
      ]
     },
     "execution_count": 55,
     "metadata": {},
     "output_type": "execute_result"
    }
   ],
   "source": [
    "for i in y:\n",
    "    if "
   ]
  },
  {
   "cell_type": "code",
   "execution_count": 29,
   "metadata": {
    "collapsed": true
   },
   "outputs": [],
   "source": [
    "img1 = mask_gen((img_stack[0], ), [0])"
   ]
  },
  {
   "cell_type": "code",
   "execution_count": 31,
   "metadata": {
    "collapsed": false
   },
   "outputs": [
    {
     "name": "stdout",
     "output_type": "stream",
     "text": [
      "(10, 10)\n",
      "[[ nan  nan  nan  nan  nan  nan  nan  nan  nan  nan]\n",
      " [ nan  nan  nan  nan  nan  nan  nan  nan  nan  nan]\n",
      " [ nan  nan  nan  nan  nan  nan  nan  nan  nan  nan]\n",
      " [ nan  nan  nan  nan  nan  nan  nan  nan  nan  nan]\n",
      " [ nan  nan  nan  nan  nan  nan  nan  nan  nan  nan]\n",
      " [ nan  nan  nan  nan  nan  nan  nan  nan  nan  nan]\n",
      " [ nan  nan  nan  nan  nan  nan  nan  nan  nan  nan]\n",
      " [ nan  nan  nan  nan  nan  nan  nan  nan  nan  nan]\n",
      " [ nan  nan  nan  nan  nan  nan  nan  nan  nan  nan]\n",
      " [ nan  nan  nan  nan  nan  nan  nan  nan  nan  nan]]\n"
     ]
    }
   ],
   "source": [
    "for im in img1:\n",
    "    print im"
   ]
  },
  {
   "cell_type": "code",
   "execution_count": 7,
   "metadata": {
    "collapsed": true
   },
   "outputs": [],
   "source": [
    "y1 = np.ones((2, 2)) + np.nan*np.ones((2,2))\n",
    "y2 = np.ones((2,2))"
   ]
  },
  {
   "cell_type": "code",
   "execution_count": 8,
   "metadata": {
    "collapsed": false
   },
   "outputs": [
    {
     "data": {
      "text/plain": [
       "(array([[ nan,  nan],\n",
       "        [ nan,  nan]]), array([[ 1.,  1.],\n",
       "        [ 1.,  1.]]))"
      ]
     },
     "execution_count": 8,
     "metadata": {},
     "output_type": "execute_result"
    }
   ],
   "source": [
    "y1, y2"
   ]
  },
  {
   "cell_type": "code",
   "execution_count": 9,
   "metadata": {
    "collapsed": false
   },
   "outputs": [
    {
     "data": {
      "text/plain": [
       "array([[ nan,  nan],\n",
       "       [ nan,  nan]])"
      ]
     },
     "execution_count": 9,
     "metadata": {},
     "output_type": "execute_result"
    }
   ],
   "source": [
    "y1*y2"
   ]
  },
  {
   "cell_type": "code",
   "execution_count": 10,
   "metadata": {
    "collapsed": true
   },
   "outputs": [],
   "source": [
    "y0 = 10*np.ones((2, 2))"
   ]
  },
  {
   "cell_type": "code",
   "execution_count": 11,
   "metadata": {
    "collapsed": false
   },
   "outputs": [
    {
     "data": {
      "text/plain": [
       "array([[ nan,  nan],\n",
       "       [ nan,  nan]])"
      ]
     },
     "execution_count": 11,
     "metadata": {},
     "output_type": "execute_result"
    }
   ],
   "source": [
    "y0 + y1"
   ]
  },
  {
   "cell_type": "code",
   "execution_count": 12,
   "metadata": {
    "collapsed": false
   },
   "outputs": [
    {
     "data": {
      "text/plain": [
       "array([[ nan,  nan],\n",
       "       [ nan,  nan]])"
      ]
     },
     "execution_count": 12,
     "metadata": {},
     "output_type": "execute_result"
    }
   ],
   "source": [
    "y0*y1"
   ]
  },
  {
   "cell_type": "code",
   "execution_count": 13,
   "metadata": {
    "collapsed": false
   },
   "outputs": [
    {
     "data": {
      "text/plain": [
       "array([[[False, False],\n",
       "        [False, False]],\n",
       "\n",
       "       [[ True,  True],\n",
       "        [ True,  True]],\n",
       "\n",
       "       [[ True,  True],\n",
       "        [ True,  True]]], dtype=bool)"
      ]
     },
     "execution_count": 13,
     "metadata": {},
     "output_type": "execute_result"
    }
   ],
   "source": [
    "~np.isnan((y1,y2, y0))"
   ]
  },
  {
   "cell_type": "code",
   "execution_count": 17,
   "metadata": {
    "collapsed": false
   },
   "outputs": [
    {
     "data": {
      "text/plain": [
       "[(1, 4), (2, 5), (3, 6)]"
      ]
     },
     "execution_count": 17,
     "metadata": {},
     "output_type": "execute_result"
    }
   ],
   "source": [
    "a = [1, 2, 3]\n",
    "b = [4, 5, 6, 7]\n",
    "\n",
    "zip(a, b)"
   ]
  },
  {
   "cell_type": "code",
   "execution_count": 67,
   "metadata": {
    "collapsed": false
   },
   "outputs": [
    {
     "data": {
      "text/plain": [
       "array([[1, 2, 1, 1, 1, 2, 2, 1, 2, 1],\n",
       "       [2, 1, 1, 2, 2, 1, 1, 1, 2, 1],\n",
       "       [2, 2, 1, 2, 2, 2, 2, 2, 2, 1],\n",
       "       [2, 2, 1, 1, 1, 1, 1, 1, 2, 2],\n",
       "       [1, 1, 1, 2, 1, 1, 2, 2, 2, 2],\n",
       "       [1, 1, 2, 1, 2, 2, 2, 2, 2, 2],\n",
       "       [1, 1, 2, 2, 2, 1, 2, 2, 2, 2],\n",
       "       [1, 1, 2, 1, 1, 1, 1, 1, 2, 2],\n",
       "       [2, 1, 2, 2, 1, 2, 2, 2, 2, 2],\n",
       "       [2, 2, 1, 1, 1, 1, 1, 2, 2, 2]])"
      ]
     },
     "execution_count": 67,
     "metadata": {},
     "output_type": "execute_result"
    }
   ],
   "source": [
    "img_stack[0]"
   ]
  },
  {
   "cell_type": "code",
   "execution_count": 85,
   "metadata": {
    "collapsed": false
   },
   "outputs": [],
   "source": [
    "img_stack[0][0, 1] =100\n",
    "img_stack[0][9, 1] =100\n",
    "img_stack[6][8, 8] =100"
   ]
  },
  {
   "cell_type": "code",
   "execution_count": 86,
   "metadata": {
    "collapsed": false
   },
   "outputs": [
    {
     "data": {
      "text/plain": [
       "array([[  1, 100,   1,   1,   1,   2,   2,   1,   2,   1],\n",
       "       [  2,   1,   1,   2,   2,   1,   1,   1,   2,   1],\n",
       "       [  2,   2,   1,   2,   2,   2,   2,   2,   2,   1],\n",
       "       [  2,   2,   1,   1,   1,   1,   1,   1,   2,   2],\n",
       "       [  1,   1,   1,   2,   1,   1,   2,   2,   2,   2],\n",
       "       [  1,   1,   2,   1,   2,   2,   2,   2,   2,   2],\n",
       "       [  1,   1,   2,   2,   2,   1,   2,   2,   2,   2],\n",
       "       [  1,   1,   2,   1,   1,   1,   1,   1,   2,   2],\n",
       "       [  2,   1,   2,   2,   1,   2,   2,   2,   2,   2],\n",
       "       [  2, 100,   1,   1,   1,   1,   1,   2,   2,   2]])"
      ]
     },
     "execution_count": 86,
     "metadata": {},
     "output_type": "execute_result"
    }
   ],
   "source": [
    "img_stack[0]"
   ]
  },
  {
   "cell_type": "markdown",
   "metadata": {},
   "source": [
    "## Getting the thershold generator thing works"
   ]
  },
  {
   "cell_type": "code",
   "execution_count": 87,
   "metadata": {
    "collapsed": true
   },
   "outputs": [],
   "source": [
    "def threshold_mask(images, threshold, ther_mask=None):\n",
    "    \"\"\"\n",
    "    This generator will create a threshold mask for images\n",
    "\n",
    "    Parameters\n",
    "    ----------\n",
    "    images : array\n",
    "        image_iterable : iterable of 2D arrays\n",
    "    threshold: float\n",
    "        threshold value to remove the hot spots in the image\n",
    "\n",
    "    Yields\n",
    "    -------\n",
    "    thre_mask : array\n",
    "        image mask to remove the hot spots\n",
    "    \"\"\"\n",
    "    if ther_mask is None:\n",
    "        thre_mask = np.ones_like(images[0])\n",
    "    for im in images:\n",
    "        bad_pixels = np.where(im >= threshold)\n",
    "        if len(bad_pixels[0])!=0:\n",
    "            thre_mask[bad_pixels] = 0\n",
    "        yield thre_mask"
   ]
  },
  {
   "cell_type": "code",
   "execution_count": 88,
   "metadata": {
    "collapsed": false
   },
   "outputs": [
    {
     "data": {
      "text/plain": [
       "array([[[  1, 100,   1,   1,   1,   2,   2,   1,   2,   1],\n",
       "        [  2,   1,   1,   2,   2,   1,   1,   1,   2,   1],\n",
       "        [  2,   2,   1,   2,   2,   2,   2,   2,   2,   1],\n",
       "        [  2,   2,   1,   1,   1,   1,   1,   1,   2,   2],\n",
       "        [  1,   1,   1,   2,   1,   1,   2,   2,   2,   2],\n",
       "        [  1,   1,   2,   1,   2,   2,   2,   2,   2,   2],\n",
       "        [  1,   1,   2,   2,   2,   1,   2,   2,   2,   2],\n",
       "        [  1,   1,   2,   1,   1,   1,   1,   1,   2,   2],\n",
       "        [  2,   1,   2,   2,   1,   2,   2,   2,   2,   2],\n",
       "        [  2, 100,   1,   1,   1,   1,   1,   2,   2,   2]],\n",
       "\n",
       "       [[  1,   1,   1,   1,   2,   2,   2,   1,   1,   1],\n",
       "        [  1,   2,   1,   2,   1,   1,   2,   1,   1,   2],\n",
       "        [  1,   1,   1,   1,   2,   2,   2,   1,   2,   2],\n",
       "        [  2,   1,   2,   1,   1,   2,   2,   1,   1,   2],\n",
       "        [  1,   2,   2,   2,   2,   1,   1,   2,   2,   1],\n",
       "        [  1,   2,   2,   2,   2,   1,   2,   2,   1,   1],\n",
       "        [  1,   1,   1,   1,   2,   2,   1,   1,   2,   2],\n",
       "        [  2,   2,   2,   2,   2,   1,   2,   2,   1,   2],\n",
       "        [  1,   2,   1,   1,   2,   1,   1,   1,   1,   1],\n",
       "        [  2,   2,   1,   2,   1,   2,   1,   2,   1,   1]],\n",
       "\n",
       "       [[  1,   1,   2,   1,   2,   2,   1,   1,   2,   1],\n",
       "        [  2,   1,   2,   2,   2,   2,   1,   2,   2,   1],\n",
       "        [  1,   1,   2,   2,   2,   1,   1,   2,   2,   2],\n",
       "        [  1,   1,   2,   2,   2,   1,   1,   1,   1,   2],\n",
       "        [  2,   2,   2,   1,   2,   1,   1,   1,   1,   2],\n",
       "        [  2,   2,   2,   1,   1,   2,   1,   2,   1,   2],\n",
       "        [  1,   1,   1,   2,   2,   2,   1,   2,   2,   1],\n",
       "        [  1,   2,   1,   1,   2,   2,   1,   2,   2,   1],\n",
       "        [  1,   1,   1,   2,   2,   2,   1,   2,   2,   2],\n",
       "        [  1,   1,   1,   2,   1,   1,   2,   2,   2,   1]],\n",
       "\n",
       "       [[  2,   1,   1,   1,   1,   2,   2,   2,   2,   1],\n",
       "        [  1,   1,   2,   1,   2,   1,   1,   2,   2,   1],\n",
       "        [  1,   1,   1,   1,   2,   2,   2,   2,   2,   2],\n",
       "        [  2,   1,   1,   1,   1,   1,   2,   1,   2,   2],\n",
       "        [  1,   1,   1,   1,   2,   1,   1,   2,   1,   2],\n",
       "        [  1,   1,   1,   1,   1,   1,   2,   2,   2,   2],\n",
       "        [  2,   1,   1,   1,   2,   2,   2,   2,   2,   2],\n",
       "        [  2,   2,   1,   2,   1,   2,   2,   1,   1,   2],\n",
       "        [  1,   2,   1,   1,   2,   1,   1,   1,   1,   2],\n",
       "        [  2,   2,   2,   1,   1,   2,   2,   1,   2,   2]],\n",
       "\n",
       "       [[  2,   1,   2,   1,   1,   1,   2,   2,   1,   2],\n",
       "        [  2,   2,   2,   2,   2,   2,   1,   1,   2,   2],\n",
       "        [  2,   2,   1,   2,   2,   1,   2,   1,   2,   1],\n",
       "        [  2,   2,   1,   2,   2,   2,   2,   2,   1,   2],\n",
       "        [  1,   1,   2,   2,   2,   1,   2,   1,   2,   1],\n",
       "        [  2,   2,   1,   2,   2,   2,   1,   1,   1,   1],\n",
       "        [  1,   2,   2,   2,   2,   1,   1,   2,   1,   2],\n",
       "        [  1,   2,   1,   2,   2,   1,   1,   1,   2,   2],\n",
       "        [  1,   2,   2,   2,   1,   1,   1,   2,   1,   1],\n",
       "        [  1,   2,   2,   1,   1,   1,   1,   1,   1,   1]],\n",
       "\n",
       "       [[  2,   1,   1,   1,   1,   1,   2,   2,   1,   2],\n",
       "        [  2,   2,   2,   1,   1,   1,   2,   2,   2,   2],\n",
       "        [  1,   1,   2,   1,   2,   2,   2,   1,   1,   2],\n",
       "        [  2,   1,   1,   2,   2,   1,   1,   2,   1,   1],\n",
       "        [  1,   1,   2,   2,   2,   2,   1,   1,   2,   1],\n",
       "        [  2,   1,   1,   2,   1,   2,   2,   2,   2,   1],\n",
       "        [  1,   1,   2,   1,   1,   2,   2,   1,   2,   2],\n",
       "        [  1,   2,   2,   1,   2,   1,   2,   2,   2,   2],\n",
       "        [  1,   2,   1,   2,   2,   2,   1,   2,   2,   2],\n",
       "        [  1,   2,   2,   2,   2,   2,   2,   1,   2,   1]],\n",
       "\n",
       "       [[  1,   1,   1,   1,   1,   2,   2,   2,   2,   1],\n",
       "        [  1,   1,   1,   2,   2,   2,   2,   2,   1,   1],\n",
       "        [  2,   2,   2,   1,   2,   1,   1,   1,   2,   2],\n",
       "        [  2,   2,   1,   2,   1,   1,   1,   2,   2,   1],\n",
       "        [  1,   2,   2,   2,   1,   2,   1,   1,   2,   1],\n",
       "        [  2,   1,   2,   2,   1,   1,   1,   2,   2,   2],\n",
       "        [  2,   2,   2,   1,   2,   2,   1,   1,   1,   1],\n",
       "        [  1,   1,   2,   1,   1,   2,   1,   1,   2,   2],\n",
       "        [  1,   1,   1,   1,   1,   1,   1,   1, 100,   2],\n",
       "        [  2,   2,   2,   2,   2,   1,   1,   2,   1,   2]],\n",
       "\n",
       "       [[  1,   1,   2,   2,   2,   2,   1,   2,   1,   2],\n",
       "        [  1,   1,   2,   1,   2,   1,   2,   1,   2,   2],\n",
       "        [  1,   1,   2,   1,   2,   2,   1,   2,   2,   2],\n",
       "        [  1,   2,   2,   2,   2,   2,   1,   2,   1,   2],\n",
       "        [  2,   1,   2,   2,   2,   2,   2,   1,   1,   1],\n",
       "        [  1,   2,   1,   1,   1,   2,   2,   2,   1,   2],\n",
       "        [  2,   1,   2,   1,   1,   2,   2,   2,   2,   1],\n",
       "        [  2,   1,   1,   2,   1,   1,   1,   1,   2,   1],\n",
       "        [  1,   1,   2,   1,   1,   1,   1,   1,   1,   2],\n",
       "        [  2,   1,   2,   2,   1,   1,   1,   2,   2,   1]],\n",
       "\n",
       "       [[  1,   1,   2,   1,   1,   2,   2,   1,   1,   1],\n",
       "        [  2,   2,   1,   2,   2,   1,   2,   2,   2,   1],\n",
       "        [  1,   1,   2,   1,   2,   2,   2,   2,   1,   1],\n",
       "        [  2,   1,   1,   2,   1,   1,   1,   2,   1,   1],\n",
       "        [  1,   1,   2,   1,   2,   1,   1,   2,   1,   1],\n",
       "        [  1,   1,   2,   2,   2,   1,   1,   1,   1,   1],\n",
       "        [  1,   2,   1,   2,   2,   2,   1,   1,   1,   2],\n",
       "        [  1,   2,   1,   2,   2,   2,   2,   1,   2,   1],\n",
       "        [  1,   2,   1,   2,   2,   1,   1,   1,   2,   2],\n",
       "        [  2,   2,   2,   1,   2,   2,   1,   2,   2,   1]],\n",
       "\n",
       "       [[  2,   2,   2,   1,   1,   2,   1,   1,   1,   2],\n",
       "        [  1,   2,   2,   2,   1,   2,   1,   1,   1,   1],\n",
       "        [  1,   1,   1,   2,   2,   2,   2,   2,   2,   1],\n",
       "        [  1,   1,   2,   1,   1,   1,   1,   1,   2,   1],\n",
       "        [  2,   2,   2,   1,   1,   1,   2,   2,   2,   1],\n",
       "        [  1,   2,   2,   1,   2,   2,   1,   2,   1,   2],\n",
       "        [  1,   2,   1,   2,   1,   2,   2,   1,   1,   1],\n",
       "        [  2,   2,   1,   1,   1,   1,   1,   2,   2,   1],\n",
       "        [  1,   1,   1,   2,   2,   2,   2,   1,   2,   2],\n",
       "        [  1,   2,   1,   2,   2,   2,   1,   1,   1,   1]]])"
      ]
     },
     "execution_count": 88,
     "metadata": {},
     "output_type": "execute_result"
    }
   ],
   "source": [
    "img_stack"
   ]
  },
  {
   "cell_type": "code",
   "execution_count": 89,
   "metadata": {
    "collapsed": true
   },
   "outputs": [],
   "source": [
    "t = threshold_mask(img_stack, 75)"
   ]
  },
  {
   "cell_type": "code",
   "execution_count": 92,
   "metadata": {
    "collapsed": false
   },
   "outputs": [
    {
     "data": {
      "text/plain": [
       "array([[1, 0, 1, 1, 1, 1, 1, 1, 1, 1],\n",
       "       [1, 1, 1, 1, 1, 1, 1, 1, 1, 1],\n",
       "       [1, 1, 1, 1, 1, 1, 1, 1, 1, 1],\n",
       "       [1, 1, 1, 1, 1, 1, 1, 1, 1, 1],\n",
       "       [1, 1, 1, 1, 1, 1, 1, 1, 1, 1],\n",
       "       [1, 1, 1, 1, 1, 1, 1, 1, 1, 1],\n",
       "       [1, 1, 1, 1, 1, 1, 1, 1, 1, 1],\n",
       "       [1, 1, 1, 1, 1, 1, 1, 1, 1, 1],\n",
       "       [1, 1, 1, 1, 1, 1, 1, 1, 0, 1],\n",
       "       [1, 0, 1, 1, 1, 1, 1, 1, 1, 1]])"
      ]
     },
     "execution_count": 92,
     "metadata": {},
     "output_type": "execute_result"
    }
   ],
   "source": [
    "for u in t:\n",
    "    pass\n",
    "u"
   ]
  },
  {
   "cell_type": "code",
   "execution_count": 93,
   "metadata": {
    "collapsed": true
   },
   "outputs": [],
   "source": [
    "xdim = 10\n",
    "ydim = 10\n",
    "stack_size = 10\n",
    "img_stack = np.random.randint(1, 3, (stack_size, xdim, ydim))\n",
    "\n",
    "img_stack[0][0, 1] = 100\n",
    "img_stack[0][9, 1] = 98\n",
    "img_stack[6][8, 8] = 75\n",
    "img_stack[7][6, 6] = 80\n",
    "\n",
    "th = threshold_mask(img_stack, 75)\n",
    "\n",
    "for final in th:\n",
    "        pass\n",
    "    \n",
    "y = np.ones_like(img_stack[0])\n",
    "y[0, 1] = 0\n",
    "y[9, 1] = 0\n",
    "y[8, 8] = 0\n",
    "y[6, 6] = 0"
   ]
  },
  {
   "cell_type": "code",
   "execution_count": 94,
   "metadata": {
    "collapsed": false
   },
   "outputs": [
    {
     "data": {
      "text/plain": [
       "array([[1, 0, 1, 1, 1, 1, 1, 1, 1, 1],\n",
       "       [1, 1, 1, 1, 1, 1, 1, 1, 1, 1],\n",
       "       [1, 1, 1, 1, 1, 1, 1, 1, 1, 1],\n",
       "       [1, 1, 1, 1, 1, 1, 1, 1, 1, 1],\n",
       "       [1, 1, 1, 1, 1, 1, 1, 1, 1, 1],\n",
       "       [1, 1, 1, 1, 1, 1, 1, 1, 1, 1],\n",
       "       [1, 1, 1, 1, 1, 1, 0, 1, 1, 1],\n",
       "       [1, 1, 1, 1, 1, 1, 1, 1, 1, 1],\n",
       "       [1, 1, 1, 1, 1, 1, 1, 1, 0, 1],\n",
       "       [1, 0, 1, 1, 1, 1, 1, 1, 1, 1]])"
      ]
     },
     "execution_count": 94,
     "metadata": {},
     "output_type": "execute_result"
    }
   ],
   "source": [
    "y"
   ]
  },
  {
   "cell_type": "code",
   "execution_count": 97,
   "metadata": {
    "collapsed": false
   },
   "outputs": [
    {
     "data": {
      "text/plain": [
       "array([[1, 0, 1, 1, 1, 1, 1, 1, 1, 1],\n",
       "       [1, 1, 1, 1, 1, 1, 1, 1, 1, 1],\n",
       "       [1, 1, 1, 1, 1, 1, 1, 1, 1, 1],\n",
       "       [1, 1, 1, 1, 1, 1, 1, 1, 1, 1],\n",
       "       [1, 1, 1, 1, 1, 1, 1, 1, 1, 1],\n",
       "       [1, 1, 1, 1, 1, 1, 1, 1, 1, 1],\n",
       "       [1, 1, 1, 1, 1, 1, 0, 1, 1, 1],\n",
       "       [1, 1, 1, 1, 1, 1, 1, 1, 1, 1],\n",
       "       [1, 1, 1, 1, 1, 1, 1, 1, 0, 1],\n",
       "       [1, 0, 1, 1, 1, 1, 1, 1, 1, 1]])"
      ]
     },
     "execution_count": 97,
     "metadata": {},
     "output_type": "execute_result"
    }
   ],
   "source": [
    "final"
   ]
  },
  {
   "cell_type": "code",
   "execution_count": 96,
   "metadata": {
    "collapsed": false
   },
   "outputs": [
    {
     "data": {
      "text/plain": [
       "False"
      ]
     },
     "execution_count": 96,
     "metadata": {},
     "output_type": "execute_result"
    }
   ],
   "source": [
    "np.all(y==final)"
   ]
  },
  {
   "cell_type": "code",
   "execution_count": 98,
   "metadata": {
    "collapsed": false
   },
   "outputs": [
    {
     "data": {
      "text/plain": [
       "array([[ True,  True,  True,  True,  True,  True,  True,  True,  True,\n",
       "         True],\n",
       "       [ True,  True,  True,  True,  True,  True,  True,  True,  True,\n",
       "         True],\n",
       "       [ True,  True,  True,  True,  True,  True,  True,  True,  True,\n",
       "         True],\n",
       "       [ True,  True,  True,  True,  True,  True,  True,  True,  True,\n",
       "         True],\n",
       "       [ True,  True,  True,  True,  True,  True,  True,  True,  True,\n",
       "         True],\n",
       "       [ True,  True,  True,  True,  True,  True,  True,  True,  True,\n",
       "         True],\n",
       "       [ True,  True,  True,  True,  True,  True,  True,  True,  True,\n",
       "         True],\n",
       "       [ True,  True,  True,  True,  True,  True,  True,  True,  True,\n",
       "         True],\n",
       "       [ True,  True,  True,  True,  True,  True,  True,  True,  True,\n",
       "         True],\n",
       "       [ True,  True,  True,  True,  True,  True,  True,  True,  True,\n",
       "         True]], dtype=bool)"
      ]
     },
     "execution_count": 98,
     "metadata": {},
     "output_type": "execute_result"
    }
   ],
   "source": [
    "final==y"
   ]
  },
  {
   "cell_type": "markdown",
   "metadata": {},
   "source": [
    "## Get the bad image things work"
   ]
  },
  {
   "cell_type": "code",
   "execution_count": 100,
   "metadata": {
    "collapsed": true
   },
   "outputs": [],
   "source": [
    "def bad_to_nan_gen(image_gen, bad_list):\n",
    "    \"\"\"\n",
    "    This generator will convert the bad image array in the images into\n",
    "    NAN(Not-A-Number) array\n",
    "\n",
    "    Parameters\n",
    "    ----------\n",
    "    image_gen : array\n",
    "        image_iterable : iterable of 2D arrays\n",
    "     : list\n",
    "        bad images list\n",
    "\n",
    "    Yields\n",
    "    ------\n",
    "    img : array\n",
    "        if image is bad it will convert to np.nan array otherwise no\n",
    "        change to the array\n",
    "    \"\"\"\n",
    "    for n, im in enumerate(image_gen):\n",
    "        if n in bad_list:\n",
    "            yield np.nan*np.ones_like(im)\n",
    "        else:\n",
    "            yield im\n",
    "xdim = 2\n",
    "ydim = 2\n",
    "stack_size = 6\n",
    "img_stack = np.random.randint(1, 3, (stack_size, xdim, ydim))\n",
    "\n",
    "bad_list = [1, 3]\n",
    "\n",
    "img = bad_to_nan_gen(img_stack, bad_list)\n",
    "\n",
    "y = []\n",
    "for im in img:\n",
    "        y.append(im)"
   ]
  },
  {
   "cell_type": "code",
   "execution_count": 101,
   "metadata": {
    "collapsed": false
   },
   "outputs": [
    {
     "data": {
      "text/plain": [
       "array([[[  2.,   1.],\n",
       "        [  1.,   1.]],\n",
       "\n",
       "       [[ nan,  nan],\n",
       "        [ nan,  nan]],\n",
       "\n",
       "       [[  2.,   1.],\n",
       "        [  1.,   2.]],\n",
       "\n",
       "       [[ nan,  nan],\n",
       "        [ nan,  nan]],\n",
       "\n",
       "       [[  2.,   2.],\n",
       "        [  1.,   1.]],\n",
       "\n",
       "       [[  1.,   2.],\n",
       "        [  1.,   2.]]])"
      ]
     },
     "execution_count": 101,
     "metadata": {},
     "output_type": "execute_result"
    }
   ],
   "source": [
    "np.asarray(y)"
   ]
  },
  {
   "cell_type": "code",
   "execution_count": 102,
   "metadata": {
    "collapsed": true
   },
   "outputs": [],
   "source": [
    "import numpy as np\n",
    "from numpy.testing import assert_array_almost_equal\n",
    "from nose.tools import assert_raises\n"
   ]
  },
  {
   "cell_type": "code",
   "execution_count": 108,
   "metadata": {
    "collapsed": false
   },
   "outputs": [],
   "source": [
    "assert (np.isnan(np.asarray(y)[1]).all()==True)\n",
    "assert (np.isnan(np.asarray(y)[3]).all()==True)\n",
    "assert (np.isnan(np.asarray(y)[4]).all()==False)"
   ]
  },
  {
   "cell_type": "code",
   "execution_count": 111,
   "metadata": {
    "collapsed": false
   },
   "outputs": [
    {
     "ename": "AssertionError",
     "evalue": "",
     "output_type": "error",
     "traceback": [
      "\u001b[0;31m---------------------------------------------------------------------------\u001b[0m",
      "\u001b[0;31mAssertionError\u001b[0m                            Traceback (most recent call last)",
      "\u001b[0;32m<ipython-input-111-a3e943f3b014>\u001b[0m in \u001b[0;36m<module>\u001b[0;34m()\u001b[0m\n\u001b[0;32m----> 1\u001b[0;31m \u001b[0;32massert\u001b[0m \u001b[0;34m(\u001b[0m\u001b[0mnp\u001b[0m\u001b[0;34m.\u001b[0m\u001b[0misnan\u001b[0m\u001b[0;34m(\u001b[0m\u001b[0mnp\u001b[0m\u001b[0;34m.\u001b[0m\u001b[0masarray\u001b[0m\u001b[0;34m(\u001b[0m\u001b[0my\u001b[0m\u001b[0;34m)\u001b[0m\u001b[0;34m[\u001b[0m\u001b[0;36m2\u001b[0m\u001b[0;34m]\u001b[0m\u001b[0;34m)\u001b[0m\u001b[0;34m.\u001b[0m\u001b[0mall\u001b[0m\u001b[0;34m(\u001b[0m\u001b[0;34m)\u001b[0m\u001b[0;34m==\u001b[0m\u001b[0mTrue\u001b[0m\u001b[0;34m)\u001b[0m\u001b[0;34m\u001b[0m\u001b[0m\n\u001b[0m\u001b[1;32m      2\u001b[0m \u001b[0;31m#assert (np.isnan(np.asarray(y)[3]).all()==True)\u001b[0m\u001b[0;34m\u001b[0m\u001b[0;34m\u001b[0m\u001b[0m\n\u001b[1;32m      3\u001b[0m \u001b[0;31m#assert (np.isnan(np.asarray(y)[4]).all()==False)\u001b[0m\u001b[0;34m\u001b[0m\u001b[0;34m\u001b[0m\u001b[0m\n",
      "\u001b[0;31mAssertionError\u001b[0m: "
     ]
    }
   ],
   "source": [
    "assert (np.isnan(np.asarray(y)[2]).all()==True)  to check it this should give error"
   ]
  },
  {
   "cell_type": "code",
   "execution_count": 120,
   "metadata": {
    "collapsed": false
   },
   "outputs": [
    {
     "data": {
      "text/plain": [
       "False"
      ]
     },
     "execution_count": 120,
     "metadata": {},
     "output_type": "execute_result"
    }
   ],
   "source": [
    "(img_stack[1][0,0].data==0)"
   ]
  },
  {
   "cell_type": "code",
   "execution_count": null,
   "metadata": {
    "collapsed": true
   },
   "outputs": [],
   "source": []
  }
 ],
 "metadata": {
  "kernelspec": {
   "display_name": "Python 2",
   "language": "python",
   "name": "python2"
  },
  "language_info": {
   "codemirror_mode": {
    "name": "ipython",
    "version": 2
   },
   "file_extension": ".py",
   "mimetype": "text/x-python",
   "name": "python",
   "nbconvert_exporter": "python",
   "pygments_lexer": "ipython2",
   "version": "2.7.11"
  }
 },
 "nbformat": 4,
 "nbformat_minor": 0
}
