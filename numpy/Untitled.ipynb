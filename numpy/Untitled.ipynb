{
 "cells": [
  {
   "cell_type": "code",
   "execution_count": 1,
   "metadata": {
    "collapsed": true
   },
   "outputs": [],
   "source": [
    "import numpy as np\n",
    "\n",
    "import skxray.core.roi as roi\n",
    "\n",
    "import matplotlib as mpl\n",
    "import matplotlib.pyplot as plt\n",
    "from matplotlib.ticker import MaxNLocator\n",
    "from matplotlib.colors import LogNorm\n",
    "from mpl_toolkits.axes_grid1.axes_grid import ImageGrid\n",
    "\n",
    "# Easily switch between interactive and static matplotlib plots\n",
    "interactive_mode = False\n",
    "\n",
    "if interactive_mode:\n",
    "    %matplotlib notebook\n",
    "else:\n",
    "    %matplotlib inline\n",
    "\n",
    "backend = mpl.get_backend()"
   ]
  },
  {
   "cell_type": "code",
   "execution_count": 4,
   "metadata": {
    "collapsed": false
   },
   "outputs": [],
   "source": [
    "def test_demo(ax, inds, pix_list, img_dim):\n",
    "\n",
    "    tt = np.zeros(img_dim).ravel() * np.nan\n",
    "    tt[pix_list] = inds\n",
    "\n",
    "    ax.cla()\n",
    "    ax.set_aspect('equal')\n",
    "    im = ax.imshow(tt.reshape(*img_dim), cmap='Paired', interpolation='nearest')\n",
    "    Y, X = np.meshgrid(range(img_dim[0]), range(img_dim[1]))\n",
    "    ax.plot(X.ravel(), Y.ravel(), 'x')\n",
    "\n",
    "\n",
    "\n",
    "\n"
   ]
  },
  {
   "cell_type": "code",
   "execution_count": 5,
   "metadata": {
    "collapsed": true
   },
   "outputs": [],
   "source": [
    "def test_demo_circle(ax, center, inds, edges, pix_list, img_dim):\n",
    "\n",
    "    tt = np.zeros(img_dim).ravel() * np.nan\n",
    "    tt[pix_list] = inds\n",
    "\n",
    "    ax.cla()\n",
    "    ax.set_aspect('equal')\n",
    "    im = ax.imshow(tt.reshape(*img_dim), cmap='Paired', interpolation='nearest')\n",
    "\n",
    "    [ax.add_artist(mp.Circle(center, radius=j, lw=3, facecolor='none',\n",
    "                             edgecolor='k')) for j in edges[:, 0]]\n",
    "    [ax.add_artist(mp.Circle(center, radius=j, lw=3, facecolor='none', edgecolor='k',\n",
    "                             linestyle='dashed')) for j in edges[:, 1]]\n",
    "    Y, X = np.meshgrid(range(img_dim[0]), range(img_dim[1]))\n",
    "    ax.plot(X.ravel(), Y.ravel(), 'x')\n",
    "    ax.set_title(str(center))"
   ]
  },
  {
   "cell_type": "code",
   "execution_count": 6,
   "metadata": {
    "collapsed": true
   },
   "outputs": [],
   "source": [
    "calibrated_center = (4., 6.)\n",
    "img_dim = (20, 25)\n",
    "first_q = 2.5\n",
    "delta_q = 2\n",
    "\n",
    "# using a step for the Q rings\n",
    "num_qs = 6  # number of Q rings\n",
    "step_q = 1  # step value between each Q ring"
   ]
  },
  {
   "cell_type": "code",
   "execution_count": null,
   "metadata": {
    "collapsed": true
   },
   "outputs": [],
   "source": [
    "edges = roi.ring_edges()"
   ]
  }
 ],
 "metadata": {
  "kernelspec": {
   "display_name": "Python 2",
   "language": "python",
   "name": "python2"
  },
  "language_info": {
   "codemirror_mode": {
    "name": "ipython",
    "version": 2
   },
   "file_extension": ".py",
   "mimetype": "text/x-python",
   "name": "python",
   "nbconvert_exporter": "python",
   "pygments_lexer": "ipython2",
   "version": "2.7.10"
  }
 },
 "nbformat": 4,
 "nbformat_minor": 0
}
