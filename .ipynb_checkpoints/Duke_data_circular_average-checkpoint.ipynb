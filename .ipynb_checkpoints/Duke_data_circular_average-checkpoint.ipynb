{
 "cells": [
  {
   "cell_type": "markdown",
   "metadata": {},
   "source": [
    "# Duke data get the cicular average"
   ]
  },
  {
   "cell_type": "code",
   "execution_count": 1,
   "metadata": {
    "collapsed": true
   },
   "outputs": [],
   "source": [
    "import skxray.core.roi as roi\n",
    "import skxray.core.utils as core\n",
    "\n",
    "import numpy as np\n",
    "import os, sys\n",
    "\n",
    "import matplotlib.pyplot as plt\n",
    "%matplotlib inline\n",
    "from matplotlib.ticker import MaxNLocator\n",
    "from matplotlib.colors import LogNorm"
   ]
  },
  {
   "cell_type": "code",
   "execution_count": 2,
   "metadata": {
    "collapsed": false
   },
   "outputs": [
    {
     "name": "stderr",
     "output_type": "stream",
     "text": [
      "WARNING:xsdimage:lxml library is probably not part of your python installation: disabling xsdimage format\n"
     ]
    }
   ],
   "source": [
    "import fabio\n",
    "def open_edf(img_num, ext, dir_path):\n",
    "\n",
    "    img = fabio.open(dir_path+str(img_num)+ext)\n",
    "    img_dat = img.data\n",
    "    return img_dat"
   ]
  },
  {
   "cell_type": "code",
   "execution_count": 3,
   "metadata": {
    "collapsed": false
   },
   "outputs": [],
   "source": [
    "\n",
    "data_dir = \"/Volumes/Data/BeamLines/CHX/Luxi_description_files_for_duke/\"\n",
    "ext = \".edf\"\n",
    "dark_img = 0\n",
    "\n",
    "    \n",
    "np.save(\"duke_dark.npy\", dark_img/100)\n",
    "\n",
    "duke_ndata = np.load(data_dir+\"duke_img_1_5000.npy\")\n",
    "duke_dark = np.load(data_dir+\"duke_dark.npy\")\n",
    "\n",
    "duke_data = []\n",
    "for i in range(duke_ndata.shape[0]):\n",
    "    duke_data.append(duke_ndata[i] - duke_dark)\n",
    "    \n",
    "duke_data = np.asarray(duke_data)    "
   ]
  },
  {
   "cell_type": "code",
   "execution_count": 4,
   "metadata": {
    "collapsed": false
   },
   "outputs": [
    {
     "data": {
      "image/png": "[encoded data removed]",
      "text/plain": [
       "<matplotlib.figure.Figure at 0x1044e0c50>"
      ]
     },
     "metadata": {},
     "output_type": "display_data"
    }
   ],
   "source": [
    "# Get the average image for all the image files\n",
    "sum_img = np.average(duke_data, axis=0)\n",
    "\n",
    "plt.imshow(sum_img)\n",
    "plt.title(\"Duke_cc_12c\")\n",
    "plt.show()"
   ]
  },
  {
   "cell_type": "code",
   "execution_count": 5,
   "metadata": {
    "collapsed": false
   },
   "outputs": [
    {
     "data": {
      "image/png": "[encoded data removed]",
      "text/plain": [
       "<matplotlib.figure.Figure at 0x105b656d0>"
      ]
     },
     "metadata": {},
     "output_type": "display_data"
    }
   ],
   "source": [
    "mask = ~np.load(data_dir+\"Luxi_duke_mask.npy\")\n",
    "flat_field = np.load(data_dir+\"Luxi_duke_flat.npy\")\n",
    "\n",
    "plt.imshow(mask*sum_img)\n",
    "plt.title(\"masked data\")\n",
    "plt.show()"
   ]
  },
  {
   "cell_type": "code",
   "execution_count": 6,
   "metadata": {
    "collapsed": false
   },
   "outputs": [],
   "source": [
    "est_center=(144, 134)\n",
    "\n",
    "inner_radius = 25\n",
    "width=5\n",
    "var=20\n",
    "new_center = (149, 137)\n",
    "\n",
    "#new_center = spe.suitable_center(sum_img, est_center, inner_radius, width, mask, var)\n"
   ]
  },
  {
   "cell_type": "code",
   "execution_count": 7,
   "metadata": {
    "collapsed": false
   },
   "outputs": [
    {
     "data": {
      "text/plain": [
       "(149, 137)"
      ]
     },
     "execution_count": 7,
     "metadata": {},
     "output_type": "execute_result"
    }
   ],
   "source": [
    "new_center"
   ]
  },
  {
   "cell_type": "code",
   "execution_count": 8,
   "metadata": {
    "collapsed": true
   },
   "outputs": [],
   "source": [
    "def circular_average(image, calibrated_center, thershold=0,\n",
    "                          nx=100, pixel_size=None):\n",
    "    \"\"\"\n",
    "    Circular average of the intensity of the image SAXS(small angle\n",
    "    x-ray scattering)\n",
    "\n",
    "    Parameters\n",
    "    ----------\n",
    "    image : array\n",
    "        input image\n",
    "\n",
    "    calibrated_center : tuple\n",
    "        The center in pixels-units (row, col)\n",
    "\n",
    "    thershold : float, optional\n",
    "        threshold value to mask\n",
    "\n",
    "    nx : int, optional\n",
    "        number of bins\n",
    "\n",
    "    pixel_size : tuple, optionalsource dea\n",
    "        The size of a pixel in real units. (height, width). (mm)\n",
    "\n",
    "    Returns\n",
    "    -------\n",
    "    bin_centers : array\n",
    "        bin centers from bin edges\n",
    "\n",
    "    ring_averages : array\n",
    "        circular integration of SAXS intensity\n",
    "    \"\"\"\n",
    "    radial_val = core.radial_grid(calibrated_center, image.shape, pixel_size)\n",
    "\n",
    "    bin_edges, sums, counts = core.bin_1D(np.ravel(radial_val),\n",
    "                                          np.ravel(image), nx)\n",
    "    th_mask = counts > thershold\n",
    "    ring_average = sums[th_mask] / counts[th_mask]\n",
    "\n",
    "    bin_centers = core.bin_edges_to_centers(bin_edges)\n",
    "\n",
    "    return bin_centers, ring_average\n"
   ]
  },
  {
   "cell_type": "markdown",
   "metadata": {},
   "source": [
    "# Get the circular average for the image data"
   ]
  },
  {
   "cell_type": "code",
   "execution_count": 9,
   "metadata": {
    "collapsed": false
   },
   "outputs": [
    {
     "data": {
      "image/png": "[encoded data removed]",
      "text/plain": [
       "<matplotlib.figure.Figure at 0x12efbfd10>"
      ]
     },
     "metadata": {},
     "output_type": "display_data"
    }
   ],
   "source": [
    "bin_cen, ring_avg = circular_average(sum_img*mask, new_center, thershold=0, nx=100, pixel_size=(0.1, 0.1))\n",
    "\n",
    "plt.title(\" Circular Average\")\n",
    "plt.semilogy(bin_cen,ring_avg, '-o')\n",
    "plt.xlabel(\"pixels\")\n",
    "plt.show()"
   ]
  },
  {
   "cell_type": "markdown",
   "metadata": {},
   "source": [
    "# Converte to Q space()"
   ]
  },
  {
   "cell_type": "code",
   "execution_count": 10,
   "metadata": {
    "collapsed": false
   },
   "outputs": [
    {
     "data": {
      "image/png": "[encoded data removed]",
      "text/plain": [
       "<matplotlib.figure.Figure at 0x12ecdb350>"
      ]
     },
     "metadata": {},
     "output_type": "display_data"
    }
   ],
   "source": [
    "dist_sample = 2230\n",
    "\n",
    "two_theta = core.radius_to_twotheta(dist_sample, bin_cen)\n",
    "\n",
    "\n",
    "wavelength = 1.5498\n",
    "\n",
    "q_val = core.twotheta_to_q(two_theta, wavelength)\n",
    "plt.title(\"Circular Average\")\n",
    "plt.xlabel(\"q (1/A)\")\n",
    "plt.semilogy(q_val, ring_avg)\n",
    "plt.show()"
   ]
  }
 ],
 "metadata": {
  "kernelspec": {
   "display_name": "Python 2",
   "language": "python",
   "name": "python2"
  },
  "language_info": {
   "codemirror_mode": {
    "name": "ipython",
    "version": 2
   },
   "file_extension": ".py",
   "mimetype": "text/x-python",
   "name": "python",
   "nbconvert_exporter": "python",
   "pygments_lexer": "ipython2",
   "version": "2.7.10"
  }
 },
 "nbformat": 4,
 "nbformat_minor": 0
}
