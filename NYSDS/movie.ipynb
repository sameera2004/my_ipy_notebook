{
 "cells": [
  {
   "cell_type": "code",
   "execution_count": 1,
   "metadata": {
    "collapsed": true
   },
   "outputs": [],
   "source": [
    "import numpy as np\n",
    "import matplotlib.pyplot as plt\n",
    "import matplotlib.animation as animation\n",
    "%matplotlib inline\n",
    "\n",
    "\"\"\"\n",
    "This will create a movie from images\n",
    "\"\"\"\n",
    "\n",
    "def image_animation(data_array, num_frames, interval=20, fps=15,\n",
    "                    movie_name=\"movie.mp4\", movie_writer='mencoder',\n",
    "                    # movie_writer=\"avconv\",\n",
    "                    vmin=None, vmax=None, cmap='viridis'):\n",
    "    \"\"\"\n",
    "    Parameters\n",
    "    ----------\n",
    "    data_array : array\n",
    "        image data array for the movie\n",
    "        dimensions are: [num_img][num_rows][num_cols]\n",
    "\n",
    "    num_frames : int\n",
    "        number of frames in the array\n",
    "\n",
    "    interval : int, optional\n",
    "        delay between frames\n",
    "\n",
    "    movie_name : str, optional\n",
    "        name of the movie to save\n",
    "\n",
    "    movie_writer : str, optional\n",
    "        movie writer\n",
    "\n",
    "    fps : int, optional\n",
    "        Frame rate for movie.\n",
    "\n",
    "    Returns\n",
    "    -------\n",
    "    ani :\n",
    "        movie\n",
    "\n",
    "    \"\"\"\n",
    "    data = np.load(data_array)\n",
    "    fig = plt.figure()\n",
    "    ax = fig.add_subplot(111)\n",
    "    ax.set_aspect('equal')\n",
    "    ax.get_xaxis().set_visible(False)\n",
    "    ax.get_yaxis().set_visible(False)\n",
    "\n",
    "    im = ax.imshow(data[0], cmap=cmap)\n",
    "    fig.set_size_inches([5, 5])\n",
    "    #tight_layout()\n",
    "\n",
    "    def update_img(n):\n",
    "        im.set_data(data[n])\n",
    "\n",
    "    ani = animation.FuncAnimation(fig, update_img, num_frames,\n",
    "                                  interval=interval)\n",
    "    writer = animation.writers[movie_writer](fps=fps)\n",
    "\n",
    "    ani.save(movie_name, writer=writer)\n",
    "    return ani\n",
    "\n",
    "def get_data(n):\n",
    "    return data[n]\n",
    "\n",
    "\n"
   ]
  },
  {
   "cell_type": "code",
   "execution_count": null,
   "metadata": {
    "collapsed": true
   },
   "outputs": [],
   "source": [
    "data_dir = \"images_sq.npy\"\n",
    "num_frames = 300\n",
    "movie_name = \"img.mp4\"\n",
    "vmin = 1e0\n",
    "\n",
    "image_animation(data_dir, num_frames, interval=20, fps=15,\n",
    "                    movie_name=movie_name)\n",
    "\n"
   ]
  },
  {
   "cell_type": "markdown",
   "metadata": {},
   "source": [
    "# How to upload the plot "
   ]
  },
  {
   "cell_type": "code",
   "execution_count": null,
   "metadata": {
    "collapsed": true
   },
   "outputs": [],
   "source": [
    "import matplotlib.pyplot as plt\n",
    "import numpy as np\n",
    "\n",
    "x = np.linspace(0, 6*np.pi, 100)\n",
    "y = np.sin(x)\n",
    "\n",
    "# You probably won't need this if you're embedding things in a tkinter plot...\n",
    "plt.ion()\n",
    "\n",
    "fig = plt.figure()\n",
    "ax = fig.add_subplot(111)\n",
    "line1, = ax.plot(x, y, 'r-') # Returns a tuple of line objects, thus the comma\n",
    "\n",
    "for phase in np.linspace(0, 10*np.pi, 500):\n",
    "    line1.set_ydata(np.sin(x + phase))\n",
    "    fig.canvas.draw()\n"
   ]
  }
 ],
 "metadata": {
  "kernelspec": {
   "display_name": "Python 3",
   "language": "python",
   "name": "python3"
  },
  "language_info": {
   "codemirror_mode": {
    "name": "ipython",
    "version": 3
   },
   "file_extension": ".py",
   "mimetype": "text/x-python",
   "name": "python",
   "nbconvert_exporter": "python",
   "pygments_lexer": "ipython3",
   "version": "3.5.2"
  }
 },
 "nbformat": 4,
 "nbformat_minor": 0
}
