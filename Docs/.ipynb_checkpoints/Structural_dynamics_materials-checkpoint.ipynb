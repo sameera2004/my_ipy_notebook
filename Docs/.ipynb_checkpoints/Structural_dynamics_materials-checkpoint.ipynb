{
 "cells": [
  {
   "cell_type": "markdown",
   "metadata": {},
   "source": [
    "##XPCS :\n",
    "  \n",
    "  \n",
    "With a dynamic sample, the speckles fluctute in time and the charestrics timescales associated with the relaxtaion mechnisms can be measured from intensity autocorrealtion functions.\n",
    "\n",
    "The equilibrium sample dynamics are measured by the auto corrlation funtion of the scattered intensity I(t) from the illumination with (partially)\n",
    "cohernet X-rays, given by"
   ]
  },
  {
   "cell_type": "markdown",
   "metadata": {},
   "source": [
    "$ g_2(q, \\tau) = \\frac{<I(q, t)  I(q, t + \\tau)> } {<I(q, t)>^2} $"
   ]
  },
  {
   "cell_type": "markdown",
   "metadata": {},
   "source": [
    "where <...> represents an enmable average over nomially equivalent pixels a\n",
    "time average over all the equivalnet times t"
   ]
  },
  {
   "cell_type": "markdown",
   "metadata": {},
   "source": [
    "q is the scattering vecator $\\tau $ is the time delay"
   ]
  },
  {
   "cell_type": "markdown",
   "metadata": {},
   "source": [
    "###The Siegert Relation"
   ]
  },
  {
   "cell_type": "markdown",
   "metadata": {},
   "source": [
    "The intensity auto correlation $g_2(q, \\tau) $ is connected to \n",
    "####the intermediate scattering function (ISF) $g_1(q, \\tau)$,\n",
    "which contains the dynamical information of the sample motion"
   ]
  },
  {
   "cell_type": "markdown",
   "metadata": {},
   "source": [
    "$ g_2(q, \\tau) = \\beta_1[g_1(q, \\tau)]^{2} + g_\\infty $ "
   ]
  },
  {
   "cell_type": "markdown",
   "metadata": {},
   "source": [
    "Here $\\beta_1$ is the optical contrast and is equal to the contras factor of the spcekle patterns in XPCS measurement"
   ]
  },
  {
   "cell_type": "markdown",
   "metadata": {},
   "source": [
    "$g_\\infty $ is the baseline (which is equal to 1 for ergodic samples)"
   ]
  },
  {
   "cell_type": "markdown",
   "metadata": {},
   "source": [
    "#### A system undergoing diffusive dynamics, ISF is described by"
   ]
  },
  {
   "cell_type": "markdown",
   "metadata": {},
   "source": [
    "$g_1(q, \\tau) = e^{-\\gamma(q) \\tau}$"
   ]
  },
  {
   "cell_type": "markdown",
   "metadata": {},
   "source": [
    "where $\\gamma(q)$ is the relaxation rate associated with the sample dynamics."
   ]
  },
  {
   "cell_type": "markdown",
   "metadata": {},
   "source": [
    "The auto correation function can then be rearranged into"
   ]
  },
  {
   "cell_type": "markdown",
   "metadata": {},
   "source": [
    "$  g_2(q, \\tau) = \\beta_1 e^{-2\\gamma(q) \\tau} + g_\\infty $"
   ]
  },
  {
   "cell_type": "markdown",
   "metadata": {},
   "source": [
    "##XSVS:"
   ]
  },
  {
   "cell_type": "markdown",
   "metadata": {},
   "source": [
    "The dynamic information is obtained  by analyzing the photon statistics and calculating\n",
    "the speckle contrast in the single sacttering patterns"
   ]
  },
  {
   "cell_type": "markdown",
   "metadata": {},
   "source": [
    "The contrast factor $\\beta(q, T)$ of the speckle patterns is extracted by the photon statistics analysis. "
   ]
  },
  {
   "cell_type": "markdown",
   "metadata": {},
   "source": [
    "The exeperimental probability density P(K) of detecting K photons is\n",
    "obtained by histogramming the phton counts over an ensamble of equivalent pixels and over a number of speckle\n",
    "patterns recorded with the same integartion time T under the same illumination condtion."
   ]
  },
  {
   "cell_type": "markdown",
   "metadata": {},
   "source": [
    "####Kymograph (waterfall plot)"
   ]
  },
  {
   "cell_type": "markdown",
   "metadata": {},
   "source": [
    "The waterfall plot helps identfy bad pixels, sample instability,\n",
    "misassignment of direct beam position, or sign of radiation damage.\n",
    "\n",
    "It also provides a good intiative support to predict the time scale of\n",
    "the sample motion from the lifetime of the speckles."
   ]
  },
  {
   "cell_type": "code",
   "execution_count": null,
   "metadata": {
    "collapsed": true
   },
   "outputs": [],
   "source": []
  }
 ],
 "metadata": {
  "kernelspec": {
   "display_name": "Python 2",
   "language": "python",
   "name": "python2"
  },
  "language_info": {
   "codemirror_mode": {
    "name": "ipython",
    "version": 2
   },
   "file_extension": ".py",
   "mimetype": "text/x-python",
   "name": "python",
   "nbconvert_exporter": "python",
   "pygments_lexer": "ipython2",
   "version": "2.7.10"
  }
 },
 "nbformat": 4,
 "nbformat_minor": 0
}
