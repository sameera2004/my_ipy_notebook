{
 "cells": [
  {
   "cell_type": "markdown",
   "metadata": {},
   "source": [
    "#XPCS pipepline "
   ]
  },
  {
   "cell_type": "markdown",
   "metadata": {},
   "source": [
    "Import all the reqiured packages\n",
    "* scikit-xray - data analysis tools for X-ray science \n",
    "    - https://github.com/scikit-xray/scikit-xray\n",
    "* xray-vision - plotting helper functions for X-ray science\n",
    "    - https://github.com/Nikea/xray-vision\n",
    "* numpy - fundamental package for scientific computing with Python\n",
    "    - (http://www.numpy.org)\n",
    "* matplotlib - a python 2D plotting library\n",
    "    - http://matplotlib.org"
   ]
  },
  {
   "cell_type": "code",
   "execution_count": 3,
   "metadata": {
    "collapsed": true
   },
   "outputs": [],
   "source": [
    "import xray_vision\n",
    "import xray_vision.mpl_plotting as mpl_plot  \n",
    "\n",
    "import skxray.core.roi as roi\n",
    "import skxray.core.correlation as corr\n",
    "import skxray.core.utils as utils\n",
    "\n",
    "import numpy as np\n",
    "\n",
    "import matplotlib as mpl\n",
    "import matplotlib.pyplot as plt"
   ]
  },
  {
   "cell_type": "markdown",
   "metadata": {},
   "source": [
    " ### Easily switch between interactive and static matplotlib plots"
   ]
  },
  {
   "cell_type": "code",
   "execution_count": 4,
   "metadata": {
    "collapsed": false
   },
   "outputs": [],
   "source": [
    "interactive_mode = False\n",
    "\n",
    "if interactive_mode:\n",
    "    %matplotlib notebook\n",
    "else:\n",
    "    %matplotlib inline\n",
    "\n",
    "backend = mpl.get_backend()"
   ]
  },
  {
   "cell_type": "markdown",
   "metadata": {},
   "source": [
    "## Experiment information : like following\n",
    "\n",
    "* The physical size of the pixels\n",
    "* Wavelegth of the X-rays  - (units in Angstroms)\n",
    "* Detector to sample distance\n",
    "* Exposure time - (units in seconds)\n",
    "* acqusition period - (units in seconds)\n",
    "* dead time - (units in seconds)\n",
    "* time per frame = (exposure time + dead_time or acqusition period) - (units in seconds)"
   ]
  },
  {
   "cell_type": "code",
   "execution_count": 7,
   "metadata": {
    "collapsed": true
   },
   "outputs": [],
   "source": [
    "# The physical size of the pixels\n",
    "dpix = 0.075  \n",
    " \n",
    "lambda_ = 1.5498    # wavelegth of the X-rays in Angstroms\n",
    "Ldet = 5000.        # detector to sample distance\n",
    "\n",
    "exposuretime= 100 * 10**(-3) \n",
    "acquisition_period = 100 * 10**(-3)  \n",
    "\n",
    "#deadtime= 0   # 60e-6 \n",
    "#timeperframe = exposuretime + deadtime\n",
    "timeperframe = acquisition_period  "
   ]
  },
  {
   "cell_type": "markdown",
   "metadata": {},
   "source": [
    "### Get the approximate center and see the statistic to make sure "
   ]
  },
  {
   "cell_type": "code",
   "execution_count": null,
   "metadata": {
    "collapsed": true
   },
   "outputs": [],
   "source": [
    "ceny =  1634.66  #\n",
    "cenx =  838.6   #"
   ]
  },
  {
   "cell_type": "code",
   "execution_count": null,
   "metadata": {
    "collapsed": true
   },
   "outputs": [],
   "source": [
    "#  get the average image\n",
    "avg_img = np.average(data, axis=0)\n",
    "\n",
    "# plot the average image data after masking\n",
    "fig, ax = plt.subplot()\n",
    "ax.imshow(avg_img, vmax=1e0, cmap=\"Dark2\" )\n",
    "ax.title(\"Averaged masked data\")\n",
    "ax.colorbar()\n",
    "plt.show()"
   ]
  }
 ],
 "metadata": {
  "kernelspec": {
   "display_name": "Python 2",
   "language": "python",
   "name": "python2"
  },
  "language_info": {
   "codemirror_mode": {
    "name": "ipython",
    "version": 2
   },
   "file_extension": ".py",
   "mimetype": "text/x-python",
   "name": "python",
   "nbconvert_exporter": "python",
   "pygments_lexer": "ipython2",
   "version": "2.7.10"
  }
 },
 "nbformat": 4,
 "nbformat_minor": 0
}
