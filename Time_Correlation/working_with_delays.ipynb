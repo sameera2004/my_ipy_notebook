{
 "cells": [
  {
   "cell_type": "code",
   "execution_count": 4,
   "metadata": {
    "collapsed": true
   },
   "outputs": [],
   "source": [
    "import numpy as np\n"
   ]
  },
  {
   "cell_type": "code",
   "execution_count": 5,
   "metadata": {
    "collapsed": true
   },
   "outputs": [],
   "source": [
    "def delays( num_lev=3, num_buf=4, time=1 ): \n",
    "    ''' DOCUMENT delays(time=)\n",
    "        return array of delays.\n",
    "        KEYWORD:  time: scale delays by time ( should be time between frames)\n",
    "     '''\n",
    "    if num_buf%2!=0:print (\"nobuf must be even!!!\"    )\n",
    "    dly=np.zeros( (num_lev+1)*int(num_buf/2) +1  )        \n",
    "    dict_dly ={}\n",
    "    for i in range( 1,num_lev+1):\n",
    "        if i==1:imin= 1\n",
    "        else:imin= int(num_buf/2)+1\n",
    "        ptr=(i-1)*int(num_buf/2)+ np.arange(imin,num_buf+1)\n",
    "        dly[ptr]= np.arange( imin, num_buf+1) *2**(i-1)            \n",
    "        dict_dly[i] = dly[ptr-1]            \n",
    "        dly*=time\n",
    "        #print (i, ptr, imin)\n",
    "    return dly, dict_dly\n"
   ]
  },
  {
   "cell_type": "code",
   "execution_count": 6,
   "metadata": {
    "collapsed": false
   },
   "outputs": [],
   "source": [
    "dly, dict_dly = delays(2, 4, 1)"
   ]
  },
  {
   "cell_type": "code",
   "execution_count": 7,
   "metadata": {
    "collapsed": false
   },
   "outputs": [
    {
     "data": {
      "text/plain": [
       "array([ 0.,  1.,  2.,  3.,  4.,  6.,  8.])"
      ]
     },
     "execution_count": 7,
     "metadata": {},
     "output_type": "execute_result"
    }
   ],
   "source": [
    "dly"
   ]
  },
  {
   "cell_type": "code",
   "execution_count": 8,
   "metadata": {
    "collapsed": false
   },
   "outputs": [
    {
     "data": {
      "text/plain": [
       "{1: array([ 0.,  1.,  2.,  3.]), 2: array([ 4.,  6.])}"
      ]
     },
     "execution_count": 8,
     "metadata": {},
     "output_type": "execute_result"
    }
   ],
   "source": [
    "dict_dly"
   ]
  },
  {
   "cell_type": "code",
   "execution_count": 9,
   "metadata": {
    "collapsed": true
   },
   "outputs": [],
   "source": [
    "def multi_tau_lags(multitau_levels, multitau_channels):\n",
    "    \"\"\"\n",
    "    Standard multiple-tau algorithm for finding the lag times (delay\n",
    "    times).\n",
    "\n",
    "    Parameters\n",
    "    ----------\n",
    "    multitau_levels : int\n",
    "        number of levels of multiple-taus\n",
    "    multitau_channels : int\n",
    "        number of channels or number of buffers in auto-correlators\n",
    "        normalizations (must be even)\n",
    "\n",
    "    Returns\n",
    "    -------\n",
    "    total_channels : int\n",
    "        total number of channels ( or total number of delay times)\n",
    "    lag_steps : ndarray\n",
    "        delay or lag steps for the multiple tau analysis\n",
    "    dict_lags : dict\n",
    "        dictionary of delays for each multitau_levels\n",
    "\n",
    "    Notes\n",
    "    -----\n",
    "    The multi-tau correlation scheme was used for finding the lag times\n",
    "    (delay times).\n",
    "\n",
    "    References: text [1]_\n",
    "\n",
    "    .. [1] K. Schätzela, M. Drewela and  S. Stimaca, \"Photon correlation\n",
    "       measurements at large lag times: Improving statistical accuracy,\"\n",
    "       J. Mod. Opt., vol 35, p 711–718, 1988.\n",
    "    \"\"\"\n",
    "\n",
    "    if (multitau_channels % 2 != 0):\n",
    "        raise ValueError(\"Number of  multiple tau channels(buffers)\"\n",
    "                         \" must be even. You provided {0} \"\n",
    "                         .format(multitau_channels))\n",
    "\n",
    "    # total number of channels ( or total number of delay times)\n",
    "    tot_channels = (multitau_levels + 1)*multitau_channels//2\n",
    "\n",
    "    lag = []\n",
    "    dict_lags = {}\n",
    "    lag_steps = np.arange(0, multitau_channels)\n",
    "    dict_lags[1] = lag_steps\n",
    "    for i in range(2, multitau_levels + 1):\n",
    "        each_level = []\n",
    "        for j in range(0, multitau_channels//2):\n",
    "            lag_value = (multitau_channels//2 + j)*(2**(i - 1))\n",
    "            lag.append(lag_value)\n",
    "            each_level.append(lag_value)\n",
    "        dict_lags[i] = each_level\n",
    "\n",
    "    lag_steps = np.append(lag_steps, np.array(lag))\n",
    "\n",
    "    return tot_channels, lag_steps, dict_lags\n"
   ]
  },
  {
   "cell_type": "code",
   "execution_count": 10,
   "metadata": {
    "collapsed": true
   },
   "outputs": [],
   "source": [
    "tot, lags, dict_lags = multi_tau_lags(3, 4)"
   ]
  },
  {
   "cell_type": "code",
   "execution_count": 11,
   "metadata": {
    "collapsed": false
   },
   "outputs": [
    {
     "data": {
      "text/plain": [
       "array([ 0,  1,  2,  3,  4,  6,  8, 12])"
      ]
     },
     "execution_count": 11,
     "metadata": {},
     "output_type": "execute_result"
    }
   ],
   "source": [
    "lags"
   ]
  },
  {
   "cell_type": "code",
   "execution_count": 12,
   "metadata": {
    "collapsed": false
   },
   "outputs": [
    {
     "data": {
      "text/plain": [
       "{1: array([0, 1, 2, 3]), 2: [4, 6], 3: [8, 12]}"
      ]
     },
     "execution_count": 12,
     "metadata": {},
     "output_type": "execute_result"
    }
   ],
   "source": [
    "dict_lags"
   ]
  },
  {
   "cell_type": "code",
   "execution_count": 13,
   "metadata": {
    "collapsed": false
   },
   "outputs": [
    {
     "data": {
      "text/plain": [
       "array([0, 1, 2, 3])"
      ]
     },
     "execution_count": 13,
     "metadata": {},
     "output_type": "execute_result"
    }
   ],
   "source": [
    "lags[0:4]"
   ]
  },
  {
   "cell_type": "code",
   "execution_count": 14,
   "metadata": {
    "collapsed": false
   },
   "outputs": [
    {
     "data": {
      "text/plain": [
       "(array([4, 6]), array([ 8, 12]))"
      ]
     },
     "execution_count": 14,
     "metadata": {},
     "output_type": "execute_result"
    }
   ],
   "source": [
    "lags[4:6], lags[6:8]"
   ]
  },
  {
   "cell_type": "code",
   "execution_count": 15,
   "metadata": {
    "collapsed": false
   },
   "outputs": [
    {
     "data": {
      "text/plain": [
       "array([0, 2, 4, 8])"
      ]
     },
     "execution_count": 15,
     "metadata": {},
     "output_type": "execute_result"
    }
   ],
   "source": [
    "lags[::2]"
   ]
  },
  {
   "cell_type": "code",
   "execution_count": 16,
   "metadata": {
    "collapsed": false
   },
   "outputs": [],
   "source": [
    "y = iter(lags)"
   ]
  },
  {
   "cell_type": "code",
   "execution_count": 17,
   "metadata": {
    "collapsed": false
   },
   "outputs": [
    {
     "name": "stdout",
     "output_type": "stream",
     "text": [
      "0 1\n",
      "2 3\n",
      "4 6\n",
      "8 12\n"
     ]
    }
   ],
   "source": [
    "for x in y:\n",
    "    print x, next(y)"
   ]
  },
  {
   "cell_type": "code",
   "execution_count": 18,
   "metadata": {
    "collapsed": true
   },
   "outputs": [],
   "source": [
    "def multi_tau_lags(multitau_levels, multitau_channels):\n",
    "    \"\"\"\n",
    "    Standard multiple-tau algorithm for finding the lag times (delay\n",
    "    times).\n",
    "\n",
    "    Parameters\n",
    "    ----------\n",
    "    multitau_levels : int\n",
    "        number of levels of multiple-taus\n",
    "    multitau_channels : int\n",
    "        number of channels or number of buffers in auto-correlators\n",
    "        normalizations (must be even)\n",
    "\n",
    "    Returns\n",
    "    -------\n",
    "    total_channels : int\n",
    "        total number of channels ( or total number of delay times)\n",
    "    lag_steps : ndarray\n",
    "        delay or lag steps for the multiple tau analysis\n",
    "\n",
    "    Notes\n",
    "    -----\n",
    "    The multi-tau correlation scheme was used for finding the lag times\n",
    "    (delay times).\n",
    "\n",
    "    References: text [1]_\n",
    "\n",
    "    .. [1] K. Schätzela, M. Drewela and  S. Stimaca, \"Photon correlation\n",
    "       measurements at large lag times: Improving statistical accuracy,\"\n",
    "       J. Mod. Opt., vol 35, p 711–718, 1988.\n",
    "    \"\"\"\n",
    "\n",
    "    if (multitau_channels % 2 != 0):\n",
    "        raise ValueError(\"Number of  multiple tau channels(buffers)\"\n",
    "                         \" must be even. You provided {0} \"\n",
    "                         .format(multitau_channels))\n",
    "\n",
    "    # total number of channels ( or total number of delay times)\n",
    "    tot_channels = (multitau_levels + 1)*multitau_channels//2\n",
    "\n",
    "    lag = []\n",
    "    dict_lags = {}\n",
    "    lag_steps = np.arange(0, multitau_channels)\n",
    "    for i in range(2, multitau_levels + 1):\n",
    "        for j in range(0, multitau_channels//2):\n",
    "            lag.append((multitau_channels//2 + j)*(2**(i - 1)))\n",
    "    dict_lags[1] = lag_steps\n",
    "    lag_steps = np.append(lag_steps, np.array(lag))\n",
    "    \n",
    "    y = 1\n",
    "    lag_it = iter(lag)\n",
    "    for x in lag_it:\n",
    "        y += 1\n",
    "        dict_lags[y] = x, next(lag_it)\n",
    "\n",
    "    return tot_channels, lag_steps, dict_lags"
   ]
  },
  {
   "cell_type": "code",
   "execution_count": 19,
   "metadata": {
    "collapsed": false
   },
   "outputs": [],
   "source": [
    "import numpy as np\n",
    "def multi_tau_lags(multitau_levels, multitau_channels):\n",
    "    \"\"\"\n",
    "    Standard multiple-tau algorithm for finding the lag times (delay\n",
    "    times).\n",
    "\n",
    "    Parameters\n",
    "    ----------\n",
    "    multitau_levels : int\n",
    "        number of levels of multiple-taus\n",
    "    multitau_channels : int\n",
    "        number of channels or number of buffers in auto-correlators\n",
    "        normalizations (must be even)\n",
    "\n",
    "    Returns\n",
    "    -------\n",
    "    total_channels : int\n",
    "        total number of channels ( or total number of delay times)\n",
    "    lag_steps : ndarray\n",
    "        delay or lag steps for the multiple tau analysis\n",
    "    dict_lags : dict\n",
    "        dictionary of delays for each multitau_levels\n",
    "\n",
    "    Notes\n",
    "    -----\n",
    "    The multi-tau correlation scheme was used for finding the lag times\n",
    "    (delay times).\n",
    "\n",
    "    References: text [1]_\n",
    "\n",
    "    .. [1] K. Schätzela, M. Drewela and  S. Stimaca, \"Photon correlation\n",
    "       measurements at large lag times: Improving statistical accuracy,\"\n",
    "       J. Mod. Opt., vol 35, p 711–718, 1988.\n",
    "    \"\"\"\n",
    "\n",
    "    if (multitau_channels % 2 != 0):\n",
    "        raise ValueError(\"Number of  multiple tau channels(buffers)\"\n",
    "                         \" must be even. You provided {0} \"\n",
    "                         .format(multitau_channels))\n",
    "\n",
    "    # total number of channels ( or total number of delay times)\n",
    "    tot_channels = (multitau_levels + 1)*multitau_channels//2\n",
    "\n",
    "    lag = []\n",
    "    dict_lags = {}\n",
    "    lag_steps = np.arange(0, multitau_channels)\n",
    "    dict_lags[1] = lag_steps\n",
    "    for i in range(2, multitau_levels + 1):\n",
    "        y = []\n",
    "        for j in range(0, multitau_channels//2):\n",
    "            value = (multitau_channels//2 + j)*(2**(i - 1))\n",
    "            lag.append(value)\n",
    "            y.append(value)\n",
    "        dict_lags[i] = np.asarray(y)\n",
    "\n",
    "    \n",
    "    lag_steps = np.append(lag_steps, np.array(lag))\n",
    "\n",
    "    return tot_channels, lag_steps, dict_lags"
   ]
  },
  {
   "cell_type": "code",
   "execution_count": 20,
   "metadata": {
    "collapsed": false
   },
   "outputs": [
    {
     "data": {
      "text/plain": [
       "{1: array([0, 1, 2, 3, 4, 5, 6, 7]),\n",
       " 2: array([ 8, 10, 12, 14]),\n",
       " 3: array([16, 20, 24, 28]),\n",
       " 4: array([32, 40, 48, 56]),\n",
       " 5: array([ 64,  80,  96, 112])}"
      ]
     },
     "execution_count": 20,
     "metadata": {},
     "output_type": "execute_result"
    }
   ],
   "source": [
    "tot, lags, dict_lags = multi_tau_lags(5, 8)\n",
    "lags\n",
    "dict_lags"
   ]
  },
  {
   "cell_type": "code",
   "execution_count": 21,
   "metadata": {
    "collapsed": false
   },
   "outputs": [
    {
     "data": {
      "text/plain": [
       "(array([4, 5]), array([6, 7]))"
      ]
     },
     "execution_count": 21,
     "metadata": {},
     "output_type": "execute_result"
    }
   ],
   "source": [
    "lags[4:6], lags[6:8]"
   ]
  },
  {
   "cell_type": "code",
   "execution_count": 22,
   "metadata": {
    "collapsed": false
   },
   "outputs": [
    {
     "data": {
      "text/plain": [
       "array([  0,   1,   2,   3,   4,   5,   6,   7,   8,   9,  10,  11,  12,\n",
       "        13,  14,  15,  16,  18,  20,  22,  24,  26,  28,  30,  32,  36,\n",
       "        40,  44,  48,  52,  56,  60,  64,  72,  80,  88,  96, 104, 112, 120])"
      ]
     },
     "execution_count": 22,
     "metadata": {},
     "output_type": "execute_result"
    }
   ],
   "source": [
    "tot, lags, dict_lags = multi_tau_lags(4, 16)\n",
    "lags"
   ]
  },
  {
   "cell_type": "code",
   "execution_count": 25,
   "metadata": {
    "collapsed": false
   },
   "outputs": [
    {
     "data": {
      "text/plain": [
       "(array([16, 18, 20, 22, 24, 26, 28, 30]),\n",
       " array([ 32,  36,  40,  44,  48,  52,  56,  60,  64,  72,  80,  88,  96,\n",
       "        104, 112, 120]))"
      ]
     },
     "execution_count": 25,
     "metadata": {},
     "output_type": "execute_result"
    }
   ],
   "source": [
    "lags[16: 16+(16/2)], lags[16+16/2: ]"
   ]
  },
  {
   "cell_type": "code",
   "execution_count": 26,
   "metadata": {
    "collapsed": false
   },
   "outputs": [],
   "source": [
    "tot, lags, dict_lags = multi_tau_lags(3, 8)"
   ]
  },
  {
   "cell_type": "code",
   "execution_count": 27,
   "metadata": {
    "collapsed": false
   },
   "outputs": [
    {
     "data": {
      "text/plain": [
       "(array([ 8, 10, 12, 14]), array([16, 20, 24, 28]))"
      ]
     },
     "execution_count": 27,
     "metadata": {},
     "output_type": "execute_result"
    }
   ],
   "source": [
    "lags[8:8 +8/2], lags[12:8+8]"
   ]
  },
  {
   "cell_type": "code",
   "execution_count": 28,
   "metadata": {
    "collapsed": false
   },
   "outputs": [
    {
     "data": {
      "text/plain": [
       "{1: array([0, 1, 2, 3, 4, 5, 6, 7]),\n",
       " 2: array([ 8, 10, 12, 14]),\n",
       " 3: array([16, 20, 24, 28])}"
      ]
     },
     "execution_count": 28,
     "metadata": {},
     "output_type": "execute_result"
    }
   ],
   "source": [
    "dict_lags"
   ]
  },
  {
   "cell_type": "code",
   "execution_count": 29,
   "metadata": {
    "collapsed": true
   },
   "outputs": [],
   "source": [
    "\n",
    "Num= {key: [0]* len(dict_lags[key]) for key in list(dict_lags.keys())}"
   ]
  },
  {
   "cell_type": "code",
   "execution_count": 30,
   "metadata": {
    "collapsed": false
   },
   "outputs": [
    {
     "data": {
      "text/plain": [
       "{1: [0, 0, 0, 0, 0, 0, 0, 0], 2: [0, 0, 0, 0], 3: [0, 0, 0, 0]}"
      ]
     },
     "execution_count": 30,
     "metadata": {},
     "output_type": "execute_result"
    }
   ],
   "source": [
    "Num"
   ]
  },
  {
   "cell_type": "code",
   "execution_count": 31,
   "metadata": {
    "collapsed": false
   },
   "outputs": [
    {
     "name": "stdout",
     "output_type": "stream",
     "text": [
      "[ 0.  1.  2.  3.  4.  5.  6.  7.]\n",
      "[  8.  10.  12.  14.]\n",
      "[ 16.  20.  24.  28.]\n"
     ]
    }
   ],
   "source": [
    "imin = 1\n",
    "num_buf = 8\n",
    "num_lev =3\n",
    "dly=np.zeros( (num_lev+1)*int(num_buf/2) +1  ) \n",
    "for i in range(1,num_lev+1):\n",
    "        if i==1:\n",
    "            imin = 1\n",
    "        else:\n",
    "            imin = int(num_buf/2) + 1\n",
    "        ptr = (i-1)*int(num_buf/2) + np.arange(imin-1, num_buf)\n",
    "        dly[ptr]= np.arange(imin-1, num_buf) *2**(i-1)\n",
    "        print dly[ptr]"
   ]
  },
  {
   "cell_type": "code",
   "execution_count": null,
   "metadata": {
    "collapsed": true
   },
   "outputs": [],
   "source": []
  },
  {
   "cell_type": "code",
   "execution_count": 32,
   "metadata": {
    "collapsed": false
   },
   "outputs": [],
   "source": [
    "import skbeam.core.utils as core"
   ]
  },
  {
   "cell_type": "code",
   "execution_count": 33,
   "metadata": {
    "collapsed": false
   },
   "outputs": [],
   "source": [
    "from numpy.testing import (assert_array_equal, assert_array_almost_equal,\n",
    "                           assert_almost_equal)\n",
    "import sys\n",
    "levels = 3\n",
    "channels = 8\n",
    "\n",
    "delay_steps = [0, 1, 2, 3, 4, 5, 6, 7, 8, 10, 12, 14, 16, 20, 24, 28]\n",
    "#dict_dly[1] = (0, 1, 2, 3, 4, 5, 6, 7)\n",
    "#dict_dly[3] = (16, 20, 24, 28)\n",
    "\n",
    "tot_channels, lag_steps, dict_lags  = core.multi_tau_lags(levels, channels)\n",
    "\n",
    "assert_array_equal(16, tot_channels)\n",
    "assert_array_equal(delay_steps, lag_steps)\n"
   ]
  },
  {
   "cell_type": "code",
   "execution_count": 34,
   "metadata": {
    "collapsed": false
   },
   "outputs": [
    {
     "data": {
      "text/plain": [
       "array([ 0,  1,  2,  3,  4,  5,  6,  7,  8, 10, 12, 14, 16, 20, 24, 28])"
      ]
     },
     "execution_count": 34,
     "metadata": {},
     "output_type": "execute_result"
    }
   ],
   "source": [
    "lag_steps"
   ]
  },
  {
   "cell_type": "code",
   "execution_count": 35,
   "metadata": {
    "collapsed": false
   },
   "outputs": [
    {
     "data": {
      "text/plain": [
       "{1: array([0, 1, 2, 3, 4, 5, 6, 7]), 2: [8, 10, 12, 14], 3: [16, 20, 24, 28]}"
      ]
     },
     "execution_count": 35,
     "metadata": {},
     "output_type": "execute_result"
    }
   ],
   "source": [
    "dict_lags"
   ]
  },
  {
   "cell_type": "code",
   "execution_count": 36,
   "metadata": {
    "collapsed": false
   },
   "outputs": [],
   "source": [
    "dict_dly = {}\n",
    "dict_dly[1] = (0, 1, 2, 3, 4, 5, 6, 7)\n",
    "dict_dly[3] = (16, 20, 24, 28)\n",
    "dict_dly[2] = (8, 10, 12, 14)\n",
    "\n",
    "assert_array_equal(16, tot_channels)\n",
    "assert_array_equal(delay_steps, lag_steps)\n",
    "assert_array_almost_equal(dict_dly[1], dict_lags[1])\n",
    "assert_array_almost_equal(dict_dly[3], dict_lags[3])"
   ]
  },
  {
   "cell_type": "code",
   "execution_count": null,
   "metadata": {
    "collapsed": true
   },
   "outputs": [],
   "source": []
  }
 ],
 "metadata": {
  "kernelspec": {
   "display_name": "Python 2",
   "language": "python",
   "name": "python2"
  },
  "language_info": {
   "codemirror_mode": {
    "name": "ipython",
    "version": 2
   },
   "file_extension": ".py",
   "mimetype": "text/x-python",
   "name": "python",
   "nbconvert_exporter": "python",
   "pygments_lexer": "ipython2",
   "version": "2.7.11"
  }
 },
 "nbformat": 4,
 "nbformat_minor": 0
}
