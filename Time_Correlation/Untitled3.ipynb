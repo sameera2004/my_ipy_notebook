{
 "cells": [
  {
   "cell_type": "code",
   "execution_count": 12,
   "metadata": {
    "collapsed": false
   },
   "outputs": [],
   "source": [
    "from skxray.core import roi \n",
    "import skxray.core.correlation as corr\n",
    "from skxray.core import utils\n",
    "\n",
    "import numpy as np\n",
    "\n",
    "import matplotlib.pyplot as plt\n",
    "%matplotlib inline\n",
    "from matplotlib.ticker import MaxNLocator\n",
    "from matplotlib.colors import LogNorm\n",
    "\n",
    "data_dir = \"/Volumes/Data/BeamLines/CHX/Luxi_description_files_for_duke/\"\n",
    "duke_ndata = np.load(data_dir+\"duke_img_1_5000.npy\")\n",
    "duke_dark = np.load(data_dir+\"duke_dark.npy\")\n",
    "\n",
    "duke_data = []\n",
    "for i in range(duke_ndata.shape[0]):\n",
    "    duke_data.append(duke_ndata[i] - duke_dark)\n",
    "    \n",
    "duke_data = np.asarray(duke_data)    \n",
    "\n",
    "avg_img = np.average(duke_data, axis=0)\n",
    "\n",
    "mask4 = np.load(data_dir+\"new_mask4.npy\")\n",
    "\n",
    "#mask = np.load(data_dir+\"Luxi_duke_mask.npy\")\n",
    "\n",
    "mask = ~np.load(\"/Volumes/Data/BeamLines/CHX/Luxi_description_files_for_duke/Luxi_duke_mask.npy\")\n",
    "\n",
    "N_mask = ~(mask)\n",
    "\n",
    "mask_data1 = N_mask*duke_data[0:2655]\n",
    "mask_data2 = N_mask*duke_data[2659:4999]\n",
    "\n",
    "inner_radius = 30\n",
    "width = 1\n",
    "spacing = 1\n",
    "num_rings = 6\n",
    "\n",
    "edges = roi.ring_edges(inner_radius, width, spacing, num_rings)\n",
    "\n",
    "rings = roi.rings(edges, (133, 143), avg_img.shape)\n",
    "\n",
    "rings_mask = rings*N_mask\n"
   ]
  },
  {
   "cell_type": "code",
   "execution_count": 17,
   "metadata": {
    "collapsed": false
   },
   "outputs": [
    {
     "data": {
      "text/plain": [
       "array([[0, 0, 0, ..., 0, 0, 0],\n",
       "       [0, 0, 0, ..., 0, 0, 0],\n",
       "       [0, 0, 0, ..., 0, 0, 0],\n",
       "       ..., \n",
       "       [0, 0, 0, ..., 0, 0, 0],\n",
       "       [0, 0, 0, ..., 0, 0, 0],\n",
       "       [0, 0, 0, ..., 0, 0, 0]], dtype=uint16)"
      ]
     },
     "execution_count": 17,
     "metadata": {},
     "output_type": "execute_result"
    }
   ],
   "source": [
    "images[0]"
   ]
  },
  {
   "cell_type": "code",
   "execution_count": 18,
   "metadata": {
    "collapsed": false
   },
   "outputs": [],
   "source": [
    "num_levels = 20\n",
    "num_bufs = 16\n",
    "g2, lag_steps = corr.multi_tau_auto_corr(num_levels, num_bufs, rings_mask,\n",
    "                                             images[0:2])"
   ]
  },
  {
   "cell_type": "code",
   "execution_count": 20,
   "metadata": {
    "collapsed": false
   },
   "outputs": [
    {
     "data": {
      "text/plain": [
       "array([ 46.04094998,  45.28914027])"
      ]
     },
     "execution_count": 20,
     "metadata": {},
     "output_type": "execute_result"
    }
   ],
   "source": [
    "g2[:,0]\n"
   ]
  },
  {
   "cell_type": "code",
   "execution_count": 13,
   "metadata": {
    "collapsed": true
   },
   "outputs": [],
   "source": [
    "images = N_mask*duke_data\n",
    "\n",
    "num_levels = 7\n",
    "num_bufs = 8\n",
    "g2, lag_steps = corr.multi_tau_auto_corr(num_levels, num_bufs, rings_mask,\n",
    "                                             images)"
   ]
  },
  {
   "cell_type": "code",
   "execution_count": 15,
   "metadata": {
    "collapsed": false
   },
   "outputs": [
    {
     "data": {
      "text/plain": [
       "[<matplotlib.lines.Line2D at 0x112777cd0>]"
      ]
     },
     "execution_count": 15,
     "metadata": {},
     "output_type": "execute_result"
    },
    {
     "data": {
      "image/png": "[encoded data removed]",
      "text/plain": [
       "<matplotlib.figure.Figure at 0x14c6268d0>"
      ]
     },
     "metadata": {},
     "output_type": "display_data"
    }
   ],
   "source": [
    "exposuretime = 0.001;\n",
    "deadtime = 60e-6;\n",
    "timeperframe = exposuretime + deadtime\n",
    "lags = lag_steps * timeperframe\n",
    "\n",
    "plt.semilogx(lags, g2[:,0])\n",
    "#plt.ylim(1, 1.2)\n"
   ]
  },
  {
   "cell_type": "code",
   "execution_count": null,
   "metadata": {
    "collapsed": true
   },
   "outputs": [],
   "source": []
  }
 ],
 "metadata": {
  "kernelspec": {
   "display_name": "Python 2",
   "language": "python",
   "name": "python2"
  },
  "language_info": {
   "codemirror_mode": {
    "name": "ipython",
    "version": 2
   },
   "file_extension": ".py",
   "mimetype": "text/x-python",
   "name": "python",
   "nbconvert_exporter": "python",
   "pygments_lexer": "ipython2",
   "version": "2.7.10"
  }
 },
 "nbformat": 4,
 "nbformat_minor": 0
}
