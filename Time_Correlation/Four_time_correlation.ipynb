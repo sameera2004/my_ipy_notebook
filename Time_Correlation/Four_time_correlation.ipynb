{
 "cells": [
  {
   "cell_type": "code",
   "execution_count": 1,
   "metadata": {
    "collapsed": false
   },
   "outputs": [],
   "source": [
    "import skbeam.core.utils as utils\n",
    "\n",
    "import numpy as np"
   ]
  },
  {
   "cell_type": "code",
   "execution_count": 2,
   "metadata": {
    "collapsed": false
   },
   "outputs": [],
   "source": [
    "num_levels = 2\n",
    "num_bufs = 8\n",
    "# Convert from num_levels, num_bufs to lag frames.\n",
    "tot_channels, lag_steps, dict_lag = utils.multi_tau_lags(num_levels, num_bufs)"
   ]
  },
  {
   "cell_type": "code",
   "execution_count": 9,
   "metadata": {
    "collapsed": false
   },
   "outputs": [
    {
     "data": {
      "text/plain": [
       "{1: array([0, 1, 2, 3, 4, 5, 6, 7]), 2: [8, 10, 12, 14]}"
      ]
     },
     "execution_count": 9,
     "metadata": {},
     "output_type": "execute_result"
    }
   ],
   "source": [
    "dict_lag"
   ]
  },
  {
   "cell_type": "code",
   "execution_count": 10,
   "metadata": {
    "collapsed": false
   },
   "outputs": [],
   "source": [
    "norm = {key: [0] * len(dict_lag[key]) for key in (dict_lag.keys())}\n",
    "lev_len = np.array([len(dict_lag[i]) for i in (dict_lag.keys())])"
   ]
  },
  {
   "cell_type": "code",
   "execution_count": 11,
   "metadata": {
    "collapsed": false
   },
   "outputs": [
    {
     "data": {
      "text/plain": [
       "dict"
      ]
     },
     "execution_count": 11,
     "metadata": {},
     "output_type": "execute_result"
    }
   ],
   "source": [
    "type(norm)"
   ]
  },
  {
   "cell_type": "code",
   "execution_count": 12,
   "metadata": {
    "collapsed": false
   },
   "outputs": [
    {
     "data": {
      "text/plain": [
       "numpy.ndarray"
      ]
     },
     "execution_count": 12,
     "metadata": {},
     "output_type": "execute_result"
    }
   ],
   "source": [
    "type(lev_len)\n"
   ]
  },
  {
   "cell_type": "code",
   "execution_count": 13,
   "metadata": {
    "collapsed": false
   },
   "outputs": [],
   "source": [
    "num_lev = 1\n",
    "num_buf = 10  # must be even\n",
    "x_dim = 10\n",
    "y_dim = 10\n",
    "stack = 10\n",
    "imgs = np.random.randint(1, 3, (stack, x_dim, y_dim))\n",
    "rois = np.zeros_like(imgs[0])\n",
    "# make sure that the ROIs can be any integers greater than 1.\n",
    "# They do not have to start at 1 and be continuous\n",
    "rois[0:x_dim//10, 0:y_dim//10] = 5\n",
    "rois[x_dim//10:x_dim//5, y_dim//10:y_dim//5] = 3"
   ]
  },
  {
   "cell_type": "code",
   "execution_count": 14,
   "metadata": {
    "collapsed": true
   },
   "outputs": [],
   "source": [
    "from skbeam.core.correlation import two_time_corr"
   ]
  },
  {
   "cell_type": "code",
   "execution_count": 15,
   "metadata": {
    "collapsed": false,
    "scrolled": false
   },
   "outputs": [],
   "source": [
    "two_time = two_time_corr(rois, imgs,  10,\n",
    "                             8, num_lev)\n"
   ]
  },
  {
   "cell_type": "code",
   "execution_count": 16,
   "metadata": {
    "collapsed": false
   },
   "outputs": [],
   "source": [
    "import skbeam.core.roi as roi\n",
    "label_array, pixel_list = roi.extract_label_indices(rois)"
   ]
  },
  {
   "cell_type": "code",
   "execution_count": 18,
   "metadata": {
    "collapsed": false
   },
   "outputs": [],
   "source": [
    " num_levels, num_bufs = 3, 4\n",
    "tot_channels, lags, dict_lags = utils.multi_tau_lags(num_levels, num_bufs)\n",
    "beta = 0.5\n",
    "relaxation_rate = 10.0\n",
    "baseline = 1.0"
   ]
  },
  {
   "cell_type": "code",
   "execution_count": 65,
   "metadata": {
    "collapsed": false
   },
   "outputs": [],
   "source": [
    "import skbeam.core.correlation as corr\n",
    "num_lev = 1\n",
    "num_buf = 10  # must be even\n",
    "x_dim = 10\n",
    "y_dim = 10\n",
    "stack = 10\n",
    "imgs = np.random.randint(1, 10, (stack, x_dim, y_dim))\n",
    "rois = np.zeros_like(imgs[0])\n",
    "# make sure that the ROIs can be any integers greater than 1.\n",
    "# They do not have to start at 1 and be continuous\n",
    "rois[0:x_dim//10, 0:y_dim//10] = 5\n",
    "rois[x_dim//10:x_dim//5, y_dim//10:y_dim//5] = 3\n",
    "\n",
    "two_time = two_time_corr(rois, imgs, stack,\n",
    "                             num_buf, num_lev)\n",
    "\n",
    "one_time = corr.one_time_from_two_time(two_time[0])"
   ]
  },
  {
   "cell_type": "code",
   "execution_count": 66,
   "metadata": {
    "collapsed": false
   },
   "outputs": [],
   "source": [
    "import matplotlib.pyplot as plt\n",
    "plt.plot(one_time[1,:])\n",
    "plt.show()"
   ]
  },
  {
   "cell_type": "code",
   "execution_count": 67,
   "metadata": {
    "collapsed": false
   },
   "outputs": [],
   "source": [
    "n_list= [2, 3, 4,5]"
   ]
  },
  {
   "cell_type": "code",
   "execution_count": 68,
   "metadata": {
    "collapsed": false
   },
   "outputs": [
    {
     "data": {
      "text/plain": [
       "(2, 4, 3, 5)"
      ]
     },
     "execution_count": 68,
     "metadata": {},
     "output_type": "execute_result"
    }
   ],
   "source": [
    "n_list[0], n_list[2], n_list[1], n_list[3]"
   ]
  },
  {
   "cell_type": "code",
   "execution_count": 69,
   "metadata": {
    "collapsed": true
   },
   "outputs": [],
   "source": [
    "g2 , lag= corr.multi_tau_auto_corr??\n"
   ]
  },
  {
   "cell_type": "code",
   "execution_count": null,
   "metadata": {
    "collapsed": true
   },
   "outputs": [],
   "source": [
    "g2 , lag= corr.multi_tau_auto_corr"
   ]
  },
  {
   "cell_type": "code",
   "execution_count": 71,
   "metadata": {
    "collapsed": true
   },
   "outputs": [],
   "source": [
    "g2 , lag= corr.multi_tau_auto_corr(num_lev, num_buf, rois, imgs)"
   ]
  },
  {
   "cell_type": "code",
   "execution_count": 72,
   "metadata": {
    "collapsed": false
   },
   "outputs": [
    {
     "data": {
      "text/plain": [
       "(10, 2)"
      ]
     },
     "execution_count": 72,
     "metadata": {},
     "output_type": "execute_result"
    }
   ],
   "source": [
    "g2.shape"
   ]
  },
  {
   "cell_type": "code",
   "execution_count": 73,
   "metadata": {
    "collapsed": false
   },
   "outputs": [],
   "source": [
    "y= g2.T"
   ]
  },
  {
   "cell_type": "code",
   "execution_count": 74,
   "metadata": {
    "collapsed": false
   },
   "outputs": [
    {
     "data": {
      "text/plain": [
       "(2, 10)"
      ]
     },
     "execution_count": 74,
     "metadata": {},
     "output_type": "execute_result"
    }
   ],
   "source": [
    "y.shape"
   ]
  },
  {
   "cell_type": "code",
   "execution_count": 75,
   "metadata": {
    "collapsed": false
   },
   "outputs": [
    {
     "data": {
      "text/plain": [
       "(array([[ 1.15699537,  1.25514403],\n",
       "        [ 0.97276596,  1.05612245],\n",
       "        [ 1.02768549,  1.06511176],\n",
       "        [ 0.89196676,  0.99461279],\n",
       "        [ 1.02162162,  1.02769231],\n",
       "        [ 0.91235632,  1.02796053],\n",
       "        [ 1.13043478,  0.92873563],\n",
       "        [ 1.02666667,  0.93650794],\n",
       "        [ 1.03636364,  0.96666667],\n",
       "        [ 1.        ,  1.        ]]),\n",
       " array([[ 1.15699537,  0.97276596,  1.02768549,  0.89196676,  1.02162162,\n",
       "          0.91235632,  1.13043478,  1.02666667,  1.03636364,  1.        ],\n",
       "        [ 1.25514403,  1.05612245,  1.06511176,  0.99461279,  1.02769231,\n",
       "          1.02796053,  0.92873563,  0.93650794,  0.96666667,  1.        ]]))"
      ]
     },
     "execution_count": 75,
     "metadata": {},
     "output_type": "execute_result"
    }
   ],
   "source": [
    "g2, y"
   ]
  },
  {
   "cell_type": "code",
   "execution_count": 76,
   "metadata": {
    "collapsed": false
   },
   "outputs": [
    {
     "data": {
      "text/plain": [
       "(2, 10, 10)"
      ]
     },
     "execution_count": 76,
     "metadata": {},
     "output_type": "execute_result"
    }
   ],
   "source": [
    "two_time[0].shape"
   ]
  },
  {
   "cell_type": "code",
   "execution_count": 77,
   "metadata": {
    "collapsed": false
   },
   "outputs": [
    {
     "data": {
      "text/plain": [
       "(2, 10)"
      ]
     },
     "execution_count": 77,
     "metadata": {},
     "output_type": "execute_result"
    }
   ],
   "source": [
    "y.shape"
   ]
  },
  {
   "cell_type": "code",
   "execution_count": 78,
   "metadata": {
    "collapsed": true
   },
   "outputs": [],
   "source": [
    "def get_four_time_from_two_time(g12, g2, time_ran=None):\n",
    "    \"\"\"\n",
    "    Get four-time correlation function from two correlation function\n",
    "    namely, calculate the deviation of each diagonal line of g12 to get\n",
    "    four-time correlation function.\n",
    "\n",
    "    This function computes four-time correlation\n",
    "    Original code : author: Yugang Zhang\n",
    "\n",
    "    Parameters\n",
    "    ----------\n",
    "    g12: array\n",
    "        two time correlation results\n",
    "        shape is (num ROI's, num images, num images)\n",
    "    g2 : array\n",
    "        one time correlation results\n",
    "        shape is either (num images, num ROI's) or (num of lag steps, num ROI's)\n",
    "        (see the notes in lazy_one_time)\n",
    "    time_ran : list\n",
    "        time range, give the desired time ranges for t1 and t2 the times used for\n",
    "        two time correlation, optional\n",
    "        len(list) = 4\n",
    "        e.g., [x1, x2, y1, y2]\n",
    "\n",
    "    Return\n",
    "    ------\n",
    "    g4 : array\n",
    "         four-time correlation\n",
    "         shape is (num ROI's, num images)\n",
    "\n",
    "    Notes\n",
    "    -----\n",
    "    The four-time correlation function is defined as\n",
    "\n",
    "    :math ::\n",
    "        C(q, t_1, t_2) = \\frac{<I(q, t_1)I(q, t_2)>_pix }{<I(q, t_1)>_pix <I(q, t_2)>_pix}\n",
    "\n",
    "    Here, the ensemble averages are performed over many pixels of detector,\n",
    "    all having the same q value. The average time or age is equal to (t1+t2)/2,\n",
    "    measured by the distance along the t1 = t2 diagonal.\n",
    "    The time difference t = |t1 - t2|, with is distance from the t1 = t2\n",
    "    diagonal in the perpendicular direction.\n",
    "    In the equilibrium system, the two-time correlation functions depend only\n",
    "    on the time difference t, and hence the two-time correlation contour lines\n",
    "    are parallel.\n",
    "\n",
    "     References:  text [1]_, text [2]_\n",
    "\n",
    "    .. [1] A. Duri,H. Bissig, V. Trappe and L. Cipelletti,\n",
    "        \"Time-resolved-correlation measurements of temporally heterogeneous\n",
    "         dynamics,\" Phys. Rev. E., vol 72, p 05141(1-17), 2005.\n",
    "\n",
    "    .. [2] P. A. Lemieux and D. J. Durian, \"Investigating non-Gaussian\n",
    "       scattering process by using nth-order intensity correlation functions\",\n",
    "       J. Opt. Soc. Am. A., vol 16, p 972-978, 2006.\n",
    "\n",
    "    \"\"\"\n",
    "    g4 = []\n",
    "    t = 0\n",
    "    for x, y in zip(g2, g12):\n",
    "        t += 1\n",
    "        print t\n",
    "        temp = []\n",
    "        if time_ran is not None:\n",
    "            y = y[time_ran[0]:time_ran[1], time_ran[3]:time_ran[4]]\n",
    "        norm = (x[0] - 1)**2\n",
    "        for tau in range(y.shape[1]):\n",
    "            d_ = np.diag(y, k=int(tau))\n",
    "            print d_\n",
    "            d = d_[np.where(d_ != 1)]\n",
    "            print \"d\", d\n",
    "            g41 = (d.std()) ** 2 / norm\n",
    "            temp.append(g41)\n",
    "        temp = np.array(temp).reshape(len(temp), 1)\n",
    "        if t == 1:\n",
    "            g4 = temp\n",
    "        else:\n",
    "            g4 = np.hstack([g4, temp])\n",
    "\n",
    "    return g4\n"
   ]
  },
  {
   "cell_type": "code",
   "execution_count": 79,
   "metadata": {
    "collapsed": false
   },
   "outputs": [
    {
     "name": "stdout",
     "output_type": "stream",
     "text": [
      "0.0246475468352\n",
      "0.000741693073789\n"
     ]
    }
   ],
   "source": [
    "for x,y  in zip(g2, two_time[0]):\n",
    "        print (x[0]-1)**2"
   ]
  },
  {
   "cell_type": "code",
   "execution_count": 80,
   "metadata": {
    "collapsed": false
   },
   "outputs": [],
   "source": [
    "g2 = g2.T"
   ]
  },
  {
   "cell_type": "code",
   "execution_count": 81,
   "metadata": {
    "collapsed": false
   },
   "outputs": [
    {
     "data": {
      "text/plain": [
       "array([[ 1.15699537,  0.97276596,  1.02768549,  0.89196676,  1.02162162,\n",
       "         0.91235632,  1.13043478,  1.02666667,  1.03636364,  1.        ],\n",
       "       [ 1.25514403,  1.05612245,  1.06511176,  0.99461279,  1.02769231,\n",
       "         1.02796053,  0.92873563,  0.93650794,  0.96666667,  1.        ]])"
      ]
     },
     "execution_count": 81,
     "metadata": {},
     "output_type": "execute_result"
    }
   ],
   "source": [
    "g2"
   ]
  },
  {
   "cell_type": "code",
   "execution_count": 83,
   "metadata": {
    "collapsed": false
   },
   "outputs": [
    {
     "data": {
      "text/plain": [
       "array([[[ 1.,  1.,  1.,  1.,  1.,  1.,  1.,  1.,  1.,  1.],\n",
       "        [ 1.,  1.,  1.,  1.,  1.,  1.,  1.,  1.,  1.,  1.],\n",
       "        [ 1.,  1.,  1.,  1.,  1.,  1.,  1.,  1.,  1.,  1.],\n",
       "        [ 1.,  1.,  1.,  1.,  1.,  1.,  1.,  1.,  1.,  1.],\n",
       "        [ 1.,  1.,  1.,  1.,  1.,  1.,  1.,  1.,  1.,  1.],\n",
       "        [ 1.,  1.,  1.,  1.,  1.,  1.,  1.,  1.,  1.,  1.],\n",
       "        [ 1.,  1.,  1.,  1.,  1.,  1.,  1.,  1.,  1.,  1.],\n",
       "        [ 1.,  1.,  1.,  1.,  1.,  1.,  1.,  1.,  1.,  1.],\n",
       "        [ 1.,  1.,  1.,  1.,  1.,  1.,  1.,  1.,  1.,  1.],\n",
       "        [ 1.,  1.,  1.,  1.,  1.,  1.,  1.,  1.,  1.,  1.]],\n",
       "\n",
       "       [[ 1.,  1.,  1.,  1.,  1.,  1.,  1.,  1.,  1.,  1.],\n",
       "        [ 1.,  1.,  1.,  1.,  1.,  1.,  1.,  1.,  1.,  1.],\n",
       "        [ 1.,  1.,  1.,  1.,  1.,  1.,  1.,  1.,  1.,  1.],\n",
       "        [ 1.,  1.,  1.,  1.,  1.,  1.,  1.,  1.,  1.,  1.],\n",
       "        [ 1.,  1.,  1.,  1.,  1.,  1.,  1.,  1.,  1.,  1.],\n",
       "        [ 1.,  1.,  1.,  1.,  1.,  1.,  1.,  1.,  1.,  1.],\n",
       "        [ 1.,  1.,  1.,  1.,  1.,  1.,  1.,  1.,  1.,  1.],\n",
       "        [ 1.,  1.,  1.,  1.,  1.,  1.,  1.,  1.,  1.,  1.],\n",
       "        [ 1.,  1.,  1.,  1.,  1.,  1.,  1.,  1.,  1.,  1.],\n",
       "        [ 1.,  1.,  1.,  1.,  1.,  1.,  1.,  1.,  1.,  1.]]])"
      ]
     },
     "execution_count": 83,
     "metadata": {},
     "output_type": "execute_result"
    }
   ],
   "source": [
    "two_time[0]"
   ]
  },
  {
   "cell_type": "code",
   "execution_count": 82,
   "metadata": {
    "collapsed": false
   },
   "outputs": [
    {
     "name": "stdout",
     "output_type": "stream",
     "text": [
      "1\n",
      "[ 1.  1.  1.  1.  1.  1.  1.  1.  1.  1.]\n",
      "d []\n",
      "[ 1.  1.  1.  1.  1.  1.  1.  1.  1.]\n",
      "d []\n",
      "[ 1.  1.  1.  1.  1.  1.  1.  1.]\n",
      "d []\n",
      "[ 1.  1.  1.  1.  1.  1.  1.]\n",
      "d []\n",
      "[ 1.  1.  1.  1.  1.  1.]\n",
      "d []\n",
      "[ 1.  1.  1.  1.  1.]\n",
      "d []\n",
      "[ 1.  1.  1.  1.]\n",
      "d []\n",
      "[ 1.  1.  1.]\n",
      "d []\n",
      "[ 1.  1.]\n",
      "d []\n",
      "[ 1.]\n",
      "d []\n",
      "2\n",
      "[ 1.  1.  1.  1.  1.  1.  1.  1.  1.  1.]\n",
      "d []\n",
      "[ 1.  1.  1.  1.  1.  1.  1.  1.  1.]\n",
      "d []\n",
      "[ 1.  1.  1.  1.  1.  1.  1.  1.]\n",
      "d []\n",
      "[ 1.  1.  1.  1.  1.  1.  1.]\n",
      "d []\n",
      "[ 1.  1.  1.  1.  1.  1.]\n",
      "d []\n",
      "[ 1.  1.  1.  1.  1.]\n",
      "d []\n",
      "[ 1.  1.  1.  1.]\n",
      "d []\n",
      "[ 1.  1.  1.]\n",
      "d []\n",
      "[ 1.  1.]\n",
      "d []\n",
      "[ 1.]\n",
      "d []\n"
     ]
    }
   ],
   "source": [
    "g4 = get_four_time_from_two_time(two_time[0], g2, time_ran=None)"
   ]
  },
  {
   "cell_type": "code",
   "execution_count": 64,
   "metadata": {
    "collapsed": false
   },
   "outputs": [
    {
     "data": {
      "text/plain": [
       "array([[ nan,  nan],\n",
       "       [ nan,  nan],\n",
       "       [ nan,  nan],\n",
       "       [ nan,  nan],\n",
       "       [ nan,  nan],\n",
       "       [ nan,  nan],\n",
       "       [ nan,  nan],\n",
       "       [ nan,  nan],\n",
       "       [ nan,  nan],\n",
       "       [ nan,  nan]])"
      ]
     },
     "execution_count": 64,
     "metadata": {},
     "output_type": "execute_result"
    }
   ],
   "source": [
    "g4"
   ]
  },
  {
   "cell_type": "code",
   "execution_count": 1,
   "metadata": {
    "collapsed": true
   },
   "outputs": [],
   "source": [
    "def get_four_time_from_two_time(g12, g2, time_ran=None):\n",
    "    \"\"\"\n",
    "    Get four-time correlation function from two correlation function\n",
    "    namely, calculate the deviation of each diagonal line of g12 to get\n",
    "    four-time correlation function.\n",
    "\n",
    "    This function computes four-time correlation\n",
    "    Original code : author: Yugang Zhang\n",
    "\n",
    "    Parameters\n",
    "    ----------\n",
    "    g12: array\n",
    "        two time correlation results\n",
    "        shape is (num ROI's, num images, num images)\n",
    "    g2 : array\n",
    "        one time correlation results\n",
    "        shape is either (num images, num ROI's) or (num of lag steps,\n",
    "        num ROI's) (see the notes in lazy_one_time)\n",
    "    time_ran : list\n",
    "        time range, give the desired time ranges for t1 and t2 the times\n",
    "        used for two time correlation, optional\n",
    "        len(list) = 2\n",
    "        e.g., [x1, x2]\n",
    "\n",
    "    Return\n",
    "    ------\n",
    "    g4 : array\n",
    "         four-time correlation\n",
    "         shape is (num ROI's, num images)\n",
    "\n",
    "    Notes\n",
    "    -----\n",
    "    The four-time correlation function is defined as\n",
    "\n",
    "    :math ::\n",
    "        g4(q,T,t) = \\frac{<I(q, 0)I(q, T)I(q, t)I(q, t+ T)>}{<I(q, 0)I(q,T)>^2}\n",
    "\n",
    "        where T and t are the delays\n",
    "\n",
    "    Here, the ensemble averages are performed over many pixels of detector,\n",
    "    all having the same q value.\n",
    "\n",
    "     References:  text [1]_, text [2]_\n",
    "\n",
    "    .. [1] A. Duri,H. Bissig, V. Trappe and L. Cipelletti,\n",
    "        \"Time-resolved-correlation measurements of temporally heterogeneous\n",
    "        dynamics,\" Phys. Rev. E., vol 72, p 05141(1-17), 2005.\n",
    "\n",
    "    .. [2] P. A. Lemieux and D. J. Durian, \"Investigating non-Gaussian\n",
    "       scattering process by using nth-order intensity correlation functions\",\n",
    "       J. Opt. Soc. Am. A., vol 16, p 972-978, 2006.\n",
    "    \"\"\"\n",
    "    g4 = []\n",
    "    for x, y in zip(g2, g12):\n",
    "        temp = []\n",
    "        if rois is not None:\n",
    "            y = y[time_ran[0]:time_ran[1], time_ran[0]:time_ran[1]]\n",
    "        norm = (x[0] - 1)**2\n",
    "        for tau in range(y.shape[1]):\n",
    "            d_ = np.diag(y, k=int(tau))\n",
    "            d = d_[np.where(d_ != 1)]\n",
    "            g41.append((d.std()) ** 2 / norm)\n",
    "        g41 = np.array(temp).reshape(len(temp), 1)\n",
    "        if q == 0:\n",
    "            g4 = temp\n",
    "        else:\n",
    "            g4 = np.hstack([g4, temp])\n",
    "\n",
    "    return g4\n"
   ]
  },
  {
   "cell_type": "code",
   "execution_count": null,
   "metadata": {
    "collapsed": true
   },
   "outputs": [],
   "source": []
  }
 ],
 "metadata": {
  "kernelspec": {
   "display_name": "Python 2",
   "language": "python",
   "name": "python2"
  },
  "language_info": {
   "codemirror_mode": {
    "name": "ipython",
    "version": 2
   },
   "file_extension": ".py",
   "mimetype": "text/x-python",
   "name": "python",
   "nbconvert_exporter": "python",
   "pygments_lexer": "ipython2",
   "version": "2.7.11"
  }
 },
 "nbformat": 4,
 "nbformat_minor": 0
}
