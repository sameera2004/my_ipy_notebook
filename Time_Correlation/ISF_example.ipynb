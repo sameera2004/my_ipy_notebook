{
 "cells": [
  {
   "cell_type": "code",
   "execution_count": 1,
   "metadata": {
    "collapsed": false
   },
   "outputs": [
    {
     "name": "stderr",
     "output_type": "stream",
     "text": [
      ":0: FutureWarning: IPython widgets are experimental and may change in the future.\n"
     ]
    }
   ],
   "source": [
    "import skxray.roi as roi\n",
    "import skxray.correlation as corr\n",
    "import skxray.core as core\n",
    "\n",
    "from lmfit import minimize, Parameters\n",
    "\n",
    "import numpy as np\n",
    "import os, sys\n",
    "\n",
    "import matplotlib.pyplot as plt\n",
    "%matplotlib inline\n",
    "from matplotlib.ticker import MaxNLocator\n",
    "from matplotlib.colors import LogNorm"
   ]
  },
  {
   "cell_type": "code",
   "execution_count": 11,
   "metadata": {
    "collapsed": false
   },
   "outputs": [
    {
     "data": {
      "image/png": "[encoded data removed]",
      "text/plain": [
       "<matplotlib.figure.Figure at 0x10a20f810>"
      ]
     },
     "metadata": {},
     "output_type": "display_data"
    }
   ],
   "source": [
    "params = Parameters()\n",
    "params.add('beta',  value=10, min=0.10, max=0.14)\n",
    "params.add('relaxation_rate', value=6.7, min=6.7, max=8.9)\n",
    "params.add('baseline', value=1, min=0.8, max=1.0)\n",
    "    \n",
    "num_levels, num_bufs = 2, 4\n",
    "tot_channels, lags = core.multi_tau_lags(num_levels, num_bufs)\n",
    "data = np.array([1.216, 1.214, 1.212, 1.208, 1.204, 1.196])\n",
    "\n",
    "fit_result = corr.fit_auto_corr(params1, lags, data, eps_data=1)\n",
    "\n",
    "plt.semilogx(lags, data, '-ro')\n",
    "plt.semilogx(lags, fit_result, '-bo')\n",
    "plt.show()\n"
   ]
  },
  {
   "cell_type": "code",
   "execution_count": 68,
   "metadata": {
    "collapsed": false
   },
   "outputs": [
    {
     "data": {
      "image/png": "[encoded data removed]",
      "text/plain": [
       "<matplotlib.figure.Figure at 0x131d14150>"
      ]
     },
     "metadata": {},
     "output_type": "display_data"
    }
   ],
   "source": [
    "# create a set of Parameters for second ring\n",
    "params2 = Parameters()\n",
    "params2.add('beta',  value=0.15, min=0.148, max=0.2268)\n",
    "params2.add('relaxation_rate', value=6.478, min=6.38, max=6.489)\n",
    "params2.add('baseline', value=1, min=0.823, max=1)  \n",
    "\n",
    "final_result2 = corr.fit_auto_corr(params2, lags, g2[:, 1], eps_data=1)\n",
    "\n",
    "plt.semilogx(lags, g2[:,1], '-ro')\n",
    "plt.semilogx(lags, final_result2, '-bo')\n",
    "plt.title(\"Ring 2\")\n",
    "plt.show()"
   ]
  },
  {
   "cell_type": "code",
   "execution_count": null,
   "metadata": {
    "collapsed": true
   },
   "outputs": [],
   "source": []
  }
 ],
 "metadata": {
  "kernelspec": {
   "display_name": "Python 2",
   "language": "python",
   "name": "python2"
  },
  "language_info": {
   "codemirror_mode": {
    "name": "ipython",
    "version": 2
   },
   "file_extension": ".py",
   "mimetype": "text/x-python",
   "name": "python",
   "nbconvert_exporter": "python",
   "pygments_lexer": "ipython2",
   "version": "2.7.10"
  }
 },
 "nbformat": 4,
 "nbformat_minor": 0
}
