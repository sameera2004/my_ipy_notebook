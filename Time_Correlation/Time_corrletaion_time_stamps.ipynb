{
 "cells": [
  {
   "cell_type": "code",
   "execution_count": 1,
   "metadata": {
    "collapsed": true
   },
   "outputs": [],
   "source": [
    "import numpy as np\n",
    "import skbeam.core.utils as utils\n",
    "import skbeam.core.roi as roi\n",
    "import itertools"
   ]
  },
  {
   "cell_type": "code",
   "execution_count": 69,
   "metadata": {
    "collapsed": true
   },
   "outputs": [],
   "source": [
    "def _validate_and_transform_inputs1(num_bufs, num_levels, labels):\n",
    "    \"\"\"\n",
    "    This is a helper function to validate inputs and create initial state\n",
    "    inputs for both one time and two time correlation\n",
    "\n",
    "    Parameters\n",
    "    ----------\n",
    "    num_bufs : int\n",
    "    num_levels : int\n",
    "    labels : array\n",
    "        labeled array of the same shape as the image stack;\n",
    "        each ROI is represented by a distinct label (i.e., integer)\n",
    "\n",
    "    Returns\n",
    "    -------\n",
    "    label_array : array\n",
    "        labels of the required region of interests(ROI's)\n",
    "    pixel_list : array\n",
    "        1D array of indices into the raveled image for all\n",
    "        foreground pixels (labeled nonzero)\n",
    "        e.g., [5, 6, 7, 8, 14, 15, 21, 22]\n",
    "    num_rois : int\n",
    "        number of region of interests (ROI)\n",
    "    num_pixels : array\n",
    "        number of pixels in each ROI\n",
    "    lag_steps : array\n",
    "        the times at which the correlation was computed\n",
    "    buf : array\n",
    "        image data for correlation\n",
    "    img_per_level : array\n",
    "        to track how many images processed in each level\n",
    "    track_level : array\n",
    "        to track processing each level\n",
    "    cur : array\n",
    "        to increment the buffer\n",
    "    norm : dict\n",
    "        to track bad images\n",
    "    lev_len : array\n",
    "        length of each levels\n",
    "    \"\"\"\n",
    "    if num_bufs % 2 != 0:\n",
    "        raise ValueError(\"There must be an even number of `num_bufs`. You \"\n",
    "                         \"provided %s\" % num_bufs)\n",
    "    label_array = []\n",
    "    pixel_list = []\n",
    "\n",
    "    label_array, pixel_list = roi.extract_label_indices(labels)\n",
    "    # map the indices onto a sequential list of integers starting at 1\n",
    "    label_mapping = {label: n+1\n",
    "                     for n, label in enumerate(np.unique(label_array))}\n",
    "    # remap the label array to go from 1 -> max(_labels)\n",
    "    for label, n in label_mapping.items():\n",
    "        label_array[label_array == label] = n\n",
    "\n",
    "    # number of ROI's\n",
    "    num_rois = len(label_mapping)\n",
    "\n",
    "    # stash the number of pixels in the mask\n",
    "    num_pixels = np.bincount(label_array)[1:]\n",
    "\n",
    "    # Convert from num_levels, num_bufs to lag frames.\n",
    "    tot_channels, lag_steps, dict_lag = utils.multi_tau_lags(num_levels, num_bufs)\n",
    "\n",
    "    # these norm and lev_len will help to find the one time correlation\n",
    "    # normalization norm will updated when there is a bad image\n",
    "    norm = {key: [0] * len(dict_lag[key]) for key in (dict_lag.keys())}\n",
    "    lev_len = np.array([len(dict_lag[i]) for i in (dict_lag.keys())])\n",
    "\n",
    "    # Ring buffer, a buffer with periodic boundary conditions.\n",
    "    # Images must be keep for up to maximum delay in buf.\n",
    "    # separate buffer for each ROI\n",
    "    buf = {}\n",
    "    for i in range(num_rois):\n",
    "        buf[i] = np.zeros((num_levels, num_bufs,\n",
    "                           len(pixel_list[label_array == i+1])),\n",
    "                          dtype=np.float64)\n",
    "    # to track how many images processed in each level\n",
    "    img_per_level = np.zeros(num_levels, dtype=np.int64)\n",
    "    # to track which levels have already been processed\n",
    "    track_level = np.zeros(num_levels, dtype=bool)\n",
    "    # to increment buffer\n",
    "    cur = np.ones(num_levels, dtype=np.int64)\n",
    "\n",
    "    return (label_array, pixel_list, num_rois, num_pixels,\n",
    "            lag_steps, buf, img_per_level, track_level, cur,\n",
    "            norm, lev_len)\n"
   ]
  },
  {
   "cell_type": "code",
   "execution_count": 3,
   "metadata": {
    "collapsed": true
   },
   "outputs": [],
   "source": [
    "num_levels = 4\n",
    "num_bufs = 4  # must be even\n",
    "xdim = 80\n",
    "ydim = 80\n",
    "stack_size = 100\n",
    "synthetic_data = np.random.randint(1, 10, (stack_size, xdim, ydim))\n",
    "\n",
    "rois = np.zeros_like(synthetic_data[0])\n",
    "# make sure that the ROIs can be any integers greater than 1. They do not\n",
    "# have to start at 1 and be continuous\n",
    "rois[0:xdim//10, 0:ydim//10] = np.NAN\n",
    "rois[xdim//10:xdim//5, ydim//10:ydim//5] = 3"
   ]
  },
  {
   "cell_type": "code",
   "execution_count": 4,
   "metadata": {
    "collapsed": false
   },
   "outputs": [
    {
     "data": {
      "text/plain": [
       "1"
      ]
     },
     "execution_count": 4,
     "metadata": {},
     "output_type": "execute_result"
    }
   ],
   "source": [
    "label_array, pixel_list = roi.extract_label_indices(rois)\n",
    "\n",
    "# map the indices onto a sequential list of integers starting at 1\n",
    "label_mapping = {label: n+1\n",
    "                     for n, label in enumerate(np.unique(label_array))}\n",
    "# remap the label array to go from 1 -> max(_labels)\n",
    "for label, n in label_mapping.items():\n",
    "        label_array[label_array == label] = n\n",
    "\n",
    "# number of ROI's\n",
    "num_rois = len(label_mapping)\n",
    "num_rois"
   ]
  },
  {
   "cell_type": "code",
   "execution_count": 5,
   "metadata": {
    "collapsed": false
   },
   "outputs": [],
   "source": [
    "import skbeam.core.correlation as corr\n",
    "#(num_levels, num_bufs, labels, images)\n",
    "corr_gen = corr.multi_tau_auto_corr(num_levels, num_bufs, rois, synthetic_data)"
   ]
  },
  {
   "cell_type": "code",
   "execution_count": 6,
   "metadata": {
    "collapsed": false
   },
   "outputs": [
    {
     "data": {
      "text/plain": [
       "(array([[ 1.25919639],\n",
       "        [ 0.99839388],\n",
       "        [ 1.00400695],\n",
       "        [ 0.99826289],\n",
       "        [ 1.00076868],\n",
       "        [ 0.99965479],\n",
       "        [ 1.00367479],\n",
       "        [ 0.99816002],\n",
       "        [ 0.99861552],\n",
       "        [ 1.00099516]]), array([ 0,  1,  2,  3,  4,  6,  8, 12, 16, 24]))"
      ]
     },
     "execution_count": 6,
     "metadata": {},
     "output_type": "execute_result"
    }
   ],
   "source": [
    "corr_gen"
   ]
  },
  {
   "cell_type": "code",
   "execution_count": 7,
   "metadata": {
    "collapsed": false
   },
   "outputs": [],
   "source": [
    "time = [10, 15, 20, 23, 25, 26, 27, 34, 30]"
   ]
  },
  {
   "cell_type": "code",
   "execution_count": 8,
   "metadata": {
    "collapsed": false
   },
   "outputs": [
    {
     "data": {
      "text/plain": [
       "[30, 34, 27, 26, 25, 23, 20, 15, 10]"
      ]
     },
     "execution_count": 8,
     "metadata": {},
     "output_type": "execute_result"
    }
   ],
   "source": [
    "time[::-1]"
   ]
  },
  {
   "cell_type": "code",
   "execution_count": 9,
   "metadata": {
    "collapsed": false
   },
   "outputs": [
    {
     "data": {
      "text/plain": [
       "[10, 15, 20, 23, 25, 26, 27, 34, 30]"
      ]
     },
     "execution_count": 9,
     "metadata": {},
     "output_type": "execute_result"
    }
   ],
   "source": [
    "time"
   ]
  },
  {
   "cell_type": "code",
   "execution_count": 10,
   "metadata": {
    "collapsed": false
   },
   "outputs": [
    {
     "name": "stdout",
     "output_type": "stream",
     "text": [
      "time_stamp [0]\n",
      "time_stamp [0, 10]\n",
      "time_stamp [0, 15, 25]\n",
      "time_stamp [0, 20, 35, 45]\n",
      "time_stamp [0, 23, 43, 58, 68]\n",
      "time_stamp [0, 25, 48, 68, 83, 93]\n",
      "time_stamp [0, 26, 51, 74, 94, 109, 119]\n",
      "time_stamp [0, 27, 53, 78, 101, 121, 136, 146]\n",
      "time_stamp [0, 34, 61, 87, 112, 135, 155, 170, 180]\n"
     ]
    }
   ],
   "source": [
    "for c, t in enumerate(time):\n",
    "    #print (t)\n",
    "    #print (time[:c][::-1])\n",
    "    time_stamp = [0]\n",
    "    stamp = 0\n",
    "    for item in (time[:c][::-1]):\n",
    "        stamp += item\n",
    "        time_stamp.append(stamp)\n",
    "    print (\"time_stamp\",time_stamp)"
   ]
  },
  {
   "cell_type": "code",
   "execution_count": 30,
   "metadata": {
    "collapsed": false
   },
   "outputs": [],
   "source": [
    "def time_binning(time_stamps):\n",
    "    time_bin = []\n",
    "    all_time = [0]\n",
    "    for c, t in enumerate(time_stamps):\n",
    "        time = [0]\n",
    "        stamp = 0\n",
    "        for item in (time_stamps[:c][::-1]):\n",
    "            stamp += item\n",
    "            time.append(stamp)\n",
    "            all_time.append(stamp)\n",
    "        time_bin.append(time)\n",
    "    return time_bin, np.sort(all_time)"
   ]
  },
  {
   "cell_type": "code",
   "execution_count": 31,
   "metadata": {
    "collapsed": false
   },
   "outputs": [],
   "source": [
    "t, all_time = time_bining([2, 3, 4])"
   ]
  },
  {
   "cell_type": "code",
   "execution_count": 32,
   "metadata": {
    "collapsed": false
   },
   "outputs": [],
   "source": [
    "time = [10, 15, 20, 23, 25, 26, 27, 34, 30]\n",
    "t,all_time = time_bining(time)"
   ]
  },
  {
   "cell_type": "code",
   "execution_count": 33,
   "metadata": {
    "collapsed": false
   },
   "outputs": [
    {
     "data": {
      "text/plain": [
       "array([  0,  10,  15,  20,  23,  25,  25,  26,  27,  34,  35,  43,  45,\n",
       "        48,  51,  53,  58,  61,  68,  68,  74,  78,  83,  87,  93,  94,\n",
       "       101, 109, 112, 119, 121, 135, 136, 146, 155, 170, 180])"
      ]
     },
     "execution_count": 33,
     "metadata": {},
     "output_type": "execute_result"
    }
   ],
   "source": [
    "all_time"
   ]
  },
  {
   "cell_type": "code",
   "execution_count": 34,
   "metadata": {
    "collapsed": false
   },
   "outputs": [
    {
     "data": {
      "text/plain": [
       "array([0, 0, 0, 0, 0, 0, 0, 0, 0, 0, 0, 0, 0, 0, 0, 0, 0, 0, 0, 0, 0, 0, 0,\n",
       "       0, 0, 0, 0, 0, 0, 0, 0, 0, 0, 0, 0, 0, 0])"
      ]
     },
     "execution_count": 34,
     "metadata": {},
     "output_type": "execute_result"
    }
   ],
   "source": [
    "time_track = np.zeros_like(all_time, dtype=np.int64)\n",
    "time_track"
   ]
  },
  {
   "cell_type": "code",
   "execution_count": 46,
   "metadata": {
    "collapsed": true
   },
   "outputs": [],
   "source": [
    "def lazy_one_time_using_time_stamps(image_iterable, time_stamps,\n",
    "                                    labels, num_bufs, num_levels=1):\n",
    "\n",
    "    (label_array, pixel_list, num_rois, num_pixels, lag_steps, buf,\n",
    "     img_per_level, track_level, cur, norm,\n",
    "     lev_len) = _validate_and_transform_inputs(num_bufs, num_levels, labels)\n",
    "\n",
    "    time_bin, all_times = time_binning(time_stamps)\n",
    "\n",
    "    # G holds the un normalized auto- correlation result. We\n",
    "    # accumulate computations into G as the algorithm proceeds.\n",
    "    G = np.zeros_like((all_times, num_rois), dtype=np.float64)\n",
    "    # matrix for normalizing G into g2\n",
    "    past_intensity = np.zeros_like(G)\n",
    "    # matrix for normalizing G into g2\n",
    "    future_intensity = np.zeros_like(G)\n",
    "\n",
    "    time_track = np.zeros_like(all_time, dtype=np.int64)\n",
    "\n",
    "    #if internal_state is None:\n",
    "    #    internal_state = _init_state_one_time(num_levels, num_bufs, labels)\n",
    "    # create a shorthand reference to the results and state named tuple\n",
    "    #s = internal_state\n",
    "\n",
    "    for image, timing in zip(image_iterable, time_bin):\n",
    "        # Compute the correlations for all higher levels.\n",
    "        level = 0\n",
    "\n",
    "        # increment buffer\n",
    "        cur[0] = (1 + cur[0]) % num_bufs\n",
    "        print (timing)\n",
    "\n",
    "        # Put the ROI pixels into the ring buffer.\n",
    "        buf[0, cur[0] - 1] = np.ravel(image)[pixel_list]\n",
    "        buf_no = cur[0] - 1\n",
    "\n",
    "        # Compute the correlations between the first level\n",
    "        # (undownsampled) frames. This modifies G,\n",
    "        # past_intensity, future_intensity,\n",
    "        # and img_per_level in place!\n",
    "        _one_time_process_time_stamps(buf, G, past_intensity, future_intensity,\n",
    "                          label_array, num_bufs, num_pixels,\n",
    "                          time_track, level, buf_no, norm, lev_len,\n",
    "                          timing)\n",
    "\n",
    "        #TODO higher levels for multi tau\n",
    "        \"\"\"# check whether the number of levels is one, otherwise\n",
    "        # continue processing the next level\n",
    "        processing = num_levels > 1\n",
    "\n",
    "        level = 1\n",
    "        while processing:\n",
    "            if not s.track_level[level]:\n",
    "                s.track_level[level] = True\n",
    "                processing = False\n",
    "            else:\n",
    "                prev = (1 + (s.cur[level - 1] - 2) % num_bufs)\n",
    "                s.cur[level] = (\n",
    "                    1 + s.cur[level] % num_bufs)\n",
    "\n",
    "                s.buf[level, s.cur[level] - 1] = ((\n",
    "                        s.buf[level - 1, prev - 1] +\n",
    "                        s.buf[level - 1, s.cur[level - 1] - 1]) / 2)\n",
    "\n",
    "                # make the track_level zero once that level is processed\n",
    "                s.track_level[level] = False\n",
    "\n",
    "                # call processing_func for each multi-tau level greater\n",
    "                # than one. This is modifying things in place. See comment\n",
    "                # on previous call above.\n",
    "                buf_no = s.cur[level] - 1\n",
    "                _one_time_process(s.buf, s.G, s.past_intensity,\n",
    "                                  s.future_intensity, s.label_array, num_bufs,\n",
    "                                  s.num_pixels, s.img_per_level, level, buf_no,\n",
    "                                  s.norm, s.lev_len)\n",
    "                level += 1\n",
    "\n",
    "                # Checking whether there is next level for processing\n",
    "                processing = level < num_levels\"\"\"\n",
    "\n",
    "        # If any past intensities are zero, then g2 cannot be normalized at\n",
    "        # those levels. This if/else code block is basically preventing\n",
    "        # divide-by-zero errors.\n",
    "        #if len(np.where(s.past_intensity == 0)[0]) != 0:\n",
    "        #    g_max = np.where(s.past_intensity == 0)[0][0]\n",
    "        #else:\n",
    "        #    g_max = s.past_intensity.shape[0]\n",
    "\n",
    "        #g2 = (s.G[:g_max] / (s.past_intensity[:g_max] *\n",
    "        #                     s.future_intensity[:g_max]))\n",
    "        #yield results(g2, s.lag_steps[:g_max], s)"
   ]
  },
  {
   "cell_type": "code",
   "execution_count": 67,
   "metadata": {
    "collapsed": true
   },
   "outputs": [],
   "source": [
    "def _one_time_process_time_stamps(buf, G, past_intensity_norm,\n",
    "                                  future_intensity_norm, label_array, num_bufs,\n",
    "                                  num_pixels, track_time, level, buf_no,\n",
    "                                  norm, lev_len, time_bin):\n",
    "    \"\"\"Reference implementation of the inner loop\n",
    "     of lazy_one_time_using_time_stamps\n",
    "\n",
    "    This helper function calculates G, past_intensity_norm and\n",
    "    future_intensity_norm at each level, symmetric normalization is used.\n",
    "\n",
    "    .. warning :: This modifies inputs in place.\n",
    "\n",
    "    Parameters\n",
    "    ----------\n",
    "    buf : array\n",
    "        image data array to use for correlation\n",
    "    G : array\n",
    "        matrix of auto-correlation function without normalizations\n",
    "    past_intensity_norm : array\n",
    "        matrix of past intensity normalizations\n",
    "    future_intensity_norm : array\n",
    "        matrix of future intensity normalizations\n",
    "    label_array : array\n",
    "        labeled array where all nonzero values are ROIs\n",
    "    num_bufs : int, even\n",
    "        number of buffers(channels)\n",
    "    num_pixels : array\n",
    "        number of pixels in certain ROI's\n",
    "        ROI's, dimensions are : [number of ROI's]X1\n",
    "    img_per_level : array\n",
    "        to track how many images processed in each level\n",
    "    level : int\n",
    "        the current multi-tau level\n",
    "    buf_no : int\n",
    "        the current buffer number\n",
    "    norm : dict\n",
    "        to track bad images\n",
    "    lev_len : array\n",
    "        length of each level\n",
    "    time_bin : list\n",
    "        list of time binning\n",
    "\n",
    "    Notes\n",
    "    -----\n",
    "    .. math::\n",
    "        G = <I(\\tau)I(\\tau + delay)>\n",
    "    .. math::\n",
    "        past_intensity_norm = <I(\\tau)>\n",
    "    .. math::\n",
    "        future_intensity_norm = <I(\\tau + delay)>\n",
    "    \"\"\"\n",
    "    track_time[level] += 1\n",
    "    print (\"track_time\", track_time[level])\n",
    "    # in multi-tau correlation, the subsequent levels have half as many\n",
    "    # buffers as the first\n",
    "    # i_min = num_bufs // 2 if level else 0\n",
    "    print (\"time_bin\",time_bin)\n",
    "    for i in (time_bin):\n",
    "        # compute the index into the autocorrelation matrix\n",
    "        print (\"i\",i)\n",
    "        t_index = level * num_bufs / 2 + i\n",
    "        #print (t_index)\n",
    "        delay_no = (buf_no - i) % num_bufs\n",
    "\n",
    "        # get the images for correlating\n",
    "        past_img = buf[level, delay_no]\n",
    "        future_img = buf[level, buf_no]\n",
    "\n",
    "        # find the normalization that can work both for bad_images\n",
    "        #  and good_images\n",
    "        #ind = int(t_index - lev_len[:level].sum())\n",
    "        #normalize = track_time[level] - i - norm[level+1][ind]\n",
    "\n",
    "        # take out the past_ing and future_img created using bad images\n",
    "        # (bad images are converted to np.nan array)\n",
    "        if np.isnan(past_img).any() or np.isnan(future_img).any():\n",
    "            norm[level + 1][ind] += 1\n",
    "        else:\n",
    "            for w, arr in zip([past_img*future_img, past_img, future_img],\n",
    "                              [G, past_intensity_norm, future_intensity_norm]):\n",
    "                binned = np.bincount(label_array, weights=w)[1:]\n",
    "                arr[i] += ((binned / num_pixels -\n",
    "                                  arr[i]) / track_time[level])\n",
    "    return None  # modifies arguments in place!                                                            "
   ]
  },
  {
   "cell_type": "code",
   "execution_count": 68,
   "metadata": {
    "collapsed": false
   },
   "outputs": [
    {
     "name": "stdout",
     "output_type": "stream",
     "text": [
      "[0]\n",
      "track_time 1\n",
      "time_bin [0]\n",
      "i 0\n",
      "[0, 10]\n",
      "track_time 2\n",
      "time_bin [0, 10]\n",
      "i 0\n",
      "i 10\n"
     ]
    },
    {
     "ename": "IndexError",
     "evalue": "index 10 is out of bounds for axis 0 with size 2",
     "output_type": "error",
     "traceback": [
      "\u001b[0;31m---------------------------------------------------------------------------\u001b[0m",
      "\u001b[0;31mIndexError\u001b[0m                                Traceback (most recent call last)",
      "\u001b[0;32m<ipython-input-68-7eb56df3d548>\u001b[0m in \u001b[0;36m<module>\u001b[0;34m()\u001b[0m\n\u001b[1;32m      1\u001b[0m lazy_one_time_using_time_stamps(synthetic_data, time, rois,\n\u001b[0;32m----> 2\u001b[0;31m                                 10, num_levels=1)\n\u001b[0m",
      "\u001b[0;32m<ipython-input-46-a1661b402679>\u001b[0m in \u001b[0;36mlazy_one_time_using_time_stamps\u001b[0;34m(image_iterable, time_stamps, labels, num_bufs, num_levels)\u001b[0m\n\u001b[1;32m     42\u001b[0m                           \u001b[0mlabel_array\u001b[0m\u001b[0;34m,\u001b[0m \u001b[0mnum_bufs\u001b[0m\u001b[0;34m,\u001b[0m \u001b[0mnum_pixels\u001b[0m\u001b[0;34m,\u001b[0m\u001b[0;34m\u001b[0m\u001b[0m\n\u001b[1;32m     43\u001b[0m                           \u001b[0mtime_track\u001b[0m\u001b[0;34m,\u001b[0m \u001b[0mlevel\u001b[0m\u001b[0;34m,\u001b[0m \u001b[0mbuf_no\u001b[0m\u001b[0;34m,\u001b[0m \u001b[0mnorm\u001b[0m\u001b[0;34m,\u001b[0m \u001b[0mlev_len\u001b[0m\u001b[0;34m,\u001b[0m\u001b[0;34m\u001b[0m\u001b[0m\n\u001b[0;32m---> 44\u001b[0;31m                           timing)\n\u001b[0m\u001b[1;32m     45\u001b[0m \u001b[0;34m\u001b[0m\u001b[0m\n\u001b[1;32m     46\u001b[0m         \u001b[0;31m#TODO higher levels for multi tau\u001b[0m\u001b[0;34m\u001b[0m\u001b[0;34m\u001b[0m\u001b[0m\n",
      "\u001b[0;32m<ipython-input-67-c08597250ecd>\u001b[0m in \u001b[0;36m_one_time_process_time_stamps\u001b[0;34m(buf, G, past_intensity_norm, future_intensity_norm, label_array, num_bufs, num_pixels, track_time, level, buf_no, norm, lev_len, time_bin)\u001b[0m\n\u001b[1;32m     80\u001b[0m                               [G, past_intensity_norm, future_intensity_norm]):\n\u001b[1;32m     81\u001b[0m                 \u001b[0mbinned\u001b[0m \u001b[0;34m=\u001b[0m \u001b[0mnp\u001b[0m\u001b[0;34m.\u001b[0m\u001b[0mbincount\u001b[0m\u001b[0;34m(\u001b[0m\u001b[0mlabel_array\u001b[0m\u001b[0;34m,\u001b[0m \u001b[0mweights\u001b[0m\u001b[0;34m=\u001b[0m\u001b[0mw\u001b[0m\u001b[0;34m)\u001b[0m\u001b[0;34m[\u001b[0m\u001b[0;36m1\u001b[0m\u001b[0;34m:\u001b[0m\u001b[0;34m]\u001b[0m\u001b[0;34m\u001b[0m\u001b[0m\n\u001b[0;32m---> 82\u001b[0;31m                 arr[i] += ((binned / num_pixels -\n\u001b[0m\u001b[1;32m     83\u001b[0m                                   arr[i]) / track_time[level])\n\u001b[1;32m     84\u001b[0m     \u001b[0;32mreturn\u001b[0m \u001b[0;32mNone\u001b[0m  \u001b[0;31m# modifies arguments in place!\u001b[0m\u001b[0;34m\u001b[0m\u001b[0m\n",
      "\u001b[0;31mIndexError\u001b[0m: index 10 is out of bounds for axis 0 with size 2"
     ]
    }
   ],
   "source": [
    "lazy_one_time_using_time_stamps(synthetic_data, time, rois,\n",
    "                                10, num_levels=1)"
   ]
  },
  {
   "cell_type": "code",
   "execution_count": 59,
   "metadata": {
    "collapsed": false
   },
   "outputs": [
    {
     "name": "stdout",
     "output_type": "stream",
     "text": [
      "[0]\n",
      "[0, 10]\n",
      "[0, 15, 25]\n",
      "[0, 20, 35, 45]\n",
      "[0, 23, 43, 58, 68]\n",
      "[0, 25, 48, 68, 83, 93]\n",
      "[0, 26, 51, 74, 94, 109, 119]\n",
      "[0, 27, 53, 78, 101, 121, 136, 146]\n",
      "[0, 34, 61, 87, 112, 135, 155, 170, 180]\n"
     ]
    }
   ],
   "source": [
    "for time in t:\n",
    "    print (time)"
   ]
  },
  {
   "cell_type": "code",
   "execution_count": 63,
   "metadata": {
    "collapsed": false
   },
   "outputs": [
    {
     "data": {
      "text/plain": [
       "[[0],\n",
       " [0, 10],\n",
       " [0, 15, 25],\n",
       " [0, 20, 35, 45],\n",
       " [0, 23, 43, 58, 68],\n",
       " [0, 25, 48, 68, 83, 93],\n",
       " [0, 26, 51, 74, 94, 109, 119],\n",
       " [0, 27, 53, 78, 101, 121, 136, 146],\n",
       " [0, 34, 61, 87, 112, 135, 155, 170, 180]]"
      ]
     },
     "execution_count": 63,
     "metadata": {},
     "output_type": "execute_result"
    }
   ],
   "source": [
    "ab = itertools.chain(t)\n",
    "list(ab)"
   ]
  },
  {
   "cell_type": "code",
   "execution_count": 5,
   "metadata": {
    "collapsed": false
   },
   "outputs": [],
   "source": [
    "import skbeam.core.roi as roi\n",
    "label_array = []\n",
    "pixel_list = []\n",
    "\n",
    "label_array, pixel_list = roi.extract_label_indices(rois)"
   ]
  },
  {
   "cell_type": "code",
   "execution_count": 6,
   "metadata": {
    "collapsed": false
   },
   "outputs": [
    {
     "name": "stdout",
     "output_type": "stream",
     "text": [
      "3\n",
      "5\n"
     ]
    }
   ],
   "source": [
    "for i in (np.unique(rois)[1:]):\n",
    "    print (i)"
   ]
  },
  {
   "cell_type": "code",
   "execution_count": 7,
   "metadata": {
    "collapsed": false
   },
   "outputs": [
    {
     "data": {
      "text/plain": [
       "array([5, 5, 5, 5, 5, 5, 5, 5, 5, 5, 5, 5, 5, 5, 5, 5, 5, 5, 5, 5, 5, 5, 5,\n",
       "       5, 5, 5, 5, 5, 5, 5, 5, 5, 5, 5, 5, 5, 5, 5, 5, 5, 5, 5, 5, 5, 5, 5,\n",
       "       5, 5, 5, 5, 5, 5, 5, 5, 5, 5, 5, 5, 5, 5, 5, 5, 5, 5, 3, 3, 3, 3, 3,\n",
       "       3, 3, 3, 3, 3, 3, 3, 3, 3, 3, 3, 3, 3, 3, 3, 3, 3, 3, 3, 3, 3, 3, 3,\n",
       "       3, 3, 3, 3, 3, 3, 3, 3, 3, 3, 3, 3, 3, 3, 3, 3, 3, 3, 3, 3, 3, 3, 3,\n",
       "       3, 3, 3, 3, 3, 3, 3, 3, 3, 3, 3, 3, 3])"
      ]
     },
     "execution_count": 7,
     "metadata": {},
     "output_type": "execute_result"
    }
   ],
   "source": [
    "label_array"
   ]
  },
  {
   "cell_type": "code",
   "execution_count": 8,
   "metadata": {
    "collapsed": false
   },
   "outputs": [
    {
     "data": {
      "text/plain": [
       "array([   0,    1,    2,    3,    4,    5,    6,    7,   80,   81,   82,\n",
       "         83,   84,   85,   86,   87,  160,  161,  162,  163,  164,  165,\n",
       "        166,  167,  240,  241,  242,  243,  244,  245,  246,  247,  320,\n",
       "        321,  322,  323,  324,  325,  326,  327,  400,  401,  402,  403,\n",
       "        404,  405,  406,  407,  480,  481,  482,  483,  484,  485,  486,\n",
       "        487,  560,  561,  562,  563,  564,  565,  566,  567,  648,  649,\n",
       "        650,  651,  652,  653,  654,  655,  728,  729,  730,  731,  732,\n",
       "        733,  734,  735,  808,  809,  810,  811,  812,  813,  814,  815,\n",
       "        888,  889,  890,  891,  892,  893,  894,  895,  968,  969,  970,\n",
       "        971,  972,  973,  974,  975, 1048, 1049, 1050, 1051, 1052, 1053,\n",
       "       1054, 1055, 1128, 1129, 1130, 1131, 1132, 1133, 1134, 1135, 1208,\n",
       "       1209, 1210, 1211, 1212, 1213, 1214, 1215])"
      ]
     },
     "execution_count": 8,
     "metadata": {},
     "output_type": "execute_result"
    }
   ],
   "source": [
    "pixel_list"
   ]
  },
  {
   "cell_type": "code",
   "execution_count": 9,
   "metadata": {
    "collapsed": true
   },
   "outputs": [],
   "source": [
    "inner_radius = 3\n",
    "width = 1\n",
    "spacing = 1\n",
    "num_rings = 4\n",
    "center = (13, 14)\n",
    "\n",
    "edges = roi.ring_edges(inner_radius, width, spacing, num_rings)\n",
    "rings = roi.rings(edges, center, (25, 25))"
   ]
  },
  {
   "cell_type": "code",
   "execution_count": 10,
   "metadata": {
    "collapsed": true
   },
   "outputs": [],
   "source": [
    "label, pixels = roi.extract_label_indices(rings)"
   ]
  },
  {
   "cell_type": "code",
   "execution_count": 11,
   "metadata": {
    "collapsed": false
   },
   "outputs": [
    {
     "data": {
      "text/plain": [
       "array([4, 4, 4, 4, 4, 4, 4, 4, 4, 4, 4, 4, 4, 3, 3, 3, 3, 3, 3, 3, 4, 4, 4,\n",
       "       3, 3, 3, 3, 4, 4, 3, 3, 2, 2, 2, 2, 2, 2, 2, 3, 3, 4, 4, 3, 2, 2, 2,\n",
       "       2, 3, 4, 4, 3, 2, 2, 1, 1, 1, 1, 1, 2, 2, 3, 4, 4, 3, 2, 1, 1, 2, 3,\n",
       "       4, 4, 3, 2, 1, 1, 2, 3, 4, 4, 3, 2, 1, 1, 2, 3, 4, 4, 3, 2, 1, 1, 2,\n",
       "       3, 4, 4, 3, 2, 1, 1, 2, 3, 4, 4, 3, 2, 2, 1, 1, 1, 1, 1, 2, 2, 3, 4,\n",
       "       4, 3, 2, 2, 2, 2, 3, 4, 4, 3, 3, 2, 2, 2, 2, 2, 2, 2, 3, 3, 4, 4, 3,\n",
       "       3, 3, 3, 4, 4, 4, 3, 3, 3, 3, 3, 3, 3, 4, 4, 4, 4, 4, 4, 4, 4, 4, 4,\n",
       "       4, 4, 4])"
      ]
     },
     "execution_count": 11,
     "metadata": {},
     "output_type": "execute_result"
    }
   ],
   "source": [
    "label"
   ]
  },
  {
   "cell_type": "code",
   "execution_count": 12,
   "metadata": {
    "collapsed": false
   },
   "outputs": [
    {
     "data": {
      "text/plain": [
       "array([110, 111, 112, 113, 114, 115, 116, 117, 118, 134, 144, 157, 158,\n",
       "       161, 162, 163, 164, 165, 166, 167, 170, 171, 182, 184, 185, 193,\n",
       "       194, 196, 206, 208, 209, 211, 212, 213, 214, 215, 216, 217, 219,\n",
       "       220, 222, 230, 233, 235, 236, 242, 243, 245, 248, 255, 257, 259,\n",
       "       260, 262, 263, 264, 265, 266, 268, 269, 271, 273, 280, 282, 284,\n",
       "       286, 292, 294, 296, 298, 305, 307, 309, 311, 317, 319, 321, 323,\n",
       "       330, 332, 334, 336, 342, 344, 346, 348, 355, 357, 359, 361, 367,\n",
       "       369, 371, 373, 380, 382, 384, 386, 392, 394, 396, 398, 405, 407,\n",
       "       409, 410, 412, 413, 414, 415, 416, 418, 419, 421, 423, 430, 433,\n",
       "       435, 436, 442, 443, 445, 448, 456, 458, 459, 461, 462, 463, 464,\n",
       "       465, 466, 467, 469, 470, 472, 482, 484, 485, 493, 494, 496, 507,\n",
       "       508, 511, 512, 513, 514, 515, 516, 517, 520, 521, 534, 544, 560,\n",
       "       561, 562, 563, 564, 565, 566, 567, 568])"
      ]
     },
     "execution_count": 12,
     "metadata": {},
     "output_type": "execute_result"
    }
   ],
   "source": [
    "pixels"
   ]
  },
  {
   "cell_type": "code",
   "execution_count": 13,
   "metadata": {
    "collapsed": false
   },
   "outputs": [
    {
     "data": {
      "text/plain": [
       "array([110, 111, 112, 113, 114, 115, 116, 117, 118, 134, 144, 157, 158,\n",
       "       170, 171, 182, 196, 206, 222, 230, 248, 255, 273, 280, 298, 305,\n",
       "       323, 330, 348, 355, 373, 380, 398, 405, 423, 430, 448, 456, 472,\n",
       "       482, 496, 507, 508, 520, 521, 534, 544, 560, 561, 562, 563, 564,\n",
       "       565, 566, 567, 568])"
      ]
     },
     "execution_count": 13,
     "metadata": {},
     "output_type": "execute_result"
    }
   ],
   "source": [
    "pixels[label==4]"
   ]
  },
  {
   "cell_type": "code",
   "execution_count": 14,
   "metadata": {
    "collapsed": true
   },
   "outputs": [],
   "source": [
    "label_mapping = {label: n+1\n",
    "                     for n, label in enumerate(np.unique(label_array))}\n",
    "# remap the label array to go from 1 -> max(_labels)\n",
    "for label, n in label_mapping.items():\n",
    "        label_array[label_array == label] = n\n",
    "\n",
    "# number of ROI's\n",
    "num_rois = len(label_mapping)"
   ]
  },
  {
   "cell_type": "code",
   "execution_count": 15,
   "metadata": {
    "collapsed": false
   },
   "outputs": [
    {
     "data": {
      "text/plain": [
       "2"
      ]
     },
     "execution_count": 15,
     "metadata": {},
     "output_type": "execute_result"
    }
   ],
   "source": [
    "num_rois"
   ]
  },
  {
   "cell_type": "code",
   "execution_count": 16,
   "metadata": {
    "collapsed": false
   },
   "outputs": [
    {
     "data": {
      "text/plain": [
       "array([2, 2, 2, 2, 2, 2, 2, 2, 2, 2, 2, 2, 2, 2, 2, 2, 2, 2, 2, 2, 2, 2, 2,\n",
       "       2, 2, 2, 2, 2, 2, 2, 2, 2, 2, 2, 2, 2, 2, 2, 2, 2, 2, 2, 2, 2, 2, 2,\n",
       "       2, 2, 2, 2, 2, 2, 2, 2, 2, 2, 2, 2, 2, 2, 2, 2, 2, 2, 1, 1, 1, 1, 1,\n",
       "       1, 1, 1, 1, 1, 1, 1, 1, 1, 1, 1, 1, 1, 1, 1, 1, 1, 1, 1, 1, 1, 1, 1,\n",
       "       1, 1, 1, 1, 1, 1, 1, 1, 1, 1, 1, 1, 1, 1, 1, 1, 1, 1, 1, 1, 1, 1, 1,\n",
       "       1, 1, 1, 1, 1, 1, 1, 1, 1, 1, 1, 1, 1])"
      ]
     },
     "execution_count": 16,
     "metadata": {},
     "output_type": "execute_result"
    }
   ],
   "source": [
    "label_array"
   ]
  },
  {
   "cell_type": "code",
   "execution_count": 17,
   "metadata": {
    "collapsed": false
   },
   "outputs": [
    {
     "data": {
      "text/plain": [
       "array([   0,    1,    2,    3,    4,    5,    6,    7,   80,   81,   82,\n",
       "         83,   84,   85,   86,   87,  160,  161,  162,  163,  164,  165,\n",
       "        166,  167,  240,  241,  242,  243,  244,  245,  246,  247,  320,\n",
       "        321,  322,  323,  324,  325,  326,  327,  400,  401,  402,  403,\n",
       "        404,  405,  406,  407,  480,  481,  482,  483,  484,  485,  486,\n",
       "        487,  560,  561,  562,  563,  564,  565,  566,  567,  648,  649,\n",
       "        650,  651,  652,  653,  654,  655,  728,  729,  730,  731,  732,\n",
       "        733,  734,  735,  808,  809,  810,  811,  812,  813,  814,  815,\n",
       "        888,  889,  890,  891,  892,  893,  894,  895,  968,  969,  970,\n",
       "        971,  972,  973,  974,  975, 1048, 1049, 1050, 1051, 1052, 1053,\n",
       "       1054, 1055, 1128, 1129, 1130, 1131, 1132, 1133, 1134, 1135, 1208,\n",
       "       1209, 1210, 1211, 1212, 1213, 1214, 1215])"
      ]
     },
     "execution_count": 17,
     "metadata": {},
     "output_type": "execute_result"
    }
   ],
   "source": [
    "pixel_list"
   ]
  },
  {
   "cell_type": "code",
   "execution_count": 18,
   "metadata": {
    "collapsed": false
   },
   "outputs": [
    {
     "data": {
      "text/plain": [
       "array([  0,   1,   2,   3,   4,   5,   6,   7,  80,  81,  82,  83,  84,\n",
       "        85,  86,  87, 160, 161, 162, 163, 164, 165, 166, 167, 240, 241,\n",
       "       242, 243, 244, 245, 246, 247, 320, 321, 322, 323, 324, 325, 326,\n",
       "       327, 400, 401, 402, 403, 404, 405, 406, 407, 480, 481, 482, 483,\n",
       "       484, 485, 486, 487, 560, 561, 562, 563, 564, 565, 566, 567])"
      ]
     },
     "execution_count": 18,
     "metadata": {},
     "output_type": "execute_result"
    }
   ],
   "source": [
    "pixel_list[label_array==2]"
   ]
  },
  {
   "cell_type": "code",
   "execution_count": 19,
   "metadata": {
    "collapsed": false
   },
   "outputs": [
    {
     "data": {
      "text/plain": [
       "2"
      ]
     },
     "execution_count": 19,
     "metadata": {},
     "output_type": "execute_result"
    }
   ],
   "source": [
    "num_rois"
   ]
  },
  {
   "cell_type": "code",
   "execution_count": 20,
   "metadata": {
    "collapsed": false
   },
   "outputs": [
    {
     "name": "stdout",
     "output_type": "stream",
     "text": [
      "1\n",
      "2\n"
     ]
    }
   ],
   "source": [
    "for i in range(num_rois):\n",
    "    print (i+1)"
   ]
  },
  {
   "cell_type": "code",
   "execution_count": 21,
   "metadata": {
    "collapsed": false
   },
   "outputs": [],
   "source": [
    "(label_array, pixel_list, num_rois, num_pixels, lag_steps, buf, img_per_level, track_level, cur,\n",
    "            norm, lev_len)= _validate_and_transform_inputs(num_bufs, num_levels, rois)"
   ]
  },
  {
   "cell_type": "code",
   "execution_count": 22,
   "metadata": {
    "collapsed": false
   },
   "outputs": [
    {
     "data": {
      "text/plain": [
       "{0: array([[[ 0.,  0.,  0., ...,  0.,  0.,  0.],\n",
       "         [ 0.,  0.,  0., ...,  0.,  0.,  0.],\n",
       "         [ 0.,  0.,  0., ...,  0.,  0.,  0.],\n",
       "         [ 0.,  0.,  0., ...,  0.,  0.,  0.]],\n",
       " \n",
       "        [[ 0.,  0.,  0., ...,  0.,  0.,  0.],\n",
       "         [ 0.,  0.,  0., ...,  0.,  0.,  0.],\n",
       "         [ 0.,  0.,  0., ...,  0.,  0.,  0.],\n",
       "         [ 0.,  0.,  0., ...,  0.,  0.,  0.]],\n",
       " \n",
       "        [[ 0.,  0.,  0., ...,  0.,  0.,  0.],\n",
       "         [ 0.,  0.,  0., ...,  0.,  0.,  0.],\n",
       "         [ 0.,  0.,  0., ...,  0.,  0.,  0.],\n",
       "         [ 0.,  0.,  0., ...,  0.,  0.,  0.]],\n",
       " \n",
       "        [[ 0.,  0.,  0., ...,  0.,  0.,  0.],\n",
       "         [ 0.,  0.,  0., ...,  0.,  0.,  0.],\n",
       "         [ 0.,  0.,  0., ...,  0.,  0.,  0.],\n",
       "         [ 0.,  0.,  0., ...,  0.,  0.,  0.]],\n",
       " \n",
       "        [[ 0.,  0.,  0., ...,  0.,  0.,  0.],\n",
       "         [ 0.,  0.,  0., ...,  0.,  0.,  0.],\n",
       "         [ 0.,  0.,  0., ...,  0.,  0.,  0.],\n",
       "         [ 0.,  0.,  0., ...,  0.,  0.,  0.]]]),\n",
       " 1: array([[[ 0.,  0.,  0., ...,  0.,  0.,  0.],\n",
       "         [ 0.,  0.,  0., ...,  0.,  0.,  0.],\n",
       "         [ 0.,  0.,  0., ...,  0.,  0.,  0.],\n",
       "         [ 0.,  0.,  0., ...,  0.,  0.,  0.]],\n",
       " \n",
       "        [[ 0.,  0.,  0., ...,  0.,  0.,  0.],\n",
       "         [ 0.,  0.,  0., ...,  0.,  0.,  0.],\n",
       "         [ 0.,  0.,  0., ...,  0.,  0.,  0.],\n",
       "         [ 0.,  0.,  0., ...,  0.,  0.,  0.]],\n",
       " \n",
       "        [[ 0.,  0.,  0., ...,  0.,  0.,  0.],\n",
       "         [ 0.,  0.,  0., ...,  0.,  0.,  0.],\n",
       "         [ 0.,  0.,  0., ...,  0.,  0.,  0.],\n",
       "         [ 0.,  0.,  0., ...,  0.,  0.,  0.]],\n",
       " \n",
       "        [[ 0.,  0.,  0., ...,  0.,  0.,  0.],\n",
       "         [ 0.,  0.,  0., ...,  0.,  0.,  0.],\n",
       "         [ 0.,  0.,  0., ...,  0.,  0.,  0.],\n",
       "         [ 0.,  0.,  0., ...,  0.,  0.,  0.]],\n",
       " \n",
       "        [[ 0.,  0.,  0., ...,  0.,  0.,  0.],\n",
       "         [ 0.,  0.,  0., ...,  0.,  0.,  0.],\n",
       "         [ 0.,  0.,  0., ...,  0.,  0.,  0.],\n",
       "         [ 0.,  0.,  0., ...,  0.,  0.,  0.]]])}"
      ]
     },
     "execution_count": 22,
     "metadata": {},
     "output_type": "execute_result"
    }
   ],
   "source": [
    "buf"
   ]
  },
  {
   "cell_type": "code",
   "execution_count": 30,
   "metadata": {
    "collapsed": false
   },
   "outputs": [
    {
     "name": "stderr",
     "output_type": "stream",
     "text": [
      "/Users/sameera/mc/envs/py3k/lib/python3.4/site-packages/ipykernel/__main__.py:2: DeprecationWarning: using a non-integer number instead of an integer will result in an error in the future\n",
      "  from ipykernel import kernelapp as app\n"
     ]
    }
   ],
   "source": [
    "G = np.zeros((num_rois, (num_levels + 1) * num_bufs / 2),\n",
    "                 dtype=np.float64)"
   ]
  },
  {
   "cell_type": "code",
   "execution_count": 31,
   "metadata": {
    "collapsed": false
   },
   "outputs": [
    {
     "data": {
      "text/plain": [
       "(2, 12)"
      ]
     },
     "execution_count": 31,
     "metadata": {},
     "output_type": "execute_result"
    }
   ],
   "source": [
    "G.shape"
   ]
  },
  {
   "cell_type": "code",
   "execution_count": 32,
   "metadata": {
    "collapsed": false
   },
   "outputs": [
    {
     "data": {
      "text/plain": [
       "array([ 0.,  0.,  0.,  0.,  0.,  0.,  0.,  0.,  0.,  0.,  0.,  0.])"
      ]
     },
     "execution_count": 32,
     "metadata": {},
     "output_type": "execute_result"
    }
   ],
   "source": [
    "G[0]"
   ]
  },
  {
   "cell_type": "code",
   "execution_count": 34,
   "metadata": {
    "collapsed": false
   },
   "outputs": [
    {
     "data": {
      "text/plain": [
       "64"
      ]
     },
     "execution_count": 34,
     "metadata": {},
     "output_type": "execute_result"
    }
   ],
   "source": [
    "num_pixels[0]"
   ]
  },
  {
   "cell_type": "code",
   "execution_count": 35,
   "metadata": {
    "collapsed": false
   },
   "outputs": [
    {
     "data": {
      "text/plain": [
       "array([2, 2, 2, 2, 2, 2, 2, 2, 2, 2, 2, 2, 2, 2, 2, 2, 2, 2, 2, 2, 2, 2, 2,\n",
       "       2, 2, 2, 2, 2, 2, 2, 2, 2, 2, 2, 2, 2, 2, 2, 2, 2, 2, 2, 2, 2, 2, 2,\n",
       "       2, 2, 2, 2, 2, 2, 2, 2, 2, 2, 2, 2, 2, 2, 2, 2, 2, 2, 1, 1, 1, 1, 1,\n",
       "       1, 1, 1, 1, 1, 1, 1, 1, 1, 1, 1, 1, 1, 1, 1, 1, 1, 1, 1, 1, 1, 1, 1,\n",
       "       1, 1, 1, 1, 1, 1, 1, 1, 1, 1, 1, 1, 1, 1, 1, 1, 1, 1, 1, 1, 1, 1, 1,\n",
       "       1, 1, 1, 1, 1, 1, 1, 1, 1, 1, 1, 1, 1])"
      ]
     },
     "execution_count": 35,
     "metadata": {},
     "output_type": "execute_result"
    }
   ],
   "source": [
    "label_array"
   ]
  },
  {
   "cell_type": "code",
   "execution_count": null,
   "metadata": {
    "collapsed": true
   },
   "outputs": [],
   "source": []
  }
 ],
 "metadata": {
  "kernelspec": {
   "display_name": "Python 3",
   "language": "python",
   "name": "python3"
  },
  "language_info": {
   "codemirror_mode": {
    "name": "ipython",
    "version": 3
   },
   "file_extension": ".py",
   "mimetype": "text/x-python",
   "name": "python",
   "nbconvert_exporter": "python",
   "pygments_lexer": "ipython3",
   "version": "3.4.4"
  }
 },
 "nbformat": 4,
 "nbformat_minor": 0
}
