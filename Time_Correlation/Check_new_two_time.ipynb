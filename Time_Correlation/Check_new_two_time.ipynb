{
 "cells": [
  {
   "cell_type": "code",
   "execution_count": 1,
   "metadata": {
    "collapsed": true
   },
   "outputs": [],
   "source": [
    "import skbeam.core.roi as roi \n",
    "import skbeam.core.correlation as corr\n",
    "import skbeam.core.utils as utils\n",
    "\n",
    "import numpy as np\n",
    "\n",
    "import matplotlib.pyplot as plt\n",
    "%matplotlib inline\n",
    "from matplotlib.ticker import MaxNLocator\n",
    "from matplotlib.colors import LogNorm"
   ]
  },
  {
   "cell_type": "code",
   "execution_count": 135,
   "metadata": {
    "collapsed": true
   },
   "outputs": [],
   "source": [
    "num_levels = 1\n",
    "num_bufs = 10  # must be even\n",
    "xdim = 10\n",
    "ydim = 10\n",
    "stack_size = 10\n",
    "img_stack = np.random.randint(1, 3, (stack_size, xdim, ydim))\n",
    "rois = np.zeros_like(img_stack[0])\n",
    "# make sure that the ROIs can be any integers greater than 1. They do not\n",
    "# have to start at 1 and be continuous\n",
    "rois[0:xdim//10, 0:ydim//10] = 5\n",
    "rois[xdim//10:xdim//5, ydim//10:ydim//5] = 3"
   ]
  },
  {
   "cell_type": "code",
   "execution_count": 136,
   "metadata": {
    "collapsed": false,
    "scrolled": false
   },
   "outputs": [],
   "source": [
    "full_gen_two = corr.lazy_two_time(rois, img_stack, stack_size, num_bufs,\n",
    "                                 num_levels)\n",
    "for gen_result_two in full_gen_two:\n",
    "        pass\n",
    "\n",
    "two_time, lag_steps2 = corr.two_time_corr(rois, img_stack, stack_size,\n",
    "                                         num_bufs, num_levels)"
   ]
  },
  {
   "cell_type": "code",
   "execution_count": 137,
   "metadata": {
    "collapsed": false
   },
   "outputs": [
    {
     "data": {
      "image/png": "[encoded data removed]",
      "text/plain": [
       "<matplotlib.figure.Figure at 0x107a42310>"
      ]
     },
     "metadata": {},
     "output_type": "display_data"
    }
   ],
   "source": [
    "plt.imshow(two_time[:,:,0],vmin=0,  vmax='2', origin=\"lower\", cmap=\"gist_earth\")\n",
    "plt.title(\"Two Time Correlation - Duke_Silica_Data - Ring 2\")\n",
    "plt.xlabel(\"t1\")\n",
    "plt.ylabel(\"t2\")\n",
    "plt.show()"
   ]
  },
  {
   "cell_type": "code",
   "execution_count": 138,
   "metadata": {
    "collapsed": false
   },
   "outputs": [
    {
     "data": {
      "text/plain": [
       "array([ 1.,  1.,  1.,  1.,  1.,  1.,  1.,  1.,  1.,  1.])"
      ]
     },
     "execution_count": 138,
     "metadata": {},
     "output_type": "execute_result"
    }
   ],
   "source": [
    "np.diag(two_time[:,:,0])"
   ]
  },
  {
   "cell_type": "code",
   "execution_count": 139,
   "metadata": {
    "collapsed": true
   },
   "outputs": [],
   "source": [
    "def one_time_from_two_time(two_time_corr):\n",
    "    \"\"\"\n",
    "    Parameters\n",
    "    ----------\n",
    "    two_time_corr : array\n",
    "        matrix of two time correlation\n",
    "        shape (number of images, number of images, number of labels(ROI))\n",
    "\n",
    "    Returns\n",
    "    -------\n",
    "    one_time_corr : array\n",
    "        matrix of one time correlation\n",
    "        shape (number of images, number of labels(ROI))\n",
    "\n",
    "    \"\"\"\n",
    "    one_time_corr = np.zeros((two_time_corr.shape[0], two_time_corr.shape[2]))\n",
    "    for i in range(two_time_corr.shape[2]):\n",
    "        for j in range(two_time_corr.shape[0]):\n",
    "            one_time_corr[j, i] = np.trace(two_time_corr[:, :, i],\n",
    "                                           offset=j)/two_time_corr.shape[0]\n",
    "    return one_time_corr\n"
   ]
  },
  {
   "cell_type": "code",
   "execution_count": 140,
   "metadata": {
    "collapsed": false
   },
   "outputs": [
    {
     "data": {
      "text/plain": [
       "array([[ 1.,  1.,  1.,  1.,  1.,  1.,  1.,  1.,  1.,  1.],\n",
       "       [ 1.,  1.,  1.,  1.,  1.,  1.,  1.,  1.,  1.,  1.],\n",
       "       [ 1.,  1.,  1.,  1.,  1.,  1.,  1.,  1.,  1.,  1.],\n",
       "       [ 1.,  1.,  1.,  1.,  1.,  1.,  1.,  1.,  1.,  1.],\n",
       "       [ 1.,  1.,  1.,  1.,  1.,  1.,  1.,  1.,  1.,  1.],\n",
       "       [ 1.,  1.,  1.,  1.,  1.,  1.,  1.,  1.,  1.,  1.],\n",
       "       [ 1.,  1.,  1.,  1.,  1.,  1.,  1.,  1.,  1.,  1.],\n",
       "       [ 1.,  1.,  1.,  1.,  1.,  1.,  1.,  1.,  1.,  1.],\n",
       "       [ 1.,  1.,  1.,  1.,  1.,  1.,  1.,  1.,  1.,  1.],\n",
       "       [ 1.,  1.,  1.,  1.,  1.,  1.,  1.,  1.,  1.,  1.]])"
      ]
     },
     "execution_count": 140,
     "metadata": {},
     "output_type": "execute_result"
    }
   ],
   "source": [
    "two_time[:,:,0]"
   ]
  },
  {
   "cell_type": "code",
   "execution_count": 141,
   "metadata": {
    "collapsed": true
   },
   "outputs": [],
   "source": [
    "ty = one_time_from_two_time(two_time)"
   ]
  },
  {
   "cell_type": "code",
   "execution_count": 145,
   "metadata": {
    "collapsed": false
   },
   "outputs": [
    {
     "data": {
      "text/plain": [
       "array([ 1. ,  0.9,  0.8,  0.7,  0.6,  0.5,  0.4,  0.3,  0.2,  0.1])"
      ]
     },
     "execution_count": 145,
     "metadata": {},
     "output_type": "execute_result"
    }
   ],
   "source": [
    "ty[:,0]"
   ]
  },
  {
   "cell_type": "code",
   "execution_count": 106,
   "metadata": {
    "collapsed": false
   },
   "outputs": [
    {
     "data": {
      "text/plain": [
       "[<matplotlib.lines.Line2D at 0x1079ec790>,\n",
       " <matplotlib.lines.Line2D at 0x1079eca50>]"
      ]
     },
     "execution_count": 106,
     "metadata": {},
     "output_type": "execute_result"
    },
    {
     "data": {
      "image/png": "[encoded data removed]",
      "text/plain": [
       "<matplotlib.figure.Figure at 0x1078a1dd0>"
      ]
     },
     "metadata": {},
     "output_type": "display_data"
    }
   ],
   "source": [
    "plt.plot(ty)"
   ]
  },
  {
   "cell_type": "code",
   "execution_count": 12,
   "metadata": {
    "collapsed": true
   },
   "outputs": [],
   "source": [
    "img = np.random.randint(1, 3, (1, xdim, ydim))\n",
    "y = []\n",
    "for i in range(10):\n",
    "    y.append(img)\n",
    "    "
   ]
  },
  {
   "cell_type": "code",
   "execution_count": 13,
   "metadata": {
    "collapsed": false
   },
   "outputs": [],
   "source": [
    "two_time1, lag_steps1 = corr.two_time_corr(rois, y, stack_size,\n",
    "                                           num_bufs=10, num_levels=1)"
   ]
  },
  {
   "cell_type": "code",
   "execution_count": 14,
   "metadata": {
    "collapsed": false
   },
   "outputs": [
    {
     "data": {
      "text/plain": [
       "True"
      ]
     },
     "execution_count": 14,
     "metadata": {},
     "output_type": "execute_result"
    }
   ],
   "source": [
    "np.all(two_time1[:,:,1])"
   ]
  },
  {
   "cell_type": "code",
   "execution_count": 15,
   "metadata": {
    "collapsed": false
   },
   "outputs": [],
   "source": [
    "y.append(img_stack[0] for i in range(10))"
   ]
  },
  {
   "cell_type": "code",
   "execution_count": 16,
   "metadata": {
    "collapsed": false
   },
   "outputs": [
    {
     "data": {
      "text/plain": [
       "[array([[[1, 1, 2, ..., 1, 1, 1],\n",
       "         [1, 2, 2, ..., 2, 1, 2],\n",
       "         [2, 1, 1, ..., 1, 2, 2],\n",
       "         ..., \n",
       "         [1, 2, 1, ..., 2, 2, 1],\n",
       "         [2, 1, 1, ..., 2, 1, 1],\n",
       "         [1, 1, 1, ..., 1, 2, 2]]]), array([[[1, 1, 2, ..., 1, 1, 1],\n",
       "         [1, 2, 2, ..., 2, 1, 2],\n",
       "         [2, 1, 1, ..., 1, 2, 2],\n",
       "         ..., \n",
       "         [1, 2, 1, ..., 2, 2, 1],\n",
       "         [2, 1, 1, ..., 2, 1, 1],\n",
       "         [1, 1, 1, ..., 1, 2, 2]]]), array([[[1, 1, 2, ..., 1, 1, 1],\n",
       "         [1, 2, 2, ..., 2, 1, 2],\n",
       "         [2, 1, 1, ..., 1, 2, 2],\n",
       "         ..., \n",
       "         [1, 2, 1, ..., 2, 2, 1],\n",
       "         [2, 1, 1, ..., 2, 1, 1],\n",
       "         [1, 1, 1, ..., 1, 2, 2]]]), array([[[1, 1, 2, ..., 1, 1, 1],\n",
       "         [1, 2, 2, ..., 2, 1, 2],\n",
       "         [2, 1, 1, ..., 1, 2, 2],\n",
       "         ..., \n",
       "         [1, 2, 1, ..., 2, 2, 1],\n",
       "         [2, 1, 1, ..., 2, 1, 1],\n",
       "         [1, 1, 1, ..., 1, 2, 2]]]), array([[[1, 1, 2, ..., 1, 1, 1],\n",
       "         [1, 2, 2, ..., 2, 1, 2],\n",
       "         [2, 1, 1, ..., 1, 2, 2],\n",
       "         ..., \n",
       "         [1, 2, 1, ..., 2, 2, 1],\n",
       "         [2, 1, 1, ..., 2, 1, 1],\n",
       "         [1, 1, 1, ..., 1, 2, 2]]]), array([[[1, 1, 2, ..., 1, 1, 1],\n",
       "         [1, 2, 2, ..., 2, 1, 2],\n",
       "         [2, 1, 1, ..., 1, 2, 2],\n",
       "         ..., \n",
       "         [1, 2, 1, ..., 2, 2, 1],\n",
       "         [2, 1, 1, ..., 2, 1, 1],\n",
       "         [1, 1, 1, ..., 1, 2, 2]]]), array([[[1, 1, 2, ..., 1, 1, 1],\n",
       "         [1, 2, 2, ..., 2, 1, 2],\n",
       "         [2, 1, 1, ..., 1, 2, 2],\n",
       "         ..., \n",
       "         [1, 2, 1, ..., 2, 2, 1],\n",
       "         [2, 1, 1, ..., 2, 1, 1],\n",
       "         [1, 1, 1, ..., 1, 2, 2]]]), array([[[1, 1, 2, ..., 1, 1, 1],\n",
       "         [1, 2, 2, ..., 2, 1, 2],\n",
       "         [2, 1, 1, ..., 1, 2, 2],\n",
       "         ..., \n",
       "         [1, 2, 1, ..., 2, 2, 1],\n",
       "         [2, 1, 1, ..., 2, 1, 1],\n",
       "         [1, 1, 1, ..., 1, 2, 2]]]), array([[[1, 1, 2, ..., 1, 1, 1],\n",
       "         [1, 2, 2, ..., 2, 1, 2],\n",
       "         [2, 1, 1, ..., 1, 2, 2],\n",
       "         ..., \n",
       "         [1, 2, 1, ..., 2, 2, 1],\n",
       "         [2, 1, 1, ..., 2, 1, 1],\n",
       "         [1, 1, 1, ..., 1, 2, 2]]]), array([[[1, 1, 2, ..., 1, 1, 1],\n",
       "         [1, 2, 2, ..., 2, 1, 2],\n",
       "         [2, 1, 1, ..., 1, 2, 2],\n",
       "         ..., \n",
       "         [1, 2, 1, ..., 2, 2, 1],\n",
       "         [2, 1, 1, ..., 2, 1, 1],\n",
       "         [1, 1, 1, ..., 1, 2, 2]]]), <generator object <genexpr> at 0x10779a8c0>]"
      ]
     },
     "execution_count": 16,
     "metadata": {},
     "output_type": "execute_result"
    }
   ],
   "source": [
    "y"
   ]
  },
  {
   "cell_type": "code",
   "execution_count": 17,
   "metadata": {
    "collapsed": true
   },
   "outputs": [],
   "source": [
    "import numpy as np\n",
    "from numpy.testing import assert_array_almost_equal"
   ]
  },
  {
   "cell_type": "code",
   "execution_count": 18,
   "metadata": {
    "collapsed": false
   },
   "outputs": [
    {
     "data": {
      "text/plain": [
       "[array([[2, 2, 2, ..., 2, 1, 1],\n",
       "        [1, 1, 1, ..., 2, 2, 2],\n",
       "        [2, 2, 2, ..., 2, 1, 2],\n",
       "        ..., \n",
       "        [1, 1, 1, ..., 1, 2, 2],\n",
       "        [1, 1, 1, ..., 2, 2, 2],\n",
       "        [1, 1, 2, ..., 1, 2, 2]]), array([[2, 2, 2, ..., 2, 1, 1],\n",
       "        [1, 1, 1, ..., 2, 2, 2],\n",
       "        [2, 2, 2, ..., 2, 1, 2],\n",
       "        ..., \n",
       "        [1, 1, 1, ..., 1, 2, 2],\n",
       "        [1, 1, 1, ..., 2, 2, 2],\n",
       "        [1, 1, 2, ..., 1, 2, 2]]), array([[2, 2, 2, ..., 2, 1, 1],\n",
       "        [1, 1, 1, ..., 2, 2, 2],\n",
       "        [2, 2, 2, ..., 2, 1, 2],\n",
       "        ..., \n",
       "        [1, 1, 1, ..., 1, 2, 2],\n",
       "        [1, 1, 1, ..., 2, 2, 2],\n",
       "        [1, 1, 2, ..., 1, 2, 2]]), array([[2, 2, 2, ..., 2, 1, 1],\n",
       "        [1, 1, 1, ..., 2, 2, 2],\n",
       "        [2, 2, 2, ..., 2, 1, 2],\n",
       "        ..., \n",
       "        [1, 1, 1, ..., 1, 2, 2],\n",
       "        [1, 1, 1, ..., 2, 2, 2],\n",
       "        [1, 1, 2, ..., 1, 2, 2]]), array([[2, 2, 2, ..., 2, 1, 1],\n",
       "        [1, 1, 1, ..., 2, 2, 2],\n",
       "        [2, 2, 2, ..., 2, 1, 2],\n",
       "        ..., \n",
       "        [1, 1, 1, ..., 1, 2, 2],\n",
       "        [1, 1, 1, ..., 2, 2, 2],\n",
       "        [1, 1, 2, ..., 1, 2, 2]]), array([[2, 2, 2, ..., 2, 1, 1],\n",
       "        [1, 1, 1, ..., 2, 2, 2],\n",
       "        [2, 2, 2, ..., 2, 1, 2],\n",
       "        ..., \n",
       "        [1, 1, 1, ..., 1, 2, 2],\n",
       "        [1, 1, 1, ..., 2, 2, 2],\n",
       "        [1, 1, 2, ..., 1, 2, 2]]), array([[2, 2, 2, ..., 2, 1, 1],\n",
       "        [1, 1, 1, ..., 2, 2, 2],\n",
       "        [2, 2, 2, ..., 2, 1, 2],\n",
       "        ..., \n",
       "        [1, 1, 1, ..., 1, 2, 2],\n",
       "        [1, 1, 1, ..., 2, 2, 2],\n",
       "        [1, 1, 2, ..., 1, 2, 2]]), array([[2, 2, 2, ..., 2, 1, 1],\n",
       "        [1, 1, 1, ..., 2, 2, 2],\n",
       "        [2, 2, 2, ..., 2, 1, 2],\n",
       "        ..., \n",
       "        [1, 1, 1, ..., 1, 2, 2],\n",
       "        [1, 1, 1, ..., 2, 2, 2],\n",
       "        [1, 1, 2, ..., 1, 2, 2]]), array([[2, 2, 2, ..., 2, 1, 1],\n",
       "        [1, 1, 1, ..., 2, 2, 2],\n",
       "        [2, 2, 2, ..., 2, 1, 2],\n",
       "        ..., \n",
       "        [1, 1, 1, ..., 1, 2, 2],\n",
       "        [1, 1, 1, ..., 2, 2, 2],\n",
       "        [1, 1, 2, ..., 1, 2, 2]]), array([[2, 2, 2, ..., 2, 1, 1],\n",
       "        [1, 1, 1, ..., 2, 2, 2],\n",
       "        [2, 2, 2, ..., 2, 1, 2],\n",
       "        ..., \n",
       "        [1, 1, 1, ..., 1, 2, 2],\n",
       "        [1, 1, 1, ..., 2, 2, 2],\n",
       "        [1, 1, 2, ..., 1, 2, 2]])]"
      ]
     },
     "execution_count": 18,
     "metadata": {},
     "output_type": "execute_result"
    }
   ],
   "source": [
    "y = []\n",
    "for i in range(10):\n",
    "        y.append(img_stack[0])\n",
    "y"
   ]
  },
  {
   "cell_type": "code",
   "execution_count": 20,
   "metadata": {
    "collapsed": false
   },
   "outputs": [],
   "source": [
    "two_time, lag_steps = corr.two_time_corr(rois, np.asarray(y),\n",
    "                                         10, num_bufs=10,\n",
    "                                         num_levels=1)\n",
    "\n",
    "#assert (np.all(two_time)==False)"
   ]
  },
  {
   "cell_type": "code",
   "execution_count": 21,
   "metadata": {
    "collapsed": false
   },
   "outputs": [
    {
     "data": {
      "text/plain": [
       "array([ 0.])"
      ]
     },
     "execution_count": 21,
     "metadata": {},
     "output_type": "execute_result"
    }
   ],
   "source": [
    "u = np.zeros(1)\n",
    "u"
   ]
  },
  {
   "cell_type": "code",
   "execution_count": 22,
   "metadata": {
    "collapsed": false
   },
   "outputs": [
    {
     "name": "stdout",
     "output_type": "stream",
     "text": [
      "1\n",
      "2\n",
      "3\n",
      "4\n",
      "5\n"
     ]
    }
   ],
   "source": [
    "for i in range(5):\n",
    "    u[0] += 1\n",
    "    print int(u[0])"
   ]
  },
  {
   "cell_type": "code",
   "execution_count": 23,
   "metadata": {
    "collapsed": true
   },
   "outputs": [],
   "source": [
    "def setup():\n",
    "    global num_levels, num_bufs, xdim, ydim, stack_size, img_stack, rois\n",
    "    num_levels = 6\n",
    "    num_bufs = 4  # must be even\n",
    "    xdim = 256\n",
    "    ydim = 512\n",
    "    stack_size = 100\n",
    "    img_stack = np.random.randint(1, 3, (stack_size, xdim, ydim))\n",
    "    rois = np.zeros_like(img_stack[0])\n",
    "    # make sure that the ROIs can be any integers greater than 1.\n",
    "    # They do not have to start at 1 and be continuous\n",
    "    rois[0:xdim//10, 0:ydim//10] = 5\n",
    "    rois[xdim//10:xdim//5, ydim//10:ydim//5] = 3\n",
    "    \n",
    "def test_lazy_vs_original():\n",
    "    setup()\n",
    "    # run the correlation on the full stack\n",
    "    full_gen_one = lazy_one_time(\n",
    "        img_stack, num_levels, num_bufs, rois)\n",
    "    for gen_result_one in full_gen_one:\n",
    "        pass\n",
    "\n",
    "    g2, lag_steps = multi_tau_auto_corr(num_levels, num_bufs,\n",
    "                                        rois, img_stack)\n",
    "\n",
    "    assert np.all(g2 == gen_result_one.g2)\n",
    "    assert np.all(lag_steps == gen_result_one.lag_steps)\n",
    "\n",
    "    full_gen_two = lazy_two_time(rois, img_stack[:50], 50,\n",
    "                                 num_bufs=4, num_levels=2)\n",
    "    for gen_result_two in full_gen_two:\n",
    "        pass\n",
    "\n",
    "    two_time, lag_steps2 = two_time_corr(rois, img_stack[:50], 50,\n",
    "                                         num_bufs=4, num_levels=2)\n",
    "\n",
    "    assert np.all(two_time == gen_result_two.g2)\n",
    "    assert np.all(lag_steps2 == gen_result_two.lag_steps)\n"
   ]
  },
  {
   "cell_type": "code",
   "execution_count": 26,
   "metadata": {
    "collapsed": false
   },
   "outputs": [],
   "source": [
    "two_time, lag_steps2 = corr.two_time_corr(rois, img_stack[:50], 50,\n",
    "                                         num_bufs=4, num_levels=2)\n",
    "\n"
   ]
  },
  {
   "cell_type": "code",
   "execution_count": 29,
   "metadata": {
    "collapsed": false
   },
   "outputs": [],
   "source": [
    "full_gen_two = corr.lazy_two_time(rois, img_stack[:50], 50,\n",
    "                                 num_bufs=4, num_levels=2)\n",
    "for gen_result_two in full_gen_two:\n",
    "        pass"
   ]
  },
  {
   "cell_type": "code",
   "execution_count": 30,
   "metadata": {
    "collapsed": true
   },
   "outputs": [],
   "source": [
    "assert np.all(two_time == gen_result_two.g2)"
   ]
  },
  {
   "cell_type": "code",
   "execution_count": 31,
   "metadata": {
    "collapsed": true
   },
   "outputs": [],
   "source": [
    "assert np.all(lag_steps2 == gen_result_two.lag_steps)\n"
   ]
  },
  {
   "cell_type": "code",
   "execution_count": 33,
   "metadata": {
    "collapsed": false
   },
   "outputs": [],
   "source": [
    " full_gen = corr.two_time_corr(rois, img_stack, stack_size\n",
    "                             ,stack_size, 1)\n"
   ]
  },
  {
   "cell_type": "code",
   "execution_count": 34,
   "metadata": {
    "collapsed": true
   },
   "outputs": [],
   "source": [
    "full_gen = corr.lazy_two_time(rois, img_stack, stack_size\n",
    "                             ,stack_size, 1)\n",
    "for full_result in full_gen:\n",
    "        pass\n"
   ]
  },
  {
   "cell_type": "code",
   "execution_count": 35,
   "metadata": {
    "collapsed": true
   },
   "outputs": [],
   "source": [
    "# run the correlation on the first half\n",
    "gen_first_half = corr.lazy_two_time(rois, img_stack[:stack_size//2], stack_size,\n",
    "                                   num_bufs=stack_size, num_levels=1)\n",
    "for first_half_result in gen_first_half:\n",
    "        pass"
   ]
  },
  {
   "cell_type": "code",
   "execution_count": 37,
   "metadata": {
    "collapsed": false
   },
   "outputs": [],
   "source": [
    "# run the correlation on the second half by passing in the state from the\n",
    "    # first half\n",
    "gen_second_half = corr.lazy_two_time(rois, img_stack[stack_size//2:], stack_size,\n",
    "                                   num_bufs=stack_size, num_levels=1,\n",
    "                                   two_time_internal_state=first_half_result.internal_state)\n"
   ]
  },
  {
   "cell_type": "code",
   "execution_count": 38,
   "metadata": {
    "collapsed": true
   },
   "outputs": [],
   "source": [
    "for second_half_result in gen_second_half:\n",
    "        pass\n"
   ]
  },
  {
   "cell_type": "code",
   "execution_count": 39,
   "metadata": {
    "collapsed": true
   },
   "outputs": [],
   "source": [
    " assert np.all(full_result.g2 ==\n",
    "                  second_half_result.g2)\n"
   ]
  },
  {
   "cell_type": "code",
   "execution_count": 40,
   "metadata": {
    "collapsed": true
   },
   "outputs": [],
   "source": [
    "bad_list = [1, 5, 6,7]"
   ]
  },
  {
   "cell_type": "code",
   "execution_count": 45,
   "metadata": {
    "collapsed": false
   },
   "outputs": [],
   "source": [
    "img_num=6\n",
    "if 10 in bad_list:\n",
    "    print (\"yes\")"
   ]
  },
  {
   "cell_type": "code",
   "execution_count": 48,
   "metadata": {
    "collapsed": false
   },
   "outputs": [
    {
     "data": {
      "text/plain": [
       "array([[ nan,  nan],\n",
       "       [ nan,  nan]])"
      ]
     },
     "execution_count": 48,
     "metadata": {},
     "output_type": "execute_result"
    }
   ],
   "source": [
    "np.nan*np.ones((2,2))"
   ]
  },
  {
   "cell_type": "code",
   "execution_count": 49,
   "metadata": {
    "collapsed": true
   },
   "outputs": [],
   "source": [
    "y1 = np.ones((2, 2)) + np.nan*np.ones((2,2))"
   ]
  },
  {
   "cell_type": "code",
   "execution_count": 50,
   "metadata": {
    "collapsed": false
   },
   "outputs": [
    {
     "data": {
      "text/plain": [
       "array([[ nan,  nan],\n",
       "       [ nan,  nan]])"
      ]
     },
     "execution_count": 50,
     "metadata": {},
     "output_type": "execute_result"
    }
   ],
   "source": [
    "y1\n"
   ]
  },
  {
   "cell_type": "code",
   "execution_count": 51,
   "metadata": {
    "collapsed": true
   },
   "outputs": [],
   "source": [
    "y2 = np.ones((2,2))"
   ]
  },
  {
   "cell_type": "code",
   "execution_count": 52,
   "metadata": {
    "collapsed": false
   },
   "outputs": [
    {
     "data": {
      "text/plain": [
       "array([[ nan,  nan],\n",
       "       [ nan,  nan]])"
      ]
     },
     "execution_count": 52,
     "metadata": {},
     "output_type": "execute_result"
    }
   ],
   "source": [
    "y1*y2"
   ]
  },
  {
   "cell_type": "code",
   "execution_count": 53,
   "metadata": {
    "collapsed": true
   },
   "outputs": [],
   "source": [
    "y0=np.ones((2, 2))"
   ]
  },
  {
   "cell_type": "code",
   "execution_count": 54,
   "metadata": {
    "collapsed": false
   },
   "outputs": [
    {
     "data": {
      "text/plain": [
       "array([[ 1.,  1.],\n",
       "       [ 1.,  1.]])"
      ]
     },
     "execution_count": 54,
     "metadata": {},
     "output_type": "execute_result"
    }
   ],
   "source": [
    "y0\n"
   ]
  },
  {
   "cell_type": "code",
   "execution_count": 55,
   "metadata": {
    "collapsed": false
   },
   "outputs": [
    {
     "data": {
      "text/plain": [
       "array([[ nan,  nan],\n",
       "       [ nan,  nan]])"
      ]
     },
     "execution_count": 55,
     "metadata": {},
     "output_type": "execute_result"
    }
   ],
   "source": [
    "y0 +y1"
   ]
  },
  {
   "cell_type": "code",
   "execution_count": 56,
   "metadata": {
    "collapsed": false
   },
   "outputs": [
    {
     "data": {
      "text/plain": [
       "array([[ nan,  nan],\n",
       "       [ nan,  nan]])"
      ]
     },
     "execution_count": 56,
     "metadata": {},
     "output_type": "execute_result"
    }
   ],
   "source": [
    "y0*y1"
   ]
  },
  {
   "cell_type": "code",
   "execution_count": 96,
   "metadata": {
    "collapsed": false
   },
   "outputs": [
    {
     "data": {
      "text/plain": [
       "array([[[False, False],\n",
       "        [False, False]],\n",
       "\n",
       "       [[ True,  True],\n",
       "        [ True,  True]],\n",
       "\n",
       "       [[ True,  True],\n",
       "        [ True,  True]]], dtype=bool)"
      ]
     },
     "execution_count": 96,
     "metadata": {},
     "output_type": "execute_result"
    }
   ],
   "source": [
    "~np.isnan((y1,y2, y0))"
   ]
  },
  {
   "cell_type": "code",
   "execution_count": 98,
   "metadata": {
    "collapsed": true
   },
   "outputs": [],
   "source": [
    "y = ((y0, y1, y2))"
   ]
  },
  {
   "cell_type": "code",
   "execution_count": 100,
   "metadata": {
    "collapsed": false
   },
   "outputs": [
    {
     "name": "stderr",
     "output_type": "stream",
     "text": [
      "/Users/sameera/mc/envs/work/lib/python2.7/site-packages/numpy/lib/function_base.py:3830: FutureWarning: in the future insert will treat boolean arrays and array-likes as boolean index instead of casting it to integer\n",
      "  \"as boolean index instead of casting it to integer\", FutureWarning)\n"
     ]
    }
   ],
   "source": [
    "yu = np.delete(list, np.isnan(y))"
   ]
  },
  {
   "cell_type": "code",
   "execution_count": 104,
   "metadata": {
    "collapsed": false
   },
   "outputs": [
    {
     "ename": "TypeError",
     "evalue": "only length-1 arrays can be converted to Python scalars",
     "output_type": "error",
     "traceback": [
      "\u001b[0;31m---------------------------------------------------------------------------\u001b[0m",
      "\u001b[0;31mTypeError\u001b[0m                                 Traceback (most recent call last)",
      "\u001b[0;32m<ipython-input-104-9d73b7157620>\u001b[0m in \u001b[0;36m<module>\u001b[0;34m()\u001b[0m\n\u001b[0;32m----> 1\u001b[0;31m \u001b[0myu\u001b[0m \u001b[0;34m=\u001b[0m \u001b[0mlist\u001b[0m\u001b[0;34m(\u001b[0m\u001b[0my\u001b[0m\u001b[0;34m)\u001b[0m\u001b[0;34m.\u001b[0m\u001b[0mpop\u001b[0m\u001b[0;34m(\u001b[0m\u001b[0mnp\u001b[0m\u001b[0;34m.\u001b[0m\u001b[0misnan\u001b[0m\u001b[0;34m(\u001b[0m\u001b[0my\u001b[0m\u001b[0;34m)\u001b[0m\u001b[0;34m)\u001b[0m\u001b[0;34m\u001b[0m\u001b[0m\n\u001b[0m",
      "\u001b[0;31mTypeError\u001b[0m: only length-1 arrays can be converted to Python scalars"
     ]
    }
   ],
   "source": [
    "yu = list(y).pop(np.isnan(y))"
   ]
  },
  {
   "cell_type": "code",
   "execution_count": 63,
   "metadata": {
    "collapsed": false
   },
   "outputs": [
    {
     "data": {
      "text/plain": [
       "(array([[ 1.,  1.],\n",
       "        [ 1.,  1.]]), array([[ nan,  nan],\n",
       "        [ nan,  nan]]), array([[ 1.,  1.],\n",
       "        [ 1.,  1.]]))"
      ]
     },
     "execution_count": 63,
     "metadata": {},
     "output_type": "execute_result"
    }
   ],
   "source": [
    "y0, y1, y2"
   ]
  },
  {
   "cell_type": "code",
   "execution_count": null,
   "metadata": {
    "collapsed": true
   },
   "outputs": [],
   "source": []
  }
 ],
 "metadata": {
  "kernelspec": {
   "display_name": "Python 2",
   "language": "python",
   "name": "python2"
  },
  "language_info": {
   "codemirror_mode": {
    "name": "ipython",
    "version": 2
   },
   "file_extension": ".py",
   "mimetype": "text/x-python",
   "name": "python",
   "nbconvert_exporter": "python",
   "pygments_lexer": "ipython2",
   "version": "2.7.11"
  }
 },
 "nbformat": 4,
 "nbformat_minor": 0
}
