{
 "cells": [
  {
   "cell_type": "code",
   "execution_count": 1,
   "metadata": {
    "collapsed": false
   },
   "outputs": [],
   "source": [
    "import skbeam.core.roi as roi \n",
    "import skbeam.core.correlation as corr\n",
    "import skbeam.core.utils as utils\n",
    "import skbeam.core.mask as mask\n",
    "\n",
    "import numpy as np\n",
    "\n",
    "import matplotlib.pyplot as plt\n",
    "%matplotlib inline\n",
    "from matplotlib.ticker import MaxNLocator\n",
    "from matplotlib.colors import LogNorm"
   ]
  },
  {
   "cell_type": "code",
   "execution_count": 2,
   "metadata": {
    "collapsed": true
   },
   "outputs": [],
   "source": [
    "num_levels = 3\n",
    "num_bufs = 8  # must be even\n",
    "xdim = 200\n",
    "ydim = 200\n",
    "stack_size = 500\n",
    "img_stack = np.random.randint(1, 10, (stack_size, xdim, ydim))\n",
    "rois = np.zeros_like(img_stack[0])\n",
    "# make sure that the ROIs can be any integers greater than 1. They do not\n",
    "# have to start at 1 and be continuous\n",
    "rois[0:xdim//10, 0:ydim//10] = 5\n",
    "rois[xdim//10:xdim//5, ydim//10:ydim//5] = 3"
   ]
  },
  {
   "cell_type": "code",
   "execution_count": 3,
   "metadata": {
    "collapsed": false
   },
   "outputs": [],
   "source": [
    "#rois"
   ]
  },
  {
   "cell_type": "code",
   "execution_count": 4,
   "metadata": {
    "collapsed": false,
    "scrolled": false
   },
   "outputs": [],
   "source": [
    "g2, lag_steps = corr.multi_tau_auto_corr(num_levels, num_bufs,\n",
    "                                        rois, img_stack)"
   ]
  },
  {
   "cell_type": "code",
   "execution_count": 5,
   "metadata": {
    "collapsed": true
   },
   "outputs": [],
   "source": [
    "bad_list = [4, 6, 167, 200, 456]"
   ]
  },
  {
   "cell_type": "code",
   "execution_count": 6,
   "metadata": {
    "collapsed": true
   },
   "outputs": [],
   "source": [
    "imgs = mask.bad_to_nan_gen(img_stack, bad_list)"
   ]
  },
  {
   "cell_type": "code",
   "execution_count": 7,
   "metadata": {
    "collapsed": false
   },
   "outputs": [
    {
     "data": {
      "text/plain": [
       "<generator object bad_to_nan_gen at 0x106d265f0>"
      ]
     },
     "execution_count": 7,
     "metadata": {},
     "output_type": "execute_result"
    }
   ],
   "source": [
    "imgs"
   ]
  },
  {
   "cell_type": "code",
   "execution_count": 8,
   "metadata": {
    "collapsed": false
   },
   "outputs": [],
   "source": [
    "images = []\n",
    "for result in imgs:\n",
    "    images.append(result)"
   ]
  },
  {
   "cell_type": "code",
   "execution_count": 9,
   "metadata": {
    "collapsed": false,
    "scrolled": false
   },
   "outputs": [
    {
     "data": {
      "text/plain": [
       "(3, 8, (500, 200, 200))"
      ]
     },
     "execution_count": 9,
     "metadata": {},
     "output_type": "execute_result"
    }
   ],
   "source": [
    "num_levels, num_bufs, np.asarray(images).shape"
   ]
  },
  {
   "cell_type": "code",
   "execution_count": 10,
   "metadata": {
    "collapsed": false,
    "scrolled": false
   },
   "outputs": [],
   "source": [
    "g2_n, lag_steps_n = corr.multi_tau_auto_corr(num_levels, num_bufs,\n",
    "                                        rois, np.asarray(images))"
   ]
  },
  {
   "cell_type": "code",
   "execution_count": 11,
   "metadata": {
    "collapsed": false
   },
   "outputs": [
    {
     "data": {
      "text/plain": [
       "((16, 2), (16, 2))"
      ]
     },
     "execution_count": 11,
     "metadata": {},
     "output_type": "execute_result"
    }
   ],
   "source": [
    "g2.shape, g2_n.shape"
   ]
  },
  {
   "cell_type": "code",
   "execution_count": 12,
   "metadata": {
    "collapsed": false
   },
   "outputs": [
    {
     "data": {
      "text/plain": [
       "array([[ 1.26612326,  1.26733327],\n",
       "       [ 0.99989991,  1.00059554],\n",
       "       [ 1.00007772,  1.00085285],\n",
       "       [ 0.99948876,  1.00049869],\n",
       "       [ 0.99930778,  0.99988689],\n",
       "       [ 1.00061323,  1.00034901],\n",
       "       [ 0.99973492,  1.00035967],\n",
       "       [ 1.00068439,  1.00042408],\n",
       "       [ 1.00019778,  1.00024086],\n",
       "       [ 1.0003177 ,  0.99967533],\n",
       "       [ 0.99946801,  0.99962781],\n",
       "       [ 1.00056269,  1.00038933],\n",
       "       [ 1.00005463,  1.00053529],\n",
       "       [ 0.99990029,  0.99943365],\n",
       "       [ 1.00009662,  1.00025492],\n",
       "       [ 0.99974793,  0.99974887]])"
      ]
     },
     "execution_count": 12,
     "metadata": {},
     "output_type": "execute_result"
    }
   ],
   "source": [
    "g2_n"
   ]
  },
  {
   "cell_type": "code",
   "execution_count": 13,
   "metadata": {
    "collapsed": false
   },
   "outputs": [
    {
     "name": "stdout",
     "output_type": "stream",
     "text": [
      "19\n",
      "18\n",
      "17\n",
      "16\n"
     ]
    }
   ],
   "source": [
    "ty = 20\n",
    "for i in range(4):\n",
    "    ty -=1\n",
    "    print ty"
   ]
  },
  {
   "cell_type": "code",
   "execution_count": 14,
   "metadata": {
    "collapsed": false,
    "scrolled": false
   },
   "outputs": [
    {
     "data": {
      "image/png": "[encoded data removed]",
      "text/plain": [
       "<matplotlib.figure.Figure at 0x10440aed0>"
      ]
     },
     "metadata": {},
     "output_type": "display_data"
    }
   ],
   "source": [
    "plt.plot(lag_steps, g2[:, 1], \"b\")\n",
    "plt.plot(lag_steps, g2_n[:,1], \"g\")\n",
    "plt.show()"
   ]
  },
  {
   "cell_type": "code",
   "execution_count": 39,
   "metadata": {
    "collapsed": false
   },
   "outputs": [],
   "source": [
    "num_levels = 5\n",
    "num_bufs = 8  # must be even\n",
    "xdim = 256\n",
    "ydim = 512\n",
    "stack_size = 100\n",
    "img_stack = np.random.randint(1, 3, (stack_size, xdim, ydim))\n",
    "rois = np.zeros_like(img_stack[0])\n",
    "# make sure that the ROIs can be any integers greater than 1.\n",
    "# They do not have to start at 1 and be continuous\n",
    "rois[0:xdim//10, 0:ydim//10] = 5\n",
    "rois[xdim//10:xdim//5, ydim//10:ydim//5] = 3"
   ]
  },
  {
   "cell_type": "code",
   "execution_count": 40,
   "metadata": {
    "collapsed": false
   },
   "outputs": [],
   "source": [
    "g21, lag_steps = corr.multi_tau_auto_corr(num_levels, num_bufs,\n",
    "                                        rois, img_stack)\n",
    "bad_img_list = [3, 21, 35, 48]\n",
    "\n",
    "images = mask.bad_to_nan_gen(img_stack, bad_img_list)\n"
   ]
  },
  {
   "cell_type": "code",
   "execution_count": 41,
   "metadata": {
    "collapsed": false
   },
   "outputs": [],
   "source": [
    "g2_n1, lag_steps_n = corr.multi_tau_auto_corr(num_levels, num_bufs,\n",
    "                                            rois, images)\n"
   ]
  },
  {
   "cell_type": "code",
   "execution_count": 42,
   "metadata": {
    "collapsed": false
   },
   "outputs": [
    {
     "data": {
      "text/plain": [
       "((20, 2), (22, 2))"
      ]
     },
     "execution_count": 42,
     "metadata": {},
     "output_type": "execute_result"
    }
   ],
   "source": [
    "g2_n1.shape, g21.shape"
   ]
  },
  {
   "cell_type": "code",
   "execution_count": 37,
   "metadata": {
    "collapsed": false
   },
   "outputs": [
    {
     "data": {
      "text/plain": [
       "(array([ 1.11115801,  1.00009481,  0.99959973,  1.00014344,  1.00009953,\n",
       "         0.99912858,  1.00019436,  1.00012077,  0.99983236,  0.99998322,\n",
       "         1.00024383,  1.00007792,  0.99986022,  0.9997441 ,  1.00035408,\n",
       "         0.99982425,  0.99990374,  0.99989068,  0.99990919,  1.00040644]),\n",
       " array([ 1.11110296,  1.0001509 ,  0.99956636,  1.00020511,  1.00017121,\n",
       "         0.99896253,  1.00039697,  0.99996688,  0.99978717,  1.00009735,\n",
       "         1.00020375,  1.00015226,  0.99970007,  0.99966969,  1.00044719,\n",
       "         0.99998663,  1.00002784,  0.99979099,  1.00021176,  0.99993807]))"
      ]
     },
     "execution_count": 37,
     "metadata": {},
     "output_type": "execute_result"
    }
   ],
   "source": [
    "g21[:, 0] , g2_n1[:,0]"
   ]
  },
  {
   "cell_type": "code",
   "execution_count": 38,
   "metadata": {
    "collapsed": false
   },
   "outputs": [
    {
     "data": {
      "image/png": "[encoded data removed]",
      "text/plain": [
       "<matplotlib.figure.Figure at 0x104425310>"
      ]
     },
     "metadata": {},
     "output_type": "display_data"
    }
   ],
   "source": [
    "plt.plot(lag_steps, g21[:, 1], \"b\")\n",
    "plt.plot(lag_steps, g2_n1[:,1], \"g\")\n",
    "plt.show()"
   ]
  },
  {
   "cell_type": "code",
   "execution_count": 21,
   "metadata": {
    "collapsed": false
   },
   "outputs": [],
   "source": [
    "from numpy.testing import assert_array_almost_equal\n",
    "assert_array_almost_equal(g2[:, 1], g2_n[:,1], decimal=4)"
   ]
  },
  {
   "cell_type": "code",
   "execution_count": null,
   "metadata": {
    "collapsed": true
   },
   "outputs": [],
   "source": []
  }
 ],
 "metadata": {
  "kernelspec": {
   "display_name": "Python 2",
   "language": "python",
   "name": "python2"
  },
  "language_info": {
   "codemirror_mode": {
    "name": "ipython",
    "version": 2
   },
   "file_extension": ".py",
   "mimetype": "text/x-python",
   "name": "python",
   "nbconvert_exporter": "python",
   "pygments_lexer": "ipython2",
   "version": "2.7.11"
  }
 },
 "nbformat": 4,
 "nbformat_minor": 0
}
