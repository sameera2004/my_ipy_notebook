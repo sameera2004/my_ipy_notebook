{
 "cells": [
  {
   "cell_type": "markdown",
   "metadata": {},
   "source": [
    "# Generate Region of Interests (ROI) labeled arrays for simple shapes\n",
    "This example notebook explain the use of analysis module \"skbeam/core/roi\" https://github.com/scikit-beam/scikit-beam/blob/master/skbeam/core/roi.py "
   ]
  },
  {
   "cell_type": "code",
   "execution_count": 1,
   "metadata": {
    "collapsed": false
   },
   "outputs": [],
   "source": [
    "import skbeam.core.roi as roi\n",
    "import skbeam.core.correlation as corr\n",
    "\n",
    "import numpy as np\n",
    "\n",
    "import matplotlib.pyplot as plt\n",
    "%matplotlib inline\n",
    "from matplotlib.ticker import MaxNLocator\n",
    "from matplotlib.colors import LogNorm\n",
    "\n",
    "import xray_vision.mpl_plotting as mpl_plot"
   ]
  },
  {
   "cell_type": "markdown",
   "metadata": {},
   "source": [
    "### Easily switch between interactive and static matplotlib plots"
   ]
  },
  {
   "cell_type": "code",
   "execution_count": 2,
   "metadata": {
    "collapsed": true
   },
   "outputs": [],
   "source": [
    "interactive_mode = False\n",
    "\n",
    "import matplotlib as mpl\n",
    "if interactive_mode:\n",
    "    %matplotlib notebook\n",
    "else:\n",
    "    %matplotlib inline\n",
    "\n",
    "backend = mpl.get_backend()\n",
    "cmap='viridis'"
   ]
  },
  {
   "cell_type": "markdown",
   "metadata": {},
   "source": [
    "## Draw annual (ring-shaped) regions of interest"
   ]
  },
  {
   "cell_type": "code",
   "execution_count": 3,
   "metadata": {
    "collapsed": true
   },
   "outputs": [],
   "source": [
    "center = (100., 100.)   # center of the rings\n",
    "\n",
    "# Image shape which is used to determine the maximum extent of output pixel coordinates\n",
    "img_shape = (200, 205)   \n",
    "\n",
    "first_q = 10.0 # inner radius of the inner-most ring\n",
    "delta_q = 5.0  #ring thickness\n",
    "\n",
    "num_rings = 7  # number of Q rings\n",
    "\n",
    "# step or spacing, spacing between rings \n",
    "one_step_q = 5.0  #  one spacing between rings\n",
    "\n",
    "step_q = [2.5, 3.0, 5.8]   # differnt spacing between rings"
   ]
  },
  {
   "cell_type": "markdown",
   "metadata": {},
   "source": [
    "### Test when there is same spacing between rings"
   ]
  },
  {
   "cell_type": "code",
   "execution_count": 4,
   "metadata": {
    "collapsed": false
   },
   "outputs": [
    {
     "data": {
      "text/plain": [
       "array([[ 10.,  15.],\n",
       "       [ 20.,  25.],\n",
       "       [ 30.,  35.],\n",
       "       [ 40.,  45.],\n",
       "       [ 50.,  55.],\n",
       "       [ 60.,  65.],\n",
       "       [ 70.,  75.]])"
      ]
     },
     "execution_count": 4,
     "metadata": {},
     "output_type": "execute_result"
    }
   ],
   "source": [
    "# inner and outer radius for each ring\n",
    "edges = roi.ring_edges(first_q, width=delta_q, spacing=one_step_q,\n",
    "                           num_rings=num_rings)\n",
    "edges"
   ]
  },
  {
   "cell_type": "code",
   "execution_count": 5,
   "metadata": {
    "collapsed": false
   },
   "outputs": [
    {
     "data": {
      "image/png": "[encoded data removed]",
      "text/plain": [
       "<matplotlib.figure.Figure at 0x108a7e208>"
      ]
     },
     "metadata": {},
     "output_type": "display_data"
    }
   ],
   "source": [
    "#Elements not inside any ROI are zero; elements inside each\n",
    "#ROI are 1, 2, 3, corresponding to the order they are specified in edges.\n",
    "label_array = roi.rings(edges, center, img_shape)\n",
    "\n",
    "# plot the figure\n",
    "fig, axes = plt.subplots(figsize=(6, 5))\n",
    "axes.set_title(\"Same spacing between rings\")\n",
    "im = mpl_plot.show_label_array(axes, label_array, cmap)\n",
    "plt.show()"
   ]
  },
  {
   "cell_type": "markdown",
   "metadata": {},
   "source": [
    "### Test when there is different spacing between rings"
   ]
  },
  {
   "cell_type": "code",
   "execution_count": 6,
   "metadata": {
    "collapsed": false
   },
   "outputs": [
    {
     "name": "stdout",
     "output_type": "stream",
     "text": [
      "edges when there is different spacing between rings [[ 10.   15. ]\n",
      " [ 17.5  22.5]\n",
      " [ 25.5  30.5]\n",
      " [ 36.3  41.3]]\n"
     ]
    }
   ],
   "source": [
    "# inner and outer radius for each ring\n",
    "\n",
    "edges = roi.ring_edges(first_q, width=delta_q, spacing=step_q,\n",
    "                           num_rings=4)\n",
    "print(\"edges when there is different spacing between rings\", edges)"
   ]
  },
  {
   "cell_type": "code",
   "execution_count": 7,
   "metadata": {
    "collapsed": false
   },
   "outputs": [
    {
     "data": {
      "image/png": "[encoded data removed]",
      "text/plain": [
       "<matplotlib.figure.Figure at 0x108cc37b8>"
      ]
     },
     "metadata": {},
     "output_type": "display_data"
    }
   ],
   "source": [
    "#Elements not inside any ROI are zero; elements inside each\n",
    "#ROI are 1, 2, 3, corresponding to the order they are specified in edges.\n",
    "label_array = roi.rings(edges, center, img_shape)\n",
    "\n",
    "# plot the figure\n",
    "fig, axes = plt.subplots(figsize=(6, 5))\n",
    "axes.set_title(\"Different spacing between rings\")\n",
    "axes.set_xlim(50, 150)\n",
    "axes.set_ylim(50, 150)\n",
    "im = mpl_plot.show_label_array(axes, label_array, cmap)\n",
    "plt.show()\n"
   ]
  },
  {
   "cell_type": "markdown",
   "metadata": {},
   "source": [
    "### Test when there is no spacing between rings"
   ]
  },
  {
   "cell_type": "code",
   "execution_count": 8,
   "metadata": {
    "collapsed": false
   },
   "outputs": [
    {
     "data": {
      "text/plain": [
       "array([[ 10.,  15.],\n",
       "       [ 15.,  20.],\n",
       "       [ 20.,  25.],\n",
       "       [ 25.,  30.],\n",
       "       [ 30.,  35.],\n",
       "       [ 35.,  40.],\n",
       "       [ 40.,  45.]])"
      ]
     },
     "execution_count": 8,
     "metadata": {},
     "output_type": "execute_result"
    }
   ],
   "source": [
    "# inner and outer radius for each ring\n",
    "edges = roi.ring_edges(first_q, width=delta_q, num_rings=num_rings)\n",
    "edges"
   ]
  },
  {
   "cell_type": "code",
   "execution_count": 9,
   "metadata": {
    "collapsed": false
   },
   "outputs": [
    {
     "data": {
      "image/png": "[encoded data removed]",
      "text/plain": [
       "<matplotlib.figure.Figure at 0x108d75630>"
      ]
     },
     "metadata": {},
     "output_type": "display_data"
    }
   ],
   "source": [
    "#Elements not inside any ROI are zero; elements inside each\n",
    "#ROI are 1, 2, 3, corresponding to the order they are specified in edges.\n",
    "label_array = roi.rings(edges, center, img_shape)\n",
    "\n",
    "# plot the figure\n",
    "fig, axes = plt.subplots(figsize=(6, 5))\n",
    "axes.set_title(\"There is no spacing between rings\")\n",
    "axes.set_xlim(50, 150)\n",
    "axes.set_ylim(50, 150)\n",
    "im = mpl_plot.show_label_array(axes, label_array, cmap)\n",
    "plt.show()"
   ]
  },
  {
   "cell_type": "markdown",
   "metadata": {},
   "source": [
    "### Generate a ROI of Segmented Rings¶"
   ]
  },
  {
   "cell_type": "code",
   "execution_count": 61,
   "metadata": {
    "collapsed": false
   },
   "outputs": [],
   "source": [
    "center = (75, 75)   # center of the rings\n",
    "\n",
    "#Image shape which is used to determine the maximum extent of output pixel coordinates\n",
    "img_shape = (150, 140) \n",
    "\n",
    "first_q = 5.0  # inner radius of the inner-most ring\n",
    "delta_q = 5.0  #ring thickness\n",
    "num_rings = 4  # number of rings\n",
    "\n",
    "slicing = 4 # number of pie slices or list of angles in radians\n",
    "spacing = 4 # margin between rings, 0 by default"
   ]
  },
  {
   "cell_type": "markdown",
   "metadata": {},
   "source": [
    "\n",
    "\n",
    "#### find the inner and outer radius of each ring\n"
   ]
  },
  {
   "cell_type": "code",
   "execution_count": 62,
   "metadata": {
    "collapsed": false
   },
   "outputs": [
    {
     "data": {
      "text/plain": [
       "array([[  5.,  10.],\n",
       "       [ 14.,  19.],\n",
       "       [ 23.,  28.],\n",
       "       [ 32.,  37.]])"
      ]
     },
     "execution_count": 62,
     "metadata": {},
     "output_type": "execute_result"
    }
   ],
   "source": [
    "# inner and outer radius for each ring\n",
    "edges = roi.ring_edges(first_q, width=delta_q, spacing=spacing,\n",
    "                           num_rings=num_rings)\n",
    "\n",
    "edges"
   ]
  },
  {
   "cell_type": "code",
   "execution_count": 63,
   "metadata": {
    "collapsed": false
   },
   "outputs": [
    {
     "data": {
      "image/png": "[encoded data removed]",
      "text/plain": [
       "<matplotlib.figure.Figure at 0x108c279e8>"
      ]
     },
     "metadata": {},
     "output_type": "display_data"
    }
   ],
   "source": [
    "#Elements not inside any ROI are zero; elements inside each\n",
    "#ROI are 1, 2, 3, corresponding to the order they are specified in edges.\n",
    "label_array = roi.segmented_rings(edges, slicing, center,\n",
    "                                      img_shape, offset_angle=0)\n",
    "\n",
    "# plot the figure\n",
    "fig, axes = plt.subplots(figsize=(6, 5))\n",
    "axes.set_title(\"Segmented Rings\")\n",
    "axes.set_xlim(38, 120)\n",
    "axes.set_ylim(38, 120)\n",
    "im = mpl_plot.show_label_array(axes, label_array, cmap)\n",
    "plt.show()\n"
   ]
  },
  {
   "cell_type": "code",
   "execution_count": 64,
   "metadata": {
    "collapsed": false
   },
   "outputs": [
    {
     "data": {
      "image/png": "[encoded data removed]",
      "text/plain": [
       "<matplotlib.figure.Figure at 0x1090e20b8>"
      ]
     },
     "metadata": {},
     "output_type": "display_data"
    }
   ],
   "source": [
    "slicing = np.radians([0, 45, 90, 135, 180])\n",
    "label_array = roi.segmented_rings(edges, slicing, center,\n",
    "                                      img_shape, offset_angle=0)\n",
    "\n",
    "# plot the figure\n",
    "fig, axes = plt.subplots(figsize=(6, 5))\n",
    "axes.set_title(\"Segmented Rings\")\n",
    "#axes.set_xlim(38, 120)\n",
    "#axes.set_ylim(38, 120)\n",
    "im = mpl_plot.show_label_array(axes, label_array)\n",
    "plt.show()\n"
   ]
  },
  {
   "cell_type": "code",
   "execution_count": 65,
   "metadata": {
    "collapsed": false
   },
   "outputs": [
    {
     "data": {
      "text/plain": [
       "array([ 0.        ,  0.01370778,  0.02741557,  0.04112335,  0.05483114])"
      ]
     },
     "execution_count": 65,
     "metadata": {},
     "output_type": "execute_result"
    }
   ],
   "source": [
    "np.radians(slicing)"
   ]
  },
  {
   "cell_type": "code",
   "execution_count": 60,
   "metadata": {
    "collapsed": false
   },
   "outputs": [
    {
     "data": {
      "text/plain": [
       "array([ 1,  2,  3,  4,  5,  6,  7,  9, 10, 11, 13, 14, 15, 17])"
      ]
     },
     "execution_count": 60,
     "metadata": {},
     "output_type": "execute_result"
    }
   ],
   "source": [
    "np.unique(label_array)[1:]"
   ]
  },
  {
   "cell_type": "code",
   "execution_count": null,
   "metadata": {
    "collapsed": true
   },
   "outputs": [],
   "source": [
    "def segmented_rings(edges, segments, center, shape, offset_angle=0):\n",
    "    \"\"\"\n",
    "    Parameters\n",
    "    ----------\n",
    "    edges : array\n",
    "         inner and outer radius for each ring\n",
    "\n",
    "    segments : int or list\n",
    "        number of pie slices or list of angles in radians\n",
    "        That is, 8 produces eight equal-sized angular segments,\n",
    "        whereas a list can be used to produce segments of unequal size.\n",
    "\n",
    "    center : tuple\n",
    "        point in image where r=0; may be a float giving subpixel precision.\n",
    "        Order is (rr, cc).\n",
    "\n",
    "    shape: tuple\n",
    "        Image shape which is used to determine the maximum extent of output\n",
    "        pixel coordinates. Order is (rr, cc).\n",
    "\n",
    "    angle_offset : float or array, optional\n",
    "        offset in radians from offset_angle=0 along the positive X axis\n",
    "\n",
    "    Returns\n",
    "    -------\n",
    "    label_array : array\n",
    "        Elements not inside any ROI are zero; elements inside each\n",
    "        ROI are 1, 2, 3, corresponding to the order they are specified\n",
    "        in edges and segments\n",
    "\n",
    "    \"\"\"\n",
    "    edges = np.asarray(edges).ravel()\n",
    "    if not 0 == len(edges) % 2:\n",
    "        raise ValueError(\"edges should have an even number of elements, \"\n",
    "                         \"giving inner, outer radii for each ring\")\n",
    "    if not np.all(np.diff(edges) >= 0):\n",
    "        raise ValueError(\"edges are expected to be monotonically increasing, \"\n",
    "                         \"giving inner and outer radii of each ring from \"\n",
    "                         \"r=0 outward\")\n",
    "\n",
    "    agrid = utils.angle_grid(center, shape)\n",
    "\n",
    "    agrid[agrid < 0] = 2*np.pi + agrid[agrid < 0]\n",
    "\n",
    "    segments_is_list = isinstance(segments, collections.Iterable)\n",
    "    if segments_is_list:\n",
    "        segments = np.asarray(segments) + offset_angle\n",
    "    else:\n",
    "        # N equal segments requires N+1 bin edges spanning 0 to 2pi.\n",
    "        segments = np.linspace(0, 2*np.pi, num=1+segments, endpoint=True)\n",
    "        segments += offset_angle\n",
    "\n",
    "    # the indices of the bins(angles) to which each value in input\n",
    "    #  array(angle_grid) belongs.\n",
    "    ind_grid = (np.digitize(np.ravel(agrid), segments,\n",
    "                            right=False)).reshape(shape)\n",
    "\n",
    "    label_array = np.zeros(shape, dtype=np.int64)\n",
    "    # radius grid for the image_shape\n",
    "    rgrid = utils.radial_grid(center, shape)\n",
    "\n",
    "    # assign indices value according to angles then rings\n",
    "    len_segments = len(segments)\n",
    "    for i in range(len(edges) // 2):\n",
    "        indices = (edges[2*i] <= rgrid) & (rgrid < edges[2*i + 1])\n",
    "        # Combine \"segment #\" and \"ring #\" to get unique label for each.\n",
    "        label_array[indices] = ind_grid[indices] + (len_segments - 1) * i\n",
    "\n",
    "    return label_array"
   ]
  },
  {
   "cell_type": "code",
   "execution_count": 55,
   "metadata": {
    "collapsed": false
   },
   "outputs": [],
   "source": [
    "import skbeam.core.utils as utils\n",
    "center = (5, 5)\n",
    "shape = (10, 10)\n",
    "agrid = utils.angle_grid(center, shape)"
   ]
  },
  {
   "cell_type": "code",
   "execution_count": 56,
   "metadata": {
    "collapsed": false
   },
   "outputs": [
    {
     "data": {
      "text/plain": [
       "array([[-2.35619449, -2.24553727, -2.11121583, -1.9513027 , -1.76819189,\n",
       "        -1.57079633, -1.37340077, -1.19028995, -1.03037683, -0.89605538],\n",
       "       [-2.46685171, -2.35619449, -2.21429744, -2.03444394, -1.81577499,\n",
       "        -1.57079633, -1.32581766, -1.10714872, -0.92729522, -0.78539816],\n",
       "       [-2.60117315, -2.49809154, -2.35619449, -2.15879893, -1.89254688,\n",
       "        -1.57079633, -1.24904577, -0.98279372, -0.78539816, -0.64350111],\n",
       "       [-2.76108628, -2.67794504, -2.55359005, -2.35619449, -2.03444394,\n",
       "        -1.57079633, -1.10714872, -0.78539816, -0.5880026 , -0.46364761],\n",
       "       [-2.94419709, -2.89661399, -2.8198421 , -2.67794504, -2.35619449,\n",
       "        -1.57079633, -0.78539816, -0.46364761, -0.32175055, -0.24497866],\n",
       "       [ 3.14159265,  3.14159265,  3.14159265,  3.14159265,  3.14159265,\n",
       "         0.        ,  0.        ,  0.        ,  0.        ,  0.        ],\n",
       "       [ 2.94419709,  2.89661399,  2.8198421 ,  2.67794504,  2.35619449,\n",
       "         1.57079633,  0.78539816,  0.46364761,  0.32175055,  0.24497866],\n",
       "       [ 2.76108628,  2.67794504,  2.55359005,  2.35619449,  2.03444394,\n",
       "         1.57079633,  1.10714872,  0.78539816,  0.5880026 ,  0.46364761],\n",
       "       [ 2.60117315,  2.49809154,  2.35619449,  2.15879893,  1.89254688,\n",
       "         1.57079633,  1.24904577,  0.98279372,  0.78539816,  0.64350111],\n",
       "       [ 2.46685171,  2.35619449,  2.21429744,  2.03444394,  1.81577499,\n",
       "         1.57079633,  1.32581766,  1.10714872,  0.92729522,  0.78539816]])"
      ]
     },
     "execution_count": 56,
     "metadata": {},
     "output_type": "execute_result"
    }
   ],
   "source": [
    "agrid"
   ]
  },
  {
   "cell_type": "markdown",
   "metadata": {},
   "source": [
    "### Generate a  ROI of Pies"
   ]
  },
  {
   "cell_type": "code",
   "execution_count": 13,
   "metadata": {
    "collapsed": false
   },
   "outputs": [
    {
     "data": {
      "text/plain": [
       "array([[  0.,  50.]])"
      ]
     },
     "execution_count": 13,
     "metadata": {},
     "output_type": "execute_result"
    }
   ],
   "source": [
    "first_q = 0  \n",
    "\n",
    "# inner and outer radius for each ring\n",
    "edges = roi.ring_edges(first_q, width=50, num_rings=1)\n",
    "\n",
    "edges"
   ]
  },
  {
   "cell_type": "code",
   "execution_count": 14,
   "metadata": {
    "collapsed": false
   },
   "outputs": [
    {
     "data": {
      "image/png": "[encoded data removed]",
      "text/plain": [
       "<matplotlib.figure.Figure at 0x109499da0>"
      ]
     },
     "metadata": {},
     "output_type": "display_data"
    }
   ],
   "source": [
    "slicing = 10 # number of pie slices or list of angles in radians\n",
    "\n",
    "#Elements not inside any ROI are zero; elements inside each\n",
    "#ROI are 1, 2, 3, corresponding to the order they are specified in edges.\n",
    "label_array = roi.segmented_rings(edges, slicing, center,\n",
    "                                      img_shape, offset_angle=0)\n",
    "\n",
    "# plot the figure\n",
    "fig, axes = plt.subplots(figsize=(6, 5))\n",
    "axes.set_title(\"Pies\")\n",
    "axes.set_xlim(20, 140)\n",
    "axes.set_ylim(20, 140)\n",
    "im = mpl_plot.show_label_array(axes, label_array, cmap)\n",
    "plt.show()"
   ]
  },
  {
   "cell_type": "markdown",
   "metadata": {},
   "source": [
    "## Ellipse ROI"
   ]
  },
  {
   "cell_type": "code",
   "execution_count": 15,
   "metadata": {
    "collapsed": false
   },
   "outputs": [
    {
     "ename": "AttributeError",
     "evalue": "'module' object has no attribute 'ellipse'",
     "output_type": "error",
     "traceback": [
      "\u001b[0;31m---------------------------------------------------------------------------\u001b[0m",
      "\u001b[0;31mAttributeError\u001b[0m                            Traceback (most recent call last)",
      "\u001b[0;32m<ipython-input-15-82df10aca7a0>\u001b[0m in \u001b[0;36m<module>\u001b[0;34m()\u001b[0m\n\u001b[0;32m----> 1\u001b[0;31m e_label_array =roi.ellipse((300, 300), (12, 15), [6, 9],\n\u001b[0m\u001b[1;32m      2\u001b[0m                        [8, 12])\n\u001b[1;32m      3\u001b[0m \u001b[0;34m\u001b[0m\u001b[0m\n\u001b[1;32m      4\u001b[0m \u001b[0;31m# plot the figure\u001b[0m\u001b[0;34m\u001b[0m\u001b[0;34m\u001b[0m\u001b[0m\n\u001b[1;32m      5\u001b[0m \u001b[0mfig\u001b[0m\u001b[0;34m,\u001b[0m \u001b[0maxes\u001b[0m \u001b[0;34m=\u001b[0m \u001b[0mplt\u001b[0m\u001b[0;34m.\u001b[0m\u001b[0msubplots\u001b[0m\u001b[0;34m(\u001b[0m\u001b[0mfigsize\u001b[0m\u001b[0;34m=\u001b[0m\u001b[0;34m(\u001b[0m\u001b[0;36m6\u001b[0m\u001b[0;34m,\u001b[0m \u001b[0;36m5\u001b[0m\u001b[0;34m)\u001b[0m\u001b[0;34m)\u001b[0m\u001b[0;34m\u001b[0m\u001b[0m\n",
      "\u001b[0;31mAttributeError\u001b[0m: 'module' object has no attribute 'ellipse'"
     ]
    }
   ],
   "source": [
    "e_label_array =roi.ellipse((300, 300), (12, 15), [6, 9],\n",
    "                       [8, 12])\n",
    "\n",
    "# plot the figure\n",
    "fig, axes = plt.subplots(figsize=(6, 5))\n",
    "axes.set_title(\"Pies\")\n",
    "axes.set_xlim(0, 40)\n",
    "axes.set_ylim(0, 30)\n",
    "im = mpl_plot.show_label_array(axes, e_label_array, cmap)\n",
    "plt.show()"
   ]
  },
  {
   "cell_type": "code",
   "execution_count": 87,
   "metadata": {
    "collapsed": true
   },
   "outputs": [],
   "source": [
    "from skimage.draw import ellipse_perimeter\n",
    "\n",
    "def ellipse(shape, center, y_radius, x_radius):\n",
    "    \"\"\"Generate ellipse perimeter co-ordinates to draw ellipse shaped rois'\n",
    "    Parameters\n",
    "    ----------\n",
    "    shape : tuple\n",
    "        Shape of the image in which to create the ROIs\n",
    "        e.g., shape=(512, 512)\n",
    "    center : tuple\n",
    "        Centre coordinate of ellipse\n",
    "    y_radius : list\n",
    "       List of Minor axes for ellipse\n",
    "    x_radius : list\n",
    "        List of Major axes for ellipse\n",
    "\n",
    "    Returns\n",
    "    -------\n",
    "    label_array : array\n",
    "        Elements not inside any ROI are zero; elements inside each\n",
    "        ROI are 1, 2, 3, corresponding to the order they are specified\n",
    "        in edges.\n",
    "\n",
    "    \"\"\"\n",
    "    label_array = np.zeros(shape, dtype=np.int64)\n",
    "\n",
    "    if len(y_radius) != len(x_radius):\n",
    "        raise ValueError(\"Number of minor and major semi-axes\"\n",
    "                         \"have to be same\")\n",
    "    l = 0\n",
    "    for y, x in zip(y_radius, x_radius):\n",
    "        rr, cc = ellipse_perimeter(center[0], center[1], y, x)\n",
    "        cc = cc[-1 < rr]\n",
    "        cc = cc[-1 < cc] # < shape[0]-1]\n",
    "        rr = rr[-1 < rr] # < shape[1]-1]\n",
    "        rr = rr[-1 < cc] # < shape[0]-1]\n",
    "        l += 1\n",
    "        print (rr)\n",
    "        print (cc)\n",
    "        label_array[rr, cc] = l\n",
    "\n",
    "    return label_array\n"
   ]
  },
  {
   "cell_type": "code",
   "execution_count": 89,
   "metadata": {
    "collapsed": false,
    "scrolled": false
   },
   "outputs": [
    {
     "name": "stdout",
     "output_type": "stream",
     "text": [
      "[ 45  45  45  45  46  46  44  44  47  47  43  43  48  48  42  42  49  49\n",
      "  41  41  50  50  40  40  51  51  39  39  52  52  38  38  53  53  37  37\n",
      "  54  54  36  36  55  55  35  35  56  56  34  34  57  57  33  33  58  58\n",
      "  32  32  59  59  31  31  60  60  30  30  61  61  29  29  62  62  28  28\n",
      "  63  63  27  27  64  64  26  26  65  65  25  25  66  66  24  24  67  67\n",
      "  23  23  68  68  22  22  69  69  21  21  70  70  20  20  71  71  19  19\n",
      "  72  72  18  18  73  73  17  17  74  74  16  16  75  75  15  15  76  76\n",
      "  14  14  77  77  13  13  78  78  12  12  79  79  11  11  80  80  10  10\n",
      "  81  81   9   9  82  82   8   8  83  83   7   7  84  84   6   6  85  85\n",
      "   5   5  86  86   4   4  87  87   3   3  88  88   2   2  89  89   1   1\n",
      "  90  90   0   0  91  91  92  92  93  93  94  94  95  95  96  96  97  97\n",
      "  98  98  99  99 100 100 101 101 102 102 103 103 104 104 104 104 105 105\n",
      " 105 105 105 105]\n",
      "[60 20 20 60 60 20 20 60 60 20 20 60 60 20 20 60 60 20 20 60 60 20 20 60 60\n",
      " 20 20 60 60 20 20 60 60 20 20 60 60 20 20 60 60 20 20 60 60 20 20 60 60 20\n",
      " 20 60 60 20 20 60 59 21 21 59 59 21 21 59 59 21 21 59 59 21 21 59 59 21 21\n",
      " 59 59 21 21 59 59 21 21 59 59 21 21 59 59 21 21 59 58 22 22 58 58 22 22 58\n",
      " 58 22 22 58 58 22 22 58 58 22 22 58 58 22 22 58 58 22 22 58 57 23 23 57 57\n",
      " 23 23 57 57 23 23 57 57 23 23 57 56 24 24 56 56 24 24 56 56 24 24 56 56 24\n",
      " 24 56 55 25 25 55 55 25 25 55 55 25 25 55 55 25 25 55 54 26 26 54 54 26 26\n",
      " 54 54 26 26 54 53 27 27 53 53 27 52 28 52 28 52 28 51 29 51 29 50 30 49 31\n",
      " 49 31 48 32 47 33 46 34 45 35 44 36 43 37 42 38 41 39 40 40]\n",
      "[45 45 45 45 46 46 44 44 47 47 43 43 48 48 42 42 49 49 41 41 50 50 40 40 51\n",
      " 51 39 39 52 52 38 38 53 53 37 37 54 54 36 36 55 55 35 35 56 56 34 34 56 56\n",
      " 34 34 57 57 33 33 57 57 33 33 57 57 33 33]\n",
      "[49 31 31 49 49 31 31 49 49 31 31 49 49 31 31 49 48 32 32 48 48 32 32 48 48\n",
      " 32 32 48 47 33 33 47 47 33 33 47 46 34 34 46 45 35 35 45 44 36 36 44 43 37\n",
      " 37 43 42 38 38 42 41 39 39 41 40 40 40 40]\n"
     ]
    },
    {
     "data": {
      "image/png": "[encoded data removed]",
      "text/plain": [
       "<matplotlib.figure.Figure at 0x10938f5f8>"
      ]
     },
     "metadata": {},
     "output_type": "display_data"
    }
   ],
   "source": [
    "e_label_array = ellipse((130, 120), (45, 40), [60, 12],\n",
    "                            [20, 9])\n",
    "\n",
    "# plot the figure\n",
    "fig, axes = plt.subplots(figsize=(6, 5))\n",
    "axes.set_title(\"elipse\")\n",
    "axes.set_xlim(0, 100)\n",
    "#axes.set_ylim(0, 80)\n",
    "im = mpl_plot.show_label_array(axes, e_label_array, cmap)\n",
    "plt.show()"
   ]
  },
  {
   "cell_type": "markdown",
   "metadata": {},
   "source": [
    "## Rectangle region of interests."
   ]
  },
  {
   "cell_type": "code",
   "execution_count": 18,
   "metadata": {
    "collapsed": false
   },
   "outputs": [],
   "source": [
    "# Image shape which is used to determine the maximum extent of output pixel coordinates\n",
    "shape = (15, 26)\n",
    "\n",
    "# coordinates of the upper-left corner and width and height of each rectangle\n",
    "roi_data = np.array(([2, 2, 6, 3], [6, 7, 8, 5], [8, 18, 5, 10]),\n",
    "                        dtype=np.int64)\n",
    "\n",
    "#Elements not inside any ROI are zero; elements inside each ROI are 1, 2, 3, corresponding\n",
    "# to the order they are specified in coords.\n",
    "label_array = roi.rectangles(roi_data, shape)\n",
    "roi_inds, pixel_list = roi.extract_label_indices(label_array)"
   ]
  },
  {
   "cell_type": "markdown",
   "metadata": {},
   "source": [
    "## Generate Bar ROI's"
   ]
  },
  {
   "cell_type": "code",
   "execution_count": 19,
   "metadata": {
    "collapsed": false
   },
   "outputs": [
    {
     "data": {
      "text/plain": [
       "[[3, 4], [5, 7], [12, 15]]"
      ]
     },
     "execution_count": 19,
     "metadata": {},
     "output_type": "execute_result"
    }
   ],
   "source": [
    "edges = [[3, 4], [5, 7], [12, 15]]\n",
    "edges"
   ]
  },
  {
   "cell_type": "markdown",
   "metadata": {},
   "source": [
    "## Create Horizontal bars and Vertical bars"
   ]
  },
  {
   "cell_type": "code",
   "execution_count": 20,
   "metadata": {
    "collapsed": false
   },
   "outputs": [],
   "source": [
    "h_label_array = roi.bar(edges, (20, 25))   # Horizontal Bars"
   ]
  },
  {
   "cell_type": "code",
   "execution_count": 21,
   "metadata": {
    "collapsed": false
   },
   "outputs": [],
   "source": [
    "v_label_array = roi.bar(edges, (20, 25), horizontal=False)   # Vertical Bars"
   ]
  },
  {
   "cell_type": "markdown",
   "metadata": {},
   "source": [
    "## Create Box ROI's"
   ]
  },
  {
   "cell_type": "code",
   "execution_count": 22,
   "metadata": {
    "collapsed": false
   },
   "outputs": [],
   "source": [
    "b_label_array = roi.box((20, 20), edges)"
   ]
  },
  {
   "cell_type": "markdown",
   "metadata": {},
   "source": [
    "## Plot bar rois, box rois and rectangle rois"
   ]
  },
  {
   "cell_type": "code",
   "execution_count": 23,
   "metadata": {
    "collapsed": false,
    "scrolled": false
   },
   "outputs": [
    {
     "data": {
      "image/png": "[encoded data removed]",
      "text/plain": [
       "<matplotlib.figure.Figure at 0x108c51c50>"
      ]
     },
     "metadata": {},
     "output_type": "display_data"
    }
   ],
   "source": [
    "fig, axes = plt.subplots(2, 2, figsize=(12, 10))\n",
    "axes[1, 0].set_title(\"Horizontal Bars\")\n",
    "im = mpl_plot.show_label_array(axes[1, 0], h_label_array, cmap)\n",
    "axes[0, 1].set_title(\"Vertical Bars\")\n",
    "im = mpl_plot.show_label_array(axes[0, 1], v_label_array, cmap)\n",
    "axes[1, 1].set_title(\"Box Rois\")\n",
    "im = mpl_plot.show_label_array(axes[1, 1], b_label_array, cmap)\n",
    "axes[0, 0].set_title(\"Rectangle Rois\")\n",
    "im = mpl_plot.show_label_array(axes[0, 0], label_array, cmap)\n",
    "plt.show()"
   ]
  },
  {
   "cell_type": "markdown",
   "metadata": {},
   "source": [
    "# Create line ROI's"
   ]
  },
  {
   "cell_type": "code",
   "execution_count": 24,
   "metadata": {
    "collapsed": false
   },
   "outputs": [
    {
     "data": {
      "image/png": "[encoded data removed]",
      "text/plain": [
       "<matplotlib.figure.Figure at 0x108cc35c0>"
      ]
     },
     "metadata": {},
     "output_type": "display_data"
    }
   ],
   "source": [
    "label_lines= roi.lines(([0, 45, 50, 256], [56, 60, 80, 150]), (150, 250))\n",
    "# plot the figure\n",
    "fig, axes = plt.subplots(figsize=(6, 5))\n",
    "axes.set_title(\"Lines\")\n",
    "im = mpl_plot.show_label_array(axes, label_lines, cmap)\n",
    "plt.show()"
   ]
  },
  {
   "cell_type": "code",
   "execution_count": 21,
   "metadata": {
    "collapsed": false
   },
   "outputs": [
    {
     "name": "stdout",
     "output_type": "stream",
     "text": [
      "0.0.7+107.g8f7ff4d\n"
     ]
    }
   ],
   "source": [
    "import skbeam\n",
    "print(skbeam.__version__)"
   ]
  },
  {
   "cell_type": "code",
   "execution_count": 96,
   "metadata": {
    "collapsed": true
   },
   "outputs": [],
   "source": [
    "values1 = np.repeat(range(10), 5)"
   ]
  },
  {
   "cell_type": "code",
   "execution_count": 97,
   "metadata": {
    "collapsed": false
   },
   "outputs": [
    {
     "data": {
      "text/plain": [
       "array([0, 0, 0, 0, 0, 1, 1, 1, 1, 1, 2, 2, 2, 2, 2, 3, 3, 3, 3, 3, 4, 4, 4,\n",
       "       4, 4, 5, 5, 5, 5, 5, 6, 6, 6, 6, 6, 7, 7, 7, 7, 7, 8, 8, 8, 8, 8, 9,\n",
       "       9, 9, 9, 9])"
      ]
     },
     "execution_count": 97,
     "metadata": {},
     "output_type": "execute_result"
    }
   ],
   "source": [
    "values1"
   ]
  },
  {
   "cell_type": "code",
   "execution_count": 99,
   "metadata": {
    "collapsed": true
   },
   "outputs": [],
   "source": [
    "shape = (10,5)\n",
    "values = values1.T.ravel()"
   ]
  },
  {
   "cell_type": "code",
   "execution_count": 100,
   "metadata": {
    "collapsed": false
   },
   "outputs": [
    {
     "data": {
      "text/plain": [
       "array([0, 0, 0, 0, 0, 1, 1, 1, 1, 1, 2, 2, 2, 2, 2, 3, 3, 3, 3, 3, 4, 4, 4,\n",
       "       4, 4, 5, 5, 5, 5, 5, 6, 6, 6, 6, 6, 7, 7, 7, 7, 7, 8, 8, 8, 8, 8, 9,\n",
       "       9, 9, 9, 9])"
      ]
     },
     "execution_count": 100,
     "metadata": {},
     "output_type": "execute_result"
    }
   ],
   "source": [
    "values"
   ]
  },
  {
   "cell_type": "code",
   "execution_count": 102,
   "metadata": {
    "collapsed": true
   },
   "outputs": [],
   "source": [
    "values = np.repeat(range(5), 10).T"
   ]
  },
  {
   "cell_type": "code",
   "execution_count": 103,
   "metadata": {
    "collapsed": false
   },
   "outputs": [
    {
     "data": {
      "text/plain": [
       "array([0, 0, 0, 0, 0, 0, 0, 0, 0, 0, 1, 1, 1, 1, 1, 1, 1, 1, 1, 1, 2, 2, 2,\n",
       "       2, 2, 2, 2, 2, 2, 2, 3, 3, 3, 3, 3, 3, 3, 3, 3, 3, 4, 4, 4, 4, 4, 4,\n",
       "       4, 4, 4, 4])"
      ]
     },
     "execution_count": 103,
     "metadata": {},
     "output_type": "execute_result"
    }
   ],
   "source": [
    "values"
   ]
  },
  {
   "cell_type": "code",
   "execution_count": 130,
   "metadata": {
    "collapsed": true
   },
   "outputs": [],
   "source": [
    "def _make_roi(coords, edges, shape):\n",
    "    \"\"\" Helper function to create ring rois and bar rois\n",
    "\n",
    "    Parameters\n",
    "    ----------\n",
    "    coords : array\n",
    "        shape is image shape\n",
    "    edges : list\n",
    "        List of tuples of inner (left or top) and outer (right or bottom)\n",
    "        edges of each roi.\n",
    "        e.g., edges=[(1, 2), (11, 12), (21, 22)]\n",
    "    shape : tuple\n",
    "        Shape of the image in which to create the ROIs\n",
    "        e.g., shape=(512, 512)\n",
    "\n",
    "    Returns\n",
    "    -------\n",
    "    label_array : array\n",
    "        Elements not inside any ROI are zero; elements inside each\n",
    "        ROI are 1, 2, 3, corresponding to the order they are\n",
    "        specified in `edges`.\n",
    "        Has shape=`image shape`\n",
    "    \"\"\"\n",
    "    label_array = np.digitize(coords, edges, right=False)\n",
    "    # Even elements of label_array are in the space between rings.\n",
    "    label_array = (np.where(label_array % 2 != 0, label_array, 0) + 1) // 2\n",
    "    return label_array.reshape(shape)\n"
   ]
  },
  {
   "cell_type": "code",
   "execution_count": 159,
   "metadata": {
    "collapsed": true
   },
   "outputs": [],
   "source": [
    "def bar(edges, shape, horizontal=True, values=None):\n",
    "    \"\"\"Draw bars defined by `edges` from one edge to the other of `image_shape`\n",
    "\n",
    "    Bars will be horizontal or vertical depending on the value of `horizontal`\n",
    "\n",
    "    Parameters\n",
    "    ----------\n",
    "    edges : list\n",
    "        List of tuples of inner (left or top) and outer (right or bottom)\n",
    "        edges of each bar.\n",
    "        e.g., edges=[(1, 2), (11, 12), (21, 22)]\n",
    "    shape : tuple\n",
    "        Shape of the image in which to create the ROIs\n",
    "        e.g., shape=(512, 512)\n",
    "    horizontal : bool, optional\n",
    "        True: Make horizontal bars\n",
    "        False: Make vertical bars\n",
    "        Defaults to True\n",
    "    values : array, optional\n",
    "        image pixels co-ordinates\n",
    "\n",
    "    Returns\n",
    "    -------\n",
    "    label_array : array\n",
    "        Elements not inside any ROI are zero; elements inside each\n",
    "        ROI are 1, 2, 3, corresponding to the order they are\n",
    "        specified in `edges`.\n",
    "        Has shape=`image shape`\n",
    "\n",
    "    Note\n",
    "    ----\n",
    "    The primary use case is in GISAXS.\n",
    "    \"\"\"\n",
    "    edges = np.atleast_2d(np.asarray(edges)).ravel()\n",
    "    if not 0 == len(edges) % 2:\n",
    "        raise ValueError(\"edges should have an even number of elements, \"\n",
    "                         \"giving inner, outer edge value for each bar\")\n",
    "    if not np.all(np.diff(edges) >= 0):\n",
    "        raise ValueError(\"edges are expected to be monotonically increasing, \"\n",
    "                         \"giving inner and outer radii of each bar from \"\n",
    "                         \"r=0 outward\")\n",
    "    if values is None:\n",
    "        values = np.repeat(range(shape[0]), shape[1])\n",
    "    if not horizontal:\n",
    "        #values = values.reshape(shape).T.ravel()\n",
    "        values = np.tile(range(shape[1]), shape[0])\n",
    "        print (values)\n",
    "    return _make_roi(values, edges, shape)\n"
   ]
  },
  {
   "cell_type": "code",
   "execution_count": 160,
   "metadata": {
    "collapsed": false
   },
   "outputs": [
    {
     "data": {
      "text/plain": [
       "[[3, 4], [5, 7], [12, 15]]"
      ]
     },
     "execution_count": 160,
     "metadata": {},
     "output_type": "execute_result"
    }
   ],
   "source": [
    "shape = (20, 20)\n",
    "edges = [[3, 4], [5, 7], [12, 15]]\n",
    "edges"
   ]
  },
  {
   "cell_type": "code",
   "execution_count": 161,
   "metadata": {
    "collapsed": false
   },
   "outputs": [
    {
     "name": "stdout",
     "output_type": "stream",
     "text": [
      "[ 0  1  2  3  4  5  6  7  8  9 10 11 12 13 14 15 16 17 18 19  0  1  2  3  4\n",
      "  5  6  7  8  9 10 11 12 13 14 15 16 17 18 19  0  1  2  3  4  5  6  7  8  9\n",
      " 10 11 12 13 14 15 16 17 18 19  0  1  2  3  4  5  6  7  8  9 10 11 12 13 14\n",
      " 15 16 17 18 19  0  1  2  3  4  5  6  7  8  9 10 11 12 13 14 15 16 17 18 19\n",
      "  0  1  2  3  4  5  6  7  8  9 10 11 12 13 14 15 16 17 18 19  0  1  2  3  4\n",
      "  5  6  7  8  9 10 11 12 13 14 15 16 17 18 19  0  1  2  3  4  5  6  7  8  9\n",
      " 10 11 12 13 14 15 16 17 18 19  0  1  2  3  4  5  6  7  8  9 10 11 12 13 14\n",
      " 15 16 17 18 19  0  1  2  3  4  5  6  7  8  9 10 11 12 13 14 15 16 17 18 19\n",
      "  0  1  2  3  4  5  6  7  8  9 10 11 12 13 14 15 16 17 18 19  0  1  2  3  4\n",
      "  5  6  7  8  9 10 11 12 13 14 15 16 17 18 19  0  1  2  3  4  5  6  7  8  9\n",
      " 10 11 12 13 14 15 16 17 18 19  0  1  2  3  4  5  6  7  8  9 10 11 12 13 14\n",
      " 15 16 17 18 19  0  1  2  3  4  5  6  7  8  9 10 11 12 13 14 15 16 17 18 19\n",
      "  0  1  2  3  4  5  6  7  8  9 10 11 12 13 14 15 16 17 18 19  0  1  2  3  4\n",
      "  5  6  7  8  9 10 11 12 13 14 15 16 17 18 19  0  1  2  3  4  5  6  7  8  9\n",
      " 10 11 12 13 14 15 16 17 18 19  0  1  2  3  4  5  6  7  8  9 10 11 12 13 14\n",
      " 15 16 17 18 19  0  1  2  3  4  5  6  7  8  9 10 11 12 13 14 15 16 17 18 19\n",
      "  0  1  2  3  4  5  6  7  8  9 10 11 12 13 14 15 16 17 18 19  0  1  2  3  4\n",
      "  5  6  7  8  9 10 11 12 13 14 15 16 17 18 19  0  1  2  3  4  5  6  7  8  9\n",
      " 10 11 12 13 14 15 16 17 18 19  0  1  2  3  4  5  6  7  8  9 10 11 12 13 14\n",
      " 15 16 17 18 19  0  1  2  3  4  5  6  7  8  9 10 11 12 13 14 15 16 17 18 19]\n"
     ]
    }
   ],
   "source": [
    "v_label_array = bar(edges, (25, 20), horizontal=False)   # Vertical Bars"
   ]
  },
  {
   "cell_type": "code",
   "execution_count": 162,
   "metadata": {
    "collapsed": false
   },
   "outputs": [
    {
     "data": {
      "text/plain": [
       "<matplotlib.image.AxesImage at 0x10a365978>"
      ]
     },
     "execution_count": 162,
     "metadata": {},
     "output_type": "execute_result"
    },
    {
     "data": {
      "image/png": "[encoded data removed]",
      "text/plain": [
       "<matplotlib.figure.Figure at 0x108d2f908>"
      ]
     },
     "metadata": {},
     "output_type": "display_data"
    }
   ],
   "source": [
    "plt.imshow(v_label_array)"
   ]
  },
  {
   "cell_type": "code",
   "execution_count": 133,
   "metadata": {
    "collapsed": false
   },
   "outputs": [
    {
     "data": {
      "text/plain": [
       "array([0, 1, 2, 3, 4])"
      ]
     },
     "execution_count": 133,
     "metadata": {},
     "output_type": "execute_result"
    }
   ],
   "source": [
    "np.arange(5)"
   ]
  },
  {
   "cell_type": "code",
   "execution_count": null,
   "metadata": {
    "collapsed": true
   },
   "outputs": [],
   "source": []
  }
 ],
 "metadata": {
  "kernelspec": {
   "display_name": "Python 3",
   "language": "python",
   "name": "python3"
  },
  "language_info": {
   "codemirror_mode": {
    "name": "ipython",
    "version": 3
   },
   "file_extension": ".py",
   "mimetype": "text/x-python",
   "name": "python",
   "nbconvert_exporter": "python",
   "pygments_lexer": "ipython3",
   "version": "3.4.4"
  }
 },
 "nbformat": 4,
 "nbformat_minor": 0
}
