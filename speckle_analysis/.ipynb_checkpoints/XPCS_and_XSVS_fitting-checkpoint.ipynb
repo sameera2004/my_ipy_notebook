{
 "cells": [
  {
   "cell_type": "markdown",
   "metadata": {},
   "source": [
    "#Fitting Equation for XPCS and XSVS\n",
    "\n",
    "The both method we have to find the relaxtaion rates $\\gamma(q)$\n"
   ]
  },
  {
   "cell_type": "markdown",
   "metadata": {},
   "source": [
    " ## Auto correlation function"
   ]
  },
  {
   "cell_type": "markdown",
   "metadata": {},
   "source": [
    "$ g_2(q, \\tau) = \\frac{<I(q, t)  I(q, t + \\tau)> } {<I(q, t)>^2} $"
   ]
  },
  {
   "cell_type": "markdown",
   "metadata": {},
   "source": [
    "; $\\tau > 0$\n",
    "\n",
    "    Here, I(q, t) refers to the scattering strength at the momentum\n",
    "    transfer vector q in reciprocal space at time t, and the brackets\n",
    "    <...> refer to averages over time t. The quantity t' denotes the\n",
    "    delay time"
   ]
  },
  {
   "cell_type": "markdown",
   "metadata": {},
   "source": [
    "The intensity-intensity autocorrelation g2 is connected to\n",
    "###the intermediate scattering factor (ISF) g1"
   ]
  },
  {
   "cell_type": "markdown",
   "metadata": {},
   "source": [
    "$               g_2(q, \\tau) = \\beta_1[g_1(q, \\tau)]^{2} + g_\\infty $ "
   ]
  },
  {
   "cell_type": "markdown",
   "metadata": {},
   "source": [
    "For a system undergoing  diffusive dynamics,"
   ]
  },
  {
   "cell_type": "markdown",
   "metadata": {},
   "source": [
    " $g_1(q, \\tau) = e^{-\\gamma(q) \\tau}$"
   ]
  },
  {
   "cell_type": "markdown",
   "metadata": {},
   "source": [
    "$  g_2(q, \\tau) = \\beta_1 e^{-2\\gamma(q) \\tau} + g_\\infty $"
   ]
  },
  {
   "cell_type": "markdown",
   "metadata": {},
   "source": [
    "##The negative-binomail distribution function"
   ]
  },
  {
   "cell_type": "markdown",
   "metadata": {},
   "source": [
    "$  P(K) = \\frac{\\Gamma(K + M)} {\\Gamma(K + 1) \\Gamma(M)}(\\frac {M} {M + <K>})^M (\\frac {<K>}{M + <K>})^K $"
   ]
  },
  {
   "cell_type": "markdown",
   "metadata": {},
   "source": [
    "## Poission Distribution"
   ]
  },
  {
   "cell_type": "markdown",
   "metadata": {},
   "source": [
    "$ P(K) = \\frac{<K>^K}{K!}\\exp(-K) $"
   ]
  },
  {
   "cell_type": "markdown",
   "metadata": {},
   "source": [
    "##Gamma Distribution"
   ]
  },
  {
   "cell_type": "markdown",
   "metadata": {},
   "source": [
    "$  P(K) =(\\frac{M}{<K>})^M \\frac{K^(M-1)}{\\Gamma(M)}\\exp(-M\\frac{K}{<K>})$ "
   ]
  },
  {
   "cell_type": "markdown",
   "metadata": {},
   "source": [
    " In these M is the number of cohernt modes and <K> is the mean intensities of the q ROI's'"
   ]
  },
  {
   "cell_type": "code",
   "execution_count": null,
   "metadata": {
    "collapsed": true
   },
   "outputs": [],
   "source": []
  },
  {
   "cell_type": "markdown",
   "metadata": {},
   "source": [
    "The contrast factor $ \\beta = \\frac{1}{M} $"
   ]
  },
  {
   "cell_type": "markdown",
   "metadata": {},
   "source": [
    "## The diffusive contrast factor "
   ]
  },
  {
   "cell_type": "markdown",
   "metadata": {},
   "source": [
    "$ \\beta(q, tau) = \\beta_1\\frac{\\exp[-2\\gamma(q)T] - 1 + 2\\gamma(q)T}{2[\\gamma(q)T]^2} + \\beta_\\infty$"
   ]
  },
  {
   "cell_type": "markdown",
   "metadata": {},
   "source": [
    "Diffusion coeffient $D_0$"
   ]
  },
  {
   "cell_type": "markdown",
   "metadata": {},
   "source": [
    "$ \\gamma(q) = D_0q^2 $"
   ]
  },
  {
   "cell_type": "code",
   "execution_count": null,
   "metadata": {
    "collapsed": true
   },
   "outputs": [],
   "source": []
  }
 ],
 "metadata": {
  "kernelspec": {
   "display_name": "Python 2",
   "language": "python",
   "name": "python2"
  },
  "language_info": {
   "codemirror_mode": {
    "name": "ipython",
    "version": 2
   },
   "file_extension": ".py",
   "mimetype": "text/x-python",
   "name": "python",
   "nbconvert_exporter": "python",
   "pygments_lexer": "ipython2",
   "version": "2.7.10"
  }
 },
 "nbformat": 4,
 "nbformat_minor": 0
}
