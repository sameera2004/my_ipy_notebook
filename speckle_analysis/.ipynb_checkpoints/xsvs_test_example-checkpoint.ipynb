{
 "cells": [
  {
   "cell_type": "markdown",
   "metadata": {},
   "source": [
    "# This is the test function added in skxray.core.speckle"
   ]
  },
  {
   "cell_type": "code",
   "execution_count": 1,
   "metadata": {
    "collapsed": false
   },
   "outputs": [
    {
     "name": "stderr",
     "output_type": "stream",
     "text": [
      ":0: FutureWarning: IPython widgets are experimental and may change in the future.\n"
     ]
    }
   ],
   "source": [
    "import skxray.core.speckle as xsvs\n",
    "import skxray.core.xsvs_fitting as xsvs_fit\n",
    "import skxray.core.roi as roi\n",
    "import skxray.core.correlation as corr\n",
    "import skxray.core.utils as core\n",
    "\n",
    "import numpy as np\n",
    "import os, sys\n",
    "\n",
    "import matplotlib.pyplot as plt\n",
    "%matplotlib inline\n",
    "from matplotlib.ticker import MaxNLocator\n",
    "from matplotlib.colors import LogNorm\n",
    "\n",
    "import time\n",
    "import logging\n",
    "logger = logging.getLogger(__name__)"
   ]
  },
  {
   "cell_type": "markdown",
   "metadata": {},
   "source": [
    "## Create images and roi's"
   ]
  },
  {
   "cell_type": "code",
   "execution_count": 2,
   "metadata": {
    "collapsed": true
   },
   "outputs": [],
   "source": [
    "images = []\n",
    "for i in range(5):\n",
    "    int_array = np.tril((i + 2) * np.ones(10))\n",
    "    int_array[int_array == 0] = (i + 1) \n",
    "    images.append(int_array)\n",
    "\n",
    "images_sets = [np.asarray(images), ]\n",
    "roi_data = np.array(([4, 2, 2, 2], [0, 5, 4, 4]), dtype=np.int64)\n",
    "label_array = roi.rectangles(roi_data, shape=images[0].shape)"
   ]
  },
  {
   "cell_type": "code",
   "execution_count": 3,
   "metadata": {
    "collapsed": false
   },
   "outputs": [
    {
     "data": {
      "text/plain": [
       "<matplotlib.image.AxesImage at 0x10889f150>"
      ]
     },
     "execution_count": 3,
     "metadata": {},
     "output_type": "execute_result"
    },
    {
     "data": {
      "image/png": "[encoded data removed]",
      "text/plain": [
       "<matplotlib.figure.Figure at 0x1042bed90>"
      ]
     },
     "metadata": {},
     "output_type": "display_data"
    }
   ],
   "source": [
    "plt.imshow(label_array)"
   ]
  },
  {
   "cell_type": "markdown",
   "metadata": {},
   "source": [
    "### Find the brightest pixels in any roi"
   ]
  },
  {
   "cell_type": "code",
   "execution_count": 4,
   "metadata": {
    "collapsed": false
   },
   "outputs": [
    {
     "data": {
      "text/plain": [
       "6.0"
      ]
     },
     "execution_count": 4,
     "metadata": {},
     "output_type": "execute_result"
    }
   ],
   "source": [
    "max_cts = roi.roi_max_counts(images_sets, label_array)\n",
    "max_cts"
   ]
  },
  {
   "cell_type": "markdown",
   "metadata": {},
   "source": [
    "# Call the xsvs main function in skxray.core.xsvs"
   ]
  },
  {
   "cell_type": "code",
   "execution_count": 5,
   "metadata": {
    "collapsed": false
   },
   "outputs": [],
   "source": [
    "prob_k_all, std = xsvs.xsvs(images_sets, label_array, timebin_num=2,\n",
    "                                number_of_img=5, max_cts=max_cts)\n"
   ]
  },
  {
   "cell_type": "code",
   "execution_count": 6,
   "metadata": {
    "collapsed": false
   },
   "outputs": [
    {
     "data": {
      "text/plain": [
       "array([[array([ 0. ,  0. ,  0.2,  0.2,  0.4]),\n",
       "        array([ 0. ,  0.2,  0.2,  0.2,  0.4])],\n",
       "       [array([ 0. ,  0. ,  0. ,  0. ,  0. ,  0.5,  0. ,  0. ,  0. ,  0.5,  0. ]),\n",
       "        array([ 0. ,  0. ,  0. ,  0.5,  0. ,  0. ,  0. ,  0.5,  0. ,  0. ,  0. ])],\n",
       "       [ array([ 0.,  0.,  0.,  0.,  0.,  0.,  0.,  0.,  0.,  0.,  0.,  0.,  0.,\n",
       "        0.,  1.,  0.,  0.,  0.,  0.,  0.,  0.,  0.,  0.]),\n",
       "        array([ 0.,  0.,  0.,  0.,  0.,  0.,  0.,  0.,  0.,  0.,  1.,  0.,  0.,\n",
       "        0.,  0.,  0.,  0.,  0.,  0.,  0.,  0.,  0.,  0.])]], dtype=object)"
      ]
     },
     "execution_count": 6,
     "metadata": {},
     "output_type": "execute_result"
    }
   ],
   "source": [
    "prob_k_all"
   ]
  },
  {
   "cell_type": "code",
   "execution_count": 7,
   "metadata": {
    "collapsed": false
   },
   "outputs": [
    {
     "data": {
      "text/plain": [
       "(3, 2)"
      ]
     },
     "execution_count": 7,
     "metadata": {},
     "output_type": "execute_result"
    }
   ],
   "source": [
    "prob_k_all.shape"
   ]
  },
  {
   "cell_type": "markdown",
   "metadata": {},
   "source": [
    "##  Same xsvs funtion from the skxray.core.xsvs here added some print functions"
   ]
  },
  {
   "cell_type": "code",
   "execution_count": 8,
   "metadata": {
    "collapsed": true
   },
   "outputs": [],
   "source": [
    "def xsvs3(image_sets, label_array, timebin_num=2, number_of_img=50,\n",
    "         max_cts=None):\n",
    "    \"\"\"\n",
    "    This function will provide the probability density of detecting photons\n",
    "    for different integration time.\n",
    "\n",
    "    The experimental probability density P(K) of detecting photons K is\n",
    "    obtained by histogramming the photon counts over an ensemble of\n",
    "    equivalent pixels and over a number of speckle patterns recorded\n",
    "    with the same integration time T under the same condition.\n",
    "\n",
    "    Parameters\n",
    "    ----------\n",
    "    image_sets : array\n",
    "        sets of images\n",
    "    label_array : array\n",
    "        labeled array; 0 is background.\n",
    "        Each ROI is represented by a distinct label (i.e., integer).\n",
    "    timebin_num : int, optional\n",
    "        integration times\n",
    "    number_of_img : int, optional\n",
    "        number of images\n",
    "    max_cts : int, optional\n",
    "       the brightest pixel in any ROI in any image in the image set.\n",
    "\n",
    "    Returns\n",
    "    -------\n",
    "    prob_k_all : array\n",
    "        probability density of detecting photons\n",
    "    prob_k_std_dev : array\n",
    "        standard deviation of probability density of detecting photons\n",
    "\n",
    "    Note\n",
    "    ----\n",
    "    These implementation is based on following references\n",
    "    References: text [1]_, text [2]_\n",
    "\n",
    "    .. [1] L. Li, P. Kwasniewski, D. Oris, L Wiegart, L. Cristofolini,\n",
    "       C. Carona and A. Fluerasu , \"Photon statistics and speckle visibility\n",
    "       spectroscopy with partially coherent x-rays\" J. Synchrotron Rad.,\n",
    "       vol 21, p 1288-1295, 2014.\n",
    "\n",
    "    .. [2] R. Bandyopadhyay, A. S. Gittings, S. S. Suh, P.K. Dixon and\n",
    "       D.J. Durian \"Speckle-visibilty Spectroscopy: A tool to study\n",
    "       time-varying dynamics\" Rev. Sci. Instrum. vol 76, p  093110, 2005.\n",
    "\n",
    "    \"\"\"\n",
    "    if max_cts is None:\n",
    "        max_cts = roi.roi_max_counts(image_sets, label_array)\n",
    "\n",
    "    # number of ROI's\n",
    "    num_roi = np.max(label_array)\n",
    "\n",
    "    # create integration times\n",
    "    time_bin = core.geometric_series(timebin_num, number_of_img)\n",
    "\n",
    "    # number of items in the time bin\n",
    "    num_times = len(time_bin)\n",
    "\n",
    "    # find the label's and pixel indices for ROI's\n",
    "    labels, indices = corr.extract_label_indices(label_array)\n",
    "\n",
    "    # number of pixels per ROI\n",
    "    num_pixels = np.bincount(labels, minlength=(num_roi+1))[1:]\n",
    "\n",
    "    # probability density of detecting speckles\n",
    "    prob_k_all = np.zeros([num_times, num_roi], dtype=np.object)\n",
    "    # square of probability density of detecting speckles\n",
    "    prob_k_pow_all = np.zeros([num_times, num_roi], dtype=np.object)\n",
    "    # standard deviation of probability density of detecting photons\n",
    "    prob_k_std_dev = np.zeros([num_times, num_roi], dtype=np.object)\n",
    "\n",
    "    # get the bin edges for each time bin for each ROI\n",
    "    bin_edges = np.zeros((num_times, num_roi), dtype=object)\n",
    "    for i in range(num_times):\n",
    "        for j in range(num_roi):\n",
    "            bin_edges[i, j] = np.arange(max_cts*2**i)\n",
    "\n",
    "    start_time = time.time()  # used to log the computation time (optionally)\n",
    "\n",
    "    for i, images in enumerate(image_sets):\n",
    "        # Ring buffer, a buffer with periodic boundary conditions.\n",
    "        # Images must be keep for up to maximum delay in buf.\n",
    "        buf = np.zeros([num_times, timebin_num],\n",
    "                       dtype=np.object)  # matrix of buffers\n",
    "\n",
    "        # to track processing each time level\n",
    "        track_level = np.zeros(num_times)\n",
    "\n",
    "        # to increment buffer\n",
    "        cur = np.ones(num_times)*timebin_num\n",
    "\n",
    "        # to track how many images processed in each level\n",
    "        img_per_level = np.zeros(num_times, dtype=np.int64)\n",
    "\n",
    "        prob_k = np.zeros([num_times, num_roi], dtype=np.object)\n",
    "        prob_k_pow = np.zeros([num_times, num_roi], dtype=np.object)\n",
    "\n",
    "        for n, img in enumerate(images):\n",
    "            cur[0] = (1 + cur[0]) % timebin_num\n",
    "            # read each frame\n",
    "            # Put the image into the ring buffer.\n",
    "            buf[0, cur[0] - 1] = (np.ravel(img))[indices]\n",
    "\n",
    "            _process(num_roi, 0, cur[0] - 1, buf, img_per_level, labels,\n",
    "                     max_cts, bin_edges[0, 0], prob_k, prob_k_pow)\n",
    "\n",
    "            # check whether the number of levels is one, otherwise\n",
    "            # continue processing the next level\n",
    "            processing = num_times > 1\n",
    "            level = 1\n",
    "\n",
    "            while processing:\n",
    "                if not track_level[level]:\n",
    "                    track_level[level] = 1\n",
    "                    processing = 0\n",
    "                else:\n",
    "                    prev = 1 + (cur[level - 1] - 2) % timebin_num\n",
    "                    cur[level] = 1 + cur[level] % timebin_num\n",
    "\n",
    "                    buf[level, cur[level]-1] = (buf[level-1,\n",
    "                                                    prev-1] +\n",
    "                                                buf[level-1,\n",
    "                                                    cur[level - 1] - 1])\n",
    "                    track_level[level] = 0\n",
    "\n",
    "                    _process(num_roi, level, cur[level]-1, buf, img_per_level,\n",
    "                             labels, max_cts, bin_edges[level, 0], prob_k,\n",
    "                             prob_k_pow)\n",
    "                    level += 1\n",
    "                    # Checking whether there is next level for processing\n",
    "                    processing = level < num_times\n",
    "\n",
    "            prob_k_all += (prob_k - prob_k_all)/(i + 1)\n",
    "            prob_k_pow_all += (prob_k_pow - prob_k_pow_all)/(i + 1)\n",
    "\n",
    "    prob_k_std_dev = np.power((prob_k_pow_all -\n",
    "                                       np.power(prob_k_all, 2)), .5)\n",
    "\n",
    "    # ending time for the process\n",
    "    end_time = time.time()\n",
    "\n",
    "    logger.info(\"Processing time for XSVS took {0} seconds.\"\n",
    "                \"\".format(end_time - start_time))\n",
    "    return prob_k_all, prob_k_std_dev\n",
    "\n",
    "\n",
    "def _process(num_roi, level, buf_no, buf, img_per_level, labels, max_cts,\n",
    "             bin_edges, prob_k, prob_k_pow):\n",
    "    \"\"\"\n",
    "    Internal helper function. This modifies inputs in place.\n",
    "\n",
    "    This helper function calculate probability of detecting speckles for\n",
    "    each integration time.\n",
    "\n",
    "    Parameters\n",
    "    ----------\n",
    "    num_roi : int\n",
    "        number of ROI's\n",
    "    level : int\n",
    "        current time level(integration time)\n",
    "    buf_no : int\n",
    "        current buffer number\n",
    "    buf : array\n",
    "        image data array to use for XSVS\n",
    "    img_per_level : int\n",
    "        to track how many images processed in each level\n",
    "    labels : array\n",
    "        labels of the required region of interests(ROI's\n",
    "    max_cts: int\n",
    "        maximum pixel count\n",
    "    bin_edges : array\n",
    "        bin edges for each integration times and each ROI\n",
    "    prob_k : array\n",
    "        probability density of detecting speckles\n",
    "    prob_k_pow : array\n",
    "        squares of probability density of detecting speckles\n",
    "    \"\"\"\n",
    "    img_per_level[level] += 1\n",
    "\n",
    "    for j in range(num_roi):\n",
    "        print \"*******\"\n",
    "        print \"j\",j\n",
    "        roi_data = buf[level, buf_no][labels == j+1]\n",
    "        \n",
    "        print \"roi_data\", roi_data\n",
    "\n",
    "        spe_hist, bin_edges = np.histogram(roi_data, bins=bin_edges,\n",
    "                                           normed=True)\n",
    "        print \"bin_edges\", bin_edges\n",
    "        print \"img_per_level\", img_per_level[level]\n",
    "        print \"spe_hist\", spe_hist\n",
    "\n",
    "        prob_k[level, j] += (np.nan_to_num(spe_hist) -\n",
    "                             prob_k[level, j])/(img_per_level[level])\n",
    "\n",
    "        prob_k_pow[level, j] += (np.power(np.nan_to_num(spe_hist), 2) -\n",
    "                                 prob_k_pow[level, j])/(img_per_level[level])\n",
    "        \n",
    "        print \"prob_k\", prob_k[level, j]\n",
    "\n",
    "    return  # modifies arguments in place!"
   ]
  },
  {
   "cell_type": "markdown",
   "metadata": {},
   "source": [
    "### Run again to get the same results using print function for clarification"
   ]
  },
  {
   "cell_type": "code",
   "execution_count": 9,
   "metadata": {
    "collapsed": false
   },
   "outputs": [
    {
     "name": "stdout",
     "output_type": "stream",
     "text": [
      "*******\n",
      "j 0\n",
      "roi_data [ 2.  2.  2.  2.]\n",
      "bin_edges [ 0.  1.  2.  3.  4.  5.]\n",
      "img_per_level 1\n",
      "spe_hist [ 0.  0.  1.  0.  0.]\n",
      "prob_k [ 0.  0.  1.  0.  0.]\n",
      "*******\n",
      "j 1\n",
      "roi_data [ 1.  1.  1.  1.  1.  1.  1.  1.  1.  1.  1.  1.  1.  1.  1.  1.]\n",
      "bin_edges [ 0.  1.  2.  3.  4.  5.]\n",
      "img_per_level 1\n",
      "spe_hist [ 0.  1.  0.  0.  0.]\n",
      "prob_k [ 0.  1.  0.  0.  0.]\n",
      "*******\n",
      "j 0\n",
      "roi_data [ 3.  3.  3.  3.]\n",
      "bin_edges [ 0.  1.  2.  3.  4.  5.]\n",
      "img_per_level 2\n",
      "spe_hist [ 0.  0.  0.  1.  0.]\n",
      "prob_k [ 0.   0.   0.5  0.5  0. ]\n",
      "*******\n",
      "j 1\n",
      "roi_data [ 2.  2.  2.  2.  2.  2.  2.  2.  2.  2.  2.  2.  2.  2.  2.  2.]\n",
      "bin_edges [ 0.  1.  2.  3.  4.  5.]\n",
      "img_per_level 2\n",
      "spe_hist [ 0.  0.  1.  0.  0.]\n",
      "prob_k [ 0.   0.5  0.5  0.   0. ]\n",
      "*******\n",
      "j 0\n",
      "roi_data [ 5.  5.  5.  5.]\n",
      "bin_edges [  0.   1.   2.   3.   4.   5.   6.   7.   8.   9.  10.  11.]\n",
      "img_per_level 1\n",
      "spe_hist [ 0.  0.  0.  0.  0.  1.  0.  0.  0.  0.  0.]\n",
      "prob_k [ 0.  0.  0.  0.  0.  1.  0.  0.  0.  0.  0.]\n",
      "*******\n",
      "j 1\n",
      "roi_data [ 3.  3.  3.  3.  3.  3.  3.  3.  3.  3.  3.  3.  3.  3.  3.  3.]\n",
      "bin_edges [  0.   1.   2.   3.   4.   5.   6.   7.   8.   9.  10.  11.]\n",
      "img_per_level 1\n",
      "spe_hist [ 0.  0.  0.  1.  0.  0.  0.  0.  0.  0.  0.]\n",
      "prob_k [ 0.  0.  0.  1.  0.  0.  0.  0.  0.  0.  0.]\n",
      "*******\n",
      "j 0\n",
      "roi_data [ 4.  4.  4.  4.]\n",
      "bin_edges [ 0.  1.  2.  3.  4.  5.]\n",
      "img_per_level 3\n",
      "spe_hist [ 0.  0.  0.  0.  1.]\n",
      "prob_k [ 0.          0.          0.33333333  0.33333333  0.33333333]\n",
      "*******\n",
      "j 1\n",
      "roi_data [ 3.  3.  3.  3.  3.  3.  3.  3.  3.  3.  3.  3.  3.  3.  3.  3.]\n",
      "bin_edges [ 0.  1.  2.  3.  4.  5.]\n",
      "img_per_level 3\n",
      "spe_hist [ 0.  0.  0.  1.  0.]\n",
      "prob_k [ 0.          0.33333333  0.33333333  0.33333333  0.        ]\n",
      "*******\n",
      "j 0\n",
      "roi_data [ 5.  5.  5.  5.]\n",
      "bin_edges [ 0.  1.  2.  3.  4.  5.]\n",
      "img_per_level 4\n",
      "spe_hist [ 0.  0.  0.  0.  1.]\n",
      "prob_k [ 0.    0.    0.25  0.25  0.5 ]\n",
      "*******\n",
      "j 1\n",
      "roi_data [ 4.  4.  4.  4.  4.  4.  4.  4.  4.  4.  4.  4.  4.  4.  4.  4.]\n",
      "bin_edges [ 0.  1.  2.  3.  4.  5.]\n",
      "img_per_level 4\n",
      "spe_hist [ 0.  0.  0.  0.  1.]\n",
      "prob_k [ 0.    0.25  0.25  0.25  0.25]\n",
      "*******\n",
      "j 0\n",
      "roi_data [ 9.  9.  9.  9.]\n",
      "bin_edges [  0.   1.   2.   3.   4.   5.   6.   7.   8.   9.  10.  11.]\n",
      "img_per_level 2\n",
      "spe_hist [ 0.  0.  0.  0.  0.  0.  0.  0.  0.  1.  0.]\n",
      "prob_k [ 0.   0.   0.   0.   0.   0.5  0.   0.   0.   0.5  0. ]\n",
      "*******\n",
      "j 1\n",
      "roi_data [ 7.  7.  7.  7.  7.  7.  7.  7.  7.  7.  7.  7.  7.  7.  7.  7.]\n",
      "bin_edges [  0.   1.   2.   3.   4.   5.   6.   7.   8.   9.  10.  11.]\n",
      "img_per_level 2\n",
      "spe_hist [ 0.  0.  0.  0.  0.  0.  0.  1.  0.  0.  0.]\n",
      "prob_k [ 0.   0.   0.   0.5  0.   0.   0.   0.5  0.   0.   0. ]\n",
      "*******\n",
      "j 0\n",
      "roi_data [ 14.  14.  14.  14.]\n",
      "bin_edges [  0.   1.   2.   3.   4.   5.   6.   7.   8.   9.  10.  11.  12.  13.  14.\n",
      "  15.  16.  17.  18.  19.  20.  21.  22.  23.]\n",
      "img_per_level 1\n",
      "spe_hist [ 0.  0.  0.  0.  0.  0.  0.  0.  0.  0.  0.  0.  0.  0.  1.  0.  0.  0.\n",
      "  0.  0.  0.  0.  0.]\n",
      "prob_k [ 0.  0.  0.  0.  0.  0.  0.  0.  0.  0.  0.  0.  0.  0.  1.  0.  0.  0.\n",
      "  0.  0.  0.  0.  0.]\n",
      "*******\n",
      "j 1\n",
      "roi_data [ 10.  10.  10.  10.  10.  10.  10.  10.  10.  10.  10.  10.  10.  10.  10.\n",
      "  10.]\n",
      "bin_edges [  0.   1.   2.   3.   4.   5.   6.   7.   8.   9.  10.  11.  12.  13.  14.\n",
      "  15.  16.  17.  18.  19.  20.  21.  22.  23.]\n",
      "img_per_level 1\n",
      "spe_hist [ 0.  0.  0.  0.  0.  0.  0.  0.  0.  0.  1.  0.  0.  0.  0.  0.  0.  0.\n",
      "  0.  0.  0.  0.  0.]\n",
      "prob_k [ 0.  0.  0.  0.  0.  0.  0.  0.  0.  0.  1.  0.  0.  0.  0.  0.  0.  0.\n",
      "  0.  0.  0.  0.  0.]\n",
      "*******\n",
      "j 0\n",
      "roi_data [ 6.  6.  6.  6.]\n",
      "bin_edges [ 0.  1.  2.  3.  4.  5.]\n",
      "img_per_level 5\n",
      "spe_hist [ nan  nan  nan  nan  nan]\n",
      "prob_k [ 0.   0.   0.2  0.2  0.4]\n",
      "*******\n",
      "j 1\n",
      "roi_data [ 5.  5.  5.  5.  5.  5.  5.  5.  5.  5.  5.  5.  5.  5.  5.  5.]\n",
      "bin_edges [ 0.  1.  2.  3.  4.  5.]\n",
      "img_per_level 5\n",
      "spe_hist [ 0.  0.  0.  0.  1.]\n",
      "prob_k [ 0.   0.2  0.2  0.2  0.4]\n"
     ]
    }
   ],
   "source": [
    "prob_k_all3 , std3 = xsvs3(images_sets, label_array, timebin_num=2,\n",
    "                                number_of_img=5, max_cts=max_cts)"
   ]
  },
  {
   "cell_type": "code",
   "execution_count": 10,
   "metadata": {
    "collapsed": false
   },
   "outputs": [
    {
     "data": {
      "text/plain": [
       "array([[array([ 0. ,  0. ,  0.2,  0.2,  0.4]),\n",
       "        array([ 0. ,  0.2,  0.2,  0.2,  0.4])],\n",
       "       [array([ 0. ,  0. ,  0. ,  0. ,  0. ,  0.5,  0. ,  0. ,  0. ,  0.5,  0. ]),\n",
       "        array([ 0. ,  0. ,  0. ,  0.5,  0. ,  0. ,  0. ,  0.5,  0. ,  0. ,  0. ])],\n",
       "       [ array([ 0.,  0.,  0.,  0.,  0.,  0.,  0.,  0.,  0.,  0.,  0.,  0.,  0.,\n",
       "        0.,  1.,  0.,  0.,  0.,  0.,  0.,  0.,  0.,  0.]),\n",
       "        array([ 0.,  0.,  0.,  0.,  0.,  0.,  0.,  0.,  0.,  0.,  1.,  0.,  0.,\n",
       "        0.,  0.,  0.,  0.,  0.,  0.,  0.,  0.,  0.,  0.])]], dtype=object)"
      ]
     },
     "execution_count": 10,
     "metadata": {},
     "output_type": "execute_result"
    }
   ],
   "source": [
    "prob_k_all3"
   ]
  },
  {
   "cell_type": "markdown",
   "metadata": {},
   "source": [
    "## Check whether the results are fine"
   ]
  },
  {
   "cell_type": "code",
   "execution_count": 11,
   "metadata": {
    "collapsed": false
   },
   "outputs": [],
   "source": [
    "from numpy.testing import (assert_array_almost_equal,\n",
    "                           assert_almost_equal)\n",
    "\n",
    "assert_array_almost_equal(prob_k_all[0, 0], np.array([0., 0., 0.2, 0.2, 0.4]))\n",
    "assert_array_almost_equal(prob_k_all[0, 1], np.array([0., 0.2, 0.2, 0.2, 0.4]))"
   ]
  }
 ],
 "metadata": {
  "kernelspec": {
   "display_name": "Python 2",
   "language": "python",
   "name": "python2"
  },
  "language_info": {
   "codemirror_mode": {
    "name": "ipython",
    "version": 2
   },
   "file_extension": ".py",
   "mimetype": "text/x-python",
   "name": "python",
   "nbconvert_exporter": "python",
   "pygments_lexer": "ipython2",
   "version": "2.7.10"
  }
 },
 "nbformat": 4,
 "nbformat_minor": 0
}
