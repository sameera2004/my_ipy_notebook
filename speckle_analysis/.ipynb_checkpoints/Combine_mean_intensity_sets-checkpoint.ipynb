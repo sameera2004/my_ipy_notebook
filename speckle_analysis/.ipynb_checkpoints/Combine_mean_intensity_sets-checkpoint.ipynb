{
 "cells": [
  {
   "cell_type": "markdown",
   "metadata": {},
   "source": [
    "# Getting Combine Mean Intensity from sets of images "
   ]
  },
  {
   "cell_type": "code",
   "execution_count": 1,
   "metadata": {
    "collapsed": false
   },
   "outputs": [
    {
     "name": "stderr",
     "output_type": "stream",
     "text": [
      ":0: FutureWarning: IPython widgets are experimental and may change in the future.\n"
     ]
    }
   ],
   "source": [
    "import skxray.core.roi as roi\n",
    "import skxray.core.correlation as corr\n",
    "import skxray.core.utils as core\n",
    "\n",
    "import xray_vision.mpl_plotting as mpl_plot\n",
    "import xray_vision.mpl_plotting.speckle as speckle_plot\n",
    "\n",
    "import numpy as np\n",
    "import os, sys\n",
    "\n",
    "import matplotlib as mpl\n",
    "import matplotlib.pyplot as plt\n",
    "from matplotlib.ticker import MaxNLocator\n",
    "from matplotlib.colors import LogNorm\n",
    "from mpl_toolkits.axes_grid1.axes_grid import ImageGrid\n",
    "\n",
    "# Easily switched between interactive mode\n",
    "interactive_mode = False\n",
    "\n",
    "if interactive_mode:\n",
    "    %matplotlib notebook\n",
    "else:\n",
    "    %matplotlib inline\n",
    "\n",
    "backend = mpl.get_backend()"
   ]
  },
  {
   "cell_type": "markdown",
   "metadata": {},
   "source": [
    "# Functions for mean_intensity_sets and combine_mean_inetsity"
   ]
  },
  {
   "cell_type": "code",
   "execution_count": 2,
   "metadata": {
    "collapsed": true
   },
   "outputs": [],
   "source": [
    "def mean_intensity_sets(images_set, labels):\n",
    "    \"\"\"\n",
    "    Mean intensities for ROIS' of the labeled array for different image sets\n",
    "\n",
    "    Parameters\n",
    "    ----------\n",
    "    images : array\n",
    "        iterable of 4D arrays\n",
    "        shapes is: (len(images_sets), )\n",
    "\n",
    "    labels : array\n",
    "        labeled array; 0 is background.\n",
    "        Each ROI is represented by a distinct label (i.e., integer).\n",
    "\n",
    "    Returns\n",
    "    -------\n",
    "    mean_intensity_dict : dict\n",
    "        average intensity of each ROI as a dictionary\n",
    "        shape len(images_sets)\n",
    "        eg: 2 image sets,\n",
    "        {image set 1 : len(images in image set 1),\n",
    "        image set 2 : len(images in image set 2)}\n",
    "\n",
    "    index_list : list\n",
    "        labels list for each image set\n",
    "\n",
    "    \"\"\"\n",
    "    mean_intensity_dict = {}\n",
    "    index_list = []\n",
    "    for n in range(len(images_set)):\n",
    "        mean_int, index = roi.mean_intensity(images_set[n], labels)\n",
    "        mean_intensity_dict[n] = mean_int\n",
    "        index_list.append(index)\n",
    "\n",
    "    return mean_intensity_dict, index_list\n",
    "\n",
    "\n",
    "def combine_mean_intensity(mean_int_dict, index_list):\n",
    "    \"\"\"\n",
    "    Combine mean intensities of the images(all images sets) for each ROI\n",
    "    if the labels list of all the images are same\n",
    "\n",
    "    Parameters\n",
    "    ----------\n",
    "    mean_int_dict : dict\n",
    "        mean intensity of each ROI as a dictionary\n",
    "        eg: 2 image sets,\n",
    "        {image set 1 : (len(images in image set 1),\n",
    "        image set 2 : (len(images in image set 2)}\n",
    "\n",
    "    index_list : list\n",
    "        labels list for each image sets\n",
    "\n",
    "    Returns\n",
    "    -------\n",
    "    combine_mean_int : array\n",
    "        combine mean intensities of image sets for each ROI of labeled array\n",
    "        shape (len(images in all image sets), number of labels)\n",
    "\n",
    "    \"\"\"\n",
    "    if np.all(map(lambda x: x == index_list[0], index_list)):\n",
    "        combine_mean_intensity = np.vstack(list(mean_int_dict.values()))\n",
    "    else:\n",
    "        raise ValueError(\"Labels list for the image sets are different\")\n",
    "\n",
    "    return np.vstack(list(mean_int_dict.values()))"
   ]
  },
  {
   "cell_type": "markdown",
   "metadata": {},
   "source": [
    "# Test mean intensity sets"
   ]
  },
  {
   "cell_type": "code",
   "execution_count": 3,
   "metadata": {
    "collapsed": true
   },
   "outputs": [],
   "source": [
    "from numpy.testing import (assert_array_equal, assert_array_almost_equal,\n",
    "                           assert_almost_equal)\n",
    "from nose.tools import assert_equal, assert_true, assert_raises\n",
    "def test_static_test_sets():\n",
    "    img_stack1 = np.random.randint(0, 60, size=(50, ) + (50, 50))\n",
    "\n",
    "    label_array = np.zeros((25, 25))\n",
    "\n",
    "    # different shapes for the images and labels\n",
    "    assert_raises(ValueError,\n",
    "                  lambda: roi.mean_intensity(img_stack1, label_array))\n",
    "    images1 = []\n",
    "    for i in range(10):\n",
    "        int_array = np.tril(i*np.ones(50))\n",
    "        int_array[int_array == 0] = i*100\n",
    "        images1.append(int_array)\n",
    "\n",
    "    images2 = []\n",
    "    for i in range(20):\n",
    "        int_array = np.triu(i*np.ones(50))\n",
    "        int_array[int_array == 0] = i*100\n",
    "        images2.append(int_array)\n",
    "\n",
    "    samples = np.array((np.asarray(images1), np.asarray(images2)))\n",
    "\n",
    "    roi_data = np.array(([2, 30, 12, 15], [40, 20, 15, 10]), dtype=np.int64)\n",
    "\n",
    "    label_array = roi.rectangles(roi_data, shape=(50, 50))\n",
    "\n",
    "    average_intensity, index = roi.mean_intensity(np.asarray(images1),\n",
    "                                                      label_array)\n",
    "\n",
    "    average_int_sets, index_list = mean_intensity_sets(samples,\n",
    "                                                               label_array)\n",
    "\n",
    "    assert_array_equal((list(average_int_sets.values())[0][:, 0]),\n",
    "                       [float(x) for x in range(0, 1000, 100)])\n",
    "    assert_array_equal((list(average_int_sets.values())[1][:, 0]),\n",
    "                       [float(x) for x in range(0, 20, 1)])\n",
    "\n",
    "    assert_array_equal((list(average_int_sets.values())[0][:, 1]),\n",
    "                       [float(x) for x in range(0, 10, 1)])\n",
    "    assert_array_equal((list(average_int_sets.values())[1][:, 1]),\n",
    "                       [float(x) for x in range(0, 2000, 100)])\n",
    "\n",
    "    # check the combine_mean_intensity function\n",
    "    combine_mean_int = combine_mean_intensity(average_int_sets,\n",
    "                                                      index_list)\n",
    "\n",
    "    roi_data2 = np.array(([2, 30, 12, 15], [40, 20, 15, 10],\n",
    "                          [20, 2, 4, 5]), dtype=np.int64)\n",
    "\n",
    "    label_array2 = roi.rectangles(roi_data2, shape=(50, 50))\n",
    "\n",
    "    average_int2, index2 = roi.mean_intensity(np.asarray(images1),\n",
    "                                                      label_array2)\n",
    "    index_list2 = [index_list, index2]\n",
    "\n",
    "    average_int_sets[\"3\"] = average_int2\n",
    "\n",
    "    assert_raises(ValueError,\n",
    "                  lambda: combine_mean_intensity(average_int_sets,\n",
    "                                                          index_list2))"
   ]
  },
  {
   "cell_type": "code",
   "execution_count": 4,
   "metadata": {
    "collapsed": false
   },
   "outputs": [],
   "source": [
    "img_stack1 = np.random.randint(0, 60, size=(50, ) + (50, 50))\n",
    "\n",
    "label_array = np.zeros((25, 25))\n",
    "\n",
    "# different shapes for the images and labels\n",
    "assert_raises(ValueError,\n",
    "                lambda: roi.mean_intensity(img_stack1, label_array))\n",
    "images1 = []\n",
    "for i in range(10):\n",
    "    int_array = np.tril(i*np.ones(50))\n",
    "    int_array[int_array == 0] = i*100\n",
    "    images1.append(int_array)\n",
    "\n",
    "images2 = []\n",
    "for i in range(20):\n",
    "    int_array = np.triu(i*np.ones(50))\n",
    "    int_array[int_array == 0] = i*100\n",
    "    images2.append(int_array)\n",
    "\n",
    "samples = np.array((np.asarray(images1), np.asarray(images2)))\n",
    "\n",
    "roi_data = np.array(([2, 30, 12, 15], [40, 20, 15, 10]), dtype=np.int64)\n",
    "\n",
    "label_array = roi.rectangles(roi_data, shape=(50, 50))\n"
   ]
  },
  {
   "cell_type": "code",
   "execution_count": 5,
   "metadata": {
    "collapsed": false
   },
   "outputs": [],
   "source": [
    "average_int_sets, index_list = mean_intensity_sets(samples,\n",
    "                                                   label_array)\n",
    "\n",
    "assert_array_equal((list(average_int_sets.values())[0][:, 0]),\n",
    "                       [float(x) for x in range(0, 1000, 100)])\n",
    "assert_array_equal((list(average_int_sets.values())[1][:, 0]),\n",
    "                       [float(x) for x in range(0, 20, 1)])\n",
    "\n",
    "assert_array_equal((list(average_int_sets.values())[0][:, 1]),\n",
    "                       [float(x) for x in range(0, 10, 1)])\n",
    "assert_array_equal((list(average_int_sets.values())[1][:, 1]),\n",
    "                       [float(x) for x in range(0, 2000, 100)])\n",
    "\n",
    "# check the combine_mean_intensity function\n",
    "combine_mean_int = combine_mean_intensity(average_int_sets,\n",
    "                                          index_list)\n"
   ]
  },
  {
   "cell_type": "code",
   "execution_count": 6,
   "metadata": {
    "collapsed": true
   },
   "outputs": [],
   "source": [
    "roi_data2 = np.array(([2, 30, 12, 15], [40, 20, 15, 10],\n",
    "                          [20, 2, 4, 5]), dtype=np.int64)\n",
    "\n",
    "label_array2 = roi.rectangles(roi_data2, shape=(50, 50))\n",
    "\n",
    "average_int2, index2 = roi.mean_intensity(np.asarray(images1),\n",
    "                                                      label_array2)\n",
    "index_list2 = [index_list, index2]\n",
    "\n",
    "average_int_sets[\"3\"] = average_int2"
   ]
  },
  {
   "cell_type": "code",
   "execution_count": 7,
   "metadata": {
    "collapsed": true
   },
   "outputs": [],
   "source": [
    "assert_raises(ValueError,\n",
    "               lambda: combine_mean_intensity(average_int_sets,\n",
    "                                               index_list2))"
   ]
  },
  {
   "cell_type": "code",
   "execution_count": 8,
   "metadata": {
    "collapsed": false
   },
   "outputs": [
    {
     "data": {
      "image/png": "[encoded data removed]",
      "text/plain": [
       "<matplotlib.figure.Figure at 0x1097ba050>"
      ]
     },
     "metadata": {},
     "output_type": "display_data"
    }
   ],
   "source": [
    "plt.figure()\n",
    "plt.plot(combine_mean_int)\n",
    "plt.show()"
   ]
  }
 ],
 "metadata": {
  "kernelspec": {
   "display_name": "Python 2",
   "language": "python",
   "name": "python2"
  },
  "language_info": {
   "codemirror_mode": {
    "name": "ipython",
    "version": 2
   },
   "file_extension": ".py",
   "mimetype": "text/x-python",
   "name": "python",
   "nbconvert_exporter": "python",
   "pygments_lexer": "ipython2",
   "version": "2.7.10"
  }
 },
 "nbformat": 4,
 "nbformat_minor": 0
}
