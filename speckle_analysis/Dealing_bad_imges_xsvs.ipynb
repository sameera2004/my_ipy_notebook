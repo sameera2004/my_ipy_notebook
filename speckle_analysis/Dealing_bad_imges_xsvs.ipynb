{
 "cells": [
  {
   "cell_type": "code",
   "execution_count": 1,
   "metadata": {
    "collapsed": true
   },
   "outputs": [],
   "source": [
    "import skbeam.core.mask as mask\n",
    "import skbeam.core.speckle as speckle\n",
    "import skbeam.core.roi as roi\n",
    "\n",
    "import numpy as np\n",
    "import matplotlib.pyplot as plt\n",
    "import matplotlib as mpl"
   ]
  },
  {
   "cell_type": "code",
   "execution_count": 2,
   "metadata": {
    "collapsed": false
   },
   "outputs": [
    {
     "name": "stdout",
     "output_type": "stream",
     "text": [
      "0.0\n",
      "working\n",
      "0.0\n",
      "working\n",
      "0.0\n",
      "working\n",
      "0.0\n",
      "working\n",
      "0.0\n",
      "working\n",
      "0.0\n",
      "working\n",
      "0.0\n",
      "working\n",
      "0.0\n",
      "working\n",
      "0.0\n",
      "working\n",
      "0.0\n",
      "working\n",
      "0.0\n",
      "working\n",
      "0.0\n",
      "working\n",
      "0.0\n",
      "working\n",
      "0.0\n",
      "working\n",
      "0.0\n",
      "working\n"
     ]
    },
    {
     "name": "stderr",
     "output_type": "stream",
     "text": [
      "/Users/sameera/mc/envs/work/lib/python2.7/site-packages/numpy/core/numeric.py:294: FutureWarning: in the future, full(3, 2) will return an array of dtype('int64')\n",
      "  format(shape, fill_value, array(fill_value).dtype), FutureWarning)\n",
      "/Users/sameera/mc/envs/work/lib/python2.7/site-packages/numpy/lib/function_base.py:286: RuntimeWarning: invalid value encountered in true_divide\n",
      "  return n/db/n.sum(), bins\n"
     ]
    }
   ],
   "source": [
    "images = []\n",
    "for i in range(5):\n",
    "        int_array = np.tril((i + 2) * np.ones(10))\n",
    "        int_array[int_array == 0] = (i + 1)\n",
    "        images.append(int_array)\n",
    "\n",
    "images_sets = [np.asarray(images), ]\n",
    "roi_data = np.array(([4, 2, 2, 2], [0, 5, 4, 4]), dtype=np.int64)\n",
    "label_array = roi.rectangles(roi_data, shape=images[0].shape)\n",
    "\n",
    "prob_k_all, std = speckle.xsvs(images_sets, label_array, timebin_num=2,\n",
    "                                number_of_img=5, max_cts=None)"
   ]
  },
  {
   "cell_type": "code",
   "execution_count": 3,
   "metadata": {
    "collapsed": false
   },
   "outputs": [
    {
     "data": {
      "text/plain": [
       "(3, 2)"
      ]
     },
     "execution_count": 3,
     "metadata": {},
     "output_type": "execute_result"
    }
   ],
   "source": [
    "prob_k_all.shape"
   ]
  },
  {
   "cell_type": "code",
   "execution_count": 4,
   "metadata": {
    "collapsed": false
   },
   "outputs": [
    {
     "data": {
      "text/plain": [
       "[array([[[ 2.,  1.,  1.,  1.,  1.,  1.,  1.,  1.,  1.,  1.],\n",
       "         [ 2.,  2.,  1.,  1.,  1.,  1.,  1.,  1.,  1.,  1.],\n",
       "         [ 2.,  2.,  2.,  1.,  1.,  1.,  1.,  1.,  1.,  1.],\n",
       "         [ 2.,  2.,  2.,  2.,  1.,  1.,  1.,  1.,  1.,  1.],\n",
       "         [ 2.,  2.,  2.,  2.,  2.,  1.,  1.,  1.,  1.,  1.],\n",
       "         [ 2.,  2.,  2.,  2.,  2.,  2.,  1.,  1.,  1.,  1.],\n",
       "         [ 2.,  2.,  2.,  2.,  2.,  2.,  2.,  1.,  1.,  1.],\n",
       "         [ 2.,  2.,  2.,  2.,  2.,  2.,  2.,  2.,  1.,  1.],\n",
       "         [ 2.,  2.,  2.,  2.,  2.,  2.,  2.,  2.,  2.,  1.],\n",
       "         [ 2.,  2.,  2.,  2.,  2.,  2.,  2.,  2.,  2.,  2.]],\n",
       " \n",
       "        [[ 3.,  2.,  2.,  2.,  2.,  2.,  2.,  2.,  2.,  2.],\n",
       "         [ 3.,  3.,  2.,  2.,  2.,  2.,  2.,  2.,  2.,  2.],\n",
       "         [ 3.,  3.,  3.,  2.,  2.,  2.,  2.,  2.,  2.,  2.],\n",
       "         [ 3.,  3.,  3.,  3.,  2.,  2.,  2.,  2.,  2.,  2.],\n",
       "         [ 3.,  3.,  3.,  3.,  3.,  2.,  2.,  2.,  2.,  2.],\n",
       "         [ 3.,  3.,  3.,  3.,  3.,  3.,  2.,  2.,  2.,  2.],\n",
       "         [ 3.,  3.,  3.,  3.,  3.,  3.,  3.,  2.,  2.,  2.],\n",
       "         [ 3.,  3.,  3.,  3.,  3.,  3.,  3.,  3.,  2.,  2.],\n",
       "         [ 3.,  3.,  3.,  3.,  3.,  3.,  3.,  3.,  3.,  2.],\n",
       "         [ 3.,  3.,  3.,  3.,  3.,  3.,  3.,  3.,  3.,  3.]],\n",
       " \n",
       "        [[ 4.,  3.,  3.,  3.,  3.,  3.,  3.,  3.,  3.,  3.],\n",
       "         [ 4.,  4.,  3.,  3.,  3.,  3.,  3.,  3.,  3.,  3.],\n",
       "         [ 4.,  4.,  4.,  3.,  3.,  3.,  3.,  3.,  3.,  3.],\n",
       "         [ 4.,  4.,  4.,  4.,  3.,  3.,  3.,  3.,  3.,  3.],\n",
       "         [ 4.,  4.,  4.,  4.,  4.,  3.,  3.,  3.,  3.,  3.],\n",
       "         [ 4.,  4.,  4.,  4.,  4.,  4.,  3.,  3.,  3.,  3.],\n",
       "         [ 4.,  4.,  4.,  4.,  4.,  4.,  4.,  3.,  3.,  3.],\n",
       "         [ 4.,  4.,  4.,  4.,  4.,  4.,  4.,  4.,  3.,  3.],\n",
       "         [ 4.,  4.,  4.,  4.,  4.,  4.,  4.,  4.,  4.,  3.],\n",
       "         [ 4.,  4.,  4.,  4.,  4.,  4.,  4.,  4.,  4.,  4.]],\n",
       " \n",
       "        [[ 5.,  4.,  4.,  4.,  4.,  4.,  4.,  4.,  4.,  4.],\n",
       "         [ 5.,  5.,  4.,  4.,  4.,  4.,  4.,  4.,  4.,  4.],\n",
       "         [ 5.,  5.,  5.,  4.,  4.,  4.,  4.,  4.,  4.,  4.],\n",
       "         [ 5.,  5.,  5.,  5.,  4.,  4.,  4.,  4.,  4.,  4.],\n",
       "         [ 5.,  5.,  5.,  5.,  5.,  4.,  4.,  4.,  4.,  4.],\n",
       "         [ 5.,  5.,  5.,  5.,  5.,  5.,  4.,  4.,  4.,  4.],\n",
       "         [ 5.,  5.,  5.,  5.,  5.,  5.,  5.,  4.,  4.,  4.],\n",
       "         [ 5.,  5.,  5.,  5.,  5.,  5.,  5.,  5.,  4.,  4.],\n",
       "         [ 5.,  5.,  5.,  5.,  5.,  5.,  5.,  5.,  5.,  4.],\n",
       "         [ 5.,  5.,  5.,  5.,  5.,  5.,  5.,  5.,  5.,  5.]],\n",
       " \n",
       "        [[ 6.,  5.,  5.,  5.,  5.,  5.,  5.,  5.,  5.,  5.],\n",
       "         [ 6.,  6.,  5.,  5.,  5.,  5.,  5.,  5.,  5.,  5.],\n",
       "         [ 6.,  6.,  6.,  5.,  5.,  5.,  5.,  5.,  5.,  5.],\n",
       "         [ 6.,  6.,  6.,  6.,  5.,  5.,  5.,  5.,  5.,  5.],\n",
       "         [ 6.,  6.,  6.,  6.,  6.,  5.,  5.,  5.,  5.,  5.],\n",
       "         [ 6.,  6.,  6.,  6.,  6.,  6.,  5.,  5.,  5.,  5.],\n",
       "         [ 6.,  6.,  6.,  6.,  6.,  6.,  6.,  5.,  5.,  5.],\n",
       "         [ 6.,  6.,  6.,  6.,  6.,  6.,  6.,  6.,  5.,  5.],\n",
       "         [ 6.,  6.,  6.,  6.,  6.,  6.,  6.,  6.,  6.,  5.],\n",
       "         [ 6.,  6.,  6.,  6.,  6.,  6.,  6.,  6.,  6.,  6.]]])]"
      ]
     },
     "execution_count": 4,
     "metadata": {},
     "output_type": "execute_result"
    }
   ],
   "source": [
    "images_sets"
   ]
  },
  {
   "cell_type": "code",
   "execution_count": 5,
   "metadata": {
    "collapsed": false
   },
   "outputs": [],
   "source": [
    "# testing for bad images\n",
    "bad_list = []\n",
    "# convert each bad image to np.nan array\n",
    "images = mask.bad_to_nan_gen(images_sets, bad_list)"
   ]
  },
  {
   "cell_type": "code",
   "execution_count": 6,
   "metadata": {
    "collapsed": false
   },
   "outputs": [
    {
     "name": "stdout",
     "output_type": "stream",
     "text": [
      "[[[ 2.  1.  1.  1.  1.  1.  1.  1.  1.  1.]\n",
      "  [ 2.  2.  1.  1.  1.  1.  1.  1.  1.  1.]\n",
      "  [ 2.  2.  2.  1.  1.  1.  1.  1.  1.  1.]\n",
      "  [ 2.  2.  2.  2.  1.  1.  1.  1.  1.  1.]\n",
      "  [ 2.  2.  2.  2.  2.  1.  1.  1.  1.  1.]\n",
      "  [ 2.  2.  2.  2.  2.  2.  1.  1.  1.  1.]\n",
      "  [ 2.  2.  2.  2.  2.  2.  2.  1.  1.  1.]\n",
      "  [ 2.  2.  2.  2.  2.  2.  2.  2.  1.  1.]\n",
      "  [ 2.  2.  2.  2.  2.  2.  2.  2.  2.  1.]\n",
      "  [ 2.  2.  2.  2.  2.  2.  2.  2.  2.  2.]]\n",
      "\n",
      " [[ 3.  2.  2.  2.  2.  2.  2.  2.  2.  2.]\n",
      "  [ 3.  3.  2.  2.  2.  2.  2.  2.  2.  2.]\n",
      "  [ 3.  3.  3.  2.  2.  2.  2.  2.  2.  2.]\n",
      "  [ 3.  3.  3.  3.  2.  2.  2.  2.  2.  2.]\n",
      "  [ 3.  3.  3.  3.  3.  2.  2.  2.  2.  2.]\n",
      "  [ 3.  3.  3.  3.  3.  3.  2.  2.  2.  2.]\n",
      "  [ 3.  3.  3.  3.  3.  3.  3.  2.  2.  2.]\n",
      "  [ 3.  3.  3.  3.  3.  3.  3.  3.  2.  2.]\n",
      "  [ 3.  3.  3.  3.  3.  3.  3.  3.  3.  2.]\n",
      "  [ 3.  3.  3.  3.  3.  3.  3.  3.  3.  3.]]\n",
      "\n",
      " [[ 4.  3.  3.  3.  3.  3.  3.  3.  3.  3.]\n",
      "  [ 4.  4.  3.  3.  3.  3.  3.  3.  3.  3.]\n",
      "  [ 4.  4.  4.  3.  3.  3.  3.  3.  3.  3.]\n",
      "  [ 4.  4.  4.  4.  3.  3.  3.  3.  3.  3.]\n",
      "  [ 4.  4.  4.  4.  4.  3.  3.  3.  3.  3.]\n",
      "  [ 4.  4.  4.  4.  4.  4.  3.  3.  3.  3.]\n",
      "  [ 4.  4.  4.  4.  4.  4.  4.  3.  3.  3.]\n",
      "  [ 4.  4.  4.  4.  4.  4.  4.  4.  3.  3.]\n",
      "  [ 4.  4.  4.  4.  4.  4.  4.  4.  4.  3.]\n",
      "  [ 4.  4.  4.  4.  4.  4.  4.  4.  4.  4.]]\n",
      "\n",
      " [[ 5.  4.  4.  4.  4.  4.  4.  4.  4.  4.]\n",
      "  [ 5.  5.  4.  4.  4.  4.  4.  4.  4.  4.]\n",
      "  [ 5.  5.  5.  4.  4.  4.  4.  4.  4.  4.]\n",
      "  [ 5.  5.  5.  5.  4.  4.  4.  4.  4.  4.]\n",
      "  [ 5.  5.  5.  5.  5.  4.  4.  4.  4.  4.]\n",
      "  [ 5.  5.  5.  5.  5.  5.  4.  4.  4.  4.]\n",
      "  [ 5.  5.  5.  5.  5.  5.  5.  4.  4.  4.]\n",
      "  [ 5.  5.  5.  5.  5.  5.  5.  5.  4.  4.]\n",
      "  [ 5.  5.  5.  5.  5.  5.  5.  5.  5.  4.]\n",
      "  [ 5.  5.  5.  5.  5.  5.  5.  5.  5.  5.]]\n",
      "\n",
      " [[ 6.  5.  5.  5.  5.  5.  5.  5.  5.  5.]\n",
      "  [ 6.  6.  5.  5.  5.  5.  5.  5.  5.  5.]\n",
      "  [ 6.  6.  6.  5.  5.  5.  5.  5.  5.  5.]\n",
      "  [ 6.  6.  6.  6.  5.  5.  5.  5.  5.  5.]\n",
      "  [ 6.  6.  6.  6.  6.  5.  5.  5.  5.  5.]\n",
      "  [ 6.  6.  6.  6.  6.  6.  5.  5.  5.  5.]\n",
      "  [ 6.  6.  6.  6.  6.  6.  6.  5.  5.  5.]\n",
      "  [ 6.  6.  6.  6.  6.  6.  6.  6.  5.  5.]\n",
      "  [ 6.  6.  6.  6.  6.  6.  6.  6.  6.  5.]\n",
      "  [ 6.  6.  6.  6.  6.  6.  6.  6.  6.  6.]]]\n"
     ]
    }
   ],
   "source": [
    "for y in images:\n",
    "    print (y)"
   ]
  },
  {
   "cell_type": "code",
   "execution_count": 7,
   "metadata": {
    "collapsed": false
   },
   "outputs": [],
   "source": [
    "new_prob_k, new_std = speckle.xsvs(images, label_array, timebin_num=2,\n",
    "                                    number_of_img=5, max_cts=6)"
   ]
  },
  {
   "cell_type": "code",
   "execution_count": 8,
   "metadata": {
    "collapsed": false
   },
   "outputs": [
    {
     "data": {
      "text/plain": [
       "array([[0, 0],\n",
       "       [0, 0],\n",
       "       [0, 0]], dtype=object)"
      ]
     },
     "execution_count": 8,
     "metadata": {},
     "output_type": "execute_result"
    }
   ],
   "source": [
    "new_prob_k"
   ]
  },
  {
   "cell_type": "code",
   "execution_count": 9,
   "metadata": {
    "collapsed": false
   },
   "outputs": [],
   "source": [
    "imgs = []\n",
    "for i in range(10):\n",
    "        int_array = np.tril((i + 2) * np.ones(10))\n",
    "        int_array[int_array == 0] = (i + 1)\n",
    "        imgs.append(int_array)\n",
    "\n",
    "# testing for bad images\n",
    "bad_list = [5, 7]\n",
    "# convert each bad image to np.nan array\n",
    "images1 = mask.bad_to_nan_gen(imgs, bad_list)"
   ]
  },
  {
   "cell_type": "code",
   "execution_count": 10,
   "metadata": {
    "collapsed": false
   },
   "outputs": [
    {
     "data": {
      "text/plain": [
       "<generator object bad_to_nan_gen at 0x1038ad0a0>"
      ]
     },
     "execution_count": 10,
     "metadata": {},
     "output_type": "execute_result"
    }
   ],
   "source": [
    "images1"
   ]
  },
  {
   "cell_type": "code",
   "execution_count": 11,
   "metadata": {
    "collapsed": false
   },
   "outputs": [],
   "source": [
    "#for y in images1:\n",
    "#    print (y)"
   ]
  },
  {
   "cell_type": "code",
   "execution_count": 12,
   "metadata": {
    "collapsed": false
   },
   "outputs": [
    {
     "name": "stdout",
     "output_type": "stream",
     "text": [
      "0.0\n",
      "working\n",
      "0.0\n",
      "working\n",
      "0.0\n",
      "working\n",
      "0.0\n",
      "working\n",
      "0.0\n",
      "working\n",
      "0.0\n",
      "working\n",
      "0.0\n",
      "working\n",
      "0.0\n",
      "working\n",
      "0.0\n",
      "working\n",
      "0.0\n",
      "working\n",
      "0.0\n",
      "working\n",
      "0.0\n",
      "working\n",
      "0.0\n",
      "working\n",
      "0.0\n",
      "working\n",
      "0.0\n",
      "working\n",
      "0.0\n",
      "not_working\n",
      "1.0\n",
      "0.0\n",
      "not_working\n",
      "1.0\n",
      "0.0\n",
      "not_working\n",
      "1.0\n",
      "1.0\n",
      "working\n",
      "1.0\n",
      "not_working\n",
      "2.0\n",
      "1.0\n",
      "not_working\n",
      "2.0\n",
      "1.0\n",
      "not_working\n",
      "2.0\n",
      "2.0\n",
      "not_working\n",
      "3.0\n",
      "2.0\n",
      "not_working\n",
      "3.0\n",
      "2.0\n",
      "working\n",
      "3.0\n",
      "not_working\n",
      "4.0\n",
      "3.0\n",
      "not_working\n",
      "4.0\n",
      "2.0\n",
      "working\n",
      "4.0\n",
      "working\n",
      "4.0\n",
      "not_working\n",
      "5.0\n"
     ]
    }
   ],
   "source": [
    "new_prob_k, new_std = speckle.xsvs((images1, ), label_array, timebin_num=2,\n",
    "                                    number_of_img=5, max_cts=6)"
   ]
  },
  {
   "cell_type": "code",
   "execution_count": 17,
   "metadata": {
    "collapsed": false
   },
   "outputs": [
    {
     "data": {
      "text/plain": [
       "array([[array([ 0.   ,  0.   ,  0.125,  0.125,  0.25 ]),\n",
       "        array([ 0.   ,  0.125,  0.125,  0.125,  0.25 ])],\n",
       "       [ array([ 0.        ,  0.        ,  0.16666667,  0.        ,  0.        ,\n",
       "        0.16666667,  0.        ,  0.16666667,  0.        ,  0.16666667,\n",
       "        0.16666667]),\n",
       "        array([ 0.        ,  0.16666667,  0.        ,  0.16666667,  0.        ,\n",
       "        0.16666667,  0.        ,  0.16666667,  0.        ,  0.16666667,  0.        ])],\n",
       "       [ array([ 0. ,  0. ,  0.2,  0. ,  0. ,  0. ,  0. ,  0.2,  0. ,  0. ,  0. ,\n",
       "        0. ,  0.2,  0. ,  0. ,  0. ,  0.2,  0. ,  0. ,  0. ,  0.2,  0. ,\n",
       "        0. ]),\n",
       "        array([ 0. ,  0.2,  0. ,  0. ,  0.2,  0. ,  0. ,  0. ,  0.2,  0. ,  0. ,\n",
       "        0. ,  0.2,  0. ,  0. ,  0. ,  0.2,  0. ,  0. ,  0. ,  0. ,  0. ,\n",
       "        0. ])]], dtype=object)"
      ]
     },
     "execution_count": 17,
     "metadata": {},
     "output_type": "execute_result"
    }
   ],
   "source": [
    "new_prob_k"
   ]
  },
  {
   "cell_type": "code",
   "execution_count": 18,
   "metadata": {
    "collapsed": false
   },
   "outputs": [
    {
     "data": {
      "text/plain": [
       "array([[array([ 0. ,  0. ,  0.2,  0.2,  0.4]),\n",
       "        array([ 0. ,  0.2,  0.2,  0.2,  0.4])],\n",
       "       [array([ 0. ,  0. ,  0.2,  0. ,  0. ,  0.2,  0. ,  0.2,  0. ,  0.2,  0.2]),\n",
       "        array([ 0. ,  0.2,  0. ,  0.2,  0. ,  0.2,  0. ,  0.2,  0. ,  0.2,  0. ])],\n",
       "       [ array([ 0. ,  0. ,  0.2,  0. ,  0. ,  0. ,  0. ,  0.2,  0. ,  0. ,  0. ,\n",
       "        0. ,  0.2,  0. ,  0. ,  0. ,  0.2,  0. ,  0. ,  0. ,  0.2,  0. ,\n",
       "        0. ]),\n",
       "        array([ 0. ,  0.2,  0. ,  0. ,  0.2,  0. ,  0. ,  0. ,  0.2,  0. ,  0. ,\n",
       "        0. ,  0.2,  0. ,  0. ,  0. ,  0.2,  0. ,  0. ,  0. ,  0. ,  0. ,\n",
       "        0. ])]], dtype=object)"
      ]
     },
     "execution_count": 18,
     "metadata": {},
     "output_type": "execute_result"
    }
   ],
   "source": [
    "prob_k_all"
   ]
  },
  {
   "cell_type": "code",
   "execution_count": 15,
   "metadata": {
    "collapsed": true
   },
   "outputs": [],
   "source": [
    "from numpy.testing import (assert_array_almost_equal,\n",
    "                           assert_almost_equal)\n"
   ]
  },
  {
   "cell_type": "code",
   "execution_count": 16,
   "metadata": {
    "collapsed": true
   },
   "outputs": [],
   "source": [
    "assert_array_almost_equal(new_prob_k[0, 0],\n",
    "                              np.array([0., 0., 0.2, 0.2, 0.4]))\n",
    "assert_array_almost_equal(new_prob_k[0, 1],\n",
    "                              np.array([0., 0.2, 0.2, 0.2, 0.4]))\n"
   ]
  },
  {
   "cell_type": "code",
   "execution_count": 17,
   "metadata": {
    "collapsed": true
   },
   "outputs": [],
   "source": [
    "def get_qedge( qstart,qend,qwidth,noqs,  ):\n",
    "    ''' DOCUMENT make_qlist( )\n",
    "    give qstart,qend,qwidth,noqs\n",
    "    return a qedge by giving the noqs, qstart,qend,qwidth.\n",
    "           a qcenter, which is center of each qedge \n",
    "    KEYWORD:  None    ''' \n",
    "    import numpy as np \n",
    "    qcenter = np.linspace(qstart,qend,noqs)\n",
    "    #print ('the qcenter is:  %s'%qcenter )\n",
    "    qedge=np.zeros(2*noqs) \n",
    "    qedge[::2]= (qcenter - (qwidth/2)  ) #+1  #render  even value\n",
    "    qedge[1::2]= (qcenter + qwidth/2) #render odd value\n",
    "    return qedge, qcenter    "
   ]
  },
  {
   "cell_type": "code",
   "execution_count": 93,
   "metadata": {
    "collapsed": false
   },
   "outputs": [],
   "source": [
    "qstart = 2\n",
    "qend=30\n",
    "qwidth=2\n",
    "noqs=4\n",
    "\n",
    "qedge, qcenter = get_qedge(qstart, qend, qwidth, noqs)"
   ]
  },
  {
   "cell_type": "code",
   "execution_count": 94,
   "metadata": {
    "collapsed": false
   },
   "outputs": [
    {
     "data": {
      "text/plain": [
       "array([  1.        ,   3.        ,  10.33333333,  12.33333333,\n",
       "        19.66666667,  21.66666667,  29.        ,  31.        ])"
      ]
     },
     "execution_count": 94,
     "metadata": {},
     "output_type": "execute_result"
    }
   ],
   "source": [
    "qedge"
   ]
  },
  {
   "cell_type": "code",
   "execution_count": 95,
   "metadata": {
    "collapsed": false
   },
   "outputs": [
    {
     "data": {
      "text/plain": [
       "array([  2.        ,  11.33333333,  20.66666667,  30.        ])"
      ]
     },
     "execution_count": 95,
     "metadata": {},
     "output_type": "execute_result"
    }
   ],
   "source": [
    "qcenter"
   ]
  },
  {
   "cell_type": "code",
   "execution_count": 96,
   "metadata": {
    "collapsed": true
   },
   "outputs": [],
   "source": [
    "import skbeam.core.roi as roi"
   ]
  },
  {
   "cell_type": "code",
   "execution_count": 98,
   "metadata": {
    "collapsed": false
   },
   "outputs": [],
   "source": [
    "qcenter = np.linspace(qstart,qend,noqs)"
   ]
  },
  {
   "cell_type": "code",
   "execution_count": 99,
   "metadata": {
    "collapsed": true
   },
   "outputs": [],
   "source": [
    "edge = roi.ring_edges(qstart, qend, qwidth, noqs)"
   ]
  },
  {
   "cell_type": "code",
   "execution_count": 100,
   "metadata": {
    "collapsed": false
   },
   "outputs": [
    {
     "data": {
      "text/plain": [
       "array([[   2.,   32.],\n",
       "       [  34.,   64.],\n",
       "       [  66.,   96.],\n",
       "       [  98.,  128.]])"
      ]
     },
     "execution_count": 100,
     "metadata": {},
     "output_type": "execute_result"
    }
   ],
   "source": [
    "edge\n"
   ]
  },
  {
   "cell_type": "code",
   "execution_count": 102,
   "metadata": {
    "collapsed": false
   },
   "outputs": [],
   "source": [
    "edge = roi.ring_edges(qstart, qwidth, num_rings=noqs)"
   ]
  },
  {
   "cell_type": "code",
   "execution_count": 103,
   "metadata": {
    "collapsed": false
   },
   "outputs": [
    {
     "data": {
      "text/plain": [
       "array([[  2.,   4.],\n",
       "       [  4.,   6.],\n",
       "       [  6.,   8.],\n",
       "       [  8.,  10.]])"
      ]
     },
     "execution_count": 103,
     "metadata": {},
     "output_type": "execute_result"
    }
   ],
   "source": [
    "edge"
   ]
  },
  {
   "cell_type": "markdown",
   "metadata": {},
   "source": [
    "## Following get_qmap_label is same as ring_roi in roi.py"
   ]
  },
  {
   "cell_type": "code",
   "execution_count": 104,
   "metadata": {
    "collapsed": true
   },
   "outputs": [],
   "source": [
    "def get_qmap_label( qmap, qedge ):\n",
    "    import numpy as np\n",
    "    '''give a qmap and qedge to bin the qmap into a label array'''\n",
    "    edges = np.atleast_2d(np.asarray(qedge)).ravel()\n",
    "    label_array = np.digitize(qmap.ravel(), edges, right=False)\n",
    "    label_array = np.int_(label_array)\n",
    "    label_array = (np.where(label_array % 2 != 0, label_array, 0) + 1) // 2\n",
    "    label_array = label_array.reshape( qmap.shape )\n",
    "    return label_array\n"
   ]
  },
  {
   "cell_type": "code",
   "execution_count": 106,
   "metadata": {
    "collapsed": false
   },
   "outputs": [],
   "source": [
    "#?? have to think about qend\n",
    "def get_qedge( qstart,qend,qwidth,noqs,  ):\n",
    "    ''' DOCUMENT make_qlist( )\n",
    "    give qstart,qend,qwidth,noqs\n",
    "    return a qedge by giving the noqs, qstart,qend,qwidth.\n",
    "           a qcenter, which is center of each qedge\n",
    "    KEYWORD:  None    '''\n",
    "    import numpy as np\n",
    "    qcenter = np.linspace(qstart,qend,noqs)\n",
    "    #print ('the qcenter is:  %s'%qcenter )\n",
    "    qedge=np.zeros(2*noqs)\n",
    "    qedge[::2]= (  qcenter- (qwidth/2)  ) #+1  #render  even value\n",
    "    qedge[1::2]= ( qcenter+ qwidth/2) #render odd value\n",
    "    return qedge, qcenter"
   ]
  },
  {
   "cell_type": "code",
   "execution_count": null,
   "metadata": {
    "collapsed": true
   },
   "outputs": [],
   "source": []
  }
 ],
 "metadata": {
  "kernelspec": {
   "display_name": "Python 2",
   "language": "python",
   "name": "python2"
  },
  "language_info": {
   "codemirror_mode": {
    "name": "ipython",
    "version": 2
   },
   "file_extension": ".py",
   "mimetype": "text/x-python",
   "name": "python",
   "nbconvert_exporter": "python",
   "pygments_lexer": "ipython2",
   "version": "2.7.11"
  }
 },
 "nbformat": 4,
 "nbformat_minor": 0
}
