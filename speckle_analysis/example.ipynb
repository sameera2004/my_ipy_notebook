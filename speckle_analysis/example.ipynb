{
 "cells": [
  {
   "cell_type": "code",
   "execution_count": 1,
   "metadata": {
    "collapsed": false
   },
   "outputs": [
    {
     "name": "stderr",
     "output_type": "stream",
     "text": [
      ":0: FutureWarning: IPython widgets are experimental and may change in the future.\n"
     ]
    }
   ],
   "source": [
    "import skxray.core.xsvs as xsvs\n",
    "import skxray.core.xsvs_fitting as xsvs_fit\n",
    "import skxray.core.roi as roi\n",
    "import skxray.core.correlation as corr\n",
    "import skxray.core.utils as core\n",
    "\n",
    "import numpy as np\n",
    "import os, sys\n",
    "\n",
    "import matplotlib.pyplot as plt\n",
    "%matplotlib inline\n",
    "from matplotlib.ticker import MaxNLocator\n",
    "from matplotlib.colors import LogNorm"
   ]
  },
  {
   "cell_type": "code",
   "execution_count": 17,
   "metadata": {
    "collapsed": false
   },
   "outputs": [
    {
     "data": {
      "text/plain": [
       "[array([[ 1.,  2.,  2.,  2.,  2.,  2.,  2.,  2.,  2.,  2.],\n",
       "        [ 1.,  1.,  2.,  2.,  2.,  2.,  2.,  2.,  2.,  2.],\n",
       "        [ 1.,  1.,  1.,  2.,  2.,  2.,  2.,  2.,  2.,  2.],\n",
       "        [ 1.,  1.,  1.,  1.,  2.,  2.,  2.,  2.,  2.,  2.],\n",
       "        [ 1.,  1.,  1.,  1.,  1.,  2.,  2.,  2.,  2.,  2.],\n",
       "        [ 1.,  1.,  1.,  1.,  1.,  1.,  2.,  2.,  2.,  2.],\n",
       "        [ 1.,  1.,  1.,  1.,  1.,  1.,  1.,  2.,  2.,  2.],\n",
       "        [ 1.,  1.,  1.,  1.,  1.,  1.,  1.,  1.,  2.,  2.],\n",
       "        [ 1.,  1.,  1.,  1.,  1.,  1.,  1.,  1.,  1.,  2.],\n",
       "        [ 1.,  1.,  1.,  1.,  1.,  1.,  1.,  1.,  1.,  1.]]),\n",
       " array([[ 2.,  4.,  4.,  4.,  4.,  4.,  4.,  4.,  4.,  4.],\n",
       "        [ 2.,  2.,  4.,  4.,  4.,  4.,  4.,  4.,  4.,  4.],\n",
       "        [ 2.,  2.,  2.,  4.,  4.,  4.,  4.,  4.,  4.,  4.],\n",
       "        [ 2.,  2.,  2.,  2.,  4.,  4.,  4.,  4.,  4.,  4.],\n",
       "        [ 2.,  2.,  2.,  2.,  2.,  4.,  4.,  4.,  4.,  4.],\n",
       "        [ 2.,  2.,  2.,  2.,  2.,  2.,  4.,  4.,  4.,  4.],\n",
       "        [ 2.,  2.,  2.,  2.,  2.,  2.,  2.,  4.,  4.,  4.],\n",
       "        [ 2.,  2.,  2.,  2.,  2.,  2.,  2.,  2.,  4.,  4.],\n",
       "        [ 2.,  2.,  2.,  2.,  2.,  2.,  2.,  2.,  2.,  4.],\n",
       "        [ 2.,  2.,  2.,  2.,  2.,  2.,  2.,  2.,  2.,  2.]]),\n",
       " array([[ 3.,  6.,  6.,  6.,  6.,  6.,  6.,  6.,  6.,  6.],\n",
       "        [ 3.,  3.,  6.,  6.,  6.,  6.,  6.,  6.,  6.,  6.],\n",
       "        [ 3.,  3.,  3.,  6.,  6.,  6.,  6.,  6.,  6.,  6.],\n",
       "        [ 3.,  3.,  3.,  3.,  6.,  6.,  6.,  6.,  6.,  6.],\n",
       "        [ 3.,  3.,  3.,  3.,  3.,  6.,  6.,  6.,  6.,  6.],\n",
       "        [ 3.,  3.,  3.,  3.,  3.,  3.,  6.,  6.,  6.,  6.],\n",
       "        [ 3.,  3.,  3.,  3.,  3.,  3.,  3.,  6.,  6.,  6.],\n",
       "        [ 3.,  3.,  3.,  3.,  3.,  3.,  3.,  3.,  6.,  6.],\n",
       "        [ 3.,  3.,  3.,  3.,  3.,  3.,  3.,  3.,  3.,  6.],\n",
       "        [ 3.,  3.,  3.,  3.,  3.,  3.,  3.,  3.,  3.,  3.]]),\n",
       " array([[ 4.,  8.,  8.,  8.,  8.,  8.,  8.,  8.,  8.,  8.],\n",
       "        [ 4.,  4.,  8.,  8.,  8.,  8.,  8.,  8.,  8.,  8.],\n",
       "        [ 4.,  4.,  4.,  8.,  8.,  8.,  8.,  8.,  8.,  8.],\n",
       "        [ 4.,  4.,  4.,  4.,  8.,  8.,  8.,  8.,  8.,  8.],\n",
       "        [ 4.,  4.,  4.,  4.,  4.,  8.,  8.,  8.,  8.,  8.],\n",
       "        [ 4.,  4.,  4.,  4.,  4.,  4.,  8.,  8.,  8.,  8.],\n",
       "        [ 4.,  4.,  4.,  4.,  4.,  4.,  4.,  8.,  8.,  8.],\n",
       "        [ 4.,  4.,  4.,  4.,  4.,  4.,  4.,  4.,  8.,  8.],\n",
       "        [ 4.,  4.,  4.,  4.,  4.,  4.,  4.,  4.,  4.,  8.],\n",
       "        [ 4.,  4.,  4.,  4.,  4.,  4.,  4.,  4.,  4.,  4.]]),\n",
       " array([[  5.,  10.,  10.,  10.,  10.,  10.,  10.,  10.,  10.,  10.],\n",
       "        [  5.,   5.,  10.,  10.,  10.,  10.,  10.,  10.,  10.,  10.],\n",
       "        [  5.,   5.,   5.,  10.,  10.,  10.,  10.,  10.,  10.,  10.],\n",
       "        [  5.,   5.,   5.,   5.,  10.,  10.,  10.,  10.,  10.,  10.],\n",
       "        [  5.,   5.,   5.,   5.,   5.,  10.,  10.,  10.,  10.,  10.],\n",
       "        [  5.,   5.,   5.,   5.,   5.,   5.,  10.,  10.,  10.,  10.],\n",
       "        [  5.,   5.,   5.,   5.,   5.,   5.,   5.,  10.,  10.,  10.],\n",
       "        [  5.,   5.,   5.,   5.,   5.,   5.,   5.,   5.,  10.,  10.],\n",
       "        [  5.,   5.,   5.,   5.,   5.,   5.,   5.,   5.,   5.,  10.],\n",
       "        [  5.,   5.,   5.,   5.,   5.,   5.,   5.,   5.,   5.,   5.]]),\n",
       " array([[  6.,  20.,  20.,  20.,  20.,  20.,  20.,  20.,  20.,  20.],\n",
       "        [  6.,   6.,  20.,  20.,  20.,  20.,  20.,  20.,  20.,  20.],\n",
       "        [  6.,   6.,   6.,  20.,  20.,  20.,  20.,  20.,  20.,  20.],\n",
       "        [  6.,   6.,   6.,   6.,  20.,  20.,  20.,  20.,  20.,  20.],\n",
       "        [  6.,   6.,   6.,   6.,   6.,  20.,  20.,  20.,  20.,  20.],\n",
       "        [  6.,   6.,   6.,   6.,   6.,   6.,  20.,  20.,  20.,  20.],\n",
       "        [  6.,   6.,   6.,   6.,   6.,   6.,   6.,  20.,  20.,  20.],\n",
       "        [  6.,   6.,   6.,   6.,   6.,   6.,   6.,   6.,  20.,  20.],\n",
       "        [  6.,   6.,   6.,   6.,   6.,   6.,   6.,   6.,   6.,  20.],\n",
       "        [  6.,   6.,   6.,   6.,   6.,   6.,   6.,   6.,   6.,   6.]]),\n",
       " array([[  7.,  14.,  14.,  14.,  14.,  14.,  14.,  14.,  14.,  14.],\n",
       "        [  7.,   7.,  14.,  14.,  14.,  14.,  14.,  14.,  14.,  14.],\n",
       "        [  7.,   7.,   7.,  14.,  14.,  14.,  14.,  14.,  14.,  14.],\n",
       "        [  7.,   7.,   7.,   7.,  14.,  14.,  14.,  14.,  14.,  14.],\n",
       "        [  7.,   7.,   7.,   7.,   7.,  14.,  14.,  14.,  14.,  14.],\n",
       "        [  7.,   7.,   7.,   7.,   7.,   7.,  14.,  14.,  14.,  14.],\n",
       "        [  7.,   7.,   7.,   7.,   7.,   7.,   7.,  14.,  14.,  14.],\n",
       "        [  7.,   7.,   7.,   7.,   7.,   7.,   7.,   7.,  14.,  14.],\n",
       "        [  7.,   7.,   7.,   7.,   7.,   7.,   7.,   7.,   7.,  14.],\n",
       "        [  7.,   7.,   7.,   7.,   7.,   7.,   7.,   7.,   7.,   7.]]),\n",
       " array([[  8.,  16.,  16.,  16.,  16.,  16.,  16.,  16.,  16.,  16.],\n",
       "        [  8.,   8.,  16.,  16.,  16.,  16.,  16.,  16.,  16.,  16.],\n",
       "        [  8.,   8.,   8.,  16.,  16.,  16.,  16.,  16.,  16.,  16.],\n",
       "        [  8.,   8.,   8.,   8.,  16.,  16.,  16.,  16.,  16.,  16.],\n",
       "        [  8.,   8.,   8.,   8.,   8.,  16.,  16.,  16.,  16.,  16.],\n",
       "        [  8.,   8.,   8.,   8.,   8.,   8.,  16.,  16.,  16.,  16.],\n",
       "        [  8.,   8.,   8.,   8.,   8.,   8.,   8.,  16.,  16.,  16.],\n",
       "        [  8.,   8.,   8.,   8.,   8.,   8.,   8.,   8.,  16.,  16.],\n",
       "        [  8.,   8.,   8.,   8.,   8.,   8.,   8.,   8.,   8.,  16.],\n",
       "        [  8.,   8.,   8.,   8.,   8.,   8.,   8.,   8.,   8.,   8.]]),\n",
       " array([[  9.,  18.,  18.,  18.,  18.,  18.,  18.,  18.,  18.,  18.],\n",
       "        [  9.,   9.,  18.,  18.,  18.,  18.,  18.,  18.,  18.,  18.],\n",
       "        [  9.,   9.,   9.,  18.,  18.,  18.,  18.,  18.,  18.,  18.],\n",
       "        [  9.,   9.,   9.,   9.,  18.,  18.,  18.,  18.,  18.,  18.],\n",
       "        [  9.,   9.,   9.,   9.,   9.,  18.,  18.,  18.,  18.,  18.],\n",
       "        [  9.,   9.,   9.,   9.,   9.,   9.,  18.,  18.,  18.,  18.],\n",
       "        [  9.,   9.,   9.,   9.,   9.,   9.,   9.,  18.,  18.,  18.],\n",
       "        [  9.,   9.,   9.,   9.,   9.,   9.,   9.,   9.,  18.,  18.],\n",
       "        [  9.,   9.,   9.,   9.,   9.,   9.,   9.,   9.,   9.,  18.],\n",
       "        [  9.,   9.,   9.,   9.,   9.,   9.,   9.,   9.,   9.,   9.]]),\n",
       " array([[ 10.,  20.,  20.,  20.,  20.,  20.,  20.,  20.,  20.,  20.],\n",
       "        [ 10.,  10.,  20.,  20.,  20.,  20.,  20.,  20.,  20.,  20.],\n",
       "        [ 10.,  10.,  10.,  20.,  20.,  20.,  20.,  20.,  20.,  20.],\n",
       "        [ 10.,  10.,  10.,  10.,  20.,  20.,  20.,  20.,  20.,  20.],\n",
       "        [ 10.,  10.,  10.,  10.,  10.,  20.,  20.,  20.,  20.,  20.],\n",
       "        [ 10.,  10.,  10.,  10.,  10.,  10.,  20.,  20.,  20.,  20.],\n",
       "        [ 10.,  10.,  10.,  10.,  10.,  10.,  10.,  20.,  20.,  20.],\n",
       "        [ 10.,  10.,  10.,  10.,  10.,  10.,  10.,  10.,  20.,  20.],\n",
       "        [ 10.,  10.,  10.,  10.,  10.,  10.,  10.,  10.,  10.,  20.],\n",
       "        [ 10.,  10.,  10.,  10.,  10.,  10.,  10.,  10.,  10.,  10.]])]"
      ]
     },
     "execution_count": 17,
     "metadata": {},
     "output_type": "execute_result"
    }
   ],
   "source": [
    "images1 = []\n",
    "for i in range(10):\n",
    "    int_array = np.tril((i+1)*np.ones(10))\n",
    "    if i==10/2:\n",
    "        int_array[int_array == 0] = 20\n",
    "    else:\n",
    "        int_array[int_array == 0] = (i+1)*2\n",
    "    images1.append(int_array)       \n",
    "images1"
   ]
  },
  {
   "cell_type": "code",
   "execution_count": 18,
   "metadata": {
    "collapsed": false
   },
   "outputs": [
    {
     "data": {
      "text/plain": [
       "<matplotlib.image.AxesImage at 0x10941a8d0>"
      ]
     },
     "execution_count": 18,
     "metadata": {},
     "output_type": "execute_result"
    },
    {
     "data": {
      "image/png": "[encoded data removed]",
      "text/plain": [
       "<matplotlib.figure.Figure at 0x1043d07d0>"
      ]
     },
     "metadata": {},
     "output_type": "display_data"
    }
   ],
   "source": [
    "roi_data = np.array(([4, 2, 2, 2], [0, 5, 2, 2]), dtype=np.int64)\n",
    "label_array = roi.rectangles(roi_data, shape=images1[0].shape)\n",
    "plt.imshow(label_array)"
   ]
  },
  {
   "cell_type": "code",
   "execution_count": 19,
   "metadata": {
    "collapsed": false
   },
   "outputs": [
    {
     "data": {
      "image/png": "[encoded data removed]",
      "text/plain": [
       "<matplotlib.figure.Figure at 0x1092cf190>"
      ]
     },
     "metadata": {},
     "output_type": "display_data"
    }
   ],
   "source": [
    "image_sets=[np.asarray(images1), ]\n",
    "\n",
    "num_times = 2\n",
    "num_rois = 2\n",
    "\n",
    "mean_int_sets, index_list = roi.mean_intensity_sets(image_sets, label_array)\n",
    "\n",
    "combine_intensity = roi.combine_mean_intensity(mean_int_sets, index_list)\n",
    "\n",
    "plt.plot(combine_intensity)\n",
    "plt.show()"
   ]
  },
  {
   "cell_type": "code",
   "execution_count": 22,
   "metadata": {
    "collapsed": false
   },
   "outputs": [
    {
     "data": {
      "text/plain": [
       "20.0"
      ]
     },
     "execution_count": 22,
     "metadata": {},
     "output_type": "execute_result"
    }
   ],
   "source": [
    "max_cts = roi.roi_max_counts(image_sets, label_array)\n",
    "max_cts"
   ]
  },
  {
   "cell_type": "code",
   "execution_count": 23,
   "metadata": {
    "collapsed": false
   },
   "outputs": [
    {
     "data": {
      "text/plain": [
       "array([  5.5,  11.8])"
      ]
     },
     "execution_count": 23,
     "metadata": {},
     "output_type": "execute_result"
    }
   ],
   "source": [
    "mean_int_ring = np.mean(combine_intensity, axis=0)\n",
    "mean_int_ring"
   ]
  },
  {
   "cell_type": "code",
   "execution_count": 24,
   "metadata": {
    "collapsed": true
   },
   "outputs": [],
   "source": [
    "num_times=4\n",
    "norm_bin_edges, norm_bin_centers = xsvs.normalize_bin_edges(num_times,\n",
    "                                                            num_rois, mean_int_ring, max_cts)"
   ]
  },
  {
   "cell_type": "code",
   "execution_count": 27,
   "metadata": {
    "collapsed": false
   },
   "outputs": [],
   "source": [
    "spe_cts_all, std_dev = xsvs.xsvs(image_sets, label_array, timebin_num=2,\n",
    "                             number_of_img=10, max_cts=max_cts)"
   ]
  },
  {
   "cell_type": "code",
   "execution_count": 30,
   "metadata": {
    "collapsed": false
   },
   "outputs": [
    {
     "data": {
      "text/plain": [
       "array([[ array([ 0. ,  0.1,  0.1,  0.1,  0.1,  0.1,  0.1,  0.1,  0.1,  0.1,  0.1,\n",
       "        0. ,  0. ,  0. ,  0. ,  0. ,  0. ,  0. ,  0. ]),\n",
       "        array([ nan,  nan,  nan,  nan,  nan,  nan,  nan,  nan,  nan,  nan,  nan,\n",
       "        nan,  nan,  nan,  nan,  nan,  nan,  nan,  nan])],\n",
       "       [ array([ 0. ,  0. ,  0. ,  0.2,  0. ,  0. ,  0. ,  0.2,  0. ,  0. ,  0. ,\n",
       "        0.2,  0. ,  0. ,  0. ,  0.2,  0. ,  0. ,  0. ,  0.2,  0. ,  0. ,\n",
       "        0. ,  0. ,  0. ,  0. ,  0. ,  0. ,  0. ,  0. ,  0. ,  0. ,  0. ,\n",
       "        0. ,  0. ,  0. ,  0. ,  0. ,  0. ]),\n",
       "        array([ 0. ,  0. ,  0. ,  0. ,  0. ,  0. ,  0.2,  0. ,  0. ,  0. ,  0. ,\n",
       "        0. ,  0. ,  0. ,  0.2,  0. ,  0. ,  0. ,  0. ,  0. ,  0. ,  0. ,\n",
       "        0. ,  0. ,  0. ,  0. ,  0. ,  0. ,  0. ,  0. ,  0.4,  0. ,  0. ,\n",
       "        0. ,  0. ,  0. ,  0. ,  0. ,  0.2])],\n",
       "       [ array([ 0. ,  0. ,  0. ,  0. ,  0. ,  0. ,  0. ,  0. ,  0. ,  0. ,  0.5,\n",
       "        0. ,  0. ,  0. ,  0. ,  0. ,  0. ,  0. ,  0. ,  0. ,  0. ,  0. ,\n",
       "        0. ,  0. ,  0. ,  0. ,  0.5,  0. ,  0. ,  0. ,  0. ,  0. ,  0. ,\n",
       "        0. ,  0. ,  0. ,  0. ,  0. ,  0. ,  0. ,  0. ,  0. ,  0. ,  0. ,\n",
       "        0. ,  0. ,  0. ,  0. ,  0. ,  0. ,  0. ,  0. ,  0. ,  0. ,  0. ,\n",
       "        0. ,  0. ,  0. ,  0. ,  0. ,  0. ,  0. ,  0. ,  0. ,  0. ,  0. ,\n",
       "        0. ,  0. ,  0. ,  0. ,  0. ,  0. ,  0. ,  0. ,  0. ,  0. ,  0. ,\n",
       "        0. ,  0. ]),\n",
       "        array([ 0. ,  0. ,  0. ,  0. ,  0. ,  0. ,  0. ,  0. ,  0. ,  0. ,  0. ,\n",
       "        0. ,  0. ,  0. ,  0. ,  0. ,  0. ,  0. ,  0. ,  0. ,  0.5,  0. ,\n",
       "        0. ,  0. ,  0. ,  0. ,  0. ,  0. ,  0. ,  0. ,  0. ,  0. ,  0. ,\n",
       "        0. ,  0. ,  0. ,  0. ,  0. ,  0. ,  0. ,  0. ,  0. ,  0. ,  0. ,\n",
       "        0. ,  0. ,  0. ,  0. ,  0. ,  0. ,  0. ,  0. ,  0. ,  0. ,  0. ,\n",
       "        0. ,  0. ,  0. ,  0. ,  0. ,  0.5,  0. ,  0. ,  0. ,  0. ,  0. ,\n",
       "        0. ,  0. ,  0. ,  0. ,  0. ,  0. ,  0. ,  0. ,  0. ,  0. ,  0. ,\n",
       "        0. ,  0. ])],\n",
       "       [ array([ 0.,  0.,  0.,  0.,  0.,  0.,  0.,  0.,  0.,  0.,  0.,  0.,  0.,\n",
       "        0.,  0.,  0.,  0.,  0.,  0.,  0.,  0.,  0.,  0.,  0.,  0.,  0.,\n",
       "        0.,  0.,  0.,  0.,  0.,  0.,  0.,  0.,  0.,  0.,  1.,  0.,  0.,\n",
       "        0.,  0.,  0.,  0.,  0.,  0.,  0.,  0.,  0.,  0.,  0.,  0.,  0.,\n",
       "        0.,  0.,  0.,  0.,  0.,  0.,  0.,  0.,  0.,  0.,  0.,  0.,  0.,\n",
       "        0.,  0.,  0.,  0.,  0.,  0.,  0.,  0.,  0.,  0.,  0.,  0.,  0.,\n",
       "        0.,  0.,  0.,  0.,  0.,  0.,  0.,  0.,  0.,  0.,  0.,  0.,  0.,\n",
       "        0.,  0.,  0.,  0.,  0.,  0.,  0.,  0.,  0.,  0.,  0.,  0.,  0.,\n",
       "        0.,  0.,  0.,  0.,  0.,  0.,  0.,  0.,  0.,  0.,  0.,  0.,  0.,\n",
       "        0.,  0.,  0.,  0.,  0.,  0.,  0.,  0.,  0.,  0.,  0.,  0.,  0.,\n",
       "        0.,  0.,  0.,  0.,  0.,  0.,  0.,  0.,  0.,  0.,  0.,  0.,  0.,\n",
       "        0.,  0.,  0.,  0.,  0.,  0.,  0.,  0.,  0.,  0.,  0.,  0.,  0.,\n",
       "        0.,  0.,  0.]),\n",
       "        array([ 0.,  0.,  0.,  0.,  0.,  0.,  0.,  0.,  0.,  0.,  0.,  0.,  0.,\n",
       "        0.,  0.,  0.,  0.,  0.,  0.,  0.,  0.,  0.,  0.,  0.,  0.,  0.,\n",
       "        0.,  0.,  0.,  0.,  0.,  0.,  0.,  0.,  0.,  0.,  0.,  0.,  0.,\n",
       "        0.,  0.,  0.,  0.,  0.,  0.,  0.,  0.,  0.,  0.,  0.,  0.,  0.,\n",
       "        0.,  0.,  0.,  0.,  0.,  0.,  0.,  0.,  0.,  0.,  0.,  0.,  0.,\n",
       "        0.,  0.,  0.,  0.,  0.,  0.,  0.,  0.,  0.,  0.,  0.,  0.,  0.,\n",
       "        0.,  0.,  1.,  0.,  0.,  0.,  0.,  0.,  0.,  0.,  0.,  0.,  0.,\n",
       "        0.,  0.,  0.,  0.,  0.,  0.,  0.,  0.,  0.,  0.,  0.,  0.,  0.,\n",
       "        0.,  0.,  0.,  0.,  0.,  0.,  0.,  0.,  0.,  0.,  0.,  0.,  0.,\n",
       "        0.,  0.,  0.,  0.,  0.,  0.,  0.,  0.,  0.,  0.,  0.,  0.,  0.,\n",
       "        0.,  0.,  0.,  0.,  0.,  0.,  0.,  0.,  0.,  0.,  0.,  0.,  0.,\n",
       "        0.,  0.,  0.,  0.,  0.,  0.,  0.,  0.,  0.,  0.,  0.,  0.,  0.,\n",
       "        0.,  0.,  0.])]], dtype=object)"
      ]
     },
     "execution_count": 30,
     "metadata": {},
     "output_type": "execute_result"
    }
   ],
   "source": [
    "spe_cts_all"
   ]
  },
  {
   "cell_type": "code",
   "execution_count": null,
   "metadata": {
    "collapsed": true
   },
   "outputs": [],
   "source": []
  }
 ],
 "metadata": {
  "kernelspec": {
   "display_name": "Python 2",
   "language": "python",
   "name": "python2"
  },
  "language_info": {
   "codemirror_mode": {
    "name": "ipython",
    "version": 2
   },
   "file_extension": ".py",
   "mimetype": "text/x-python",
   "name": "python",
   "nbconvert_exporter": "python",
   "pygments_lexer": "ipython2",
   "version": "2.7.10"
  }
 },
 "nbformat": 4,
 "nbformat_minor": 0
}
