{
 "cells": [
  {
   "cell_type": "code",
   "execution_count": 68,
   "metadata": {
    "collapsed": false
   },
   "outputs": [],
   "source": [
    "import skxray.core.xsvs as xsvs\n",
    "import skxray.core.xsvs_fitting as xsvs_fit\n",
    "import skxray.core.roi as roi\n",
    "import skxray.core.correlation as corr\n",
    "import skxray.core.utils as core\n",
    "\n",
    "import numpy as np\n",
    "import os, sys\n",
    "\n",
    "import matplotlib.pyplot as plt\n",
    "%matplotlib inline\n",
    "from matplotlib.ticker import MaxNLocator\n",
    "from matplotlib.colors import LogNorm"
   ]
  },
  {
   "cell_type": "code",
   "execution_count": 91,
   "metadata": {
    "collapsed": false
   },
   "outputs": [
    {
     "data": {
      "text/plain": [
       "[array([[ 2.,  2.,  2.,  2.,  2.,  2.,  2.,  2.,  2.,  2.],\n",
       "        [ 2.,  2.,  2.,  2.,  2.,  2.,  2.,  2.,  2.,  2.],\n",
       "        [ 2.,  2.,  2.,  2.,  2.,  2.,  2.,  2.,  2.,  2.],\n",
       "        [ 2.,  2.,  2.,  2.,  2.,  2.,  2.,  2.,  2.,  2.],\n",
       "        [ 2.,  2.,  2.,  2.,  2.,  2.,  2.,  2.,  2.,  2.],\n",
       "        [ 2.,  2.,  2.,  2.,  2.,  2.,  2.,  2.,  2.,  2.],\n",
       "        [ 2.,  2.,  2.,  2.,  2.,  2.,  2.,  2.,  2.,  2.],\n",
       "        [ 2.,  2.,  2.,  2.,  2.,  2.,  2.,  2.,  2.,  2.],\n",
       "        [ 2.,  2.,  2.,  2.,  2.,  2.,  2.,  2.,  2.,  2.],\n",
       "        [ 2.,  2.,  2.,  2.,  2.,  2.,  2.,  2.,  2.,  2.]]),\n",
       " array([[ 3.,  4.,  4.,  4.,  4.,  4.,  4.,  4.,  4.,  4.],\n",
       "        [ 3.,  3.,  4.,  4.,  4.,  4.,  4.,  4.,  4.,  4.],\n",
       "        [ 3.,  3.,  3.,  4.,  4.,  4.,  4.,  4.,  4.,  4.],\n",
       "        [ 3.,  3.,  3.,  3.,  4.,  4.,  4.,  4.,  4.,  4.],\n",
       "        [ 3.,  3.,  3.,  3.,  3.,  4.,  4.,  4.,  4.,  4.],\n",
       "        [ 3.,  3.,  3.,  3.,  3.,  3.,  4.,  4.,  4.,  4.],\n",
       "        [ 3.,  3.,  3.,  3.,  3.,  3.,  3.,  4.,  4.,  4.],\n",
       "        [ 3.,  3.,  3.,  3.,  3.,  3.,  3.,  3.,  4.,  4.],\n",
       "        [ 3.,  3.,  3.,  3.,  3.,  3.,  3.,  3.,  3.,  4.],\n",
       "        [ 3.,  3.,  3.,  3.,  3.,  3.,  3.,  3.,  3.,  3.]])]"
      ]
     },
     "execution_count": 91,
     "metadata": {},
     "output_type": "execute_result"
    }
   ],
   "source": [
    "images1 = []\n",
    "for i in range(2):\n",
    "    int_array = np.tril((i+2)*np.ones(10))\n",
    "    #if i==10/2:\n",
    "    #    int_array[int_array == 0] = 100\n",
    "    #else:\n",
    "    int_array[int_array == 0] = (i+1)*2\n",
    "    images1.append(int_array)       \n",
    "images1"
   ]
  },
  {
   "cell_type": "code",
   "execution_count": 92,
   "metadata": {
    "collapsed": false
   },
   "outputs": [
    {
     "data": {
      "text/plain": [
       "<matplotlib.image.AxesImage at 0x109ab02d0>"
      ]
     },
     "execution_count": 92,
     "metadata": {},
     "output_type": "execute_result"
    },
    {
     "data": {
      "image/png": "[encoded data removed]",
      "text/plain": [
       "<matplotlib.figure.Figure at 0x109d4a550>"
      ]
     },
     "metadata": {},
     "output_type": "display_data"
    }
   ],
   "source": [
    "roi_data = np.array(([4, 2, 2, 2], [0, 5, 4, 4]), dtype=np.int64)\n",
    "label_array = roi.rectangles(roi_data, shape=images1[0].shape)\n",
    "plt.imshow(label_array)"
   ]
  },
  {
   "cell_type": "code",
   "execution_count": 93,
   "metadata": {
    "collapsed": false
   },
   "outputs": [
    {
     "data": {
      "image/png": "[encoded data removed]",
      "text/plain": [
       "<matplotlib.figure.Figure at 0x109ab0a10>"
      ]
     },
     "metadata": {},
     "output_type": "display_data"
    }
   ],
   "source": [
    "image_sets=[np.asarray(images1), ]\n",
    "\n",
    "num_times = 2\n",
    "num_rois = 2\n",
    "\n",
    "mean_int_sets, index_list = roi.mean_intensity_sets(image_sets, label_array)\n",
    "\n",
    "combine_intensity = roi.combine_mean_intensity(mean_int_sets, index_list)\n",
    "\n",
    "plt.plot(combine_intensity)\n",
    "plt.show()"
   ]
  },
  {
   "cell_type": "code",
   "execution_count": 94,
   "metadata": {
    "collapsed": false
   },
   "outputs": [
    {
     "data": {
      "text/plain": [
       "4.0"
      ]
     },
     "execution_count": 94,
     "metadata": {},
     "output_type": "execute_result"
    }
   ],
   "source": [
    "max_cts = roi.roi_max_counts(image_sets, label_array)\n",
    "max_cts"
   ]
  },
  {
   "cell_type": "code",
   "execution_count": 110,
   "metadata": {
    "collapsed": false
   },
   "outputs": [
    {
     "data": {
      "text/plain": [
       "array([ 0.15609113,  0.17669628,  0.18451672,  0.1837303 ,  0.17729389,\n",
       "        0.16731627])"
      ]
     },
     "execution_count": 110,
     "metadata": {},
     "output_type": "execute_result"
    }
   ],
   "source": [
    "poission_gamma"
   ]
  },
  {
   "cell_type": "code",
   "execution_count": 95,
   "metadata": {
    "collapsed": false
   },
   "outputs": [
    {
     "data": {
      "text/plain": [
       "array([ 2.5,  3. ])"
      ]
     },
     "execution_count": 95,
     "metadata": {},
     "output_type": "execute_result"
    }
   ],
   "source": [
    "mean_int_ring = np.mean(combine_intensity, axis=0)\n",
    "mean_int_ring"
   ]
  },
  {
   "cell_type": "code",
   "execution_count": 96,
   "metadata": {
    "collapsed": true
   },
   "outputs": [],
   "source": [
    "num_times=4\n",
    "norm_bin_edges, norm_bin_centers = xsvs.normalize_bin_edges(num_times,\n",
    "                                                            num_rois, mean_int_ring, max_cts)"
   ]
  },
  {
   "cell_type": "code",
   "execution_count": 97,
   "metadata": {
    "collapsed": false
   },
   "outputs": [],
   "source": [
    "spe_cts_all, std_dev = xsvs.xsvs(image_sets, label_array, timebin_num=2,\n",
    "                             number_of_img=4, max_cts=max_cts)"
   ]
  },
  {
   "cell_type": "code",
   "execution_count": 98,
   "metadata": {
    "collapsed": false
   },
   "outputs": [
    {
     "data": {
      "text/plain": [
       "array([[array([ 0.,  0.,  1.]), array([ nan,  nan,  nan])],\n",
       "       [array([ 0.,  0.,  0.,  0.,  0.,  1.,  0.]),\n",
       "        array([ 0.,  0.,  0.,  0.,  0.,  0.,  1.])]], dtype=object)"
      ]
     },
     "execution_count": 98,
     "metadata": {},
     "output_type": "execute_result"
    }
   ],
   "source": [
    "spe_cts_all"
   ]
  },
  {
   "cell_type": "code",
   "execution_count": 99,
   "metadata": {
    "collapsed": false
   },
   "outputs": [
    {
     "data": {
      "text/plain": [
       "(3,)"
      ]
     },
     "execution_count": 99,
     "metadata": {},
     "output_type": "execute_result"
    }
   ],
   "source": [
    "spe_cts_all[0,0].shape"
   ]
  },
  {
   "cell_type": "code",
   "execution_count": 100,
   "metadata": {
    "collapsed": true
   },
   "outputs": [],
   "source": [
    "num_times = 3\n",
    "num_rois = 2\n",
    "mean_roi = np.array([2.5, 4.0])\n",
    "max_cts = 5\n",
    "\n",
    "bin_ed , bin_cen = xsvs.normalize_bin_edges(num_times, num_rois, mean_roi,max_cts)"
   ]
  },
  {
   "cell_type": "code",
   "execution_count": 116,
   "metadata": {
    "collapsed": false
   },
   "outputs": [],
   "source": [
    "import time\n",
    "def xsvs2(image_sets, label_array, timebin_num=2, number_of_img=50,\n",
    "         max_cts=None):\n",
    "    \"\"\"\n",
    "    This function will provide the probability density of detecting photons\n",
    "    for different integration time.\n",
    "\n",
    "    The experimental probability density P(K) of detecting photons K is\n",
    "    obtained by histogramming the photon counts over an ensemble of\n",
    "    equivalent pixels and over a number of speckle patterns recorded\n",
    "    with the same integration time T under the same condition.\n",
    "\n",
    "    Parameters\n",
    "    ----------\n",
    "    image_sets : array\n",
    "        sets of images\n",
    "\n",
    "    label_array : array\n",
    "        labeled array; 0 is background.\n",
    "        Each ROI is represented by a distinct label (i.e., integer).\n",
    "\n",
    "    timebin_num : int, optional\n",
    "        integration times\n",
    "\n",
    "    number_of_img : int, optional\n",
    "        number of images\n",
    "\n",
    "    max_cts : int, optional\n",
    "       the brightest pixel in any ROI in any image in the image set.\n",
    "\n",
    "    Returns\n",
    "    -------\n",
    "    prob_k_all : array\n",
    "        probability density of detecting photons\n",
    "\n",
    "    prob_k_std_dev : array\n",
    "        standard deviation of probability density of detecting photons\n",
    "\n",
    "    Note\n",
    "    ----\n",
    "    These implementation is based on following references\n",
    "    References: text [1]_, text [2]_\n",
    "\n",
    "    .. [1] L. Li, P. Kwasniewski, D. Oris, L Wiegart, L. Cristofolini,\n",
    "       C. Carona and A. Fluerasu , \"Photon statistics and speckle visibility\n",
    "       spectroscopy with partially coherent x-rays\" J. Synchrotron Rad.,\n",
    "       vol 21, p 1288-1295, 2014.\n",
    "\n",
    "    .. [2] R. Bandyopadhyay, A. S. Gittings, S. S. Suh, P.K. Dixon and\n",
    "       D.J. Durian \"Speckle-visibilty Spectroscopy: A tool to study\n",
    "       time-varying dynamics\" Rev. Sci. Instrum. vol 76, p  093110, 2005.\n",
    "\n",
    "    \"\"\"\n",
    "    if max_cts is None:\n",
    "        max_cts = roi.roi_max_counts(image_sets, label_array)\n",
    "\n",
    "    # number of ROI's\n",
    "    num_roi = np.max(label_array)\n",
    "\n",
    "    # create integration times\n",
    "    time_bin = core.geometric_series(timebin_num, number_of_img)\n",
    "\n",
    "    # number of items in the time bin\n",
    "    num_times = len(time_bin)\n",
    "\n",
    "    # find the label's and pixel indices for ROI's\n",
    "    labels, indices = corr.extract_label_indices(label_array)\n",
    "\n",
    "    # number of pixels per ROI\n",
    "    num_pixels = np.bincount(labels, minlength=(num_roi+1))[1:]\n",
    "\n",
    "    # probability density of detecting speckles\n",
    "    prob_k_all = np.zeros([num_times, num_roi], dtype=np.object)\n",
    "    # square of probability density of detecting speckles\n",
    "    prob_k_pow_all = np.zeros([num_times, num_roi], dtype=np.object)\n",
    "    # standard deviation of probability density of detecting photons\n",
    "    prob_k_std_dev = np.zeros([num_times, num_roi], dtype=np.object)\n",
    "\n",
    "    # get the bin edges for each time bin for each ROI\n",
    "    bin_edges = np.zeros((num_times, num_roi), dtype=object)\n",
    "    for i in range(num_times):\n",
    "        for j in range(num_roi):\n",
    "            bin_edges[i, j] = np.arange(max_cts*2**i)\n",
    "\n",
    "    start_time = time.time()  # used to log the computation time (optionally)\n",
    "\n",
    "    for i, images in enumerate(image_sets):\n",
    "        # Ring buffer, a buffer with periodic boundary conditions.\n",
    "        # Images must be keep for up to maximum delay in buf.\n",
    "        buf = np.zeros([num_times, timebin_num],\n",
    "                       dtype=np.object)  # matrix of buffers\n",
    "\n",
    "        # to track processing each time level\n",
    "        track_level = np.zeros(num_times)\n",
    "\n",
    "        # to increment buffer\n",
    "        cur = np.ones(num_times)*timebin_num\n",
    "\n",
    "        # to track how many images processed in each level\n",
    "        img_per_level = np.zeros(num_times, dtype=np.int64)\n",
    "\n",
    "        prob_k = np.zeros([num_times, num_roi], dtype=np.object)\n",
    "        prob_k_pow = np.zeros([num_times, num_roi], dtype=np.object)\n",
    "\n",
    "        for n, img in enumerate(images):\n",
    "            cur[0] = (1 + cur[0]) % timebin_num\n",
    "            print \"cur\"\n",
    "            print cur\n",
    "            # read each frame\n",
    "            # Put the image into the ring buffer.\n",
    "            buf[0, cur[0] - 1] = (np.ravel(img))[indices]\n",
    "            print \"number \",n\n",
    "            print buf\n",
    "\n",
    "            _process(num_roi, 0, cur[0] - 1, buf, img_per_level, labels,\n",
    "                     max_cts, bin_edges[0, 0], prob_k, prob_k_pow)\n",
    "\n",
    "            # check whether the number of levels is one, otherwise\n",
    "            # continue processing the next level\n",
    "            processing = num_times > 1\n",
    "            level = 1\n",
    "\n",
    "            while processing:\n",
    "                if not track_level[level]:\n",
    "                    track_level[level] = 1\n",
    "                    processing = 0\n",
    "                else:\n",
    "                    prev = 1 + (cur[level - 1] - 2) % timebin_num\n",
    "                    cur[level] = 1 + cur[level] % timebin_num\n",
    "\n",
    "                    buf[level, cur[level]-1] = (buf[level-1,\n",
    "                                                    prev-1] +\n",
    "                                                buf[level-1,\n",
    "                                                    cur[level - 1] - 1])\n",
    "                    track_level[level] = 0\n",
    "\n",
    "                    _process(num_roi, level, cur[level]-1, buf, img_per_level,\n",
    "                             labels, max_cts, bin_edges[level, 0], prob_k,\n",
    "                             prob_k_pow)\n",
    "                    level += 1\n",
    "                    # Checking whether there is next level for processing\n",
    "                    processing = level < num_times\n",
    "\n",
    "            prob_k_all += (prob_k - prob_k_all)/(i + 1)\n",
    "            prob_k_pow_all += (prob_k_pow - prob_k_pow_all)/(i + 1)\n",
    "\n",
    "            prob_k_std_dev = np.power((prob_k_pow_all -\n",
    "                                       np.power(prob_k_all, 2)), .5)\n",
    "\n",
    "    # ending time for the process\n",
    "    end_time = time.time()\n",
    "\n",
    "    logger.info(\"Processing time for XSVS took {0} seconds.\"\n",
    "                \"\".format(end_time - start_time))\n",
    "    return prob_k_all, prob_k_std_dev\n",
    "\n",
    "\n",
    "def _process(num_roi, level, buf_no, buf, img_per_level, labels, max_cts,\n",
    "             bin_edges, prob_k, prob_k_pow):\n",
    "    \"\"\"\n",
    "    Internal helper function. This modifies inputs in place.\n",
    "\n",
    "    This helper function calculate probability of detecting speckles for\n",
    "    each integration time.\n",
    "\n",
    "    Parameters\n",
    "    ----------\n",
    "    num_roi : int\n",
    "        number of ROI's\n",
    "\n",
    "    level : int\n",
    "        current time level(integration time)\n",
    "\n",
    "    buf_no : int\n",
    "        current buffer number\n",
    "\n",
    "    buf : array\n",
    "        image data array to use for XSVS\n",
    "\n",
    "    img_per_level : int\n",
    "        to track how many images processed in each level\n",
    "\n",
    "    labels : array\n",
    "        labels of the required region of interests(ROI's)\n",
    "\n",
    "    max_cts: int\n",
    "        maximum pixel count\n",
    "\n",
    "    bin_edges : array\n",
    "        bin edges for each integration times and each ROI\n",
    "\n",
    "    prob_k : array\n",
    "        probability density of detecting speckles\n",
    "\n",
    "    prob_k_pow : array\n",
    "        squares of probability density of detecting speckles\n",
    "    \"\"\"\n",
    "    img_per_level[level] += 1\n",
    "\n",
    "    for j in xrange(num_roi):\n",
    "        roi_data = buf[level, buf_no][labels == j+1]\n",
    "\n",
    "        spe_hist, bin_edges = np.histogram(roi_data, bins=bin_edges,\n",
    "                                           normed=True)\n",
    "\n",
    "        prob_k[level, j] += (spe_hist -\n",
    "                             prob_k[level, j])/(img_per_level[level])\n",
    "\n",
    "        prob_k_pow[level, j] += (np.power(spe_hist, 2) -\n",
    "                                 prob_k_pow[level, j])/(img_per_level[level])\n",
    "\n",
    "\n",
    "        return None  # modifies arguments in place!"
   ]
  },
  {
   "cell_type": "code",
   "execution_count": 117,
   "metadata": {
    "collapsed": false
   },
   "outputs": [
    {
     "name": "stdout",
     "output_type": "stream",
     "text": [
      "cur\n",
      "[ 1.  2.]\n",
      "number  0\n",
      "[[ array([ 2.,  2.,  2.,  2.,  2.,  2.,  2.,  2.,  2.,  2.,  2.,  2.,  2.,\n",
      "        2.,  2.,  2.,  2.,  2.,  2.,  2.])\n",
      "  0]\n",
      " [0 0]]\n",
      "cur\n",
      "[ 0.  2.]\n",
      "number  1\n",
      "[[ array([ 2.,  2.,  2.,  2.,  2.,  2.,  2.,  2.,  2.,  2.,  2.,  2.,  2.,\n",
      "        2.,  2.,  2.,  2.,  2.,  2.,  2.])\n",
      "  array([ 4.,  4.,  4.,  4.,  4.,  4.,  4.,  4.,  4.,  4.,  4.,  4.,  4.,\n",
      "        4.,  4.,  4.,  3.,  3.,  3.,  3.])]\n",
      " [0 0]]\n"
     ]
    }
   ],
   "source": [
    "import logging\n",
    "logger = logging.getLogger(__name__)\n",
    "\n",
    "spe_cts_a, std=xsvs2(image_sets, label_array, timebin_num=2,\n",
    "                             number_of_img=4, max_cts=max_cts)"
   ]
  },
  {
   "cell_type": "code",
   "execution_count": null,
   "metadata": {
    "collapsed": true
   },
   "outputs": [],
   "source": []
  }
 ],
 "metadata": {
  "kernelspec": {
   "display_name": "Python 2",
   "language": "python",
   "name": "python2"
  },
  "language_info": {
   "codemirror_mode": {
    "name": "ipython",
    "version": 2
   },
   "file_extension": ".py",
   "mimetype": "text/x-python",
   "name": "python",
   "nbconvert_exporter": "python",
   "pygments_lexer": "ipython2",
   "version": "2.7.10"
  }
 },
 "nbformat": 4,
 "nbformat_minor": 0
}
